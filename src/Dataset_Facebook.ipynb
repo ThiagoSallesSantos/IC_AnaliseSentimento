{
 "cells": [
  {
   "attachments": {},
   "cell_type": "markdown",
   "metadata": {},
   "source": [
    "## Import's"
   ]
  },
  {
   "cell_type": "code",
   "execution_count": 24,
   "metadata": {},
   "outputs": [],
   "source": [
    "from datasets import Dataset, concatenate_datasets\n",
    "from typing import Dict, List\n",
    "import os"
   ]
  },
  {
   "attachments": {},
   "cell_type": "markdown",
   "metadata": {},
   "source": [
    "## Constantes"
   ]
  },
  {
   "cell_type": "code",
   "execution_count": 9,
   "metadata": {},
   "outputs": [],
   "source": [
    "dir = \"../\"\n",
    "dir_dataset = \"data/datasets/dataset_facebook/\"\n",
    "tipo = \".csv\""
   ]
  },
  {
   "attachments": {},
   "cell_type": "markdown",
   "metadata": {},
   "source": [
    "## Lendo os datasets"
   ]
  },
  {
   "cell_type": "code",
   "execution_count": null,
   "metadata": {},
   "outputs": [],
   "source": [
    "dict_datasets: Dict[str, Dataset] = dict({})\n",
    "for arquivo in list(filter(lambda arquivo: arquivo.endswith(tipo), os.listdir(f\"{dir}{dir_dataset}\"))):\n",
    "    dict_datasets[arquivo] = Dataset.from_csv(f\"{dir}{dir_dataset}{arquivo}\")"
   ]
  },
  {
   "attachments": {},
   "cell_type": "markdown",
   "metadata": {},
   "source": [
    "## Observando os dados dos Datasets"
   ]
  },
  {
   "cell_type": "code",
   "execution_count": 17,
   "metadata": {},
   "outputs": [
    {
     "name": "stdout",
     "output_type": "stream",
     "text": [
      "Dataset:extracao_comentarios_pagina_casadabebida.csv\n",
      "{'Unnamed: 0': Value(dtype='int64', id=None), 'created_time': Value(dtype='string', id=None), 'message': Value(dtype='string', id=None), 'permalink_url': Value(dtype='string', id=None), 'id_post': Value(dtype='string', id=None)}\n",
      "\n",
      "Dataset:extracao_comentarios_pagina_mbcachacaria.csv\n",
      "{'Unnamed: 0': Value(dtype='int64', id=None), 'created_time': Value(dtype='string', id=None), 'message': Value(dtype='string', id=None), 'permalink_url': Value(dtype='string', id=None), 'id_post': Value(dtype='string', id=None)}\n",
      "\n",
      "Dataset:extracao_comentarios_pagina_amburanabr.csv\n",
      "{'Unnamed: 0': Value(dtype='int64', id=None), 'created_time': Value(dtype='string', id=None), 'message': Value(dtype='string', id=None), 'permalink_url': Value(dtype='string', id=None), 'id_post': Value(dtype='string', id=None)}\n",
      "\n",
      "Dataset:extracao_comentarios_pagina_Sanhacu.csv\n",
      "{'Unnamed: 0': Value(dtype='int64', id=None), 'created_time': Value(dtype='string', id=None), 'message': Value(dtype='string', id=None), 'permalink_url': Value(dtype='string', id=None), 'id_post': Value(dtype='string', id=None)}\n",
      "\n",
      "Dataset:extracao_comentarios_pagina_lojacachacaepinga.csv\n",
      "{'Unnamed: 0': Value(dtype='int64', id=None), 'created_time': Value(dtype='string', id=None), 'message': Value(dtype='string', id=None), 'permalink_url': Value(dtype='string', id=None), 'id_post': Value(dtype='string', id=None)}\n",
      "\n",
      "Dataset:extracao_comentarios_pagina_cachacavelhobarreirooficial.csv\n",
      "{'Unnamed: 0': Value(dtype='int64', id=None), 'created_time': Value(dtype='string', id=None), 'message': Value(dtype='string', id=None), 'permalink_url': Value(dtype='string', id=None), 'id_post': Value(dtype='string', id=None)}\n",
      "\n",
      "Dataset:extracao_comentarios_pagina_cachacaepresente.csv\n",
      "{'Unnamed: 0': Value(dtype='int64', id=None), 'created_time': Value(dtype='string', id=None), 'message': Value(dtype='string', id=None), 'permalink_url': Value(dtype='string', id=None), 'id_post': Value(dtype='string', id=None)}\n",
      "\n",
      "Dataset:extracao_comentarios_pagina_domtapparoengenho.csv\n",
      "{'Unnamed: 0': Value(dtype='int64', id=None), 'created_time': Value(dtype='string', id=None), 'message': Value(dtype='string', id=None), 'permalink_url': Value(dtype='string', id=None), 'id_post': Value(dtype='string', id=None)}\n",
      "\n",
      "Dataset:extracao_comentarios_pagina_cachacarianacional.csv\n",
      "{'Unnamed: 0': Value(dtype='int64', id=None), 'created_time': Value(dtype='string', id=None), 'message': Value(dtype='string', id=None), 'permalink_url': Value(dtype='string', id=None), 'id_post': Value(dtype='string', id=None)}\n",
      "\n",
      "Dataset:extracao_comentarios_pagina_CachacaCompanheira.csv\n",
      "{'Unnamed: 0': Value(dtype='int64', id=None), 'created_time': Value(dtype='string', id=None), 'message': Value(dtype='string', id=None), 'permalink_url': Value(dtype='string', id=None), 'id_post': Value(dtype='string', id=None)}\n",
      "\n",
      "Dataset:extracao_comentarios_pagina_blubeer.com.br.csv\n",
      "{'Unnamed: 0': Value(dtype='int64', id=None), 'created_time': Value(dtype='string', id=None), 'message': Value(dtype='string', id=None), 'permalink_url': Value(dtype='string', id=None), 'id_post': Value(dtype='string', id=None)}\n",
      "\n",
      "Dataset:extracao_comentarios_pagina_araraunacachacaria.csv\n",
      "{'Unnamed: 0': Value(dtype='int64', id=None), 'created_time': Value(dtype='string', id=None), 'message': Value(dtype='string', id=None), 'permalink_url': Value(dtype='string', id=None), 'id_post': Value(dtype='string', id=None)}\n",
      "\n",
      "Dataset:extracao_comentarios_pagina_brme.oficial.csv\n",
      "{'Unnamed: 0': Value(dtype='int64', id=None), 'created_time': Value(dtype='string', id=None), 'message': Value(dtype='string', id=None), 'permalink_url': Value(dtype='string', id=None), 'id_post': Value(dtype='string', id=None)}\n",
      "\n",
      "Dataset:extracao_comentarios_pagina_cachacariasalinas.com.br.csv\n",
      "{'Unnamed: 0': Value(dtype='int64', id=None), 'created_time': Value(dtype='string', id=None), 'message': Value(dtype='string', id=None), 'permalink_url': Value(dtype='string', id=None), 'id_post': Value(dtype='string', id=None)}\n",
      "\n",
      "Dataset:extracao_comentarios_pagina_magnificadefaria.csv\n",
      "{'Unnamed: 0': Value(dtype='int64', id=None), 'created_time': Value(dtype='string', id=None), 'message': Value(dtype='string', id=None), 'permalink_url': Value(dtype='string', id=None), 'id_post': Value(dtype='string', id=None)}\n",
      "\n",
      "Dataset:extracao_comentarios_pagina_cachacasapucaia.csv\n",
      "{'Unnamed: 0': Value(dtype='int64', id=None), 'created_time': Value(dtype='string', id=None), 'message': Value(dtype='string', id=None), 'permalink_url': Value(dtype='string', id=None), 'id_post': Value(dtype='string', id=None)}\n",
      "\n",
      "Dataset:extracao_comentarios_pagina_wibacachaca.csv\n",
      "{'Unnamed: 0': Value(dtype='int64', id=None), 'created_time': Value(dtype='string', id=None), 'message': Value(dtype='string', id=None), 'permalink_url': Value(dtype='string', id=None), 'id_post': Value(dtype='string', id=None)}\n",
      "\n",
      "Dataset:extracao_comentarios_pagina_bebidaonline.csv\n",
      "{'Unnamed: 0': Value(dtype='int64', id=None), 'created_time': Value(dtype='string', id=None), 'message': Value(dtype='string', id=None), 'permalink_url': Value(dtype='string', id=None), 'id_post': Value(dtype='string', id=None)}\n",
      "\n",
      "Dataset:extracao_comentarios_pagina_cachacasbrasileirasoficial.csv\n",
      "{'Unnamed: 0': Value(dtype='int64', id=None), 'created_time': Value(dtype='string', id=None), 'message': Value(dtype='string', id=None), 'permalink_url': Value(dtype='string', id=None), 'id_post': Value(dtype='string', id=None)}\n",
      "\n"
     ]
    }
   ],
   "source": [
    "for dataset_nome in dict_datasets.keys():\n",
    "    print(f\"Dataset:{dataset_nome}\\n{dict_datasets[dataset_nome].features}\", end=\"\\n\\n\")"
   ]
  },
  {
   "attachments": {},
   "cell_type": "markdown",
   "metadata": {},
   "source": [
    "## Adicionando a Coluna Nome do Dataset Origem"
   ]
  },
  {
   "cell_type": "code",
   "execution_count": 21,
   "metadata": {},
   "outputs": [],
   "source": [
    "for dataset_nome in dict_datasets.keys():\n",
    "    lista_nome = [dataset_nome] * len(dict_datasets[dataset_nome])\n",
    "    dict_datasets[dataset_nome] = dict_datasets[dataset_nome].add_column(\"dataset_origem\", lista_nome)"
   ]
  },
  {
   "cell_type": "code",
   "execution_count": 22,
   "metadata": {},
   "outputs": [
    {
     "data": {
      "text/plain": [
       "{'Unnamed: 0': Value(dtype='int64', id=None),\n",
       " 'created_time': Value(dtype='string', id=None),\n",
       " 'message': Value(dtype='string', id=None),\n",
       " 'permalink_url': Value(dtype='string', id=None),\n",
       " 'id_post': Value(dtype='string', id=None),\n",
       " 'dataset_origem': Value(dtype='string', id=None)}"
      ]
     },
     "execution_count": 22,
     "metadata": {},
     "output_type": "execute_result"
    }
   ],
   "source": [
    "dict_datasets[list(dict_datasets.keys())[0]].features"
   ]
  },
  {
   "attachments": {},
   "cell_type": "markdown",
   "metadata": {},
   "source": [
    "## Concatenando os Datasets"
   ]
  },
  {
   "cell_type": "code",
   "execution_count": 25,
   "metadata": {},
   "outputs": [],
   "source": [
    "lista_datasets: List[Dataset] = list(dict_datasets.values())"
   ]
  },
  {
   "cell_type": "code",
   "execution_count": 26,
   "metadata": {},
   "outputs": [
    {
     "data": {
      "text/plain": [
       "[Dataset({\n",
       "     features: ['Unnamed: 0', 'created_time', 'message', 'permalink_url', 'id_post', 'dataset_origem'],\n",
       "     num_rows: 693\n",
       " }),\n",
       " Dataset({\n",
       "     features: ['Unnamed: 0', 'created_time', 'message', 'permalink_url', 'id_post', 'dataset_origem'],\n",
       "     num_rows: 23\n",
       " }),\n",
       " Dataset({\n",
       "     features: ['Unnamed: 0', 'created_time', 'message', 'permalink_url', 'id_post', 'dataset_origem'],\n",
       "     num_rows: 871\n",
       " }),\n",
       " Dataset({\n",
       "     features: ['Unnamed: 0', 'created_time', 'message', 'permalink_url', 'id_post', 'dataset_origem'],\n",
       "     num_rows: 2742\n",
       " }),\n",
       " Dataset({\n",
       "     features: ['Unnamed: 0', 'created_time', 'message', 'permalink_url', 'id_post', 'dataset_origem'],\n",
       "     num_rows: 56\n",
       " }),\n",
       " Dataset({\n",
       "     features: ['Unnamed: 0', 'created_time', 'message', 'permalink_url', 'id_post', 'dataset_origem'],\n",
       "     num_rows: 707\n",
       " }),\n",
       " Dataset({\n",
       "     features: ['Unnamed: 0', 'created_time', 'message', 'permalink_url', 'id_post', 'dataset_origem'],\n",
       "     num_rows: 409\n",
       " }),\n",
       " Dataset({\n",
       "     features: ['Unnamed: 0', 'created_time', 'message', 'permalink_url', 'id_post', 'dataset_origem'],\n",
       "     num_rows: 6607\n",
       " }),\n",
       " Dataset({\n",
       "     features: ['Unnamed: 0', 'created_time', 'message', 'permalink_url', 'id_post', 'dataset_origem'],\n",
       "     num_rows: 14740\n",
       " }),\n",
       " Dataset({\n",
       "     features: ['Unnamed: 0', 'created_time', 'message', 'permalink_url', 'id_post', 'dataset_origem'],\n",
       "     num_rows: 5398\n",
       " }),\n",
       " Dataset({\n",
       "     features: ['Unnamed: 0', 'created_time', 'message', 'permalink_url', 'id_post', 'dataset_origem'],\n",
       "     num_rows: 68\n",
       " }),\n",
       " Dataset({\n",
       "     features: ['Unnamed: 0', 'created_time', 'message', 'permalink_url', 'id_post', 'dataset_origem'],\n",
       "     num_rows: 203\n",
       " }),\n",
       " Dataset({\n",
       "     features: ['Unnamed: 0', 'created_time', 'message', 'permalink_url', 'id_post', 'dataset_origem'],\n",
       "     num_rows: 5\n",
       " }),\n",
       " Dataset({\n",
       "     features: ['Unnamed: 0', 'created_time', 'message', 'permalink_url', 'id_post', 'dataset_origem'],\n",
       "     num_rows: 920\n",
       " }),\n",
       " Dataset({\n",
       "     features: ['Unnamed: 0', 'created_time', 'message', 'permalink_url', 'id_post', 'dataset_origem'],\n",
       "     num_rows: 902\n",
       " }),\n",
       " Dataset({\n",
       "     features: ['Unnamed: 0', 'created_time', 'message', 'permalink_url', 'id_post', 'dataset_origem'],\n",
       "     num_rows: 334\n",
       " }),\n",
       " Dataset({\n",
       "     features: ['Unnamed: 0', 'created_time', 'message', 'permalink_url', 'id_post', 'dataset_origem'],\n",
       "     num_rows: 1212\n",
       " }),\n",
       " Dataset({\n",
       "     features: ['Unnamed: 0', 'created_time', 'message', 'permalink_url', 'id_post', 'dataset_origem'],\n",
       "     num_rows: 6\n",
       " }),\n",
       " Dataset({\n",
       "     features: ['Unnamed: 0', 'created_time', 'message', 'permalink_url', 'id_post', 'dataset_origem'],\n",
       "     num_rows: 119\n",
       " })]"
      ]
     },
     "execution_count": 26,
     "metadata": {},
     "output_type": "execute_result"
    }
   ],
   "source": [
    "lista_datasets"
   ]
  },
  {
   "cell_type": "code",
   "execution_count": 27,
   "metadata": {},
   "outputs": [],
   "source": [
    "dataset_concatenate = concatenate_datasets(lista_datasets)"
   ]
  },
  {
   "attachments": {},
   "cell_type": "markdown",
   "metadata": {},
   "source": [
    "## Verificando Dataset Concatenate"
   ]
  },
  {
   "cell_type": "code",
   "execution_count": 28,
   "metadata": {},
   "outputs": [
    {
     "data": {
      "text/plain": [
       "Dataset({\n",
       "    features: ['Unnamed: 0', 'created_time', 'message', 'permalink_url', 'id_post', 'dataset_origem'],\n",
       "    num_rows: 36015\n",
       "})"
      ]
     },
     "execution_count": 28,
     "metadata": {},
     "output_type": "execute_result"
    }
   ],
   "source": [
    "dataset_concatenate"
   ]
  },
  {
   "attachments": {},
   "cell_type": "markdown",
   "metadata": {},
   "source": [
    "## Salvando Dataset Concatenate"
   ]
  },
  {
   "cell_type": "code",
   "execution_count": 29,
   "metadata": {},
   "outputs": [
    {
     "data": {
      "application/vnd.jupyter.widget-view+json": {
       "model_id": "779687ed38b44af2a9ad6f659ed55686",
       "version_major": 2,
       "version_minor": 0
      },
      "text/plain": [
       "Creating json from Arrow format:   0%|          | 0/4 [00:00<?, ?ba/s]"
      ]
     },
     "metadata": {},
     "output_type": "display_data"
    },
    {
     "data": {
      "text/plain": [
       "13111301"
      ]
     },
     "execution_count": 29,
     "metadata": {},
     "output_type": "execute_result"
    }
   ],
   "source": [
    "dataset_concatenate.to_json(f\"{dir}{dir_dataset}dataset_concatenate.json\")"
   ]
  },
  {
   "cell_type": "code",
   "execution_count": null,
   "metadata": {},
   "outputs": [],
   "source": []
  }
 ],
 "metadata": {
  "kernelspec": {
   "display_name": "Python 3",
   "language": "python",
   "name": "python3"
  },
  "language_info": {
   "codemirror_mode": {
    "name": "ipython",
    "version": 3
   },
   "file_extension": ".py",
   "mimetype": "text/x-python",
   "name": "python",
   "nbconvert_exporter": "python",
   "pygments_lexer": "ipython3",
   "version": "3.9.13"
  },
  "orig_nbformat": 4,
  "vscode": {
   "interpreter": {
    "hash": "8c6567b4a0b385df8abdfd302ad3b39b45fd5aade3f2daa246533e4b99d5affc"
   }
  }
 },
 "nbformat": 4,
 "nbformat_minor": 2
}
