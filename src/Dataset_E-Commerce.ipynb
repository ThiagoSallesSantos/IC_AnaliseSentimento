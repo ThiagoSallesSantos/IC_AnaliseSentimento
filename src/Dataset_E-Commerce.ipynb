{
 "cells": [
  {
   "cell_type": "markdown",
   "id": "5c08b074",
   "metadata": {},
   "source": [
    "# Import's"
   ]
  },
  {
   "cell_type": "code",
   "execution_count": 1,
   "id": "bce6c5e2",
   "metadata": {},
   "outputs": [],
   "source": [
    "import os\n",
    "from datasets import Dataset, Value, ClassLabel\n",
    "from keras.utils.np_utils import to_categorical"
   ]
  },
  {
   "cell_type": "markdown",
   "id": "cb423871",
   "metadata": {},
   "source": [
    "### Variveis Constantes"
   ]
  },
  {
   "cell_type": "code",
   "execution_count": 2,
   "id": "df699577",
   "metadata": {},
   "outputs": [],
   "source": [
    "DIR = \"../\"\n",
    "\n",
    "dataset_path = \"data/\"\n",
    "dataset_e_commerce_path = \"datatsets_bases/dataset_e-commerce/\""
   ]
  },
  {
   "cell_type": "markdown",
   "id": "eb55d8e1",
   "metadata": {},
   "source": [
    "### Lendo os Dataset's"
   ]
  },
  {
   "cell_type": "code",
   "execution_count": 3,
   "id": "6dc93989",
   "metadata": {},
   "outputs": [
    {
     "name": "stderr",
     "output_type": "stream",
     "text": [
      "Using custom data configuration default-e59d5671cc4319c3\n",
      "Found cached dataset csv (/home/thiago/.cache/huggingface/datasets/csv/default-e59d5671cc4319c3/0.0.0)\n",
      "Using custom data configuration default-13c60cb9228e470e\n",
      "Found cached dataset csv (/home/thiago/.cache/huggingface/datasets/csv/default-13c60cb9228e470e/0.0.0)\n",
      "Using custom data configuration default-6374fa140038e3ff\n",
      "Found cached dataset csv (/home/thiago/.cache/huggingface/datasets/csv/default-6374fa140038e3ff/0.0.0)\n",
      "Using custom data configuration default-e9444290877d8e5d\n",
      "Found cached dataset csv (/home/thiago/.cache/huggingface/datasets/csv/default-e9444290877d8e5d/0.0.0)\n",
      "Using custom data configuration default-1596091c1c03a218\n",
      "Found cached dataset csv (/home/thiago/.cache/huggingface/datasets/csv/default-1596091c1c03a218/0.0.0)\n"
     ]
    }
   ],
   "source": [
    "dict_datasets : dict[str, Dataset] = dict({})\n",
    "for arquivo_nome in list(filter(lambda x: x.endswith(\".csv\"), os.listdir(DIR+dataset_path+dataset_e_commerce_path))):\n",
    "    dict_datasets.update(dict({arquivo_nome: Dataset.from_csv(DIR+dataset_path+dataset_e_commerce_path+arquivo_nome)}))"
   ]
  },
  {
   "cell_type": "code",
   "execution_count": 4,
   "id": "01cbf462",
   "metadata": {},
   "outputs": [
    {
     "data": {
      "text/plain": [
       "{'utlc_apps.csv': Dataset({\n",
       "     features: ['original_index', 'review_text', 'review_text_processed', 'review_text_tokenized', 'polarity', 'rating', 'kfold_polarity', 'kfold_rating'],\n",
       "     num_rows: 1039535\n",
       " }),\n",
       " 'buscape.csv': Dataset({\n",
       "     features: ['original_index', 'review_text', 'review_text_processed', 'review_text_tokenized', 'polarity', 'rating', 'kfold_polarity', 'kfold_rating'],\n",
       "     num_rows: 84991\n",
       " }),\n",
       " 'utlc_movies.csv': Dataset({\n",
       "     features: ['original_index', 'review_text', 'review_text_processed', 'review_text_tokenized', 'polarity', 'rating', 'kfold_polarity', 'kfold_rating'],\n",
       "     num_rows: 1487449\n",
       " }),\n",
       " 'b2w.csv': Dataset({\n",
       "     features: ['original_index', 'review_text', 'review_text_processed', 'review_text_tokenized', 'polarity', 'rating', 'kfold_polarity', 'kfold_rating'],\n",
       "     num_rows: 132373\n",
       " }),\n",
       " 'olist.csv': Dataset({\n",
       "     features: ['original_index', 'review_text', 'review_text_processed', 'review_text_tokenized', 'polarity', 'rating', 'kfold_polarity', 'kfold_rating'],\n",
       "     num_rows: 41744\n",
       " })}"
      ]
     },
     "execution_count": 4,
     "metadata": {},
     "output_type": "execute_result"
    }
   ],
   "source": [
    "dict_datasets"
   ]
  },
  {
   "cell_type": "markdown",
   "id": "d595734c",
   "metadata": {},
   "source": [
    "### Funções"
   ]
  },
  {
   "cell_type": "markdown",
   "id": "00303936",
   "metadata": {},
   "source": [
    "#### Renomeando as colunas"
   ]
  },
  {
   "cell_type": "code",
   "execution_count": 5,
   "id": "663181e8",
   "metadata": {},
   "outputs": [],
   "source": [
    "def renomea_colunas(dataset: Dataset):\n",
    "    dataset = dataset.rename_column(\"review_text\", \"text\")\n",
    "    dataset = dataset.rename_column(\"polarity\", \"labels\")\n",
    "    dataset = dataset.rename_column(\"kfold_polarity\", \"group\")\n",
    "    return dataset"
   ]
  },
  {
   "cell_type": "markdown",
   "id": "623c8f8e",
   "metadata": {},
   "source": [
    "#### Remove as colunas"
   ]
  },
  {
   "cell_type": "code",
   "execution_count": 6,
   "id": "57af9688",
   "metadata": {},
   "outputs": [],
   "source": [
    "def remove_colunas(dataset: Dataset):\n",
    "    dataset = dataset.remove_columns([\"original_index\", \"review_text_processed\", \"review_text_tokenized\", \"rating\", \"kfold_rating\"])\n",
    "    return dataset"
   ]
  },
  {
   "cell_type": "markdown",
   "id": "2716f757",
   "metadata": {},
   "source": [
    "#### Remove resultados indesejados"
   ]
  },
  {
   "cell_type": "code",
   "execution_count": 7,
   "id": "1e940bde",
   "metadata": {},
   "outputs": [],
   "source": [
    "def remove_None(dataset: Dataset, coluna: str):\n",
    "    dataset = dataset.filter(lambda x: x[coluna] is not None)\n",
    "    return dataset"
   ]
  },
  {
   "cell_type": "markdown",
   "id": "296c3240",
   "metadata": {},
   "source": [
    "#### Convert label"
   ]
  },
  {
   "cell_type": "code",
   "execution_count": 8,
   "id": "68890db2",
   "metadata": {},
   "outputs": [],
   "source": [
    "def convert_coluna_to_int(dataset: Dataset, coluna: str):\n",
    "    novo_tipo = dataset.features.copy()\n",
    "    novo_tipo[\"labels\"] = Value(\"int32\")\n",
    "    dataset = dataset.cast(novo_tipo)\n",
    "    return dataset"
   ]
  },
  {
   "cell_type": "markdown",
   "id": "f28099ad",
   "metadata": {},
   "source": [
    "#### Convert to categorical"
   ]
  },
  {
   "cell_type": "code",
   "execution_count": 9,
   "id": "b2becdeb",
   "metadata": {},
   "outputs": [],
   "source": [
    "def convert_coluna_to_categorical(data, coluna: str, num_classes: int):\n",
    "    data[coluna] = to_categorical(data[coluna], num_classes=num_classes)\n",
    "    return data"
   ]
  },
  {
   "cell_type": "markdown",
   "id": "9c9be6fc",
   "metadata": {},
   "source": [
    "### Arrumando os datasets do e-commerce"
   ]
  },
  {
   "attachments": {},
   "cell_type": "markdown",
   "id": "2f1b280a",
   "metadata": {},
   "source": [
    "#### Automático"
   ]
  },
  {
   "cell_type": "code",
   "execution_count": 10,
   "id": "e065dac0",
   "metadata": {},
   "outputs": [
    {
     "name": "stderr",
     "output_type": "stream",
     "text": [
      "Loading cached processed dataset at /home/thiago/.cache/huggingface/datasets/csv/default-e59d5671cc4319c3/0.0.0/cache-79a3d5bcd060ae3f.arrow\n",
      "Loading cached processed dataset at /home/thiago/.cache/huggingface/datasets/csv/default-e59d5671cc4319c3/0.0.0/cache-783026e4fb4228d6.arrow\n",
      "Loading cached processed dataset at /home/thiago/.cache/huggingface/datasets/csv/default-e59d5671cc4319c3/0.0.0/cache-04fc0a0f0eec6796.arrow\n",
      "Loading cached processed dataset at /home/thiago/.cache/huggingface/datasets/csv/default-e59d5671cc4319c3/0.0.0/cache-f7eba7eb748873ff.arrow\n"
     ]
    },
    {
     "name": "stdout",
     "output_type": "stream",
     "text": [
      "utlc_apps.csv\n"
     ]
    },
    {
     "data": {
      "application/vnd.jupyter.widget-view+json": {
       "model_id": "4f77ecea531f4df3bfb70dddba25af70",
       "version_major": 2,
       "version_minor": 0
      },
      "text/plain": [
       "  0%|          | 0/969 [00:00<?, ?ba/s]"
      ]
     },
     "metadata": {},
     "output_type": "display_data"
    },
    {
     "data": {
      "application/vnd.jupyter.widget-view+json": {
       "model_id": "049994ec773b484b94d10bb2917d30e6",
       "version_major": 2,
       "version_minor": 0
      },
      "text/plain": [
       "Creating json from Arrow format:   0%|          | 0/97 [00:00<?, ?ba/s]"
      ]
     },
     "metadata": {},
     "output_type": "display_data"
    },
    {
     "name": "stderr",
     "output_type": "stream",
     "text": [
      "Loading cached processed dataset at /home/thiago/.cache/huggingface/datasets/csv/default-13c60cb9228e470e/0.0.0/cache-5c4dad4b69e18a4b.arrow\n",
      "Loading cached processed dataset at /home/thiago/.cache/huggingface/datasets/csv/default-13c60cb9228e470e/0.0.0/cache-f17f6a8f930b1dbe.arrow\n",
      "Loading cached processed dataset at /home/thiago/.cache/huggingface/datasets/csv/default-13c60cb9228e470e/0.0.0/cache-f81a1cc87177b714.arrow\n",
      "Loading cached processed dataset at /home/thiago/.cache/huggingface/datasets/csv/default-13c60cb9228e470e/0.0.0/cache-cb09734a6d129b33.arrow\n"
     ]
    },
    {
     "name": "stdout",
     "output_type": "stream",
     "text": [
      "buscape.csv\n"
     ]
    },
    {
     "data": {
      "application/vnd.jupyter.widget-view+json": {
       "model_id": "386eba1f91234b288bd60703c4830ef2",
       "version_major": 2,
       "version_minor": 0
      },
      "text/plain": [
       "  0%|          | 0/74 [00:00<?, ?ba/s]"
      ]
     },
     "metadata": {},
     "output_type": "display_data"
    },
    {
     "data": {
      "application/vnd.jupyter.widget-view+json": {
       "model_id": "30cca8494d554b6ba0823bbfde03a118",
       "version_major": 2,
       "version_minor": 0
      },
      "text/plain": [
       "Creating json from Arrow format:   0%|          | 0/8 [00:00<?, ?ba/s]"
      ]
     },
     "metadata": {},
     "output_type": "display_data"
    },
    {
     "name": "stderr",
     "output_type": "stream",
     "text": [
      "Loading cached processed dataset at /home/thiago/.cache/huggingface/datasets/csv/default-6374fa140038e3ff/0.0.0/cache-5683c452041c8419.arrow\n",
      "Loading cached processed dataset at /home/thiago/.cache/huggingface/datasets/csv/default-6374fa140038e3ff/0.0.0/cache-845b7b10f40e72f5.arrow\n",
      "Loading cached processed dataset at /home/thiago/.cache/huggingface/datasets/csv/default-6374fa140038e3ff/0.0.0/cache-e0446c4530870d29.arrow\n",
      "Loading cached processed dataset at /home/thiago/.cache/huggingface/datasets/csv/default-6374fa140038e3ff/0.0.0/cache-efc05c12f77b9894.arrow\n"
     ]
    },
    {
     "name": "stdout",
     "output_type": "stream",
     "text": [
      "utlc_movies.csv\n"
     ]
    },
    {
     "data": {
      "application/vnd.jupyter.widget-view+json": {
       "model_id": "4fb6a36de6bb479385d3af236dd2693c",
       "version_major": 2,
       "version_minor": 0
      },
      "text/plain": [
       "  0%|          | 0/1190 [00:00<?, ?ba/s]"
      ]
     },
     "metadata": {},
     "output_type": "display_data"
    },
    {
     "data": {
      "application/vnd.jupyter.widget-view+json": {
       "model_id": "f8192faab1a347089b39d3a1dc44ee91",
       "version_major": 2,
       "version_minor": 0
      },
      "text/plain": [
       "Creating json from Arrow format:   0%|          | 0/119 [00:00<?, ?ba/s]"
      ]
     },
     "metadata": {},
     "output_type": "display_data"
    },
    {
     "name": "stderr",
     "output_type": "stream",
     "text": [
      "Loading cached processed dataset at /home/thiago/.cache/huggingface/datasets/csv/default-e9444290877d8e5d/0.0.0/cache-c2b6739527f070da.arrow\n",
      "Loading cached processed dataset at /home/thiago/.cache/huggingface/datasets/csv/default-e9444290877d8e5d/0.0.0/cache-dcdfec52e710f459.arrow\n",
      "Loading cached processed dataset at /home/thiago/.cache/huggingface/datasets/csv/default-e9444290877d8e5d/0.0.0/cache-40bba731c7c8e77b.arrow\n",
      "Loading cached processed dataset at /home/thiago/.cache/huggingface/datasets/csv/default-e9444290877d8e5d/0.0.0/cache-457db4409fec07c5.arrow\n"
     ]
    },
    {
     "name": "stdout",
     "output_type": "stream",
     "text": [
      "b2w.csv\n"
     ]
    },
    {
     "data": {
      "application/vnd.jupyter.widget-view+json": {
       "model_id": "737acd9094da4eeeb101b0ad23d0d282",
       "version_major": 2,
       "version_minor": 0
      },
      "text/plain": [
       "  0%|          | 0/117 [00:00<?, ?ba/s]"
      ]
     },
     "metadata": {},
     "output_type": "display_data"
    },
    {
     "data": {
      "application/vnd.jupyter.widget-view+json": {
       "model_id": "8a3a4d96ec85402bb58041e4edfccd9e",
       "version_major": 2,
       "version_minor": 0
      },
      "text/plain": [
       "Creating json from Arrow format:   0%|          | 0/12 [00:00<?, ?ba/s]"
      ]
     },
     "metadata": {},
     "output_type": "display_data"
    },
    {
     "name": "stderr",
     "output_type": "stream",
     "text": [
      "Loading cached processed dataset at /home/thiago/.cache/huggingface/datasets/csv/default-1596091c1c03a218/0.0.0/cache-2ccb525d6b2cb888.arrow\n",
      "Loading cached processed dataset at /home/thiago/.cache/huggingface/datasets/csv/default-1596091c1c03a218/0.0.0/cache-2dceb8e4e6141496.arrow\n",
      "Loading cached processed dataset at /home/thiago/.cache/huggingface/datasets/csv/default-1596091c1c03a218/0.0.0/cache-4afa6184b21cd8e4.arrow\n",
      "Loading cached processed dataset at /home/thiago/.cache/huggingface/datasets/csv/default-1596091c1c03a218/0.0.0/cache-030f0af070e6b9b7.arrow\n"
     ]
    },
    {
     "name": "stdout",
     "output_type": "stream",
     "text": [
      "olist.csv\n"
     ]
    },
    {
     "data": {
      "application/vnd.jupyter.widget-view+json": {
       "model_id": "9ccf188d3d2a4b848991a8a13d75b7e7",
       "version_major": 2,
       "version_minor": 0
      },
      "text/plain": [
       "  0%|          | 0/39 [00:00<?, ?ba/s]"
      ]
     },
     "metadata": {},
     "output_type": "display_data"
    },
    {
     "data": {
      "application/vnd.jupyter.widget-view+json": {
       "model_id": "0d3213ecdbde4af79d071a9c49a16f7d",
       "version_major": 2,
       "version_minor": 0
      },
      "text/plain": [
       "Creating json from Arrow format:   0%|          | 0/4 [00:00<?, ?ba/s]"
      ]
     },
     "metadata": {},
     "output_type": "display_data"
    }
   ],
   "source": [
    "for arquivo in dict_datasets.keys():\n",
    "    print(arquivo)\n",
    "    dict_datasets[arquivo] = renomea_colunas(dict_datasets[arquivo])\n",
    "    dict_datasets[arquivo] = remove_colunas(dict_datasets[arquivo])\n",
    "    dict_datasets[arquivo] = remove_None(dict_datasets[arquivo], \"labels\")\n",
    "    dict_datasets[arquivo] = remove_None(dict_datasets[arquivo], \"text\")\n",
    "    dict_datasets[arquivo] = remove_None(dict_datasets[arquivo], \"group\")\n",
    "    dict_datasets[arquivo] = convert_coluna_to_int(dict_datasets[arquivo], \"labels\")\n",
    "    num_classes = len(set(dict_datasets[arquivo][\"labels\"]))\n",
    "    dict_datasets[arquivo] = dict_datasets[arquivo].map(lambda batch: convert_coluna_to_categorical(batch, \"labels\", num_classes), batched=True)\n",
    "    dict_datasets[arquivo].to_json(DIR+dataset_path+\"dataset_\"+arquivo[:-4]+\".json\")"
   ]
  },
  {
   "attachments": {},
   "cell_type": "markdown",
   "id": "1724231f",
   "metadata": {},
   "source": [
    "#### Manual"
   ]
  },
  {
   "cell_type": "code",
   "execution_count": null,
   "id": "49b1da5f",
   "metadata": {},
   "outputs": [],
   "source": [
    "dict_datasets.keys()"
   ]
  },
  {
   "cell_type": "code",
   "execution_count": null,
   "id": "042b0d55",
   "metadata": {},
   "outputs": [],
   "source": [
    "dataset_str = \"olist.csv\""
   ]
  },
  {
   "cell_type": "code",
   "execution_count": null,
   "id": "5d4eec19",
   "metadata": {},
   "outputs": [],
   "source": [
    "dict_datasets[dataset_str]"
   ]
  },
  {
   "attachments": {},
   "cell_type": "markdown",
   "id": "85956f81",
   "metadata": {},
   "source": [
    "##### Renomea colunas"
   ]
  },
  {
   "cell_type": "code",
   "execution_count": null,
   "id": "29a92984",
   "metadata": {},
   "outputs": [],
   "source": [
    "dict_datasets[dataset_str].features"
   ]
  },
  {
   "cell_type": "code",
   "execution_count": null,
   "id": "58c62c7c",
   "metadata": {},
   "outputs": [],
   "source": [
    "dict_datasets[dataset_str] = renomea_colunas(dict_datasets[dataset_str])"
   ]
  },
  {
   "cell_type": "code",
   "execution_count": null,
   "id": "afe8cddd",
   "metadata": {},
   "outputs": [],
   "source": [
    "dict_datasets[dataset_str].features"
   ]
  },
  {
   "cell_type": "markdown",
   "id": "585a3d22",
   "metadata": {},
   "source": [
    "##### Remove colunas"
   ]
  },
  {
   "cell_type": "code",
   "execution_count": null,
   "id": "0437893d",
   "metadata": {},
   "outputs": [],
   "source": [
    "dict_datasets[dataset_str].features"
   ]
  },
  {
   "cell_type": "code",
   "execution_count": null,
   "id": "234faf02",
   "metadata": {},
   "outputs": [],
   "source": [
    "dict_datasets[dataset_str] = remove_colunas(dict_datasets[dataset_str])"
   ]
  },
  {
   "cell_type": "code",
   "execution_count": null,
   "id": "346d6320",
   "metadata": {},
   "outputs": [],
   "source": [
    "dict_datasets[dataset_str].features"
   ]
  },
  {
   "attachments": {},
   "cell_type": "markdown",
   "id": "df0b9e6f",
   "metadata": {},
   "source": [
    "##### Remove valores None"
   ]
  },
  {
   "attachments": {},
   "cell_type": "markdown",
   "id": "cf951d2b",
   "metadata": {},
   "source": [
    "Coluna labels"
   ]
  },
  {
   "cell_type": "code",
   "execution_count": null,
   "id": "949eb440",
   "metadata": {},
   "outputs": [],
   "source": [
    "set(dict_datasets[dataset_str][\"labels\"])"
   ]
  },
  {
   "cell_type": "code",
   "execution_count": null,
   "id": "b99e6b86",
   "metadata": {},
   "outputs": [],
   "source": [
    "None in dict_datasets[dataset_str][\"labels\"]"
   ]
  },
  {
   "cell_type": "code",
   "execution_count": null,
   "id": "412f88ac",
   "metadata": {},
   "outputs": [],
   "source": [
    "dict_datasets[dataset_str] = remove_None(dict_datasets[dataset_str], \"labels\")"
   ]
  },
  {
   "cell_type": "code",
   "execution_count": null,
   "id": "4860ea3a",
   "metadata": {},
   "outputs": [],
   "source": [
    "None in dict_datasets[dataset_str][\"labels\"]"
   ]
  },
  {
   "cell_type": "code",
   "execution_count": null,
   "id": "6d41de56",
   "metadata": {},
   "outputs": [],
   "source": [
    "set(dict_datasets[dataset_str][\"labels\"])"
   ]
  },
  {
   "attachments": {},
   "cell_type": "markdown",
   "id": "71fdf90e",
   "metadata": {},
   "source": [
    "Coluna text"
   ]
  },
  {
   "cell_type": "code",
   "execution_count": null,
   "id": "989748b6",
   "metadata": {},
   "outputs": [],
   "source": [
    "None in dict_datasets[dataset_str][\"text\"]"
   ]
  },
  {
   "cell_type": "code",
   "execution_count": null,
   "id": "c42b4b0d",
   "metadata": {},
   "outputs": [],
   "source": [
    "dict_datasets[dataset_str] = remove_None(dict_datasets[dataset_str], \"text\")"
   ]
  },
  {
   "cell_type": "code",
   "execution_count": null,
   "id": "b96468d4",
   "metadata": {},
   "outputs": [],
   "source": [
    "None in dict_datasets[dataset_str][\"text\"]"
   ]
  },
  {
   "attachments": {},
   "cell_type": "markdown",
   "id": "45c61ad6",
   "metadata": {},
   "source": [
    "Coluna Group"
   ]
  },
  {
   "cell_type": "code",
   "execution_count": null,
   "id": "c82d1a57",
   "metadata": {},
   "outputs": [],
   "source": [
    "set(dict_datasets[dataset_str][\"group\"])"
   ]
  },
  {
   "cell_type": "code",
   "execution_count": null,
   "id": "4c33d48f",
   "metadata": {},
   "outputs": [],
   "source": [
    "None in dict_datasets[dataset_str][\"group\"]"
   ]
  },
  {
   "cell_type": "code",
   "execution_count": null,
   "id": "2810b87d",
   "metadata": {},
   "outputs": [],
   "source": [
    "dict_datasets[dataset_str] = remove_None(dict_datasets[dataset_str], \"group\")"
   ]
  },
  {
   "cell_type": "code",
   "execution_count": null,
   "id": "ede8dc17",
   "metadata": {},
   "outputs": [],
   "source": [
    "None in dict_datasets[dataset_str][\"group\"]"
   ]
  },
  {
   "cell_type": "code",
   "execution_count": null,
   "id": "678e5f56",
   "metadata": {},
   "outputs": [],
   "source": [
    "set(dict_datasets[dataset_str][\"group\"])"
   ]
  },
  {
   "attachments": {},
   "cell_type": "markdown",
   "id": "1e41f658",
   "metadata": {},
   "source": [
    "##### Convert para int"
   ]
  },
  {
   "cell_type": "code",
   "execution_count": null,
   "id": "6e462ed9",
   "metadata": {},
   "outputs": [],
   "source": [
    "dict_datasets[dataset_str].features"
   ]
  },
  {
   "cell_type": "code",
   "execution_count": null,
   "id": "7465bb8a",
   "metadata": {},
   "outputs": [],
   "source": [
    "dict_datasets[dataset_str] =  convert_coluna_to_int(dict_datasets[dataset_str], \"labels\")"
   ]
  },
  {
   "cell_type": "code",
   "execution_count": null,
   "id": "41f0ca49",
   "metadata": {},
   "outputs": [],
   "source": [
    "dict_datasets[dataset_str].features"
   ]
  },
  {
   "attachments": {},
   "cell_type": "markdown",
   "id": "6e9984dd",
   "metadata": {},
   "source": [
    "##### Convert para to_categorical"
   ]
  },
  {
   "cell_type": "code",
   "execution_count": null,
   "id": "ccb053f4",
   "metadata": {},
   "outputs": [],
   "source": [
    "dict_datasets[dataset_str].features"
   ]
  },
  {
   "cell_type": "code",
   "execution_count": null,
   "id": "8d5daaea",
   "metadata": {},
   "outputs": [],
   "source": [
    "dict_datasets[dataset_str][\"labels\"][:5]"
   ]
  },
  {
   "cell_type": "code",
   "execution_count": null,
   "id": "909ae494",
   "metadata": {},
   "outputs": [],
   "source": [
    "set(dict_datasets[dataset_str][\"labels\"])"
   ]
  },
  {
   "cell_type": "code",
   "execution_count": null,
   "id": "8ba92911",
   "metadata": {},
   "outputs": [],
   "source": [
    "dict_datasets[dataset_str] = dict_datasets[dataset_str].map(lambda batch: convert_coluna_to_categorical(batch, \"labels\", len(set(dict_datasets[dataset_str][\"labels\"]))), batched=True)"
   ]
  },
  {
   "cell_type": "code",
   "execution_count": null,
   "id": "b60e47b3",
   "metadata": {},
   "outputs": [],
   "source": [
    "dict_datasets[dataset_str].features"
   ]
  },
  {
   "cell_type": "code",
   "execution_count": null,
   "id": "aba701b1",
   "metadata": {},
   "outputs": [],
   "source": [
    "dict_datasets[dataset_str][\"labels\"][:5]"
   ]
  },
  {
   "attachments": {},
   "cell_type": "markdown",
   "id": "f3fcc5b1",
   "metadata": {},
   "source": [
    "##### Verificando os grupos"
   ]
  },
  {
   "cell_type": "code",
   "execution_count": null,
   "id": "2e40df00",
   "metadata": {},
   "outputs": [],
   "source": [
    "def group_by(dataset: Dataset, coluna: str):\n",
    "    lista_grupos = []\n",
    "    for grupo in set(dataset[coluna]):\n",
    "        lista_grupos.append(dataset.filter(lambda x: x[coluna]==grupo))\n",
    "    return lista_grupos"
   ]
  },
  {
   "cell_type": "code",
   "execution_count": null,
   "id": "d2ae2302",
   "metadata": {},
   "outputs": [],
   "source": [
    "lista_datasets = group_by(dict_datasets[dataset_str], \"group\")"
   ]
  },
  {
   "cell_type": "code",
   "execution_count": null,
   "id": "412234f7",
   "metadata": {},
   "outputs": [],
   "source": [
    "for index, dataset_part in enumerate(lista_datasets):\n",
    "    print(str(index) + \" - \" + str(len(dataset_part)))"
   ]
  },
  {
   "cell_type": "markdown",
   "id": "240fc7f2",
   "metadata": {},
   "source": [
    "##### Salvando o dataset"
   ]
  },
  {
   "cell_type": "code",
   "execution_count": null,
   "id": "9c222f08",
   "metadata": {},
   "outputs": [],
   "source": [
    "dict_datasets[dataset_str].to_json(DIR+dataset_path+\"dataset_\"+dataset_str+\".json\")"
   ]
  },
  {
   "cell_type": "code",
   "execution_count": null,
   "id": "a61dc881",
   "metadata": {},
   "outputs": [],
   "source": []
  }
 ],
 "metadata": {
  "kernelspec": {
   "display_name": "Python 3.10.6 ('venv': venv)",
   "language": "python",
   "name": "python3"
  },
  "language_info": {
   "codemirror_mode": {
    "name": "ipython",
    "version": 3
   },
   "file_extension": ".py",
   "mimetype": "text/x-python",
   "name": "python",
   "nbconvert_exporter": "python",
   "pygments_lexer": "ipython3",
   "version": "3.9.13 | packaged by conda-forge | (main, May 27 2022, 16:56:21) \n[GCC 10.3.0]"
  },
  "vscode": {
   "interpreter": {
    "hash": "4fb509523777ff3016dc93b171d54b9d342944b8aa4515e44fa075d649b5b250"
   }
  }
 },
 "nbformat": 4,
 "nbformat_minor": 5
}
