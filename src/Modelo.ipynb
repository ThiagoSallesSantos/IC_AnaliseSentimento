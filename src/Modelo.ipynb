{
 "cells": [
  {
   "attachments": {},
   "cell_type": "markdown",
   "metadata": {},
   "source": [
    "## Import's"
   ]
  },
  {
   "cell_type": "code",
   "execution_count": 14,
   "metadata": {},
   "outputs": [],
   "source": [
    "import tensorflow as tf\n",
    "from datasets import Dataset, concatenate_datasets\n",
    "from transformers import AutoTokenizer\n",
    "from transformers import TFAutoModelForSequenceClassification\n",
    "from transformers import create_optimizer\n",
    "from keras import backend as K\n",
    "import numpy as np\n",
    "import json\n",
    "import os"
   ]
  },
  {
   "attachments": {},
   "cell_type": "markdown",
   "metadata": {},
   "source": [
    "## Verificando Tensoflow-GPU"
   ]
  },
  {
   "cell_type": "code",
   "execution_count": 15,
   "metadata": {},
   "outputs": [
    {
     "data": {
      "text/plain": [
       "'Tem GPU'"
      ]
     },
     "execution_count": 15,
     "metadata": {},
     "output_type": "execute_result"
    }
   ],
   "source": [
    "lista_gpu = tf.config.list_physical_devices(\"GPU\")\n",
    "\"Tem GPU\" if lista_gpu else \"Não tem GPU\""
   ]
  },
  {
   "cell_type": "code",
   "execution_count": 16,
   "metadata": {},
   "outputs": [],
   "source": [
    "for gpu in lista_gpu:\n",
    "    tf.config.experimental.set_memory_growth(gpu, True)"
   ]
  },
  {
   "attachments": {},
   "cell_type": "markdown",
   "metadata": {},
   "source": [
    "## Constantes"
   ]
  },
  {
   "cell_type": "code",
   "execution_count": 17,
   "metadata": {},
   "outputs": [],
   "source": [
    "## Constantes de diretório\n",
    "DIR = '../' ## Diretório \n",
    "dataset_path = \"data/\" ## Diretório raiz dos dataset's\n",
    "dir_resultado = \"results/\" ## Diretório raiz para os resultados\n",
    "\n",
    "## Constantes do modelo\n",
    "model_id = 'neuralmind/bert-base-portuguese-cased'\n",
    "epochs = 3\n",
    "batchs = 16\n",
    "qtd_classes = 3\n",
    "tamanho_cross_validation = 10\n",
    "\n",
    "num_train_steps = (tamanho_cross_validation  // batchs) * epochs"
   ]
  },
  {
   "attachments": {},
   "cell_type": "markdown",
   "metadata": {},
   "source": [
    "## Tokenizador"
   ]
  },
  {
   "cell_type": "code",
   "execution_count": 18,
   "metadata": {},
   "outputs": [],
   "source": [
    "tokenizer = AutoTokenizer.from_pretrained(model_id)"
   ]
  },
  {
   "cell_type": "code",
   "execution_count": 19,
   "metadata": {},
   "outputs": [],
   "source": [
    "def tokenize_dataset(data):\n",
    "    return tokenizer(data[\"text\"], padding=True, return_tensors=\"tf\")"
   ]
  },
  {
   "attachments": {},
   "cell_type": "markdown",
   "metadata": {},
   "source": [
    "## Modelo"
   ]
  },
  {
   "cell_type": "code",
   "execution_count": 20,
   "metadata": {},
   "outputs": [
    {
     "name": "stderr",
     "output_type": "stream",
     "text": [
      "All model checkpoint layers were used when initializing TFBertForSequenceClassification.\n",
      "\n",
      "Some layers of TFBertForSequenceClassification were not initialized from the model checkpoint at neuralmind/bert-base-portuguese-cased and are newly initialized: ['classifier', 'bert/pooler/dense/bias:0', 'bert/pooler/dense/kernel:0']\n",
      "You should probably TRAIN this model on a down-stream task to be able to use it for predictions and inference.\n"
     ]
    }
   ],
   "source": [
    "model = TFAutoModelForSequenceClassification.from_pretrained(model_id, num_labels=qtd_classes)"
   ]
  },
  {
   "attachments": {},
   "cell_type": "markdown",
   "metadata": {},
   "source": [
    "## Lendo datasets"
   ]
  },
  {
   "cell_type": "code",
   "execution_count": 21,
   "metadata": {},
   "outputs": [
    {
     "name": "stderr",
     "output_type": "stream",
     "text": [
      "Using custom data configuration default-4236bfd91f2c18b5\n",
      "Found cached dataset json (/home/thiago/.cache/huggingface/datasets/json/default-4236bfd91f2c18b5/0.0.0)\n",
      "Using custom data configuration default-6cb4c78ed98faec2\n",
      "Found cached dataset json (/home/thiago/.cache/huggingface/datasets/json/default-6cb4c78ed98faec2/0.0.0)\n",
      "Using custom data configuration default-75cea81a1a2a16ff\n",
      "Found cached dataset json (/home/thiago/.cache/huggingface/datasets/json/default-75cea81a1a2a16ff/0.0.0)\n",
      "Using custom data configuration default-c79f6086a25a6b5a\n",
      "Found cached dataset json (/home/thiago/.cache/huggingface/datasets/json/default-c79f6086a25a6b5a/0.0.0)\n",
      "Using custom data configuration default-eb7ec91bbd4f537b\n",
      "Found cached dataset json (/home/thiago/.cache/huggingface/datasets/json/default-eb7ec91bbd4f537b/0.0.0)\n",
      "Using custom data configuration default-403847b7b10ac345\n",
      "Found cached dataset json (/home/thiago/.cache/huggingface/datasets/json/default-403847b7b10ac345/0.0.0)\n",
      "Using custom data configuration default-a77b6ee97f2d4e6e\n",
      "Found cached dataset json (/home/thiago/.cache/huggingface/datasets/json/default-a77b6ee97f2d4e6e/0.0.0)\n"
     ]
    }
   ],
   "source": [
    "dict_datasets : dict[str, Dataset] = dict({})\n",
    "for arquivo_nome in list(filter(lambda x: x.endswith(\".json\"), os.listdir(DIR+dataset_path))):\n",
    "    dict_datasets.update(dict({arquivo_nome: Dataset.from_json(DIR+dataset_path+arquivo_nome)}))"
   ]
  },
  {
   "cell_type": "code",
   "execution_count": null,
   "metadata": {},
   "outputs": [],
   "source": [
    "dict_datasets"
   ]
  },
  {
   "attachments": {},
   "cell_type": "markdown",
   "metadata": {},
   "source": [
    "## Tokenizando as entradas"
   ]
  },
  {
   "cell_type": "code",
   "execution_count": null,
   "metadata": {},
   "outputs": [],
   "source": [
    "for dataset_nome, dataset in dict_datasets.items():\n",
    "    dict_datasets[dataset_nome] = dataset.map(tokenize_dataset, batched=True)"
   ]
  },
  {
   "cell_type": "code",
   "execution_count": null,
   "metadata": {},
   "outputs": [],
   "source": [
    "dict_datasets"
   ]
  },
  {
   "attachments": {},
   "cell_type": "markdown",
   "metadata": {},
   "source": [
    "## Dividindo os dados"
   ]
  },
  {
   "cell_type": "code",
   "execution_count": null,
   "metadata": {},
   "outputs": [],
   "source": [
    "def group_by(dataset: Dataset):\n",
    "    lista_grupos = []\n",
    "    for grupo in set(dataset[\"group\"]):\n",
    "        lista_grupos.append(dataset.filter(lambda x: x[\"group\"]==grupo))\n",
    "    return lista_grupos"
   ]
  },
  {
   "cell_type": "code",
   "execution_count": null,
   "metadata": {},
   "outputs": [],
   "source": [
    "for dataset_nome, dataset in dict_datasets.items():\n",
    "    dict_datasets[dataset_nome] = group_by(dataset)"
   ]
  },
  {
   "cell_type": "code",
   "execution_count": null,
   "metadata": {},
   "outputs": [],
   "source": [
    "dict_datasets"
   ]
  },
  {
   "attachments": {},
   "cell_type": "markdown",
   "metadata": {},
   "source": [
    "## Metricas"
   ]
  },
  {
   "cell_type": "code",
   "execution_count": null,
   "metadata": {},
   "outputs": [],
   "source": [
    "def func_precision(y_true, y_pred):\n",
    "    y_pred = np.argmax(y_pred.numpy(), axis=1)\n",
    "    y_true = np.argmax(y_true.numpy(), axis=1)\n",
    "    precision = tf.keras.metrics.Precision()\n",
    "    precision.update_state(y_true, y_pred)\n",
    "    return precision.result().numpy()\n",
    "\n",
    "def func_recall(y_true, y_pred):\n",
    "    y_pred = np.argmax(y_pred.numpy(), axis=1)\n",
    "    y_true = np.argmax(y_true.numpy(), axis=1)\n",
    "    recall = tf.keras.metrics.Recall()\n",
    "    recall.update_state(y_true, y_pred)\n",
    "    return recall.result().numpy()\n",
    "\n",
    "def func_f1(y_true, y_pred):\n",
    "    precision = func_precision(y_true, y_pred)\n",
    "    recall = func_recall(y_true, y_pred)\n",
    "    return 2*((precision*recall)/(precision+recall+K.epsilon()))"
   ]
  },
  {
   "attachments": {},
   "cell_type": "markdown",
   "metadata": {},
   "source": [
    "## Criando otimizador"
   ]
  },
  {
   "cell_type": "code",
   "execution_count": null,
   "metadata": {},
   "outputs": [],
   "source": [
    "optimizer, lr_schedule = create_optimizer(\n",
    "    init_lr=2e-5,\n",
    "    num_train_steps=num_train_steps,\n",
    "    weight_decay_rate=0.01,\n",
    "    num_warmup_steps=0,\n",
    ")"
   ]
  },
  {
   "attachments": {},
   "cell_type": "markdown",
   "metadata": {},
   "source": [
    "## Treinando o modelo"
   ]
  },
  {
   "cell_type": "code",
   "execution_count": null,
   "metadata": {},
   "outputs": [],
   "source": [
    "\n",
    "\n",
    "for nome_dataset, list_dataset in dict_datasets.items():\n",
    "    resultados = []\n",
    "    for index, dataset in enumerate(list_dataset):\n",
    "        ## Treino\n",
    "        dataset_treino = list_dataset[:index]\n",
    "        dataset_treino += list_dataset[index+1:]\n",
    "        dataset_treino = concatenate_datasets(dataset_treino)\n",
    "        tf_dataset_treino = model.prepare_tf_dataset(dataset_treino, batch_size=batchs, shuffle=True, tokenizer=tokenizer)\n",
    "        ## Teste\n",
    "        tf_dataset_teste = model.prepare_tf_dataset(dataset, batch_size=batchs, shuffle=True, tokenizer=tokenizer)\n",
    "        ## Modelo\n",
    "        model.compile(\n",
    "            optimizer=optimizer,\n",
    "            loss=tf.keras.losses.CategoricalCrossentropy(from_logits=True),\n",
    "            metrics=[\n",
    "                tf.keras.metrics.CategoricalAccuracy(),\n",
    "                func_precision,\n",
    "                func_recall,\n",
    "                func_f1\n",
    "            ],\n",
    "            run_eagerly = True\n",
    "        )\n",
    "        history = model.fit(tf_dataset_treino, epochs=epochs, use_multiprocessing=True)\n",
    "        loss, acc, precision, recall, f1 = model.evaluate(tf_dataset_teste, use_multiprocessing=True)\n",
    "        resultados.append(dict({\n",
    "            \"loss\" : loss,\n",
    "            \"accuracy\" : acc,\n",
    "            \"precision\" : precision,\n",
    "            \"recall\" : recall,\n",
    "            \"f1\" : f1\n",
    "        }))\n",
    "    with open(f\"{dir}{dir_resultado}{dataset_nome}.json\", \"w\") as arquivo:\n",
    "        json.dump(resultados, arquivo, indent=4)"
   ]
  },
  {
   "cell_type": "code",
   "execution_count": null,
   "metadata": {},
   "outputs": [],
   "source": []
  }
 ],
 "metadata": {
  "kernelspec": {
   "display_name": "Python 3",
   "language": "python",
   "name": "python3"
  },
  "language_info": {
   "codemirror_mode": {
    "name": "ipython",
    "version": 3
   },
   "file_extension": ".py",
   "mimetype": "text/x-python",
   "name": "python",
   "nbconvert_exporter": "python",
   "pygments_lexer": "ipython3",
   "version": "3.9.13"
  },
  "vscode": {
   "interpreter": {
    "hash": "8c6567b4a0b385df8abdfd302ad3b39b45fd5aade3f2daa246533e4b99d5affc"
   }
  }
 },
 "nbformat": 4,
 "nbformat_minor": 4
}
