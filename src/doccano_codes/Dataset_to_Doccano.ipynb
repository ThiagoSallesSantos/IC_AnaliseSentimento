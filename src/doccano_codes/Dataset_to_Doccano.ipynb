{
 "cells": [
  {
   "attachments": {},
   "cell_type": "markdown",
   "metadata": {},
   "source": [
    "## Import's"
   ]
  },
  {
   "cell_type": "code",
   "execution_count": 1,
   "metadata": {},
   "outputs": [],
   "source": [
    "from datasets import Dataset\n",
    "import json"
   ]
  },
  {
   "attachments": {},
   "cell_type": "markdown",
   "metadata": {},
   "source": [
    "## Constantes"
   ]
  },
  {
   "cell_type": "code",
   "execution_count": 2,
   "metadata": {},
   "outputs": [],
   "source": [
    "dir = \"../../\"\n",
    "dir_data = \"data/\"\n",
    "\n",
    "dir_dataset = \"datasets/dataset_twitter/\" ## Verificar caso a caso\n",
    "arquivo_alvo = \"dataset_twitter.json\" ## Verificar caso a caso\n",
    "\n",
    "qtd_dados = 34 ## Qtd de dados a serem selecionados para a rotulação\n",
    "\n",
    "dir_salvar_resultado = \"rotulacao/input/\"\n",
    "arquivo_resultado = f\"rotulando_dataset_twitter_{qtd_dados}.json\""
   ]
  },
  {
   "attachments": {},
   "cell_type": "markdown",
   "metadata": {},
   "source": [
    "## Lendo Dataset"
   ]
  },
  {
   "cell_type": "code",
   "execution_count": 3,
   "metadata": {},
   "outputs": [
    {
     "name": "stderr",
     "output_type": "stream",
     "text": [
      "Using custom data configuration default-e426caa0ca23640e\n"
     ]
    },
    {
     "name": "stdout",
     "output_type": "stream",
     "text": [
      "Downloading and preparing dataset json/default to /home/thiago/.cache/huggingface/datasets/json/default-e426caa0ca23640e/0.0.0...\n"
     ]
    },
    {
     "data": {
      "application/vnd.jupyter.widget-view+json": {
       "model_id": "b1f99e6fd7f44bfa9c64403d81bdae68",
       "version_major": 2,
       "version_minor": 0
      },
      "text/plain": [
       "Downloading data files:   0%|          | 0/1 [00:00<?, ?it/s]"
      ]
     },
     "metadata": {},
     "output_type": "display_data"
    },
    {
     "data": {
      "application/vnd.jupyter.widget-view+json": {
       "model_id": "1cc3cacdb3e249ba96253e676ca0a881",
       "version_major": 2,
       "version_minor": 0
      },
      "text/plain": [
       "Extracting data files:   0%|          | 0/1 [00:00<?, ?it/s]"
      ]
     },
     "metadata": {},
     "output_type": "display_data"
    },
    {
     "data": {
      "application/vnd.jupyter.widget-view+json": {
       "model_id": "b4f2e88ea2a84e6da99fcc555f747b20",
       "version_major": 2,
       "version_minor": 0
      },
      "text/plain": [
       "0 tables [00:00, ? tables/s]"
      ]
     },
     "metadata": {},
     "output_type": "display_data"
    },
    {
     "name": "stdout",
     "output_type": "stream",
     "text": [
      "Dataset json downloaded and prepared to /home/thiago/.cache/huggingface/datasets/json/default-e426caa0ca23640e/0.0.0. Subsequent calls will reuse this data.\n"
     ]
    }
   ],
   "source": [
    "dataset = Dataset.from_json(f\"{dir}{dir_data}{dir_dataset}{arquivo_alvo}\")"
   ]
  },
  {
   "cell_type": "code",
   "execution_count": 4,
   "metadata": {},
   "outputs": [
    {
     "data": {
      "text/plain": [
       "Dataset({\n",
       "    features: ['id', 'conversation_id', 'text', 'created_at', 'data_coleta', 'repetido', 'index', 'labels', 'labels_int', 'tweet_link'],\n",
       "    num_rows: 17766\n",
       "})"
      ]
     },
     "execution_count": 4,
     "metadata": {},
     "output_type": "execute_result"
    }
   ],
   "source": [
    "dataset"
   ]
  },
  {
   "attachments": {},
   "cell_type": "markdown",
   "metadata": {},
   "source": [
    "## Embaralhar Dados"
   ]
  },
  {
   "cell_type": "code",
   "execution_count": 5,
   "metadata": {},
   "outputs": [
    {
     "data": {
      "text/plain": [
       "{'id': 1432737868443697152,\n",
       " 'conversation_id': 1432737868443697152,\n",
       " 'text': 'https://t.co/CPT8QD00pU',\n",
       " 'created_at': '2021-08-31T16:11:41.000Z',\n",
       " 'data_coleta': '06/09/2021 23:29',\n",
       " 'repetido': False,\n",
       " 'index': 1,\n",
       " 'labels': None,\n",
       " 'labels_int': None,\n",
       " 'tweet_link': None}"
      ]
     },
     "execution_count": 5,
     "metadata": {},
     "output_type": "execute_result"
    }
   ],
   "source": [
    "dataset[0]"
   ]
  },
  {
   "cell_type": "code",
   "execution_count": 6,
   "metadata": {},
   "outputs": [],
   "source": [
    "dataset = dataset.shuffle()"
   ]
  },
  {
   "cell_type": "code",
   "execution_count": 7,
   "metadata": {},
   "outputs": [
    {
     "data": {
      "text/plain": [
       "{'id': 1288143651168825346,\n",
       " 'conversation_id': 1288143651168825346,\n",
       " 'text': '#Repost harmonieschnaps\\n• • • • • •\\nQual drink ou coquetel você vai preparar neste final de semana com sua Cachaça Harmonie Schnaps prata? 🤔\\n\\xa0\\xa0\\xa0\\xa0\\xa0\\xa0\\xa0\\xa0\\xa0\\nEste rótulo é ideal para a preparação de drinks, coquetéis e da… https://t.co/rjuG8e8vib',\n",
       " 'created_at': '2020-07-28T16:05:53.000Z',\n",
       " 'data_coleta': '06/09/2021 15:43',\n",
       " 'repetido': False,\n",
       " 'index': 7214,\n",
       " 'labels': None,\n",
       " 'labels_int': None,\n",
       " 'tweet_link': 'https://twitter.com/araraunacachaca/status/1288143651168825346'}"
      ]
     },
     "execution_count": 7,
     "metadata": {},
     "output_type": "execute_result"
    }
   ],
   "source": [
    "dataset[0]"
   ]
  },
  {
   "attachments": {},
   "cell_type": "markdown",
   "metadata": {},
   "source": [
    "## Pegando Dados Para a Rotulação"
   ]
  },
  {
   "cell_type": "code",
   "execution_count": 8,
   "metadata": {},
   "outputs": [],
   "source": [
    "dict_dados = list([])\n",
    "for dado in dataset:\n",
    "    if not dado[\"labels\"] and \"repetido\" in dataset.features and not dado[\"repetido\"]:\n",
    "        dict_dados.append({\"text\": dado[\"text\"], \"label\": [dado[\"labels\"]], \"index\": dado[\"index\"]})\n",
    "    if len(dict_dados) >= qtd_dados:\n",
    "        break"
   ]
  },
  {
   "cell_type": "code",
   "execution_count": 9,
   "metadata": {},
   "outputs": [
    {
     "data": {
      "text/plain": [
       "34"
      ]
     },
     "execution_count": 9,
     "metadata": {},
     "output_type": "execute_result"
    }
   ],
   "source": [
    "len(dict_dados)"
   ]
  },
  {
   "cell_type": "code",
   "execution_count": 10,
   "metadata": {},
   "outputs": [
    {
     "data": {
      "text/plain": [
       "[{'text': '#Repost harmonieschnaps\\n• • • • • •\\nQual drink ou coquetel você vai preparar neste final de semana com sua Cachaça Harmonie Schnaps prata? 🤔\\n\\xa0\\xa0\\xa0\\xa0\\xa0\\xa0\\xa0\\xa0\\xa0\\nEste rótulo é ideal para a preparação de drinks, coquetéis e da… https://t.co/rjuG8e8vib',\n",
       "  'label': [None],\n",
       "  'index': 7214},\n",
       " {'text': 'Cachaça feita na região.. #instagramopolis #cachaça #brazil #sãojoãodelrei @ Centro Histórico de São… http://t.co/y6P63n7cSZ',\n",
       "  'label': [None],\n",
       "  'index': 13983},\n",
       " {'text': 'Bomommm diaaa,minha gente...no 320 100% por cento a mil por hora!!!..Quebra tudo #bagaçeira !!...kkkkk....#Chuva #Cachaça #Churrasco #Filhos',\n",
       "  'label': [None],\n",
       "  'index': 12905},\n",
       " {'text': '181 de 365 - Cachaça Asa Branca Amburana: https://t.co/QfUc0U3ZzW via @YouTube',\n",
       "  'label': [None],\n",
       "  'index': 5299},\n",
       " {'text': 'Presentes dos meus alunos de final do ano...\\n\\n#beer #cerveja #cachaça #gooseipa #cachaçaseleta #presente #gift em São Bernardo do Campo, Brazil https://t.co/Zu5jfAS6v3',\n",
       "  'label': [None],\n",
       "  'index': 9252},\n",
       " {'text': '#Repost donaserraemporio (get_repost)\\n・・・\\n“Sapucaia”\\xa0é uma árvore majestosa, típica da Mata Atlantica. Produz sombra farta e castanhas utilizadas pelos índios desde a época do Brasil… https://t.co/YRPmUHoCzP',\n",
       "  'label': [None],\n",
       "  'index': 381},\n",
       " {'text': 'Passeio na cachaçaria Schnaps em Harmonia. #cachaça #premiada #brasileira #gaúcha #harmonia #rs @… http://t.co/jyu3VTmsF7',\n",
       "  'label': [None],\n",
       "  'index': 14119},\n",
       " {'text': 'Bom dia ;DD. Hoje tem *-* #CACHAÇA',\n",
       "  'label': [None],\n",
       "  'index': 15973},\n",
       " {'text': 'meu primo ta chegando amanhã de sp, vai dar merda #Cachaça #Friday #PT #PiscinaDoisMilLT',\n",
       "  'label': [None],\n",
       "  'index': 15404},\n",
       " {'text': 'Sexta com presente. Olha que charme esse mini alambique que ganhamos. 😍 Perto do nosso kit e da nossa… http://t.co/U4Cai0GzGN',\n",
       "  'label': [None],\n",
       "  'index': 17605},\n",
       " {'text': 'Mais loucos que o Batman aqui na Festa da Cachaça aqui em Abreus-MG.\\nQue delicia.\\nDedicimos beber só da Cachaça Leite de Onça (Menta), que é pra não misturar.\\n🥃\\n\\n#Abreus\\n#Friends\\n#Cachaça \\n#FestaDaCachaca em Festa… https://t.co/CRKjVglWAw',\n",
       "  'label': [None],\n",
       "  'index': 9698},\n",
       " {'text': 'A inspiração vem de dentro! #Jameson\\nhttp://t.co/qeARyljF2T http://t.co/WYzIDkQNYq',\n",
       "  'label': [None],\n",
       "  'index': 1886},\n",
       " {'text': 'Parabéns São Paulo, nós te 💜 #cachaça #cachaçawiba #saopaulo https://t.co/ecWP2r2QBn',\n",
       "  'label': [None],\n",
       "  'index': 16974},\n",
       " {'text': 'Expocachaça 2012\\nLocal: Mercado Municipal de São Paulo\\nDe 04 a 09 de setembro http://t.co/uMcfSHXB',\n",
       "  'label': [None],\n",
       "  'index': 8338},\n",
       " {'text': 'Expoingá começa agora dia 06, não se esqueça de tomar uma Caiprinha Companheira por lá.',\n",
       "  'label': [None],\n",
       "  'index': 8417},\n",
       " {'text': 'Que tal começar tomar um bom Whisky para esquentar esse frio?\\nWhisky Buchanan´s - por apenas R$ 116,60 em até 6x... http://t.co/6tfYS7t4qX',\n",
       "  'label': [None],\n",
       "  'index': 1934},\n",
       " {'text': 'Compre Vodka Absolut Apeach 1000 ml. por apenas R$ 67,80 ou 6x sem juros na Bebida Online http://t.co/Nuj5gLwF',\n",
       "  'label': [None],\n",
       "  'index': 3330},\n",
       " {'text': 'Releitura do Mojito com a nossa WIBA! Branca do barnabeoficial. Só de olhar refresca!\\n.\\nFeito pelo grande robertocarvalho_oficial \\n.\\n#cachaça\\n#cachaçawiba\\n#mojito\\n#instadrink em Barnabé Restaurante e Cachaçaria https://t.co/CRAkYdS6mP',\n",
       "  'label': [None],\n",
       "  'index': 16558},\n",
       " {'text': 'Haunger Games!!!!\\n#saopaulo #sp  #home #happy #family #domingo #pinga-amor #lasanha #gordices #love… http://t.co/rgcNwCtJMv',\n",
       "  'label': [None],\n",
       "  'index': 13825},\n",
       " {'text': 'Vêm novidades por aí! Mais uma vez agradecemos ao Zeca da Prodrinks, escola de Bartenders, por nos ter… http://t.co/yReZ3PQw6G',\n",
       "  'label': [None],\n",
       "  'index': 17606},\n",
       " {'text': 'Cachaça Sebastiana - Seleção do ClubeCN - Janeiro/2018 - https://t.co/pmgJyYzeTG: https://t.co/chZcFslezS via @YouTube',\n",
       "  'label': [None],\n",
       "  'index': 6231},\n",
       " {'text': 'Compre Vinho Chateau La Croix Meunier 750 ml. por apenas R$ 154,40 ou 6x sem juros na Bebida Online http://t.co/Nuj5gLwF',\n",
       "  'label': [None],\n",
       "  'index': 2571},\n",
       " {'text': 'Adivinhe.\\n#cachaça \\n#cerveja em Barreiras, Bahia, Brazil https://t.co/1XPJ3SboIA',\n",
       "  'label': [None],\n",
       "  'index': 10018},\n",
       " {'text': '163 de 365 - Cachaça Cabaré Ouro: https://t.co/XZ2KjeQHtb via @YouTube',\n",
       "  'label': [None],\n",
       "  'index': 5336},\n",
       " {'text': 'Acabou de publicar uma foto em Empório Cachaça Canela-de-Ema https://t.co/o5zJ5a8dos',\n",
       "  'label': [None],\n",
       "  'index': 133},\n",
       " {'text': 'Bom dia, e uma ótima semana, que Deus nós abençoe.\\n.\\n.\\n.\\n.\\n.\\n.\\n.\\n.\\n.\\n.\\n#rodeio #cavalgadas #cavalgada #vaquejadas #rozeta #cowgirl #cowboy #agro #muladeiros #bruto #brutos #brutas #velhobarreiro #cachaça #roça… https://t.co/XpYwCF27V6',\n",
       "  'label': [None],\n",
       "  'index': 9094},\n",
       " {'text': '@_queirozcarol só tá um pouco alta .... UHASUHSUAHSAUHASUHSAHSAHU #cachaça',\n",
       "  'label': [None],\n",
       "  'index': 15196},\n",
       " {'text': 'E o domingão começou daquele jeiito ! #concreto #Sono #Preguiça #Cachaça @ parque imperial http://t.co/MrFzbR3R7T',\n",
       "  'label': [None],\n",
       "  'index': 14514},\n",
       " {'text': 'E hoje o dia em nosso alambique foi repleto de gente boa e muitos aprendizados. Recemos: Barbocoa… https://t.co/IKuJAnuyWc',\n",
       "  'label': [None],\n",
       "  'index': 17287},\n",
       " {'text': 'Vocês sabem quem sou eu? Alo alo graças a Deus, sou a Triunfo com Abacaxi e Limão #cachaca #drink @… http://t.co/OaphJF0Isa',\n",
       "  'label': [None],\n",
       "  'index': 14685},\n",
       " {'text': 'Compre Espumante Salton Evidence Brut 750 ml. por apenas R$ 45,00 ou 6x sem juros na Bebida Online http://t.co/Nuj5gLwF',\n",
       "  'label': [None],\n",
       "  'index': 3135},\n",
       " {'text': 'Compre Licor Weber Haus Chocolate 375 ml. por apenas R$ 25,20 ou 6x sem juros na Bebida Online http://t.co/Nuj5gLwF',\n",
       "  'label': [None],\n",
       "  'index': 2708},\n",
       " {'text': 'Rum Velho Flórida.  #floridarum #rum @rumvelho #rumenvelhecido #brazilianrum #rumdobrasil #florida #sapucaia #cachacasapucaia  foto: @FERNANDOAR https://t.co/4h0buoWQia',\n",
       "  'label': [None],\n",
       "  'index': 328},\n",
       " {'text': 'Status: Aguardando mais um final de semana épico! #tropkillaz #pinga #farra #foguete #epic #nailia… https://t.co/DdDsSXQEho',\n",
       "  'label': [None],\n",
       "  'index': 12253}]"
      ]
     },
     "execution_count": 10,
     "metadata": {},
     "output_type": "execute_result"
    }
   ],
   "source": [
    "dict_dados"
   ]
  },
  {
   "attachments": {},
   "cell_type": "markdown",
   "metadata": {},
   "source": [
    "## Salvando"
   ]
  },
  {
   "cell_type": "code",
   "execution_count": 11,
   "metadata": {},
   "outputs": [],
   "source": [
    "with open(f\"{dir}{dir_data}{dir_salvar_resultado}{arquivo_resultado}\", \"w\") as arquivo:\n",
    "    json.dump(dict_dados, arquivo, indent=4)\n",
    "    arquivo.close()"
   ]
  },
  {
   "cell_type": "code",
   "execution_count": null,
   "metadata": {},
   "outputs": [],
   "source": []
  }
 ],
 "metadata": {
  "kernelspec": {
   "display_name": "Python 3",
   "language": "python",
   "name": "python3"
  },
  "language_info": {
   "codemirror_mode": {
    "name": "ipython",
    "version": 3
   },
   "file_extension": ".py",
   "mimetype": "text/x-python",
   "name": "python",
   "nbconvert_exporter": "python",
   "pygments_lexer": "ipython3",
   "version": "3.9.13"
  },
  "orig_nbformat": 4,
  "vscode": {
   "interpreter": {
    "hash": "8c6567b4a0b385df8abdfd302ad3b39b45fd5aade3f2daa246533e4b99d5affc"
   }
  }
 },
 "nbformat": 4,
 "nbformat_minor": 2
}
