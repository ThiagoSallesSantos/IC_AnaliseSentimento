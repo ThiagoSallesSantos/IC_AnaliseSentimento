{
 "cells": [
  {
   "attachments": {},
   "cell_type": "markdown",
   "metadata": {},
   "source": [
    "## Import's"
   ]
  },
  {
   "cell_type": "code",
   "execution_count": 1,
   "metadata": {},
   "outputs": [],
   "source": [
    "from datasets import Dataset\n",
    "import json"
   ]
  },
  {
   "attachments": {},
   "cell_type": "markdown",
   "metadata": {},
   "source": [
    "## Constantes"
   ]
  },
  {
   "cell_type": "code",
   "execution_count": 2,
   "metadata": {},
   "outputs": [],
   "source": [
    "dir = \"../../\"\n",
    "dir_data = \"data/\"\n",
    "\n",
    "dir_dataset = \"datasets/dataset_facebook/\" ## Verificar caso a caso\n",
    "arquivo_alvo = \"dataset_facebook.json\" ## Verificar caso a caso\n",
    "\n",
    "qtd_dados = 12 ## Qtd de dados a serem selecionados para a rotulação\n",
    "\n",
    "dir_salvar_resultado = \"rotulacao/input/\"\n",
    "arquivo_resultado = f\"rotulando_dataset_facebook_{qtd_dados}.json\""
   ]
  },
  {
   "attachments": {},
   "cell_type": "markdown",
   "metadata": {},
   "source": [
    "## Lendo Dataset"
   ]
  },
  {
   "cell_type": "code",
   "execution_count": 3,
   "metadata": {},
   "outputs": [
    {
     "name": "stderr",
     "output_type": "stream",
     "text": [
      "Using custom data configuration default-8e199b03a0aa1a84\n"
     ]
    },
    {
     "name": "stdout",
     "output_type": "stream",
     "text": [
      "Downloading and preparing dataset json/default to /home/thiago/.cache/huggingface/datasets/json/default-8e199b03a0aa1a84/0.0.0...\n"
     ]
    },
    {
     "data": {
      "application/vnd.jupyter.widget-view+json": {
       "model_id": "927490c05c9c4cc6a4222de8cae47fed",
       "version_major": 2,
       "version_minor": 0
      },
      "text/plain": [
       "Downloading data files:   0%|          | 0/1 [00:00<?, ?it/s]"
      ]
     },
     "metadata": {},
     "output_type": "display_data"
    },
    {
     "data": {
      "application/vnd.jupyter.widget-view+json": {
       "model_id": "20f62c63b6454d0ca1df483c08abe5ed",
       "version_major": 2,
       "version_minor": 0
      },
      "text/plain": [
       "Extracting data files:   0%|          | 0/1 [00:00<?, ?it/s]"
      ]
     },
     "metadata": {},
     "output_type": "display_data"
    },
    {
     "data": {
      "application/vnd.jupyter.widget-view+json": {
       "model_id": "6413783740af4841b8b4be3f629f00d3",
       "version_major": 2,
       "version_minor": 0
      },
      "text/plain": [
       "0 tables [00:00, ? tables/s]"
      ]
     },
     "metadata": {},
     "output_type": "display_data"
    },
    {
     "name": "stdout",
     "output_type": "stream",
     "text": [
      "Dataset json downloaded and prepared to /home/thiago/.cache/huggingface/datasets/json/default-8e199b03a0aa1a84/0.0.0. Subsequent calls will reuse this data.\n"
     ]
    }
   ],
   "source": [
    "dataset = Dataset.from_json(f\"{dir}{dir_data}{dir_dataset}{arquivo_alvo}\")"
   ]
  },
  {
   "cell_type": "code",
   "execution_count": 4,
   "metadata": {},
   "outputs": [
    {
     "data": {
      "text/plain": [
       "Dataset({\n",
       "    features: ['created_time', 'text', 'permalink_url', 'id_post', 'dataset_origem', 'repetido', 'labels', 'labels_int', 'index'],\n",
       "    num_rows: 34620\n",
       "})"
      ]
     },
     "execution_count": 4,
     "metadata": {},
     "output_type": "execute_result"
    }
   ],
   "source": [
    "dataset"
   ]
  },
  {
   "attachments": {},
   "cell_type": "markdown",
   "metadata": {},
   "source": [
    "## Embaralhar Dados"
   ]
  },
  {
   "cell_type": "code",
   "execution_count": 5,
   "metadata": {},
   "outputs": [
    {
     "data": {
      "text/plain": [
       "{'created_time': '2021-07-08T22:29:49+0000',\n",
       " 'text': 'É um whisky pra quem não entende nada de whisky, me bloquearam no Instagram por falar a verdade sobre whiskys, empresa piada, sei que logo vai apagar meu comentário aqui também. Pra todos que verem esse meu comentário, saiba que não recomendo a casa das bebidas, a Amazon tem muito mais variedade e preço!! Fui',\n",
       " 'permalink_url': 'https://www.facebook.com/120086268098178/posts/4083651658408266/?comment_id=4163733760400055',\n",
       " 'id_post': '120086268098178_4083651658408266',\n",
       " 'dataset_origem': 'extracao_comentarios_pagina_casadabebida.csv',\n",
       " 'repetido': False,\n",
       " 'labels': None,\n",
       " 'labels_int': None,\n",
       " 'index': 0}"
      ]
     },
     "execution_count": 5,
     "metadata": {},
     "output_type": "execute_result"
    }
   ],
   "source": [
    "dataset[0]"
   ]
  },
  {
   "cell_type": "code",
   "execution_count": 6,
   "metadata": {},
   "outputs": [],
   "source": [
    "dataset = dataset.shuffle()"
   ]
  },
  {
   "cell_type": "code",
   "execution_count": 7,
   "metadata": {},
   "outputs": [
    {
     "data": {
      "text/plain": [
       "{'created_time': '2019-05-03T22:59:54+0000',\n",
       " 'text': 'Cezar Costa',\n",
       " 'permalink_url': 'https://www.facebook.com/678132495559046/posts/2450709714967973/?comment_id=2450785791627032',\n",
       " 'id_post': '678132495559046_2450709714967973',\n",
       " 'dataset_origem': 'extracao_comentarios_pagina_domtapparoengenho.csv',\n",
       " 'repetido': False,\n",
       " 'labels': None,\n",
       " 'labels_int': None,\n",
       " 'index': 7569}"
      ]
     },
     "execution_count": 7,
     "metadata": {},
     "output_type": "execute_result"
    }
   ],
   "source": [
    "dataset[0]"
   ]
  },
  {
   "attachments": {},
   "cell_type": "markdown",
   "metadata": {},
   "source": [
    "## Pegando Dados Para a Rotulação"
   ]
  },
  {
   "cell_type": "code",
   "execution_count": 8,
   "metadata": {},
   "outputs": [],
   "source": [
    "dict_dados = list([])\n",
    "for dado in dataset:\n",
    "    if not dado[\"labels\"] and \"repetido\" in dataset.features and not dado[\"repetido\"]:\n",
    "        dict_dados.append({\"text\": dado[\"text\"], \"label\": [dado[\"labels\"]], \"index\": dado[\"index\"]})\n",
    "    if len(dict_dados) >= qtd_dados:\n",
    "        break"
   ]
  },
  {
   "cell_type": "code",
   "execution_count": 9,
   "metadata": {},
   "outputs": [
    {
     "data": {
      "text/plain": [
       "12"
      ]
     },
     "execution_count": 9,
     "metadata": {},
     "output_type": "execute_result"
    }
   ],
   "source": [
    "len(dict_dados)"
   ]
  },
  {
   "attachments": {},
   "cell_type": "markdown",
   "metadata": {},
   "source": [
    "## Salvando"
   ]
  },
  {
   "cell_type": "code",
   "execution_count": 10,
   "metadata": {},
   "outputs": [],
   "source": [
    "with open(f\"{dir}{dir_data}{dir_salvar_resultado}{arquivo_resultado}\", \"w\") as arquivo:\n",
    "    json.dump(dict_dados, arquivo, indent=4)\n",
    "    arquivo.close()"
   ]
  },
  {
   "cell_type": "code",
   "execution_count": null,
   "metadata": {},
   "outputs": [],
   "source": []
  }
 ],
 "metadata": {
  "kernelspec": {
   "display_name": "Python 3",
   "language": "python",
   "name": "python3"
  },
  "language_info": {
   "codemirror_mode": {
    "name": "ipython",
    "version": 3
   },
   "file_extension": ".py",
   "mimetype": "text/x-python",
   "name": "python",
   "nbconvert_exporter": "python",
   "pygments_lexer": "ipython3",
   "version": "3.9.13"
  },
  "orig_nbformat": 4,
  "vscode": {
   "interpreter": {
    "hash": "8c6567b4a0b385df8abdfd302ad3b39b45fd5aade3f2daa246533e4b99d5affc"
   }
  }
 },
 "nbformat": 4,
 "nbformat_minor": 2
}
