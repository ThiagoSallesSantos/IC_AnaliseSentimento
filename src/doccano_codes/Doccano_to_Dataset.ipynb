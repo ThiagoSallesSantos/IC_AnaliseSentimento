{
 "cells": [
  {
   "attachments": {},
   "cell_type": "markdown",
   "metadata": {},
   "source": [
    "## Imports"
   ]
  },
  {
   "cell_type": "code",
   "execution_count": 1,
   "metadata": {},
   "outputs": [],
   "source": [
    "from datasets import Dataset\n",
    "from keras.utils.np_utils import to_categorical"
   ]
  },
  {
   "attachments": {},
   "cell_type": "markdown",
   "metadata": {},
   "source": [
    "## Constantes"
   ]
  },
  {
   "cell_type": "code",
   "execution_count": 2,
   "metadata": {},
   "outputs": [],
   "source": [
    "dir = \"../../\"\n",
    "dir_data = \"data/\"\n",
    "dir_rotulacao = \"rotulacao/result/\"\n",
    "\n",
    "arquivo_result = \"facebook_200-03-02-2023.json\" ## Verificar caso a caso\n",
    "\n",
    "dir_dataset = \"datasets/dataset_facebook/\"## Verificar caso a caso\n",
    "dataset_name = \"dataset_concatenate_facebook.json\" ## Verificar caso a caso"
   ]
  },
  {
   "attachments": {},
   "cell_type": "markdown",
   "metadata": {},
   "source": [
    "## Lendo Resultados"
   ]
  },
  {
   "cell_type": "code",
   "execution_count": 3,
   "metadata": {},
   "outputs": [
    {
     "name": "stderr",
     "output_type": "stream",
     "text": [
      "Using custom data configuration default-a69e7c21fc397bc9\n",
      "Found cached dataset json (/home/thiago/.cache/huggingface/datasets/json/default-a69e7c21fc397bc9/0.0.0)\n"
     ]
    }
   ],
   "source": [
    "resultado_doccano = Dataset.from_json(f\"{dir}{dir_data}{dir_rotulacao}{arquivo_result}\")"
   ]
  },
  {
   "cell_type": "code",
   "execution_count": 4,
   "metadata": {},
   "outputs": [
    {
     "data": {
      "text/plain": [
       "Dataset({\n",
       "    features: ['id', 'text', 'index', 'label', 'Comments'],\n",
       "    num_rows: 200\n",
       "})"
      ]
     },
     "execution_count": 4,
     "metadata": {},
     "output_type": "execute_result"
    }
   ],
   "source": [
    "resultado_doccano"
   ]
  },
  {
   "attachments": {},
   "cell_type": "markdown",
   "metadata": {},
   "source": [
    "## Lendo Dataset"
   ]
  },
  {
   "cell_type": "code",
   "execution_count": 5,
   "metadata": {},
   "outputs": [
    {
     "name": "stderr",
     "output_type": "stream",
     "text": [
      "Using custom data configuration default-919784d60fd56bf4\n",
      "Found cached dataset json (/home/thiago/.cache/huggingface/datasets/json/default-919784d60fd56bf4/0.0.0)\n"
     ]
    }
   ],
   "source": [
    "dataset = Dataset.from_json(f\"{dir}{dir_data}{dir_dataset}{dataset_name}\")"
   ]
  },
  {
   "cell_type": "code",
   "execution_count": 6,
   "metadata": {},
   "outputs": [
    {
     "data": {
      "text/plain": [
       "Dataset({\n",
       "    features: ['created_time', 'message', 'permalink_url', 'id_post', 'dataset_origem', 'index'],\n",
       "    num_rows: 34620\n",
       "})"
      ]
     },
     "execution_count": 6,
     "metadata": {},
     "output_type": "execute_result"
    }
   ],
   "source": [
    "dataset"
   ]
  },
  {
   "attachments": {},
   "cell_type": "markdown",
   "metadata": {},
   "source": [
    "## Prepara Dados Resultados"
   ]
  },
  {
   "cell_type": "code",
   "execution_count": 7,
   "metadata": {},
   "outputs": [
    {
     "data": {
      "text/plain": [
       "{'id': Value(dtype='int64', id=None),\n",
       " 'text': Value(dtype='string', id=None),\n",
       " 'index': Value(dtype='int64', id=None),\n",
       " 'label': Sequence(feature=Value(dtype='string', id=None), length=-1, id=None),\n",
       " 'Comments': Sequence(feature=Value(dtype='null', id=None), length=-1, id=None)}"
      ]
     },
     "execution_count": 7,
     "metadata": {},
     "output_type": "execute_result"
    }
   ],
   "source": [
    "resultado_doccano.features"
   ]
  },
  {
   "attachments": {},
   "cell_type": "markdown",
   "metadata": {},
   "source": [
    "### Remover Colunas Desnecessárias (opcional)"
   ]
  },
  {
   "cell_type": "code",
   "execution_count": 8,
   "metadata": {},
   "outputs": [],
   "source": [
    "resultado_doccano = resultado_doccano.remove_columns([\"id\", \"text\", \"Comments\"])"
   ]
  },
  {
   "attachments": {},
   "cell_type": "markdown",
   "metadata": {},
   "source": [
    "### Arrumar Colunas de Label"
   ]
  },
  {
   "cell_type": "code",
   "execution_count": 9,
   "metadata": {},
   "outputs": [
    {
     "name": "stderr",
     "output_type": "stream",
     "text": [
      "Loading cached processed dataset at /home/thiago/.cache/huggingface/datasets/json/default-a69e7c21fc397bc9/0.0.0/cache-c3022cda3fadb16c.arrow\n"
     ]
    }
   ],
   "source": [
    "def arruma_label(data):\n",
    "    valor = 0\n",
    "    if \"Neutro\" in data[\"label\"]:\n",
    "        valor = 1\n",
    "    elif \"Positivo\" in data[\"label\"]:\n",
    "        valor = 2\n",
    "    data[\"label\"] = to_categorical(valor, num_classes=3)\n",
    "    return data\n",
    "resultado_doccano = resultado_doccano.map(arruma_label)"
   ]
  },
  {
   "cell_type": "code",
   "execution_count": 10,
   "metadata": {},
   "outputs": [
    {
     "data": {
      "text/plain": [
       "{'index': Value(dtype='int64', id=None),\n",
       " 'label': Sequence(feature=Value(dtype='float32', id=None), length=-1, id=None)}"
      ]
     },
     "execution_count": 10,
     "metadata": {},
     "output_type": "execute_result"
    }
   ],
   "source": [
    "resultado_doccano.features"
   ]
  },
  {
   "attachments": {},
   "cell_type": "markdown",
   "metadata": {},
   "source": [
    "## Prepara Dados Dataset"
   ]
  },
  {
   "cell_type": "code",
   "execution_count": 11,
   "metadata": {},
   "outputs": [
    {
     "data": {
      "text/plain": [
       "{'created_time': Value(dtype='string', id=None),\n",
       " 'message': Value(dtype='string', id=None),\n",
       " 'permalink_url': Value(dtype='string', id=None),\n",
       " 'id_post': Value(dtype='string', id=None),\n",
       " 'dataset_origem': Value(dtype='string', id=None),\n",
       " 'index': Value(dtype='int64', id=None)}"
      ]
     },
     "execution_count": 11,
     "metadata": {},
     "output_type": "execute_result"
    }
   ],
   "source": [
    "dataset.features"
   ]
  },
  {
   "attachments": {},
   "cell_type": "markdown",
   "metadata": {},
   "source": [
    "### Adiciona a coluna de \"label\""
   ]
  },
  {
   "cell_type": "code",
   "execution_count": 12,
   "metadata": {},
   "outputs": [],
   "source": [
    "if \"label\" not in dataset.features:\n",
    "    dataset = dataset.add_column(\"label\", [None] * len(dataset))"
   ]
  },
  {
   "cell_type": "code",
   "execution_count": 13,
   "metadata": {},
   "outputs": [
    {
     "data": {
      "text/plain": [
       "{'created_time': Value(dtype='string', id=None),\n",
       " 'message': Value(dtype='string', id=None),\n",
       " 'permalink_url': Value(dtype='string', id=None),\n",
       " 'id_post': Value(dtype='string', id=None),\n",
       " 'dataset_origem': Value(dtype='string', id=None),\n",
       " 'index': Value(dtype='int64', id=None),\n",
       " 'label': Value(dtype='null', id=None)}"
      ]
     },
     "execution_count": 13,
     "metadata": {},
     "output_type": "execute_result"
    }
   ],
   "source": [
    "dataset.features"
   ]
  },
  {
   "attachments": {},
   "cell_type": "markdown",
   "metadata": {},
   "source": [
    "## Merge - Dataset & Result Doccano"
   ]
  },
  {
   "attachments": {},
   "cell_type": "markdown",
   "metadata": {},
   "source": [
    "### Convertendo result Doccano para Dict"
   ]
  },
  {
   "cell_type": "code",
   "execution_count": 14,
   "metadata": {},
   "outputs": [],
   "source": [
    "dict_resultado_doccano = dict({dado[\"index\"] : dado[\"label\"] for dado in resultado_doccano})"
   ]
  },
  {
   "attachments": {},
   "cell_type": "markdown",
   "metadata": {},
   "source": [
    "### Merge"
   ]
  },
  {
   "cell_type": "code",
   "execution_count": 15,
   "metadata": {},
   "outputs": [
    {
     "name": "stderr",
     "output_type": "stream",
     "text": [
      "Loading cached processed dataset at /home/thiago/.cache/huggingface/datasets/json/default-919784d60fd56bf4/0.0.0/cache-77009f12d96f26f8.arrow\n"
     ]
    }
   ],
   "source": [
    "def merge(data):\n",
    "    if data[\"index\"] in dict_resultado_doccano.keys():\n",
    "        data[\"label\"] = dict_resultado_doccano[data[\"index\"]]\n",
    "    return data\n",
    "dataset = dataset.map(merge)"
   ]
  },
  {
   "attachments": {},
   "cell_type": "markdown",
   "metadata": {},
   "source": [
    "## Salvando Dataset"
   ]
  },
  {
   "cell_type": "code",
   "execution_count": 16,
   "metadata": {},
   "outputs": [
    {
     "data": {
      "application/vnd.jupyter.widget-view+json": {
       "model_id": "c68498d6abb24422819399332a0d887f",
       "version_major": 2,
       "version_minor": 0
      },
      "text/plain": [
       "Creating json from Arrow format:   0%|          | 0/4 [00:00<?, ?ba/s]"
      ]
     },
     "metadata": {},
     "output_type": "display_data"
    },
    {
     "data": {
      "text/plain": [
       "12978948"
      ]
     },
     "execution_count": 16,
     "metadata": {},
     "output_type": "execute_result"
    }
   ],
   "source": [
    "dataset.to_json(f\"{dir}{dir_data}{dir_dataset}{dataset_name}\")"
   ]
  },
  {
   "cell_type": "code",
   "execution_count": null,
   "metadata": {},
   "outputs": [],
   "source": []
  }
 ],
 "metadata": {
  "kernelspec": {
   "display_name": "Python 3",
   "language": "python",
   "name": "python3"
  },
  "language_info": {
   "codemirror_mode": {
    "name": "ipython",
    "version": 3
   },
   "file_extension": ".py",
   "mimetype": "text/x-python",
   "name": "python",
   "nbconvert_exporter": "python",
   "pygments_lexer": "ipython3",
   "version": "3.9.13"
  },
  "orig_nbformat": 4,
  "vscode": {
   "interpreter": {
    "hash": "8c6567b4a0b385df8abdfd302ad3b39b45fd5aade3f2daa246533e4b99d5affc"
   }
  }
 },
 "nbformat": 4,
 "nbformat_minor": 2
}
