{
 "cells": [
  {
   "attachments": {},
   "cell_type": "markdown",
   "metadata": {},
   "source": [
    "## Imports"
   ]
  },
  {
   "cell_type": "code",
   "execution_count": 37,
   "metadata": {},
   "outputs": [],
   "source": [
    "from datasets import Dataset\n",
    "from keras.utils.np_utils import to_categorical"
   ]
  },
  {
   "attachments": {},
   "cell_type": "markdown",
   "metadata": {},
   "source": [
    "## Constantes"
   ]
  },
  {
   "cell_type": "code",
   "execution_count": 38,
   "metadata": {},
   "outputs": [],
   "source": [
    "dir = \"../../\"\n",
    "dir_data = \"data/\"\n",
    "dir_rotulacao = \"rotulacao/result/\"\n",
    "\n",
    "arquivo_result = \"facebook_12.json\" ## Verificar caso a caso\n",
    "\n",
    "dir_dataset = \"datasets/dataset_facebook/\"## Verificar caso a caso\n",
    "dataset_name = \"dataset_facebook.json\" ## Verificar caso a caso"
   ]
  },
  {
   "attachments": {},
   "cell_type": "markdown",
   "metadata": {},
   "source": [
    "## Lendo Resultados"
   ]
  },
  {
   "cell_type": "code",
   "execution_count": 39,
   "metadata": {},
   "outputs": [
    {
     "name": "stderr",
     "output_type": "stream",
     "text": [
      "Using custom data configuration default-8c2f5157974dfc06\n",
      "Found cached dataset json (/home/thiago/.cache/huggingface/datasets/json/default-8c2f5157974dfc06/0.0.0)\n"
     ]
    }
   ],
   "source": [
    "resultado_doccano = Dataset.from_json(f\"{dir}{dir_data}{dir_rotulacao}{arquivo_result}\")"
   ]
  },
  {
   "cell_type": "code",
   "execution_count": 40,
   "metadata": {},
   "outputs": [
    {
     "data": {
      "text/plain": [
       "Dataset({\n",
       "    features: ['id', 'text', 'index', 'label', 'Comments'],\n",
       "    num_rows: 12\n",
       "})"
      ]
     },
     "execution_count": 40,
     "metadata": {},
     "output_type": "execute_result"
    }
   ],
   "source": [
    "resultado_doccano"
   ]
  },
  {
   "attachments": {},
   "cell_type": "markdown",
   "metadata": {},
   "source": [
    "## Lendo Dataset"
   ]
  },
  {
   "cell_type": "code",
   "execution_count": 41,
   "metadata": {},
   "outputs": [
    {
     "name": "stderr",
     "output_type": "stream",
     "text": [
      "Using custom data configuration default-f68307eca29a7ccb\n"
     ]
    },
    {
     "name": "stdout",
     "output_type": "stream",
     "text": [
      "Downloading and preparing dataset json/default to /home/thiago/.cache/huggingface/datasets/json/default-f68307eca29a7ccb/0.0.0...\n"
     ]
    },
    {
     "data": {
      "application/vnd.jupyter.widget-view+json": {
       "model_id": "a3ddbf88bb1e4f1a83f6d0f4cc5f43d2",
       "version_major": 2,
       "version_minor": 0
      },
      "text/plain": [
       "Downloading data files:   0%|          | 0/1 [00:00<?, ?it/s]"
      ]
     },
     "metadata": {},
     "output_type": "display_data"
    },
    {
     "data": {
      "application/vnd.jupyter.widget-view+json": {
       "model_id": "f9a21c0eeaf34d4280ca40a7fec146b0",
       "version_major": 2,
       "version_minor": 0
      },
      "text/plain": [
       "Extracting data files:   0%|          | 0/1 [00:00<?, ?it/s]"
      ]
     },
     "metadata": {},
     "output_type": "display_data"
    },
    {
     "data": {
      "application/vnd.jupyter.widget-view+json": {
       "model_id": "9f1f0aec6a5642fc97aebecebefca272",
       "version_major": 2,
       "version_minor": 0
      },
      "text/plain": [
       "0 tables [00:00, ? tables/s]"
      ]
     },
     "metadata": {},
     "output_type": "display_data"
    },
    {
     "name": "stdout",
     "output_type": "stream",
     "text": [
      "Dataset json downloaded and prepared to /home/thiago/.cache/huggingface/datasets/json/default-f68307eca29a7ccb/0.0.0. Subsequent calls will reuse this data.\n"
     ]
    }
   ],
   "source": [
    "dataset = Dataset.from_json(f\"{dir}{dir_data}{dir_dataset}{dataset_name}\")"
   ]
  },
  {
   "cell_type": "code",
   "execution_count": 42,
   "metadata": {},
   "outputs": [
    {
     "data": {
      "text/plain": [
       "Dataset({\n",
       "    features: ['created_time', 'text', 'permalink_url', 'id_post', 'dataset_origem', 'repetido', 'labels', 'labels_int', 'index'],\n",
       "    num_rows: 34620\n",
       "})"
      ]
     },
     "execution_count": 42,
     "metadata": {},
     "output_type": "execute_result"
    }
   ],
   "source": [
    "dataset"
   ]
  },
  {
   "attachments": {},
   "cell_type": "markdown",
   "metadata": {},
   "source": [
    "## Prepara Dados Resultados"
   ]
  },
  {
   "cell_type": "code",
   "execution_count": 43,
   "metadata": {},
   "outputs": [
    {
     "data": {
      "text/plain": [
       "{'id': Value(dtype='int64', id=None),\n",
       " 'text': Value(dtype='string', id=None),\n",
       " 'index': Value(dtype='int64', id=None),\n",
       " 'label': Sequence(feature=Value(dtype='string', id=None), length=-1, id=None),\n",
       " 'Comments': Sequence(feature=Value(dtype='null', id=None), length=-1, id=None)}"
      ]
     },
     "execution_count": 43,
     "metadata": {},
     "output_type": "execute_result"
    }
   ],
   "source": [
    "resultado_doccano.features"
   ]
  },
  {
   "attachments": {},
   "cell_type": "markdown",
   "metadata": {},
   "source": [
    "### Arrumar Colunas de Label"
   ]
  },
  {
   "cell_type": "code",
   "execution_count": 44,
   "metadata": {},
   "outputs": [],
   "source": [
    "resultado_doccano = resultado_doccano.add_column(\"labels_int\", [None] * len(resultado_doccano))"
   ]
  },
  {
   "cell_type": "code",
   "execution_count": 45,
   "metadata": {},
   "outputs": [
    {
     "name": "stderr",
     "output_type": "stream",
     "text": [
      "Loading cached processed dataset at /home/thiago/.cache/huggingface/datasets/json/default-8c2f5157974dfc06/0.0.0/cache-14160a2952510aeb.arrow\n"
     ]
    }
   ],
   "source": [
    "def arruma_label(data):\n",
    "    valor = 0\n",
    "    if \"Neutro\" in data[\"label\"]:\n",
    "        valor = 1\n",
    "    elif \"Positivo\" in data[\"label\"]:\n",
    "        valor = 2\n",
    "    data[\"label\"] = to_categorical(valor, num_classes=3)\n",
    "    data[\"labels_int\"] = valor\n",
    "    return data\n",
    "resultado_doccano = resultado_doccano.map(arruma_label)"
   ]
  },
  {
   "cell_type": "code",
   "execution_count": 46,
   "metadata": {},
   "outputs": [
    {
     "data": {
      "text/plain": [
       "{'id': Value(dtype='int64', id=None),\n",
       " 'text': Value(dtype='string', id=None),\n",
       " 'index': Value(dtype='int64', id=None),\n",
       " 'label': Sequence(feature=Value(dtype='float32', id=None), length=-1, id=None),\n",
       " 'Comments': Sequence(feature=Value(dtype='null', id=None), length=-1, id=None),\n",
       " 'labels_int': Value(dtype='int64', id=None)}"
      ]
     },
     "execution_count": 46,
     "metadata": {},
     "output_type": "execute_result"
    }
   ],
   "source": [
    "resultado_doccano.features"
   ]
  },
  {
   "attachments": {},
   "cell_type": "markdown",
   "metadata": {},
   "source": [
    "## Prepara Dados Dataset"
   ]
  },
  {
   "cell_type": "code",
   "execution_count": 47,
   "metadata": {},
   "outputs": [
    {
     "data": {
      "text/plain": [
       "{'created_time': Value(dtype='string', id=None),\n",
       " 'text': Value(dtype='string', id=None),\n",
       " 'permalink_url': Value(dtype='string', id=None),\n",
       " 'id_post': Value(dtype='string', id=None),\n",
       " 'dataset_origem': Value(dtype='string', id=None),\n",
       " 'repetido': Value(dtype='bool', id=None),\n",
       " 'labels': Sequence(feature=Value(dtype='float64', id=None), length=-1, id=None),\n",
       " 'labels_int': Value(dtype='float64', id=None),\n",
       " 'index': Value(dtype='int64', id=None)}"
      ]
     },
     "execution_count": 47,
     "metadata": {},
     "output_type": "execute_result"
    }
   ],
   "source": [
    "dataset.features"
   ]
  },
  {
   "attachments": {},
   "cell_type": "markdown",
   "metadata": {},
   "source": [
    "### Adiciona a coluna de \"label\""
   ]
  },
  {
   "cell_type": "code",
   "execution_count": 48,
   "metadata": {},
   "outputs": [],
   "source": [
    "if \"labels\" not in dataset.features:\n",
    "    dataset = dataset.add_column(\"labels\", [None] * len(dataset))\n",
    "    dataset = dataset.add_column(\"labels_int\", [None] * len(dataset))"
   ]
  },
  {
   "cell_type": "code",
   "execution_count": 49,
   "metadata": {},
   "outputs": [
    {
     "data": {
      "text/plain": [
       "{'created_time': Value(dtype='string', id=None),\n",
       " 'text': Value(dtype='string', id=None),\n",
       " 'permalink_url': Value(dtype='string', id=None),\n",
       " 'id_post': Value(dtype='string', id=None),\n",
       " 'dataset_origem': Value(dtype='string', id=None),\n",
       " 'repetido': Value(dtype='bool', id=None),\n",
       " 'labels': Sequence(feature=Value(dtype='float64', id=None), length=-1, id=None),\n",
       " 'labels_int': Value(dtype='float64', id=None),\n",
       " 'index': Value(dtype='int64', id=None)}"
      ]
     },
     "execution_count": 49,
     "metadata": {},
     "output_type": "execute_result"
    }
   ],
   "source": [
    "dataset.features"
   ]
  },
  {
   "attachments": {},
   "cell_type": "markdown",
   "metadata": {},
   "source": [
    "## Merge - Dataset & Result Doccano"
   ]
  },
  {
   "attachments": {},
   "cell_type": "markdown",
   "metadata": {},
   "source": [
    "### Convertendo result Doccano para Dict"
   ]
  },
  {
   "cell_type": "code",
   "execution_count": 50,
   "metadata": {},
   "outputs": [],
   "source": [
    "dict_resultado_doccano = dict({dado[\"index\"] : [dado[\"label\"], dado[\"labels_int\"], dado[\"text\"]] for dado in resultado_doccano})"
   ]
  },
  {
   "attachments": {},
   "cell_type": "markdown",
   "metadata": {},
   "source": [
    "### Merge"
   ]
  },
  {
   "cell_type": "code",
   "execution_count": 51,
   "metadata": {},
   "outputs": [
    {
     "data": {
      "application/vnd.jupyter.widget-view+json": {
       "model_id": "a8f7d85ea3e34917bd9fbf64d148d044",
       "version_major": 2,
       "version_minor": 0
      },
      "text/plain": [
       "  0%|          | 0/34620 [00:00<?, ?ex/s]"
      ]
     },
     "metadata": {},
     "output_type": "display_data"
    }
   ],
   "source": [
    "def merge(data):\n",
    "    if data[\"index\"] in dict_resultado_doccano.keys() and not data[\"repetido\"]:\n",
    "        data[\"labels\"] = dict_resultado_doccano[data[\"index\"]][0]\n",
    "        data[\"labels_int\"] = dict_resultado_doccano[data[\"index\"]][1]\n",
    "        # print(f\"texto doccano: {dict_resultado_doccano[data['index']][2]}\")\n",
    "        # print(f\"texto dataset: {data['text']}\")\n",
    "        # print(\"-----------------------------------\")\n",
    "    return data\n",
    "dataset = dataset.map(merge)"
   ]
  },
  {
   "attachments": {},
   "cell_type": "markdown",
   "metadata": {},
   "source": [
    "## Salvando Dataset"
   ]
  },
  {
   "cell_type": "code",
   "execution_count": 52,
   "metadata": {},
   "outputs": [
    {
     "data": {
      "application/vnd.jupyter.widget-view+json": {
       "model_id": "4ff7cacfb935449a84cf6822efbac4b0",
       "version_major": 2,
       "version_minor": 0
      },
      "text/plain": [
       "Creating json from Arrow format:   0%|          | 0/4 [00:00<?, ?ba/s]"
      ]
     },
     "metadata": {},
     "output_type": "display_data"
    },
    {
     "data": {
      "text/plain": [
       "14128029"
      ]
     },
     "execution_count": 52,
     "metadata": {},
     "output_type": "execute_result"
    }
   ],
   "source": [
    "dataset.to_json(f\"{dir}{dir_data}{dir_dataset}{dataset_name}\")"
   ]
  },
  {
   "attachments": {},
   "cell_type": "markdown",
   "metadata": {},
   "source": [
    "## Testes"
   ]
  },
  {
   "cell_type": "code",
   "execution_count": 53,
   "metadata": {},
   "outputs": [
    {
     "name": "stdout",
     "output_type": "stream",
     "text": [
      "Counter({None: 33417, 1.0: 593, 2.0: 579, 0.0: 31})\n"
     ]
    }
   ],
   "source": [
    "from collections import Counter\n",
    "print(Counter(dataset[\"labels_int\"]))"
   ]
  },
  {
   "cell_type": "code",
   "execution_count": 54,
   "metadata": {},
   "outputs": [
    {
     "data": {
      "application/vnd.jupyter.widget-view+json": {
       "model_id": "db86b78c4bab4c72993050545373fd96",
       "version_major": 2,
       "version_minor": 0
      },
      "text/plain": [
       "  0%|          | 0/35 [00:00<?, ?ba/s]"
      ]
     },
     "metadata": {},
     "output_type": "display_data"
    },
    {
     "name": "stdout",
     "output_type": "stream",
     "text": [
      "Counter({None: 180})\n"
     ]
    }
   ],
   "source": [
    "if \"repetido\" in dataset.features:\n",
    "    dataset_repetido = dataset.filter(lambda data: data[\"repetido\"])\n",
    "    print(Counter(dataset_repetido[\"labels_int\"]))"
   ]
  },
  {
   "cell_type": "markdown",
   "metadata": {},
   "source": [
    "### Remover"
   ]
  },
  {
   "cell_type": "code",
   "execution_count": 55,
   "metadata": {},
   "outputs": [],
   "source": [
    "texto_remover = \"\""
   ]
  },
  {
   "cell_type": "code",
   "execution_count": 56,
   "metadata": {},
   "outputs": [
    {
     "data": {
      "application/vnd.jupyter.widget-view+json": {
       "model_id": "296f2cad8a234f3c85a92e710a391ac5",
       "version_major": 2,
       "version_minor": 0
      },
      "text/plain": [
       "  0%|          | 0/34620 [00:00<?, ?ex/s]"
      ]
     },
     "metadata": {},
     "output_type": "display_data"
    },
    {
     "name": "stdout",
     "output_type": "stream",
     "text": [
      "Removeu labels do texto: Nesta meu figo ta morto\n"
     ]
    }
   ],
   "source": [
    "def remover_labels_by_texto(data, texto_remover: str, coluna: str):\n",
    "    if texto_remover in data[coluna] and data[\"labels\"]:\n",
    "        data[\"labels\"] = None\n",
    "        data[\"labels_int\"] = None\n",
    "        print(f\"Removeu labels do texto: {data[coluna]}\")\n",
    "    return data\n",
    "\n",
    "dataset = dataset.map(lambda data: remover_labels_by_texto(data, texto_remover, \"text\"))\n"
   ]
  },
  {
   "cell_type": "code",
   "execution_count": null,
   "metadata": {},
   "outputs": [],
   "source": []
  }
 ],
 "metadata": {
  "kernelspec": {
   "display_name": "Python 3",
   "language": "python",
   "name": "python3"
  },
  "language_info": {
   "codemirror_mode": {
    "name": "ipython",
    "version": 3
   },
   "file_extension": ".py",
   "mimetype": "text/x-python",
   "name": "python",
   "nbconvert_exporter": "python",
   "pygments_lexer": "ipython3",
   "version": "3.9.13"
  },
  "orig_nbformat": 4,
  "vscode": {
   "interpreter": {
    "hash": "8c6567b4a0b385df8abdfd302ad3b39b45fd5aade3f2daa246533e4b99d5affc"
   }
  }
 },
 "nbformat": 4,
 "nbformat_minor": 2
}
