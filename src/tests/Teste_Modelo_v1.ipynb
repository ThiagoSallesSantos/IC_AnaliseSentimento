{
 "cells": [
  {
   "cell_type": "markdown",
   "metadata": {
    "id": "q4D_9tPRe7TF"
   },
   "source": [
    "# Teste de Tensorflow - GPU"
   ]
  },
  {
   "cell_type": "code",
   "execution_count": 1,
   "metadata": {},
   "outputs": [
    {
     "name": "stderr",
     "output_type": "stream",
     "text": [
      "2023-01-25 16:28:52.725201: I tensorflow/stream_executor/cuda/cuda_gpu_executor.cc:939] successful NUMA node read from SysFS had negative value (-1), but there must be at least one NUMA node, so returning NUMA node zero\n",
      "2023-01-25 16:28:52.731272: I tensorflow/stream_executor/cuda/cuda_gpu_executor.cc:939] successful NUMA node read from SysFS had negative value (-1), but there must be at least one NUMA node, so returning NUMA node zero\n",
      "2023-01-25 16:28:52.731382: I tensorflow/stream_executor/cuda/cuda_gpu_executor.cc:939] successful NUMA node read from SysFS had negative value (-1), but there must be at least one NUMA node, so returning NUMA node zero\n",
      "2023-01-25 16:28:52.731431: W tensorflow/core/common_runtime/gpu/gpu_device.cc:1953] TensorFlow was not built with CUDA kernel binaries compatible with compute capability 8.6. CUDA kernels will be jit-compiled from PTX, which could take 30 minutes or longer.\n"
     ]
    },
    {
     "data": {
      "text/plain": [
       "'Tem GPU'"
      ]
     },
     "execution_count": 1,
     "metadata": {},
     "output_type": "execute_result"
    }
   ],
   "source": [
    "import tensorflow as tf\n",
    "\n",
    "lista_gpu = tf.config.list_physical_devices(\"GPU\")\n",
    "\"Tem GPU\" if lista_gpu else \"Não tem GPU\""
   ]
  },
  {
   "cell_type": "code",
   "execution_count": 2,
   "metadata": {},
   "outputs": [],
   "source": [
    "for gpu in lista_gpu:\n",
    "    tf.config.experimental.set_memory_growth(gpu, True)"
   ]
  },
  {
   "cell_type": "markdown",
   "metadata": {},
   "source": [
    "# Import's"
   ]
  },
  {
   "cell_type": "code",
   "execution_count": null,
   "metadata": {},
   "outputs": [],
   "source": [
    "import tensorflow as tf\n",
    "from datasets import Dataset, concatenate_datasets\n",
    "from transformers import AutoTokenizer\n",
    "from transformers import TFAutoModelForSequenceClassification\n",
    "from transformers import create_optimizer\n",
    "from keras import backend as K\n",
    "from keras.utils.np_utils import to_categorical\n",
    "import numpy as np\n",
    "import json"
   ]
  },
  {
   "cell_type": "markdown",
   "metadata": {},
   "source": [
    "## Lendo Dataset"
   ]
  },
  {
   "cell_type": "code",
   "execution_count": null,
   "metadata": {
    "id": "KM7wnorwdf5h"
   },
   "outputs": [],
   "source": [
    "# dataset = Dataset.from_csv(\"../../data/datasets/dataset_e-commerce/olist.csv\")\n",
    "dataset = Dataset.from_json(\"../../data/dataset_olist.json\")"
   ]
  },
  {
   "cell_type": "code",
   "execution_count": null,
   "metadata": {},
   "outputs": [],
   "source": [
    "dataset"
   ]
  },
  {
   "cell_type": "markdown",
   "metadata": {},
   "source": [
    "## Renomeando as colunas do dataset"
   ]
  },
  {
   "cell_type": "code",
   "execution_count": null,
   "metadata": {
    "id": "P_1-cxWqn_wc"
   },
   "outputs": [],
   "source": [
    "dataset = dataset.rename_column(\"review_text\", \"text\")\n",
    "dataset = dataset.rename_column(\"polarity\", \"labels\")\n",
    "dataset = dataset.rename_column(\"kfold_polarity\", \"grupos\")"
   ]
  },
  {
   "cell_type": "code",
   "execution_count": null,
   "metadata": {},
   "outputs": [],
   "source": [
    "dataset"
   ]
  },
  {
   "cell_type": "markdown",
   "metadata": {},
   "source": [
    "## Covertendo os resultados para int"
   ]
  },
  {
   "cell_type": "code",
   "execution_count": null,
   "metadata": {},
   "outputs": [],
   "source": [
    "dataset.features"
   ]
  },
  {
   "cell_type": "code",
   "execution_count": null,
   "metadata": {
    "id": "s1UzBkdqpPZ3"
   },
   "outputs": [],
   "source": [
    "novo_tipo = dataset.features.copy()\n",
    "novo_tipo[\"labels\"] = Value(\"int32\")\n",
    "dataset = dataset.cast(novo_tipo)"
   ]
  },
  {
   "cell_type": "code",
   "execution_count": null,
   "metadata": {
    "colab": {
     "base_uri": "https://localhost:8080/",
     "height": 424
    },
    "id": "scnbHpann_d0",
    "outputId": "8c51c40e-8777-4174-a678-a5b1cde479cd"
   },
   "outputs": [],
   "source": [
    "dataset.features"
   ]
  },
  {
   "cell_type": "markdown",
   "metadata": {},
   "source": [
    "## Quantidade de label's"
   ]
  },
  {
   "cell_type": "code",
   "execution_count": null,
   "metadata": {},
   "outputs": [],
   "source": [
    "set(dataset[\"labels\"])\n"
   ]
  },
  {
   "cell_type": "markdown",
   "metadata": {},
   "source": [
    "## Modelo"
   ]
  },
  {
   "cell_type": "code",
   "execution_count": null,
   "metadata": {
    "id": "gVj1eEwsfWfO"
   },
   "outputs": [],
   "source": [
    "model_id = 'neuralmind/bert-base-portuguese-cased'"
   ]
  },
  {
   "cell_type": "markdown",
   "metadata": {},
   "source": [
    "### Baixando o tokenizador"
   ]
  },
  {
   "cell_type": "code",
   "execution_count": null,
   "metadata": {
    "id": "wZ3ouIdJiRBv"
   },
   "outputs": [],
   "source": [
    "tokenizer = AutoTokenizer.from_pretrained(model_id)"
   ]
  },
  {
   "cell_type": "markdown",
   "metadata": {},
   "source": [
    "### Baixando o modelo"
   ]
  },
  {
   "cell_type": "code",
   "execution_count": null,
   "metadata": {
    "colab": {
     "base_uri": "https://localhost:8080/"
    },
    "id": "LTM6QSukiRvg",
    "outputId": "22f87a3c-5bd6-44b3-e5d2-7d3574f833b2"
   },
   "outputs": [],
   "source": [
    "model = TFAutoModelForSequenceClassification.from_pretrained(model_id, num_labels=2)"
   ]
  },
  {
   "cell_type": "markdown",
   "metadata": {},
   "source": [
    "### Tokenizando as entradas"
   ]
  },
  {
   "cell_type": "code",
   "execution_count": null,
   "metadata": {
    "colab": {
     "base_uri": "https://localhost:8080/",
     "height": 49,
     "referenced_widgets": [
      "e78ed83c6f0c4742808f69ededd7259b",
      "e589583f3df145bbba1c3c6c2ae22180",
      "807f9b5e0df6454ba0f90d7ce5e025b0",
      "756c9c690e51408f9fe5c89d78e31b9b",
      "5596a59f87cb4e6c88d12eb5eaa2d405",
      "20872db935934032b41f881d8b6d7b3f",
      "c742438d9aa64261b8da34bf8b9abdbc",
      "fe20ac50287d46ac9d54c2b4883a028b",
      "d5242ae2bdc543418a4679375e15ef99",
      "12308f30bf8343e2ad3a9dbb8c253296",
      "928e9d9ff0f5469885b04836316e02fc"
     ]
    },
    "id": "P36c_Jk6iR1t",
    "outputId": "8cc67401-6abe-48df-cc13-616812c298c0"
   },
   "outputs": [],
   "source": [
    "def tokenize_dataset(data):\n",
    "    return tokenizer(data[\"text\"], padding=True, return_tensors=\"tf\")\n",
    "\n",
    "dataset = dataset.map(tokenize_dataset, batched=True)"
   ]
  },
  {
   "cell_type": "code",
   "execution_count": null,
   "metadata": {},
   "outputs": [],
   "source": [
    "dataset.features"
   ]
  },
  {
   "attachments": {},
   "cell_type": "markdown",
   "metadata": {},
   "source": [
    "## Filtrando Dataset"
   ]
  },
  {
   "cell_type": "code",
   "execution_count": null,
   "metadata": {},
   "outputs": [],
   "source": [
    "set(dataset[\"labels\"])"
   ]
  },
  {
   "cell_type": "code",
   "execution_count": null,
   "metadata": {},
   "outputs": [],
   "source": [
    "dataset = dataset.filter(lambda x: x[\"labels\"] is not None)"
   ]
  },
  {
   "cell_type": "code",
   "execution_count": null,
   "metadata": {},
   "outputs": [],
   "source": [
    "set(dataset[\"labels\"])"
   ]
  },
  {
   "cell_type": "markdown",
   "metadata": {},
   "source": [
    "## Transformando os labels"
   ]
  },
  {
   "cell_type": "code",
   "execution_count": null,
   "metadata": {},
   "outputs": [],
   "source": [
    "labels_lista = to_categorical(dataset[\"labels\"])"
   ]
  },
  {
   "cell_type": "code",
   "execution_count": null,
   "metadata": {},
   "outputs": [],
   "source": [
    "len(labels_lista)"
   ]
  },
  {
   "cell_type": "code",
   "execution_count": null,
   "metadata": {},
   "outputs": [],
   "source": [
    "dataset = dataset.add_column(\"label\", labels_lista.tolist())"
   ]
  },
  {
   "cell_type": "code",
   "execution_count": null,
   "metadata": {},
   "outputs": [],
   "source": [
    "dataset.features"
   ]
  },
  {
   "cell_type": "code",
   "execution_count": null,
   "metadata": {},
   "outputs": [],
   "source": [
    "dataset[\"labels\"]"
   ]
  },
  {
   "cell_type": "code",
   "execution_count": null,
   "metadata": {},
   "outputs": [],
   "source": [
    "dataset[\"label\"]"
   ]
  },
  {
   "cell_type": "markdown",
   "metadata": {},
   "source": [
    "## Dividindo os dados"
   ]
  },
  {
   "cell_type": "code",
   "execution_count": null,
   "metadata": {},
   "outputs": [],
   "source": [
    "def group_by(dataset):\n",
    "    lista_grupos = []\n",
    "    for grupo in set(dataset[\"grupos\"]):\n",
    "        lista_grupos.append(dataset.filter(lambda x: x[\"grupos\"]==grupo))\n",
    "    return lista_grupos"
   ]
  },
  {
   "cell_type": "code",
   "execution_count": null,
   "metadata": {},
   "outputs": [],
   "source": [
    "dataset_lista = group_by(dataset)"
   ]
  },
  {
   "cell_type": "code",
   "execution_count": null,
   "metadata": {},
   "outputs": [],
   "source": [
    "len(dataset_lista)"
   ]
  },
  {
   "cell_type": "code",
   "execution_count": null,
   "metadata": {},
   "outputs": [],
   "source": [
    "dataset_lista[0].features"
   ]
  },
  {
   "cell_type": "markdown",
   "metadata": {},
   "source": [
    "### Metricas"
   ]
  },
  {
   "cell_type": "code",
   "execution_count": null,
   "metadata": {},
   "outputs": [],
   "source": [
    "def func_precision(y_true, y_pred):\n",
    "    y_pred = np.argmax(y_pred.numpy(), axis=1)\n",
    "    y_true = np.argmax(y_true.numpy(), axis=1)\n",
    "    precision = tf.keras.metrics.Precision()\n",
    "    precision.update_state(y_true, y_pred)\n",
    "    return precision.result().numpy()\n",
    "\n",
    "def func_recall(y_true, y_pred):\n",
    "    y_pred = np.argmax(y_pred.numpy(), axis=1)\n",
    "    y_true = np.argmax(y_true.numpy(), axis=1)\n",
    "    recall = tf.keras.metrics.Recall()\n",
    "    recall.update_state(y_true, y_pred)\n",
    "    return recall.result().numpy()\n",
    "\n",
    "def func_f1(y_true, y_pred):\n",
    "    precision = func_precision(y_true, y_pred)\n",
    "    recall = func_recall(y_true, y_pred)\n",
    "    return 2*((precision*recall)/(precision+recall+K.epsilon()))"
   ]
  },
  {
   "cell_type": "markdown",
   "metadata": {},
   "source": [
    "### Configurações"
   ]
  },
  {
   "cell_type": "code",
   "execution_count": null,
   "metadata": {},
   "outputs": [],
   "source": [
    "num_batchs = 16\n",
    "num_epochs = 3\n",
    "num_train_steps = (len(dataset_lista[0])  // num_batchs) * num_epochs\n",
    "optimizer, lr_schedule = create_optimizer(\n",
    "    init_lr=2e-5,\n",
    "    num_train_steps=num_train_steps,\n",
    "    weight_decay_rate=0.01,\n",
    "    num_warmup_steps=0,\n",
    ")"
   ]
  },
  {
   "cell_type": "code",
   "execution_count": null,
   "metadata": {},
   "outputs": [],
   "source": [
    "optimizer"
   ]
  },
  {
   "cell_type": "code",
   "execution_count": null,
   "metadata": {},
   "outputs": [],
   "source": [
    "lr_schedule"
   ]
  },
  {
   "attachments": {},
   "cell_type": "markdown",
   "metadata": {},
   "source": [
    "## Removendo Colunas"
   ]
  },
  {
   "cell_type": "code",
   "execution_count": null,
   "metadata": {},
   "outputs": [],
   "source": [
    "for index, dataset in enumerate(dataset_lista):\n",
    "    # dataset_lista[index] = dataset.remove_columns([\"original_index\", \"text\", \"review_text_processed\", \"review_text_tokenized\", \"labels\", \"rating\", \"grupos\", \"kfold_rating\"])\n",
    "    dataset_lista[index] = dataset.remove_columns([\"text\", \"group\"])"
   ]
  },
  {
   "cell_type": "code",
   "execution_count": null,
   "metadata": {},
   "outputs": [],
   "source": [
    "dataset_lista[0].features"
   ]
  },
  {
   "cell_type": "markdown",
   "metadata": {},
   "source": [
    "### Treinando o modelo"
   ]
  },
  {
   "cell_type": "code",
   "execution_count": null,
   "metadata": {
    "colab": {
     "base_uri": "https://localhost:8080/",
     "height": 402
    },
    "id": "zdiZlZB0iR_K",
    "outputId": "d86544f7-b333-48a6-8a04-32092aa42927"
   },
   "outputs": [],
   "source": [
    "resultados = []\n",
    "\n",
    "for index, dataset in enumerate(dataset_lista):\n",
    "    ## Treino\n",
    "    dataset_treino = dataset_lista[:index]\n",
    "    dataset_treino += dataset_lista[index+1:]\n",
    "    dataset_treino = concatenate_datasets(dataset_treino)\n",
    "    print(dataset_treino)\n",
    "    tf_dataset_treino = model.prepare_tf_dataset(dataset_treino.select(range(1000)), batch_size=num_batchs, shuffle=True, tokenizer=tokenizer)\n",
    "    ## Teste\n",
    "    tf_dataset_teste = model.prepare_tf_dataset(dataset.select(range(100)), batch_size=num_batchs, shuffle=True, tokenizer=tokenizer)\n",
    "    ## Modelo\n",
    "    model.compile(\n",
    "        optimizer=optimizer,\n",
    "        loss=tf.keras.losses.CategoricalCrossentropy(from_logits=True),\n",
    "        metrics=[\n",
    "            tf.keras.metrics.CategoricalAccuracy(),\n",
    "            func_precision,\n",
    "            func_recall,\n",
    "            func_f1\n",
    "        ],\n",
    "        run_eagerly = True\n",
    "    )\n",
    "    history = model.fit(tf_dataset_treino, use_multiprocessing=True)\n",
    "    # loss, acc, precision, recall, f1 = model.evaluate(tf_dataset_teste, use_multiprocessing=True)"
   ]
  },
  {
   "cell_type": "code",
   "execution_count": null,
   "metadata": {},
   "outputs": [],
   "source": [
    "resultados"
   ]
  },
  {
   "cell_type": "markdown",
   "metadata": {},
   "source": [
    "### Salvando o resultado"
   ]
  },
  {
   "cell_type": "code",
   "execution_count": null,
   "metadata": {
    "id": "faFuW7eWiSIj"
   },
   "outputs": [],
   "source": [
    "with open(\"../resultados.json\", \"w\") as arquivo:\n",
    "    json.dump(resultados, arquivo, indent=4)"
   ]
  },
  {
   "cell_type": "code",
   "execution_count": null,
   "metadata": {},
   "outputs": [],
   "source": []
  }
 ],
 "metadata": {
  "kernelspec": {
   "display_name": "Python 3",
   "language": "python",
   "name": "python3"
  },
  "language_info": {
   "codemirror_mode": {
    "name": "ipython",
    "version": 3
   },
   "file_extension": ".py",
   "mimetype": "text/x-python",
   "name": "python",
   "nbconvert_exporter": "python",
   "pygments_lexer": "ipython3",
   "version": "3.9.13 | packaged by conda-forge | (main, May 27 2022, 16:56:21) \n[GCC 10.3.0]"
  },
  "vscode": {
   "interpreter": {
    "hash": "8c6567b4a0b385df8abdfd302ad3b39b45fd5aade3f2daa246533e4b99d5affc"
   }
  }
 },
 "nbformat": 4,
 "nbformat_minor": 4
}
