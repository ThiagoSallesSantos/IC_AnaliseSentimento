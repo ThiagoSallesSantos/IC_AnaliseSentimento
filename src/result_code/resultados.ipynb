{
 "cells": [
  {
   "cell_type": "markdown",
   "metadata": {},
   "source": [
    "## Import's"
   ]
  },
  {
   "cell_type": "code",
   "execution_count": 13,
   "metadata": {},
   "outputs": [],
   "source": [
    "import json\n",
    "import os"
   ]
  },
  {
   "cell_type": "markdown",
   "metadata": {},
   "source": [
    "## Constantes"
   ]
  },
  {
   "cell_type": "code",
   "execution_count": 39,
   "metadata": {},
   "outputs": [],
   "source": [
    "dir = \"../../\"\n",
    "dir_result = \"results/\"\n",
    "fonte = \"twitter\"\n",
    "dir_result_espec = f\"cachaca/{fonte}/\"\n",
    "\n",
    "qtd_batchs = 16\n",
    "modelo_pesos = f\"resultados_modelo_{qtd_batchs}\"\n",
    "tipo_arq = \".json\"\n",
    "\n",
    "casas_decimais = 3"
   ]
  },
  {
   "cell_type": "markdown",
   "metadata": {},
   "source": [
    "## Lendo Resultados"
   ]
  },
  {
   "cell_type": "code",
   "execution_count": 40,
   "metadata": {},
   "outputs": [
    {
     "name": "stdout",
     "output_type": "stream",
     "text": [
      "Modelo & Acurácia & Precisão & Revocação & F1-Score \\\\ \\hline \\hline\n",
      "b2w & 0,877 & 0,886 & 0,981 & 0,931 \\\\ \\hline\n",
      "utlc\\textunderscore movies & 0,828 & 0,842 & 0,981 & 0,906 \\\\ \\hline\n",
      "olist & 0,902 & 0,91 & 0,981 & 0,944 \\\\ \\hline\n",
      "utlc\\textunderscore apps & 0,869 & 0,866 & 1,0 & 0,928 \\\\ \\hline\n",
      "twitter\\textunderscore ASBR & 0,918 & 0,927 & 0,981 & 0,953 \\\\ \\hline\n"
     ]
    }
   ],
   "source": [
    "print(\"Modelo & Acurácia & Precisão & Revocação & F1-Score \\\\\\\\ \\\\hline \\\\hline\")\n",
    "for arq in os.listdir(f\"{dir}{dir_result}{dir_result_espec}\"):\n",
    "    if str(qtd_batchs) in arq and arq.endswith(tipo_arq):\n",
    "        with open(f\"{dir}{dir_result}{dir_result_espec}{arq}\", \"r\") as resultado:\n",
    "            dados = json.load(resultado)[0]\n",
    "            text = f'{arq[21:-7]} & {round(dados[\"accuracy\"], casas_decimais)} & {round(dados[\"precision\"], casas_decimais)} & {round(dados[\"recall\"], casas_decimais)} & {round(dados[\"f1\"], casas_decimais)} \\\\\\\\ \\\\hline'\n",
    "            print(text.replace(\"_\", \"\\\\textunderscore \").replace(\".\", \",\"))\n"
   ]
  },
  {
   "cell_type": "code",
   "execution_count": null,
   "metadata": {},
   "outputs": [],
   "source": []
  }
 ],
 "metadata": {
  "kernelspec": {
   "display_name": "Python 3",
   "language": "python",
   "name": "python3"
  },
  "language_info": {
   "codemirror_mode": {
    "name": "ipython",
    "version": 3
   },
   "file_extension": ".py",
   "mimetype": "text/x-python",
   "name": "python",
   "nbconvert_exporter": "python",
   "pygments_lexer": "ipython3",
   "version": "3.9.13"
  },
  "orig_nbformat": 4
 },
 "nbformat": 4,
 "nbformat_minor": 2
}
