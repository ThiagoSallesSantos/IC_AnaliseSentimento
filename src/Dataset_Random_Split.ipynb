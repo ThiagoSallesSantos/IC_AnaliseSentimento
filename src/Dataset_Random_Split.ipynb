{
 "cells": [
  {
   "attachments": {},
   "cell_type": "markdown",
   "metadata": {},
   "source": [
    "## Import's"
   ]
  },
  {
   "cell_type": "code",
   "execution_count": 1,
   "metadata": {},
   "outputs": [],
   "source": [
    "from datasets import Dataset"
   ]
  },
  {
   "attachments": {},
   "cell_type": "markdown",
   "metadata": {},
   "source": [
    "## Constantes"
   ]
  },
  {
   "cell_type": "code",
   "execution_count": 2,
   "metadata": {},
   "outputs": [],
   "source": [
    "dir = \"../\"\n",
    "dir_dataset = \"data/\"\n",
    "arquivo_alvo = \"dataset_concatenate.json\"\n",
    "\n",
    "dir_especifico = \"datasets/dataset_facebook/\" ## Verificar caso a caso\n",
    "\n",
    "qtd_dados = 200 ## Qtd de dados a serem selecionados para a rotulação\n",
    "\n",
    "dir_salvar_resultado = \"rotulacao/datasets/\"\n",
    "\n",
    "arquivo_resultado = f\"rotulando_{arquivo_alvo}\""
   ]
  },
  {
   "attachments": {},
   "cell_type": "markdown",
   "metadata": {},
   "source": [
    "## Lendo Dataset"
   ]
  },
  {
   "cell_type": "code",
   "execution_count": 3,
   "metadata": {},
   "outputs": [
    {
     "name": "stderr",
     "output_type": "stream",
     "text": [
      "Using custom data configuration default-c4f9e5d7ad347d22\n"
     ]
    },
    {
     "name": "stdout",
     "output_type": "stream",
     "text": [
      "Downloading and preparing dataset json/default to /home/thiago/.cache/huggingface/datasets/json/default-c4f9e5d7ad347d22/0.0.0...\n"
     ]
    },
    {
     "data": {
      "application/vnd.jupyter.widget-view+json": {
       "model_id": "6b76e5722ec54cc19aae8443ddc95a6c",
       "version_major": 2,
       "version_minor": 0
      },
      "text/plain": [
       "Downloading data files:   0%|          | 0/1 [00:00<?, ?it/s]"
      ]
     },
     "metadata": {},
     "output_type": "display_data"
    },
    {
     "data": {
      "application/vnd.jupyter.widget-view+json": {
       "model_id": "46c92a2610aa44759b3e9f415404cba2",
       "version_major": 2,
       "version_minor": 0
      },
      "text/plain": [
       "Extracting data files:   0%|          | 0/1 [00:00<?, ?it/s]"
      ]
     },
     "metadata": {},
     "output_type": "display_data"
    },
    {
     "data": {
      "application/vnd.jupyter.widget-view+json": {
       "model_id": "0cb35b5f046540a1ab36843e09328084",
       "version_major": 2,
       "version_minor": 0
      },
      "text/plain": [
       "0 tables [00:00, ? tables/s]"
      ]
     },
     "metadata": {},
     "output_type": "display_data"
    },
    {
     "name": "stdout",
     "output_type": "stream",
     "text": [
      "Dataset json downloaded and prepared to /home/thiago/.cache/huggingface/datasets/json/default-c4f9e5d7ad347d22/0.0.0. Subsequent calls will reuse this data.\n"
     ]
    }
   ],
   "source": [
    "dataset = Dataset.from_json(f\"{dir}{dir_dataset}{dir_especifico}{arquivo_alvo}\")"
   ]
  },
  {
   "attachments": {},
   "cell_type": "markdown",
   "metadata": {},
   "source": [
    "## Verificando Dataset"
   ]
  },
  {
   "cell_type": "code",
   "execution_count": 4,
   "metadata": {},
   "outputs": [
    {
     "data": {
      "text/plain": [
       "Dataset({\n",
       "    features: ['Unnamed: 0', 'created_time', 'message', 'permalink_url', 'id_post', 'dataset_origem'],\n",
       "    num_rows: 34620\n",
       "})"
      ]
     },
     "execution_count": 4,
     "metadata": {},
     "output_type": "execute_result"
    }
   ],
   "source": [
    "dataset"
   ]
  },
  {
   "attachments": {},
   "cell_type": "markdown",
   "metadata": {},
   "source": [
    "## Embaralhar Dados"
   ]
  },
  {
   "cell_type": "code",
   "execution_count": 5,
   "metadata": {},
   "outputs": [
    {
     "data": {
      "text/plain": [
       "{'Unnamed: 0': 0,\n",
       " 'created_time': '2021-07-08T22:29:49+0000',\n",
       " 'message': 'É um whisky pra quem não entende nada de whisky, me bloquearam no Instagram por falar a verdade sobre whiskys, empresa piada, sei que logo vai apagar meu comentário aqui também. Pra todos que verem esse meu comentário, saiba que não recomendo a casa das bebidas, a Amazon tem muito mais variedade e preço!! Fui',\n",
       " 'permalink_url': 'https://www.facebook.com/120086268098178/posts/4083651658408266/?comment_id=4163733760400055',\n",
       " 'id_post': '120086268098178_4083651658408266',\n",
       " 'dataset_origem': 'extracao_comentarios_pagina_casadabebida.csv'}"
      ]
     },
     "execution_count": 5,
     "metadata": {},
     "output_type": "execute_result"
    }
   ],
   "source": [
    "dataset[0]"
   ]
  },
  {
   "cell_type": "code",
   "execution_count": 6,
   "metadata": {},
   "outputs": [],
   "source": [
    "dataset = dataset.shuffle()"
   ]
  },
  {
   "cell_type": "code",
   "execution_count": 7,
   "metadata": {},
   "outputs": [
    {
     "data": {
      "text/plain": [
       "{'Unnamed: 0': 2275,\n",
       " 'created_time': '2020-01-17T00:45:43+0000',\n",
       " 'message': 'Isabella Lopes',\n",
       " 'permalink_url': 'https://www.facebook.com/403465119681680/posts/3212609728767191/?comment_id=3217371674957663',\n",
       " 'id_post': '403465119681680_3212609728767191',\n",
       " 'dataset_origem': 'extracao_comentarios_pagina_CachacaCompanheira.csv'}"
      ]
     },
     "execution_count": 7,
     "metadata": {},
     "output_type": "execute_result"
    }
   ],
   "source": [
    "dataset[0]"
   ]
  },
  {
   "attachments": {},
   "cell_type": "markdown",
   "metadata": {},
   "source": [
    "## Pegando Dados Para a Rotulação"
   ]
  },
  {
   "cell_type": "code",
   "execution_count": 8,
   "metadata": {},
   "outputs": [],
   "source": [
    "part_dataset = dataset.select(range(qtd_dados))"
   ]
  },
  {
   "cell_type": "code",
   "execution_count": 9,
   "metadata": {},
   "outputs": [
    {
     "data": {
      "text/plain": [
       "Dataset({\n",
       "    features: ['Unnamed: 0', 'created_time', 'message', 'permalink_url', 'id_post', 'dataset_origem'],\n",
       "    num_rows: 200\n",
       "})"
      ]
     },
     "execution_count": 9,
     "metadata": {},
     "output_type": "execute_result"
    }
   ],
   "source": [
    "part_dataset"
   ]
  },
  {
   "cell_type": "code",
   "execution_count": 10,
   "metadata": {},
   "outputs": [
    {
     "data": {
      "text/plain": [
       "{'Unnamed: 0': 2275,\n",
       " 'created_time': '2020-01-17T00:45:43+0000',\n",
       " 'message': 'Isabella Lopes',\n",
       " 'permalink_url': 'https://www.facebook.com/403465119681680/posts/3212609728767191/?comment_id=3217371674957663',\n",
       " 'id_post': '403465119681680_3212609728767191',\n",
       " 'dataset_origem': 'extracao_comentarios_pagina_CachacaCompanheira.csv'}"
      ]
     },
     "execution_count": 10,
     "metadata": {},
     "output_type": "execute_result"
    }
   ],
   "source": [
    "part_dataset[0]"
   ]
  },
  {
   "attachments": {},
   "cell_type": "markdown",
   "metadata": {},
   "source": [
    "## Salvando Dataset"
   ]
  },
  {
   "cell_type": "code",
   "execution_count": 11,
   "metadata": {},
   "outputs": [
    {
     "data": {
      "application/vnd.jupyter.widget-view+json": {
       "model_id": "7d571da6cf7c41c8b66717a130d6541a",
       "version_major": 2,
       "version_minor": 0
      },
      "text/plain": [
       "Creating json from Arrow format:   0%|          | 0/1 [00:00<?, ?ba/s]"
      ]
     },
     "metadata": {},
     "output_type": "display_data"
    },
    {
     "data": {
      "text/plain": [
       "73122"
      ]
     },
     "execution_count": 11,
     "metadata": {},
     "output_type": "execute_result"
    }
   ],
   "source": [
    "part_dataset.to_json(f\"{dir}{dir_dataset}{dir_salvar_resultado}{arquivo_resultado}\")"
   ]
  },
  {
   "cell_type": "code",
   "execution_count": null,
   "metadata": {},
   "outputs": [],
   "source": []
  }
 ],
 "metadata": {
  "kernelspec": {
   "display_name": "Python 3",
   "language": "python",
   "name": "python3"
  },
  "language_info": {
   "codemirror_mode": {
    "name": "ipython",
    "version": 3
   },
   "file_extension": ".py",
   "mimetype": "text/x-python",
   "name": "python",
   "nbconvert_exporter": "python",
   "pygments_lexer": "ipython3",
   "version": "3.9.13"
  },
  "orig_nbformat": 4,
  "vscode": {
   "interpreter": {
    "hash": "8c6567b4a0b385df8abdfd302ad3b39b45fd5aade3f2daa246533e4b99d5affc"
   }
  }
 },
 "nbformat": 4,
 "nbformat_minor": 2
}
