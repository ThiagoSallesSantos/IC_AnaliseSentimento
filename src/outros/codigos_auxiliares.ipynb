{
 "cells": [
  {
   "cell_type": "code",
   "execution_count": 1,
   "metadata": {},
   "outputs": [],
   "source": [
    "from datasets import Dataset\n",
    "import os"
   ]
  },
  {
   "cell_type": "code",
   "execution_count": 2,
   "metadata": {},
   "outputs": [],
   "source": [
    "dir = \"../../\"\n",
    "dir_results = \"results/teste/\"\n",
    "dataset_base = \"facebook\""
   ]
  },
  {
   "cell_type": "code",
   "execution_count": 3,
   "metadata": {},
   "outputs": [
    {
     "name": "stderr",
     "output_type": "stream",
     "text": [
      "Using custom data configuration default-279f2602422dea61\n"
     ]
    },
    {
     "name": "stdout",
     "output_type": "stream",
     "text": [
      "Downloading and preparing dataset json/default to /home/thiago/.cache/huggingface/datasets/json/default-279f2602422dea61/0.0.0...\n"
     ]
    },
    {
     "data": {
      "application/vnd.jupyter.widget-view+json": {
       "model_id": "2a98d3e2a75b401bba7389e1fc996dc2",
       "version_major": 2,
       "version_minor": 0
      },
      "text/plain": [
       "Downloading data files:   0%|          | 0/1 [00:00<?, ?it/s]"
      ]
     },
     "metadata": {},
     "output_type": "display_data"
    },
    {
     "data": {
      "application/vnd.jupyter.widget-view+json": {
       "model_id": "9b8c58034dd049e2b4ffe1248bbca172",
       "version_major": 2,
       "version_minor": 0
      },
      "text/plain": [
       "Extracting data files:   0%|          | 0/1 [00:00<?, ?it/s]"
      ]
     },
     "metadata": {},
     "output_type": "display_data"
    },
    {
     "data": {
      "application/vnd.jupyter.widget-view+json": {
       "model_id": "527646ed207b43f2b5eaba0c4e80be4e",
       "version_major": 2,
       "version_minor": 0
      },
      "text/plain": [
       "0 tables [00:00, ? tables/s]"
      ]
     },
     "metadata": {},
     "output_type": "display_data"
    },
    {
     "name": "stderr",
     "output_type": "stream",
     "text": [
      "Using custom data configuration default-b388b0b972706190\n"
     ]
    },
    {
     "name": "stdout",
     "output_type": "stream",
     "text": [
      "Dataset json downloaded and prepared to /home/thiago/.cache/huggingface/datasets/json/default-279f2602422dea61/0.0.0. Subsequent calls will reuse this data.\n",
      "Downloading and preparing dataset json/default to /home/thiago/.cache/huggingface/datasets/json/default-b388b0b972706190/0.0.0...\n"
     ]
    },
    {
     "data": {
      "application/vnd.jupyter.widget-view+json": {
       "model_id": "f52ab16344e142dd86722b74ad318eff",
       "version_major": 2,
       "version_minor": 0
      },
      "text/plain": [
       "Downloading data files:   0%|          | 0/1 [00:00<?, ?it/s]"
      ]
     },
     "metadata": {},
     "output_type": "display_data"
    },
    {
     "data": {
      "application/vnd.jupyter.widget-view+json": {
       "model_id": "9776eb64181f4509ae22877da7697d8e",
       "version_major": 2,
       "version_minor": 0
      },
      "text/plain": [
       "Extracting data files:   0%|          | 0/1 [00:00<?, ?it/s]"
      ]
     },
     "metadata": {},
     "output_type": "display_data"
    },
    {
     "data": {
      "application/vnd.jupyter.widget-view+json": {
       "model_id": "82d720384814432daa16043d04eaaef6",
       "version_major": 2,
       "version_minor": 0
      },
      "text/plain": [
       "0 tables [00:00, ? tables/s]"
      ]
     },
     "metadata": {},
     "output_type": "display_data"
    },
    {
     "name": "stderr",
     "output_type": "stream",
     "text": [
      "Using custom data configuration default-037cd1c6431e82e9\n"
     ]
    },
    {
     "name": "stdout",
     "output_type": "stream",
     "text": [
      "Dataset json downloaded and prepared to /home/thiago/.cache/huggingface/datasets/json/default-b388b0b972706190/0.0.0. Subsequent calls will reuse this data.\n",
      "Downloading and preparing dataset json/default to /home/thiago/.cache/huggingface/datasets/json/default-037cd1c6431e82e9/0.0.0...\n"
     ]
    },
    {
     "data": {
      "application/vnd.jupyter.widget-view+json": {
       "model_id": "4590d927976f455aa48d255afa7bc645",
       "version_major": 2,
       "version_minor": 0
      },
      "text/plain": [
       "Downloading data files:   0%|          | 0/1 [00:00<?, ?it/s]"
      ]
     },
     "metadata": {},
     "output_type": "display_data"
    },
    {
     "data": {
      "application/vnd.jupyter.widget-view+json": {
       "model_id": "f82de2021d6d4c9c82409406922ff0dd",
       "version_major": 2,
       "version_minor": 0
      },
      "text/plain": [
       "Extracting data files:   0%|          | 0/1 [00:00<?, ?it/s]"
      ]
     },
     "metadata": {},
     "output_type": "display_data"
    },
    {
     "data": {
      "application/vnd.jupyter.widget-view+json": {
       "model_id": "a011f705a355465a81e811201e693829",
       "version_major": 2,
       "version_minor": 0
      },
      "text/plain": [
       "0 tables [00:00, ? tables/s]"
      ]
     },
     "metadata": {},
     "output_type": "display_data"
    },
    {
     "name": "stderr",
     "output_type": "stream",
     "text": [
      "Using custom data configuration default-3545bb8d86f83fa1\n"
     ]
    },
    {
     "name": "stdout",
     "output_type": "stream",
     "text": [
      "Dataset json downloaded and prepared to /home/thiago/.cache/huggingface/datasets/json/default-037cd1c6431e82e9/0.0.0. Subsequent calls will reuse this data.\n",
      "Downloading and preparing dataset json/default to /home/thiago/.cache/huggingface/datasets/json/default-3545bb8d86f83fa1/0.0.0...\n"
     ]
    },
    {
     "data": {
      "application/vnd.jupyter.widget-view+json": {
       "model_id": "ff39fe0fde234bf49773482c22a22c9a",
       "version_major": 2,
       "version_minor": 0
      },
      "text/plain": [
       "Downloading data files:   0%|          | 0/1 [00:00<?, ?it/s]"
      ]
     },
     "metadata": {},
     "output_type": "display_data"
    },
    {
     "data": {
      "application/vnd.jupyter.widget-view+json": {
       "model_id": "d25360b5142646908f05d0f3e7326c80",
       "version_major": 2,
       "version_minor": 0
      },
      "text/plain": [
       "Extracting data files:   0%|          | 0/1 [00:00<?, ?it/s]"
      ]
     },
     "metadata": {},
     "output_type": "display_data"
    },
    {
     "data": {
      "application/vnd.jupyter.widget-view+json": {
       "model_id": "27f2fd1294644e7c8ea488c1e5c88f73",
       "version_major": 2,
       "version_minor": 0
      },
      "text/plain": [
       "0 tables [00:00, ? tables/s]"
      ]
     },
     "metadata": {},
     "output_type": "display_data"
    },
    {
     "name": "stderr",
     "output_type": "stream",
     "text": [
      "Using custom data configuration default-95fc4816085c2446\n"
     ]
    },
    {
     "name": "stdout",
     "output_type": "stream",
     "text": [
      "Dataset json downloaded and prepared to /home/thiago/.cache/huggingface/datasets/json/default-3545bb8d86f83fa1/0.0.0. Subsequent calls will reuse this data.\n",
      "Downloading and preparing dataset json/default to /home/thiago/.cache/huggingface/datasets/json/default-95fc4816085c2446/0.0.0...\n"
     ]
    },
    {
     "data": {
      "application/vnd.jupyter.widget-view+json": {
       "model_id": "87ffd251e45942b4aaf30dc078e7b84a",
       "version_major": 2,
       "version_minor": 0
      },
      "text/plain": [
       "Downloading data files:   0%|          | 0/1 [00:00<?, ?it/s]"
      ]
     },
     "metadata": {},
     "output_type": "display_data"
    },
    {
     "data": {
      "application/vnd.jupyter.widget-view+json": {
       "model_id": "b7055605e8fc47d1ab238c7b2961488e",
       "version_major": 2,
       "version_minor": 0
      },
      "text/plain": [
       "Extracting data files:   0%|          | 0/1 [00:00<?, ?it/s]"
      ]
     },
     "metadata": {},
     "output_type": "display_data"
    },
    {
     "data": {
      "application/vnd.jupyter.widget-view+json": {
       "model_id": "732a87fbe3d045aa8c2b91cd43732767",
       "version_major": 2,
       "version_minor": 0
      },
      "text/plain": [
       "0 tables [00:00, ? tables/s]"
      ]
     },
     "metadata": {},
     "output_type": "display_data"
    },
    {
     "name": "stderr",
     "output_type": "stream",
     "text": [
      "Using custom data configuration default-035a2d3639f0f735\n"
     ]
    },
    {
     "name": "stdout",
     "output_type": "stream",
     "text": [
      "Dataset json downloaded and prepared to /home/thiago/.cache/huggingface/datasets/json/default-95fc4816085c2446/0.0.0. Subsequent calls will reuse this data.\n",
      "Downloading and preparing dataset json/default to /home/thiago/.cache/huggingface/datasets/json/default-035a2d3639f0f735/0.0.0...\n"
     ]
    },
    {
     "data": {
      "application/vnd.jupyter.widget-view+json": {
       "model_id": "2f2cff55a07649608723017993477dfd",
       "version_major": 2,
       "version_minor": 0
      },
      "text/plain": [
       "Downloading data files:   0%|          | 0/1 [00:00<?, ?it/s]"
      ]
     },
     "metadata": {},
     "output_type": "display_data"
    },
    {
     "data": {
      "application/vnd.jupyter.widget-view+json": {
       "model_id": "417767e991724f5da9be33b07961cfe2",
       "version_major": 2,
       "version_minor": 0
      },
      "text/plain": [
       "Extracting data files:   0%|          | 0/1 [00:00<?, ?it/s]"
      ]
     },
     "metadata": {},
     "output_type": "display_data"
    },
    {
     "data": {
      "application/vnd.jupyter.widget-view+json": {
       "model_id": "b9ab05d399f5496f879f5d287fbf5556",
       "version_major": 2,
       "version_minor": 0
      },
      "text/plain": [
       "0 tables [00:00, ? tables/s]"
      ]
     },
     "metadata": {},
     "output_type": "display_data"
    },
    {
     "name": "stdout",
     "output_type": "stream",
     "text": [
      "Dataset json downloaded and prepared to /home/thiago/.cache/huggingface/datasets/json/default-035a2d3639f0f735/0.0.0. Subsequent calls will reuse this data.\n"
     ]
    }
   ],
   "source": [
    "lista_dataset = []\n",
    "for arquivo in os.listdir(f\"{dir}{dir_results}{dataset_base}/\"):\n",
    "    if \".json\" in arquivo:\n",
    "        lista_dataset.append([arquivo, Dataset.from_json(f\"{dir}{dir_results}{dataset_base}/{arquivo}\")])"
   ]
  },
  {
   "cell_type": "code",
   "execution_count": 4,
   "metadata": {},
   "outputs": [
    {
     "name": "stdout",
     "output_type": "stream",
     "text": [
      "Quantidade de erros do bertimbau - b2w: 34\n",
      "Erros negativos: 12\n",
      "Erros positivos: 22\n",
      "=========================\n",
      "Quantidade de erros do bertimbau - utlc_movies: 33\n",
      "Erros negativos: 26\n",
      "Erros positivos: 7\n",
      "=========================\n",
      "Quantidade de erros do bertimbau - olist: 33\n",
      "Erros negativos: 13\n",
      "Erros positivos: 20\n",
      "=========================\n",
      "Quantidade de erros do bertimbau - utlc_apps: 32\n",
      "Erros negativos: 17\n",
      "Erros positivos: 15\n",
      "=========================\n",
      "Quantidade de erros do twitter-xlm-roberta: 81\n",
      "Erros negativos: 1\n",
      "Erros positivos: 80\n",
      "=========================\n",
      "Quantidade de erros do bertimbau - twitter_ASBR: 43\n",
      "Erros negativos: 7\n",
      "Erros positivos: 36\n",
      "=========================\n"
     ]
    }
   ],
   "source": [
    "dict_erros = dict({})\n",
    "for arquivo, dataset in lista_dataset:\n",
    "    cont_erros = 0\n",
    "    cont_erros_negativo = 0\n",
    "    cont_erros_positivo = 0\n",
    "    for data in dataset:\n",
    "        if data[\"real\"] != data[\"predito\"]:\n",
    "            if data[\"texto\"] not in dict_erros.keys():\n",
    "                dict_erros.update(dict({\n",
    "                    data[\"texto\"] : dict({\n",
    "                        \"real\" : \"Negativo\" if data[\"real\"] == \"0\" else \"Positivo\",\n",
    "                        \"modelos\" : []\n",
    "                    })\n",
    "                }))\n",
    "            dict_erros[data[\"texto\"]][\"modelos\"].append(\"bertimbau - \" + arquivo[21:-7] if \"xlm\" not in arquivo else arquivo[18:-7])\n",
    "            cont_erros += 1\n",
    "            if data[\"real\"] == \"0\":\n",
    "                cont_erros_negativo += 1\n",
    "            else:\n",
    "                cont_erros_positivo += 1\n",
    "    print(f\"Quantidade de erros do {'bertimbau - ' + arquivo[21:-7] if 'xlm' not in arquivo else arquivo[18:-7]}: {cont_erros}\\nErros negativos: {cont_erros_negativo}\\nErros positivos: {cont_erros_positivo}\", end=\"\\n=========================\\n\")"
   ]
  },
  {
   "cell_type": "code",
   "execution_count": 5,
   "metadata": {},
   "outputs": [],
   "source": [
    "resultado = sorted(list(dict_erros.items()), key=lambda x: len(x[1][\"modelos\"]), reverse=True)"
   ]
  },
  {
   "cell_type": "code",
   "execution_count": 6,
   "metadata": {},
   "outputs": [
    {
     "data": {
      "text/plain": [
       "('Aline Dourado Só deixou saudades... :-(',\n",
       " {'real': 'Negativo',\n",
       "  'modelos': ['bertimbau - b2w',\n",
       "   'bertimbau - utlc_movies',\n",
       "   'bertimbau - olist',\n",
       "   'bertimbau - utlc_apps',\n",
       "   'bertimbau - twitter_ASBR']})"
      ]
     },
     "execution_count": 6,
     "metadata": {},
     "output_type": "execute_result"
    }
   ],
   "source": [
    "resultado[0]"
   ]
  },
  {
   "cell_type": "code",
   "execution_count": 7,
   "metadata": {},
   "outputs": [],
   "source": [
    "txt = \"\"\n",
    "for texto, dado in resultado[:10]:\n",
    "    txt += f\"\"\"Texto: {texto}\n",
    "Rotulo correto: {dado['real']}\n",
    "Erros modelos: {str(dado['modelos'])}\n",
    "======================================\\n\"\"\""
   ]
  },
  {
   "cell_type": "code",
   "execution_count": 8,
   "metadata": {},
   "outputs": [
    {
     "name": "stdout",
     "output_type": "stream",
     "text": [
      "Texto: Aline Dourado Só deixou saudades... :-(\n",
      "Rotulo correto: Negativo\n",
      "Erros modelos: ['bertimbau - b2w', 'bertimbau - utlc_movies', 'bertimbau - olist', 'bertimbau - utlc_apps', 'bertimbau - twitter_ASBR']\n",
      "======================================\n",
      "Texto: não está disponivel pra compra ainda??\n",
      "Rotulo correto: Positivo\n",
      "Erros modelos: ['bertimbau - b2w', 'bertimbau - olist', 'bertimbau - utlc_apps', 'twitter-xlm-roberta', 'bertimbau - twitter_ASBR']\n",
      "======================================\n",
      "Texto: Muito cará!\n",
      "Rotulo correto: Negativo\n",
      "Erros modelos: ['bertimbau - b2w', 'bertimbau - utlc_movies', 'bertimbau - olist', 'bertimbau - utlc_apps', 'bertimbau - twitter_ASBR']\n",
      "======================================\n",
      "Texto: Rapariga...\n",
      "Rotulo correto: Negativo\n",
      "Erros modelos: ['bertimbau - b2w', 'bertimbau - utlc_movies', 'bertimbau - olist', 'bertimbau - utlc_apps', 'bertimbau - twitter_ASBR']\n",
      "======================================\n",
      "Texto: Excelente! Porém ainda estou à espera da minha do mês de Agosto. Está demorando, CN!...\n",
      "Rotulo correto: Negativo\n",
      "Erros modelos: ['bertimbau - b2w', 'bertimbau - utlc_movies', 'bertimbau - olist', 'bertimbau - utlc_apps', 'bertimbau - twitter_ASBR']\n",
      "======================================\n",
      "Texto: Pena que não é pra minha casa...to poupando pra comprar uma...\n",
      "Rotulo correto: Negativo\n",
      "Erros modelos: ['bertimbau - b2w', 'bertimbau - utlc_movies', 'bertimbau - olist', 'bertimbau - utlc_apps', 'bertimbau - twitter_ASBR']\n",
      "======================================\n",
      "Texto: Não perco👏❤\n",
      "Rotulo correto: Positivo\n",
      "Erros modelos: ['bertimbau - b2w', 'bertimbau - utlc_movies', 'bertimbau - olist', 'bertimbau - twitter_ASBR']\n",
      "======================================\n",
      "Texto: Aquilo no palito é uma barata?\n",
      "Rotulo correto: Negativo\n",
      "Erros modelos: ['bertimbau - b2w', 'bertimbau - utlc_movies', 'bertimbau - olist', 'bertimbau - utlc_apps']\n",
      "======================================\n",
      "Texto: Cachaça, meditação, Home office! Que balaio de gato é esse?\n",
      "Rotulo correto: Negativo\n",
      "Erros modelos: ['bertimbau - b2w', 'bertimbau - utlc_movies', 'bertimbau - olist', 'bertimbau - twitter_ASBR']\n",
      "======================================\n",
      "Texto: Deu água na boca\n",
      "Rotulo correto: Positivo\n",
      "Erros modelos: ['bertimbau - b2w', 'bertimbau - b2w', 'twitter-xlm-roberta', 'twitter-xlm-roberta']\n",
      "======================================\n",
      "\n"
     ]
    }
   ],
   "source": [
    "print(txt)"
   ]
  },
  {
   "cell_type": "code",
   "execution_count": 9,
   "metadata": {},
   "outputs": [],
   "source": [
    "with open(f\"{dir}{dir_results}{dataset_base}/avaliacao_{dataset_base}.txt\", \"w\") as arquivo:\n",
    "    arquivo.write(txt)"
   ]
  },
  {
   "cell_type": "code",
   "execution_count": null,
   "metadata": {},
   "outputs": [],
   "source": []
  }
 ],
 "metadata": {
  "kernelspec": {
   "display_name": "Python 3",
   "language": "python",
   "name": "python3"
  },
  "language_info": {
   "codemirror_mode": {
    "name": "ipython",
    "version": 3
   },
   "file_extension": ".py",
   "mimetype": "text/x-python",
   "name": "python",
   "nbconvert_exporter": "python",
   "pygments_lexer": "ipython3",
   "version": "3.9.13"
  }
 },
 "nbformat": 4,
 "nbformat_minor": 2
}
