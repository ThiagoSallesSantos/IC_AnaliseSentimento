{
 "cells": [
  {
   "attachments": {},
   "cell_type": "markdown",
   "metadata": {},
   "source": [
    "## Imports"
   ]
  },
  {
   "cell_type": "code",
   "execution_count": 27,
   "metadata": {},
   "outputs": [
    {
     "name": "stderr",
     "output_type": "stream",
     "text": [
      "2023-02-10 15:25:56.198110: I tensorflow/core/platform/cpu_feature_guard.cc:193] This TensorFlow binary is optimized with oneAPI Deep Neural Network Library (oneDNN) to use the following CPU instructions in performance-critical operations:  AVX2 FMA\n",
      "To enable them in other operations, rebuild TensorFlow with the appropriate compiler flags.\n",
      "2023-02-10 15:25:56.709664: W tensorflow/stream_executor/platform/default/dso_loader.cc:64] Could not load dynamic library 'libcudart.so.11.0'; dlerror: libcudart.so.11.0: cannot open shared object file: No such file or directory\n",
      "2023-02-10 15:25:56.709759: I tensorflow/stream_executor/cuda/cudart_stub.cc:29] Ignore above cudart dlerror if you do not have a GPU set up on your machine.\n",
      "2023-02-10 15:25:56.777045: E tensorflow/stream_executor/cuda/cuda_blas.cc:2981] Unable to register cuBLAS factory: Attempting to register factory for plugin cuBLAS when one has already been registered\n",
      "2023-02-10 15:25:57.974492: W tensorflow/stream_executor/platform/default/dso_loader.cc:64] Could not load dynamic library 'libnvinfer.so.7'; dlerror: libnvinfer.so.7: cannot open shared object file: No such file or directory\n",
      "2023-02-10 15:25:57.974613: W tensorflow/stream_executor/platform/default/dso_loader.cc:64] Could not load dynamic library 'libnvinfer_plugin.so.7'; dlerror: libnvinfer_plugin.so.7: cannot open shared object file: No such file or directory\n",
      "2023-02-10 15:25:57.974620: W tensorflow/compiler/tf2tensorrt/utils/py_utils.cc:38] TF-TRT Warning: Cannot dlopen some TensorRT libraries. If you would like to use Nvidia GPU with TensorRT, please make sure the missing libraries mentioned above are installed properly.\n"
     ]
    }
   ],
   "source": [
    "from datasets import Dataset\n",
    "from typing import List\n",
    "from keras.utils.np_utils import to_categorical"
   ]
  },
  {
   "attachments": {},
   "cell_type": "markdown",
   "metadata": {},
   "source": [
    "## Constantes"
   ]
  },
  {
   "cell_type": "code",
   "execution_count": 3,
   "metadata": {},
   "outputs": [],
   "source": [
    "dir = \"../\"\n",
    "dir_data = \"data/\"\n",
    "dir_data_rotulacao = \"rotulacao/result_rotulacao/\"\n",
    "dir_dataset_alvo = \"datasets/dataset_facebook/\"\n",
    "\n",
    "arquivo_result = \"facebook_200-03-02-2023.json\" ## Verificar caso a caso\n",
    "dataset_alvo = \"dataset_concatenate_facebook.json\" ## Verificar caso a caso"
   ]
  },
  {
   "attachments": {},
   "cell_type": "markdown",
   "metadata": {},
   "source": [
    "## Lendo Resultados"
   ]
  },
  {
   "cell_type": "code",
   "execution_count": 4,
   "metadata": {},
   "outputs": [
    {
     "name": "stderr",
     "output_type": "stream",
     "text": [
      "Using custom data configuration default-ca16ff8e041f930c\n",
      "Found cached dataset json (/home/thiago/.cache/huggingface/datasets/json/default-ca16ff8e041f930c/0.0.0)\n"
     ]
    }
   ],
   "source": [
    "resultado_doccano = Dataset.from_json(f\"{dir}{dir_data}{dir_data_rotulacao}{arquivo_result}\")"
   ]
  },
  {
   "attachments": {},
   "cell_type": "markdown",
   "metadata": {},
   "source": [
    "## Lendo Dataset"
   ]
  },
  {
   "cell_type": "code",
   "execution_count": 5,
   "metadata": {},
   "outputs": [
    {
     "name": "stderr",
     "output_type": "stream",
     "text": [
      "Using custom data configuration default-919784d60fd56bf4\n",
      "Found cached dataset json (/home/thiago/.cache/huggingface/datasets/json/default-919784d60fd56bf4/0.0.0)\n"
     ]
    }
   ],
   "source": [
    "dataset = Dataset.from_json(f\"{dir}{dir_data}{dir_dataset_alvo}{dataset_alvo}\")"
   ]
  },
  {
   "attachments": {},
   "cell_type": "markdown",
   "metadata": {},
   "source": [
    "## Prepara Dados Resultados"
   ]
  },
  {
   "cell_type": "code",
   "execution_count": 12,
   "metadata": {},
   "outputs": [
    {
     "data": {
      "text/plain": [
       "Dataset({\n",
       "    features: ['id', 'text', 'index', 'label', 'Comments'],\n",
       "    num_rows: 200\n",
       "})"
      ]
     },
     "execution_count": 12,
     "metadata": {},
     "output_type": "execute_result"
    }
   ],
   "source": [
    "resultado_doccano"
   ]
  },
  {
   "attachments": {},
   "cell_type": "markdown",
   "metadata": {},
   "source": [
    "### Remover Colunas Desnecessárias"
   ]
  },
  {
   "cell_type": "code",
   "execution_count": 19,
   "metadata": {},
   "outputs": [],
   "source": [
    "resultado_doccano = resultado_doccano.remove_columns([\"id\", \"text\", \"Comments\"])"
   ]
  },
  {
   "attachments": {},
   "cell_type": "markdown",
   "metadata": {},
   "source": [
    "### Arrumar Colunas de Label"
   ]
  },
  {
   "cell_type": "code",
   "execution_count": 15,
   "metadata": {},
   "outputs": [],
   "source": [
    "labels: List[str] = list([])\n",
    "for lista_label in resultado_doccano[\"label\"]:\n",
    "    labels.extend(lista_label)"
   ]
  },
  {
   "cell_type": "code",
   "execution_count": 24,
   "metadata": {},
   "outputs": [],
   "source": [
    "resultado_doccano = resultado_doccano.add_column(\"label_str\", labels)"
   ]
  },
  {
   "cell_type": "code",
   "execution_count": 26,
   "metadata": {},
   "outputs": [
    {
     "data": {
      "text/plain": [
       "{'Negativo', 'Neutro', 'Positivo'}"
      ]
     },
     "execution_count": 26,
     "metadata": {},
     "output_type": "execute_result"
    }
   ],
   "source": [
    "set(resultado_doccano[\"label_str\"])"
   ]
  },
  {
   "cell_type": "code",
   "execution_count": 28,
   "metadata": {},
   "outputs": [
    {
     "data": {
      "application/vnd.jupyter.widget-view+json": {
       "model_id": "70fefd12b96d4837abf92517cbe963f0",
       "version_major": 2,
       "version_minor": 0
      },
      "text/plain": [
       "  0%|          | 0/200 [00:00<?, ?ex/s]"
      ]
     },
     "metadata": {},
     "output_type": "display_data"
    }
   ],
   "source": [
    "def arruma_label(data):\n",
    "    valor = 0\n",
    "    if data[\"label_str\"] == \"Neutro\":\n",
    "        valor = 1\n",
    "    elif data[\"label_str\"] == \"Positivo\":\n",
    "        valor = 2\n",
    "    data[\"label\"] = to_categorical(valor, num_classes=3)\n",
    "    return data\n",
    "resultado_doccano = resultado_doccano.map(arruma_label)"
   ]
  },
  {
   "cell_type": "code",
   "execution_count": 32,
   "metadata": {},
   "outputs": [
    {
     "data": {
      "text/plain": [
       "{'index': Value(dtype='int64', id=None),\n",
       " 'label': Sequence(feature=Value(dtype='float32', id=None), length=-1, id=None),\n",
       " 'label_str': Value(dtype='string', id=None)}"
      ]
     },
     "execution_count": 32,
     "metadata": {},
     "output_type": "execute_result"
    }
   ],
   "source": [
    "resultado_doccano.features"
   ]
  },
  {
   "attachments": {},
   "cell_type": "markdown",
   "metadata": {},
   "source": [
    "### Prepara Dados Dataset"
   ]
  },
  {
   "cell_type": "code",
   "execution_count": 40,
   "metadata": {},
   "outputs": [],
   "source": [
    "if \"label\" not in dataset.features:\n",
    "    dataset = dataset.add_column(\"label\", [None] * len(dataset))"
   ]
  },
  {
   "cell_type": "code",
   "execution_count": 38,
   "metadata": {},
   "outputs": [],
   "source": [
    "if \"label_str\" not in dataset.features:\n",
    "    dataset = dataset.add_column(\"label_str\", [\"\"] * len(dataset))"
   ]
  },
  {
   "cell_type": "code",
   "execution_count": 44,
   "metadata": {},
   "outputs": [
    {
     "data": {
      "text/plain": [
       "{'created_time': Value(dtype='string', id=None),\n",
       " 'message': Value(dtype='string', id=None),\n",
       " 'permalink_url': Value(dtype='string', id=None),\n",
       " 'id_post': Value(dtype='string', id=None),\n",
       " 'dataset_origem': Value(dtype='string', id=None),\n",
       " 'index': Value(dtype='int64', id=None),\n",
       " 'label_str': Value(dtype='string', id=None),\n",
       " 'label': Value(dtype='null', id=None)}"
      ]
     },
     "execution_count": 44,
     "metadata": {},
     "output_type": "execute_result"
    }
   ],
   "source": [
    "dataset.features"
   ]
  },
  {
   "cell_type": "code",
   "execution_count": 43,
   "metadata": {},
   "outputs": [
    {
     "data": {
      "text/plain": [
       "{'created_time': '2021-07-08T22:29:49+0000',\n",
       " 'message': 'É um whisky pra quem não entende nada de whisky, me bloquearam no Instagram por falar a verdade sobre whiskys, empresa piada, sei que logo vai apagar meu comentário aqui também. Pra todos que verem esse meu comentário, saiba que não recomendo a casa das bebidas, a Amazon tem muito mais variedade e preço!! Fui',\n",
       " 'permalink_url': 'https://www.facebook.com/120086268098178/posts/4083651658408266/?comment_id=4163733760400055',\n",
       " 'id_post': '120086268098178_4083651658408266',\n",
       " 'dataset_origem': 'extracao_comentarios_pagina_casadabebida.csv',\n",
       " 'index': 0,\n",
       " 'label_str': '',\n",
       " 'label': None}"
      ]
     },
     "execution_count": 43,
     "metadata": {},
     "output_type": "execute_result"
    }
   ],
   "source": [
    "dataset[0]"
   ]
  },
  {
   "cell_type": "code",
   "execution_count": null,
   "metadata": {},
   "outputs": [],
   "source": []
  }
 ],
 "metadata": {
  "kernelspec": {
   "display_name": "Python 3",
   "language": "python",
   "name": "python3"
  },
  "language_info": {
   "codemirror_mode": {
    "name": "ipython",
    "version": 3
   },
   "file_extension": ".py",
   "mimetype": "text/x-python",
   "name": "python",
   "nbconvert_exporter": "python",
   "pygments_lexer": "ipython3",
   "version": "3.10.6"
  },
  "orig_nbformat": 4,
  "vscode": {
   "interpreter": {
    "hash": "e7370f93d1d0cde622a1f8e1c04877d8463912d04d973331ad4851f04de6915a"
   }
  }
 },
 "nbformat": 4,
 "nbformat_minor": 2
}
