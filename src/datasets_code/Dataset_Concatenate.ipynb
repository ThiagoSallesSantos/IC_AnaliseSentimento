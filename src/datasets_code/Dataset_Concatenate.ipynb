{
 "cells": [
  {
   "attachments": {},
   "cell_type": "markdown",
   "metadata": {},
   "source": [
    "## Import's"
   ]
  },
  {
   "cell_type": "code",
   "execution_count": 17,
   "metadata": {},
   "outputs": [],
   "source": [
    "from datasets import Dataset, concatenate_datasets\n",
    "import os\n",
    "import math"
   ]
  },
  {
   "attachments": {},
   "cell_type": "markdown",
   "metadata": {},
   "source": [
    "### Variveis Constantes"
   ]
  },
  {
   "cell_type": "code",
   "execution_count": 18,
   "metadata": {},
   "outputs": [],
   "source": [
    "DIR = \"../../\"\n",
    "dataset_path = \"data/\""
   ]
  },
  {
   "attachments": {},
   "cell_type": "markdown",
   "metadata": {},
   "source": [
    "### Lendo os Dataset's"
   ]
  },
  {
   "cell_type": "code",
   "execution_count": 20,
   "metadata": {},
   "outputs": [
    {
     "name": "stderr",
     "output_type": "stream",
     "text": [
      "Using custom data configuration default-65a516bdcb74c4ec\n",
      "Found cached dataset json (/home/thiago/.cache/huggingface/datasets/json/default-65a516bdcb74c4ec/0.0.0)\n",
      "Using custom data configuration default-cc8a793526c6b3ff\n",
      "Found cached dataset json (/home/thiago/.cache/huggingface/datasets/json/default-cc8a793526c6b3ff/0.0.0)\n",
      "Using custom data configuration default-e4f6e6ee67481447\n",
      "Found cached dataset json (/home/thiago/.cache/huggingface/datasets/json/default-e4f6e6ee67481447/0.0.0)\n",
      "Using custom data configuration default-31c16fa31923ed3f\n",
      "Found cached dataset json (/home/thiago/.cache/huggingface/datasets/json/default-31c16fa31923ed3f/0.0.0)\n",
      "Using custom data configuration default-50df4ff0b146c30a\n",
      "Found cached dataset json (/home/thiago/.cache/huggingface/datasets/json/default-50df4ff0b146c30a/0.0.0)\n"
     ]
    }
   ],
   "source": [
    "dict_datasets : dict[str, Dataset] = dict({})\n",
    "for arquivo_nome in list(filter(lambda x: x.endswith(\".json\"), os.listdir(DIR+dataset_path))):\n",
    "    dict_datasets.update(dict({arquivo_nome: Dataset.from_json(DIR+dataset_path+arquivo_nome)}))"
   ]
  },
  {
   "cell_type": "code",
   "execution_count": 21,
   "metadata": {},
   "outputs": [
    {
     "data": {
      "text/plain": [
       "{'dataset_olist.json': Dataset({\n",
       "     features: ['text', 'labels', 'group', 'labels_int'],\n",
       "     num_rows: 41744\n",
       " }),\n",
       " 'dataset_utlc_apps.json': Dataset({\n",
       "     features: ['text', 'labels', 'group', 'labels_int'],\n",
       "     num_rows: 1039535\n",
       " }),\n",
       " 'dataset_buscape.json': Dataset({\n",
       "     features: ['text', 'labels', 'group', 'labels_int'],\n",
       "     num_rows: 84991\n",
       " }),\n",
       " 'dataset_utlc_movies.json': Dataset({\n",
       "     features: ['text', 'labels', 'group', 'labels_int'],\n",
       "     num_rows: 1487449\n",
       " }),\n",
       " 'dataset_b2w.json': Dataset({\n",
       "     features: ['text', 'labels', 'group', 'labels_int'],\n",
       "     num_rows: 132373\n",
       " })}"
      ]
     },
     "execution_count": 21,
     "metadata": {},
     "output_type": "execute_result"
    }
   ],
   "source": [
    "dict_datasets"
   ]
  },
  {
   "attachments": {},
   "cell_type": "markdown",
   "metadata": {},
   "source": [
    "### Concatenando os datasets"
   ]
  },
  {
   "cell_type": "code",
   "execution_count": 22,
   "metadata": {},
   "outputs": [],
   "source": [
    "dataset = concatenate_datasets(list(dict_datasets.values()))"
   ]
  },
  {
   "cell_type": "code",
   "execution_count": 23,
   "metadata": {},
   "outputs": [
    {
     "data": {
      "text/plain": [
       "Dataset({\n",
       "    features: ['text', 'labels', 'group', 'labels_int'],\n",
       "    num_rows: 2786092\n",
       "})"
      ]
     },
     "execution_count": 23,
     "metadata": {},
     "output_type": "execute_result"
    }
   ],
   "source": [
    "dataset"
   ]
  },
  {
   "attachments": {},
   "cell_type": "markdown",
   "metadata": {},
   "source": [
    "#### Remove coluna group\n",
    "Devido não reprsentar mais uma estratificação correta"
   ]
  },
  {
   "cell_type": "code",
   "execution_count": 24,
   "metadata": {},
   "outputs": [],
   "source": [
    "dataset = dataset.remove_columns([\"group\"])"
   ]
  },
  {
   "attachments": {},
   "cell_type": "markdown",
   "metadata": {},
   "source": [
    "### Salvando em arquivo .json"
   ]
  },
  {
   "cell_type": "code",
   "execution_count": 25,
   "metadata": {},
   "outputs": [
    {
     "data": {
      "application/vnd.jupyter.widget-view+json": {
       "model_id": "78de89e00f144e5a94d9ee989c1b9374",
       "version_major": 2,
       "version_minor": 0
      },
      "text/plain": [
       "Creating json from Arrow format:   0%|          | 0/279 [00:00<?, ?ba/s]"
      ]
     },
     "metadata": {},
     "output_type": "display_data"
    },
    {
     "data": {
      "text/plain": [
       "571460786"
      ]
     },
     "execution_count": 25,
     "metadata": {},
     "output_type": "execute_result"
    }
   ],
   "source": [
    "dataset.to_json(DIR+dataset_path+\"dataset_concatenate.json\")"
   ]
  },
  {
   "attachments": {},
   "cell_type": "markdown",
   "metadata": {},
   "source": [
    "# Testes"
   ]
  },
  {
   "cell_type": "code",
   "execution_count": null,
   "metadata": {},
   "outputs": [],
   "source": [
    "lista_datasets : list[tuple[str, Dataset]] = []\n",
    "for arquivo_nome in list(filter(lambda x: x.endswith(\".csv\"), os.listdir(DIR+dataset_path))):\n",
    "    lista_datasets.append((arquivo_nome, Dataset.from_csv(DIR+dataset_path+arquivo_nome)))"
   ]
  },
  {
   "cell_type": "code",
   "execution_count": null,
   "metadata": {},
   "outputs": [],
   "source": [
    "for nome_arquivo, dataset in lista_datasets:\n",
    "    for index, label in enumerate(dataset[\"labels\"]):\n",
    "        if not label:\n",
    "            print(nome_arquivo + \" - \" + str(index))"
   ]
  },
  {
   "cell_type": "code",
   "execution_count": null,
   "metadata": {},
   "outputs": [],
   "source": [
    "dataset = Dataset.from_csv(DIR+dataset_path+\"dataset_olist.csv\")"
   ]
  },
  {
   "cell_type": "code",
   "execution_count": null,
   "metadata": {},
   "outputs": [],
   "source": [
    "for index, label in enumerate(dataset[\"labels\"]):\n",
    "    if not label:\n",
    "        print(str(label) + \" - \" + str(index))"
   ]
  },
  {
   "cell_type": "code",
   "execution_count": null,
   "metadata": {},
   "outputs": [],
   "source": []
  },
  {
   "cell_type": "code",
   "execution_count": null,
   "metadata": {},
   "outputs": [],
   "source": []
  }
 ],
 "metadata": {
  "kernelspec": {
   "display_name": "Python 3",
   "language": "python",
   "name": "python3"
  },
  "language_info": {
   "codemirror_mode": {
    "name": "ipython",
    "version": 3
   },
   "file_extension": ".py",
   "mimetype": "text/x-python",
   "name": "python",
   "nbconvert_exporter": "python",
   "pygments_lexer": "ipython3",
   "version": "3.9.13"
  },
  "orig_nbformat": 4,
  "vscode": {
   "interpreter": {
    "hash": "8c6567b4a0b385df8abdfd302ad3b39b45fd5aade3f2daa246533e4b99d5affc"
   }
  }
 },
 "nbformat": 4,
 "nbformat_minor": 2
}
