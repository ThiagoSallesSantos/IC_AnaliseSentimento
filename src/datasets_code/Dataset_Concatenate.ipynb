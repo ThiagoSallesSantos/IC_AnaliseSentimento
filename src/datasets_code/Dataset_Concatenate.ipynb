{
 "cells": [
  {
   "attachments": {},
   "cell_type": "markdown",
   "metadata": {},
   "source": [
    "## Import's"
   ]
  },
  {
   "cell_type": "code",
   "execution_count": 1,
   "metadata": {},
   "outputs": [],
   "source": [
    "from datasets import Dataset, concatenate_datasets\n",
    "import os"
   ]
  },
  {
   "attachments": {},
   "cell_type": "markdown",
   "metadata": {},
   "source": [
    "### Variveis Constantes"
   ]
  },
  {
   "cell_type": "code",
   "execution_count": 2,
   "metadata": {},
   "outputs": [],
   "source": [
    "DIR = \"../../\"\n",
    "dataset_path = \"data/\""
   ]
  },
  {
   "attachments": {},
   "cell_type": "markdown",
   "metadata": {},
   "source": [
    "### Lendo os Dataset's"
   ]
  },
  {
   "cell_type": "code",
   "execution_count": 3,
   "metadata": {},
   "outputs": [
    {
     "name": "stderr",
     "output_type": "stream",
     "text": [
      "Using custom data configuration default-ff65ef7f10bbc961\n"
     ]
    },
    {
     "name": "stdout",
     "output_type": "stream",
     "text": [
      "Downloading and preparing dataset json/default to /home/thiago/.cache/huggingface/datasets/json/default-ff65ef7f10bbc961/0.0.0...\n"
     ]
    },
    {
     "data": {
      "application/vnd.jupyter.widget-view+json": {
       "model_id": "c36ddca5a0164b79806442ddade19db8",
       "version_major": 2,
       "version_minor": 0
      },
      "text/plain": [
       "Downloading data files:   0%|          | 0/1 [00:00<?, ?it/s]"
      ]
     },
     "metadata": {},
     "output_type": "display_data"
    },
    {
     "data": {
      "application/vnd.jupyter.widget-view+json": {
       "model_id": "699bf3510d774acfa0fe616609152221",
       "version_major": 2,
       "version_minor": 0
      },
      "text/plain": [
       "Extracting data files:   0%|          | 0/1 [00:00<?, ?it/s]"
      ]
     },
     "metadata": {},
     "output_type": "display_data"
    },
    {
     "data": {
      "application/vnd.jupyter.widget-view+json": {
       "model_id": "3d8645579e454a93a3456bc20520dd1c",
       "version_major": 2,
       "version_minor": 0
      },
      "text/plain": [
       "0 tables [00:00, ? tables/s]"
      ]
     },
     "metadata": {},
     "output_type": "display_data"
    },
    {
     "name": "stderr",
     "output_type": "stream",
     "text": [
      "Using custom data configuration default-aef0534a0e515973\n"
     ]
    },
    {
     "name": "stdout",
     "output_type": "stream",
     "text": [
      "Dataset json downloaded and prepared to /home/thiago/.cache/huggingface/datasets/json/default-ff65ef7f10bbc961/0.0.0. Subsequent calls will reuse this data.\n",
      "Downloading and preparing dataset json/default to /home/thiago/.cache/huggingface/datasets/json/default-aef0534a0e515973/0.0.0...\n"
     ]
    },
    {
     "data": {
      "application/vnd.jupyter.widget-view+json": {
       "model_id": "41c45ca0eddd4effa0e969423260f53c",
       "version_major": 2,
       "version_minor": 0
      },
      "text/plain": [
       "Downloading data files:   0%|          | 0/1 [00:00<?, ?it/s]"
      ]
     },
     "metadata": {},
     "output_type": "display_data"
    },
    {
     "data": {
      "application/vnd.jupyter.widget-view+json": {
       "model_id": "d2a49b9e0dc94848989c17b30af00f31",
       "version_major": 2,
       "version_minor": 0
      },
      "text/plain": [
       "Extracting data files:   0%|          | 0/1 [00:00<?, ?it/s]"
      ]
     },
     "metadata": {},
     "output_type": "display_data"
    },
    {
     "data": {
      "application/vnd.jupyter.widget-view+json": {
       "model_id": "c14220fc6c464020a05169c87bf51f4e",
       "version_major": 2,
       "version_minor": 0
      },
      "text/plain": [
       "0 tables [00:00, ? tables/s]"
      ]
     },
     "metadata": {},
     "output_type": "display_data"
    },
    {
     "name": "stderr",
     "output_type": "stream",
     "text": [
      "Using custom data configuration default-be9c838f6c2f2531\n"
     ]
    },
    {
     "name": "stdout",
     "output_type": "stream",
     "text": [
      "Dataset json downloaded and prepared to /home/thiago/.cache/huggingface/datasets/json/default-aef0534a0e515973/0.0.0. Subsequent calls will reuse this data.\n",
      "Downloading and preparing dataset json/default to /home/thiago/.cache/huggingface/datasets/json/default-be9c838f6c2f2531/0.0.0...\n"
     ]
    },
    {
     "data": {
      "application/vnd.jupyter.widget-view+json": {
       "model_id": "1cb7722dbc4542f8829e87c99c9d901b",
       "version_major": 2,
       "version_minor": 0
      },
      "text/plain": [
       "Downloading data files:   0%|          | 0/1 [00:00<?, ?it/s]"
      ]
     },
     "metadata": {},
     "output_type": "display_data"
    },
    {
     "data": {
      "application/vnd.jupyter.widget-view+json": {
       "model_id": "60dbe0b6c10e4e6794ae8a639b941017",
       "version_major": 2,
       "version_minor": 0
      },
      "text/plain": [
       "Extracting data files:   0%|          | 0/1 [00:00<?, ?it/s]"
      ]
     },
     "metadata": {},
     "output_type": "display_data"
    },
    {
     "data": {
      "application/vnd.jupyter.widget-view+json": {
       "model_id": "2c1b2762fbbb45bfa33f8f76ad71a35a",
       "version_major": 2,
       "version_minor": 0
      },
      "text/plain": [
       "0 tables [00:00, ? tables/s]"
      ]
     },
     "metadata": {},
     "output_type": "display_data"
    },
    {
     "name": "stderr",
     "output_type": "stream",
     "text": [
      "Using custom data configuration default-c7d22920d46d2a06\n"
     ]
    },
    {
     "name": "stdout",
     "output_type": "stream",
     "text": [
      "Dataset json downloaded and prepared to /home/thiago/.cache/huggingface/datasets/json/default-be9c838f6c2f2531/0.0.0. Subsequent calls will reuse this data.\n",
      "Downloading and preparing dataset json/default to /home/thiago/.cache/huggingface/datasets/json/default-c7d22920d46d2a06/0.0.0...\n"
     ]
    },
    {
     "data": {
      "application/vnd.jupyter.widget-view+json": {
       "model_id": "2d0afadb70474fe095f6bb609906338d",
       "version_major": 2,
       "version_minor": 0
      },
      "text/plain": [
       "Downloading data files:   0%|          | 0/1 [00:00<?, ?it/s]"
      ]
     },
     "metadata": {},
     "output_type": "display_data"
    },
    {
     "data": {
      "application/vnd.jupyter.widget-view+json": {
       "model_id": "332c60f2d4604609822b9d98ce370ba1",
       "version_major": 2,
       "version_minor": 0
      },
      "text/plain": [
       "Extracting data files:   0%|          | 0/1 [00:00<?, ?it/s]"
      ]
     },
     "metadata": {},
     "output_type": "display_data"
    },
    {
     "data": {
      "application/vnd.jupyter.widget-view+json": {
       "model_id": "928e7431703448b3a1fed8ee9d94f8fd",
       "version_major": 2,
       "version_minor": 0
      },
      "text/plain": [
       "0 tables [00:00, ? tables/s]"
      ]
     },
     "metadata": {},
     "output_type": "display_data"
    },
    {
     "name": "stderr",
     "output_type": "stream",
     "text": [
      "Using custom data configuration default-9334dace55b39145\n"
     ]
    },
    {
     "name": "stdout",
     "output_type": "stream",
     "text": [
      "Dataset json downloaded and prepared to /home/thiago/.cache/huggingface/datasets/json/default-c7d22920d46d2a06/0.0.0. Subsequent calls will reuse this data.\n",
      "Downloading and preparing dataset json/default to /home/thiago/.cache/huggingface/datasets/json/default-9334dace55b39145/0.0.0...\n"
     ]
    },
    {
     "data": {
      "application/vnd.jupyter.widget-view+json": {
       "model_id": "718e08f2568b4542855944042d9df911",
       "version_major": 2,
       "version_minor": 0
      },
      "text/plain": [
       "Downloading data files:   0%|          | 0/1 [00:00<?, ?it/s]"
      ]
     },
     "metadata": {},
     "output_type": "display_data"
    },
    {
     "data": {
      "application/vnd.jupyter.widget-view+json": {
       "model_id": "229085b6935d4042a79f099fe9ee5c53",
       "version_major": 2,
       "version_minor": 0
      },
      "text/plain": [
       "Extracting data files:   0%|          | 0/1 [00:00<?, ?it/s]"
      ]
     },
     "metadata": {},
     "output_type": "display_data"
    },
    {
     "data": {
      "application/vnd.jupyter.widget-view+json": {
       "model_id": "bd3d6a95e0fb4ea2be5ea242c9688fd9",
       "version_major": 2,
       "version_minor": 0
      },
      "text/plain": [
       "0 tables [00:00, ? tables/s]"
      ]
     },
     "metadata": {},
     "output_type": "display_data"
    },
    {
     "name": "stdout",
     "output_type": "stream",
     "text": [
      "Dataset json downloaded and prepared to /home/thiago/.cache/huggingface/datasets/json/default-9334dace55b39145/0.0.0. Subsequent calls will reuse this data.\n"
     ]
    }
   ],
   "source": [
    "dict_datasets : dict[str, Dataset] = dict({})\n",
    "for arquivo_nome in list(filter(lambda x: x.endswith(\".json\"), os.listdir(DIR+dataset_path))):\n",
    "    dict_datasets.update(dict({arquivo_nome: Dataset.from_json(DIR+dataset_path+arquivo_nome)}))"
   ]
  },
  {
   "cell_type": "code",
   "execution_count": 4,
   "metadata": {},
   "outputs": [
    {
     "data": {
      "text/plain": [
       "{'dataset_olist.json': Dataset({\n",
       "     features: ['text', 'labels', 'group', 'labels_int'],\n",
       "     num_rows: 38062\n",
       " }),\n",
       " 'dataset_utlc_apps.json': Dataset({\n",
       "     features: ['text', 'labels', 'group', 'labels_int'],\n",
       "     num_rows: 968858\n",
       " }),\n",
       " 'dataset_buscape.json': Dataset({\n",
       "     features: ['text', 'labels', 'group', 'labels_int'],\n",
       "     num_rows: 73626\n",
       " }),\n",
       " 'dataset_utlc_movies.json': Dataset({\n",
       "     features: ['text', 'labels', 'group', 'labels_int'],\n",
       "     num_rows: 1189542\n",
       " }),\n",
       " 'dataset_b2w.json': Dataset({\n",
       "     features: ['text', 'labels', 'group', 'labels_int'],\n",
       "     num_rows: 116058\n",
       " })}"
      ]
     },
     "execution_count": 4,
     "metadata": {},
     "output_type": "execute_result"
    }
   ],
   "source": [
    "dict_datasets"
   ]
  },
  {
   "attachments": {},
   "cell_type": "markdown",
   "metadata": {},
   "source": [
    "### Concatenando os datasets"
   ]
  },
  {
   "cell_type": "code",
   "execution_count": 5,
   "metadata": {},
   "outputs": [],
   "source": [
    "dataset = concatenate_datasets(list(dict_datasets.values()))"
   ]
  },
  {
   "cell_type": "code",
   "execution_count": 6,
   "metadata": {},
   "outputs": [
    {
     "data": {
      "text/plain": [
       "Dataset({\n",
       "    features: ['text', 'labels', 'group', 'labels_int'],\n",
       "    num_rows: 2386146\n",
       "})"
      ]
     },
     "execution_count": 6,
     "metadata": {},
     "output_type": "execute_result"
    }
   ],
   "source": [
    "dataset"
   ]
  },
  {
   "attachments": {},
   "cell_type": "markdown",
   "metadata": {},
   "source": [
    "#### Remove coluna group\n",
    "Devido não reprsentar mais uma estratificação correta"
   ]
  },
  {
   "cell_type": "code",
   "execution_count": 7,
   "metadata": {},
   "outputs": [],
   "source": [
    "dataset = dataset.remove_columns([\"group\"])"
   ]
  },
  {
   "attachments": {},
   "cell_type": "markdown",
   "metadata": {},
   "source": [
    "### Salvando em arquivo .json"
   ]
  },
  {
   "cell_type": "code",
   "execution_count": 8,
   "metadata": {},
   "outputs": [
    {
     "data": {
      "application/vnd.jupyter.widget-view+json": {
       "model_id": "86644634e48a4c7fad916cc95505f56b",
       "version_major": 2,
       "version_minor": 0
      },
      "text/plain": [
       "Creating json from Arrow format:   0%|          | 0/239 [00:00<?, ?ba/s]"
      ]
     },
     "metadata": {},
     "output_type": "display_data"
    },
    {
     "data": {
      "text/plain": [
       "503575604"
      ]
     },
     "execution_count": 8,
     "metadata": {},
     "output_type": "execute_result"
    }
   ],
   "source": [
    "dataset.to_json(DIR+dataset_path+\"dataset_concatenate.json\")"
   ]
  },
  {
   "attachments": {},
   "cell_type": "markdown",
   "metadata": {},
   "source": [
    "# Testes"
   ]
  },
  {
   "cell_type": "code",
   "execution_count": 9,
   "metadata": {},
   "outputs": [],
   "source": [
    "lista_datasets : list[tuple[str, Dataset]] = []\n",
    "for arquivo_nome in list(filter(lambda x: x.endswith(\".csv\"), os.listdir(DIR+dataset_path))):\n",
    "    lista_datasets.append((arquivo_nome, Dataset.from_csv(DIR+dataset_path+arquivo_nome)))"
   ]
  },
  {
   "cell_type": "code",
   "execution_count": 10,
   "metadata": {},
   "outputs": [],
   "source": [
    "for nome_arquivo, dataset in lista_datasets:\n",
    "    for index, label in enumerate(dataset[\"labels\"]):\n",
    "        if not label:\n",
    "            print(nome_arquivo + \" - \" + str(index))"
   ]
  },
  {
   "cell_type": "code",
   "execution_count": 11,
   "metadata": {},
   "outputs": [
    {
     "ename": "FileNotFoundError",
     "evalue": "Unable to find '/home/thiago/IC_AnaliseSentimento/src/datasets_code/../../data/dataset_olist.csv' at /home/thiago/IC_AnaliseSentimento/src/datasets_code",
     "output_type": "error",
     "traceback": [
      "\u001b[0;31m---------------------------------------------------------------------------\u001b[0m",
      "\u001b[0;31mFileNotFoundError\u001b[0m                         Traceback (most recent call last)",
      "\u001b[1;32m/home/thiago/IC_AnaliseSentimento/src/datasets_code/Dataset_Concatenate.ipynb Célula 18\u001b[0m in \u001b[0;36m1\n\u001b[0;32m----> <a href='vscode-notebook-cell://ssh-remote%2B172.18.0.1/home/thiago/IC_AnaliseSentimento/src/datasets_code/Dataset_Concatenate.ipynb#X23sdnNjb2RlLXJlbW90ZQ%3D%3D?line=0'>1</a>\u001b[0m dataset \u001b[39m=\u001b[39m Dataset\u001b[39m.\u001b[39;49mfrom_csv(DIR\u001b[39m+\u001b[39;49mdataset_path\u001b[39m+\u001b[39;49m\u001b[39m\"\u001b[39;49m\u001b[39mdataset_olist.csv\u001b[39;49m\u001b[39m\"\u001b[39;49m)\n",
      "File \u001b[0;32m~/IC_AnaliseSentimento/venv/lib/python3.9/site-packages/datasets/arrow_dataset.py:935\u001b[0m, in \u001b[0;36mDataset.from_csv\u001b[0;34m(path_or_paths, split, features, cache_dir, keep_in_memory, **kwargs)\u001b[0m\n\u001b[1;32m    932\u001b[0m \u001b[39m# Dynamic import to avoid circular dependency\u001b[39;00m\n\u001b[1;32m    933\u001b[0m \u001b[39mfrom\u001b[39;00m \u001b[39m.\u001b[39;00m\u001b[39mio\u001b[39;00m\u001b[39m.\u001b[39;00m\u001b[39mcsv\u001b[39;00m \u001b[39mimport\u001b[39;00m CsvDatasetReader\n\u001b[0;32m--> 935\u001b[0m \u001b[39mreturn\u001b[39;00m CsvDatasetReader(\n\u001b[1;32m    936\u001b[0m     path_or_paths, split\u001b[39m=\u001b[39;49msplit, features\u001b[39m=\u001b[39;49mfeatures, cache_dir\u001b[39m=\u001b[39;49mcache_dir, keep_in_memory\u001b[39m=\u001b[39;49mkeep_in_memory, \u001b[39m*\u001b[39;49m\u001b[39m*\u001b[39;49mkwargs\n\u001b[1;32m    937\u001b[0m )\u001b[39m.\u001b[39mread()\n",
      "File \u001b[0;32m~/IC_AnaliseSentimento/venv/lib/python3.9/site-packages/datasets/io/csv.py:34\u001b[0m, in \u001b[0;36mCsvDatasetReader.__init__\u001b[0;34m(self, path_or_paths, split, features, cache_dir, keep_in_memory, streaming, **kwargs)\u001b[0m\n\u001b[1;32m     24\u001b[0m \u001b[39msuper\u001b[39m()\u001b[39m.\u001b[39m\u001b[39m__init__\u001b[39m(\n\u001b[1;32m     25\u001b[0m     path_or_paths,\n\u001b[1;32m     26\u001b[0m     split\u001b[39m=\u001b[39msplit,\n\u001b[0;32m   (...)\u001b[0m\n\u001b[1;32m     31\u001b[0m     \u001b[39m*\u001b[39m\u001b[39m*\u001b[39mkwargs,\n\u001b[1;32m     32\u001b[0m )\n\u001b[1;32m     33\u001b[0m path_or_paths \u001b[39m=\u001b[39m path_or_paths \u001b[39mif\u001b[39;00m \u001b[39misinstance\u001b[39m(path_or_paths, \u001b[39mdict\u001b[39m) \u001b[39melse\u001b[39;00m {\u001b[39mself\u001b[39m\u001b[39m.\u001b[39msplit: path_or_paths}\n\u001b[0;32m---> 34\u001b[0m \u001b[39mself\u001b[39m\u001b[39m.\u001b[39mbuilder \u001b[39m=\u001b[39m Csv(\n\u001b[1;32m     35\u001b[0m     cache_dir\u001b[39m=\u001b[39;49mcache_dir,\n\u001b[1;32m     36\u001b[0m     data_files\u001b[39m=\u001b[39;49mpath_or_paths,\n\u001b[1;32m     37\u001b[0m     features\u001b[39m=\u001b[39;49mfeatures,\n\u001b[1;32m     38\u001b[0m     \u001b[39m*\u001b[39;49m\u001b[39m*\u001b[39;49mkwargs,\n\u001b[1;32m     39\u001b[0m )\n",
      "File \u001b[0;32m~/IC_AnaliseSentimento/venv/lib/python3.9/site-packages/datasets/builder.py:292\u001b[0m, in \u001b[0;36mDatasetBuilder.__init__\u001b[0;34m(self, cache_dir, config_name, hash, base_path, info, features, use_auth_token, repo_id, data_files, data_dir, name, **config_kwargs)\u001b[0m\n\u001b[1;32m    289\u001b[0m \u001b[39mself\u001b[39m\u001b[39m.\u001b[39mrepo_id \u001b[39m=\u001b[39m repo_id\n\u001b[1;32m    291\u001b[0m \u001b[39mif\u001b[39;00m data_files \u001b[39mis\u001b[39;00m \u001b[39mnot\u001b[39;00m \u001b[39mNone\u001b[39;00m \u001b[39mand\u001b[39;00m \u001b[39mnot\u001b[39;00m \u001b[39misinstance\u001b[39m(data_files, DataFilesDict):\n\u001b[0;32m--> 292\u001b[0m     data_files \u001b[39m=\u001b[39m DataFilesDict\u001b[39m.\u001b[39;49mfrom_local_or_remote(\n\u001b[1;32m    293\u001b[0m         sanitize_patterns(data_files), base_path\u001b[39m=\u001b[39;49mbase_path, use_auth_token\u001b[39m=\u001b[39;49muse_auth_token\n\u001b[1;32m    294\u001b[0m     )\n\u001b[1;32m    296\u001b[0m \u001b[39m# Prepare config: DatasetConfig contains name, version and description but can be extended by each dataset\u001b[39;00m\n\u001b[1;32m    297\u001b[0m \u001b[39mif\u001b[39;00m \u001b[39m\"\u001b[39m\u001b[39mfeatures\u001b[39m\u001b[39m\"\u001b[39m \u001b[39min\u001b[39;00m inspect\u001b[39m.\u001b[39msignature(\u001b[39mself\u001b[39m\u001b[39m.\u001b[39mBUILDER_CONFIG_CLASS\u001b[39m.\u001b[39m\u001b[39m__init__\u001b[39m)\u001b[39m.\u001b[39mparameters \u001b[39mand\u001b[39;00m features \u001b[39mis\u001b[39;00m \u001b[39mnot\u001b[39;00m \u001b[39mNone\u001b[39;00m:\n",
      "File \u001b[0;32m~/IC_AnaliseSentimento/venv/lib/python3.9/site-packages/datasets/data_files.py:795\u001b[0m, in \u001b[0;36mDataFilesDict.from_local_or_remote\u001b[0;34m(cls, patterns, base_path, allowed_extensions, use_auth_token)\u001b[0m\n\u001b[1;32m    792\u001b[0m out \u001b[39m=\u001b[39m \u001b[39mcls\u001b[39m()\n\u001b[1;32m    793\u001b[0m \u001b[39mfor\u001b[39;00m key, patterns_for_key \u001b[39min\u001b[39;00m patterns\u001b[39m.\u001b[39mitems():\n\u001b[1;32m    794\u001b[0m     out[key] \u001b[39m=\u001b[39m (\n\u001b[0;32m--> 795\u001b[0m         DataFilesList\u001b[39m.\u001b[39;49mfrom_local_or_remote(\n\u001b[1;32m    796\u001b[0m             patterns_for_key,\n\u001b[1;32m    797\u001b[0m             base_path\u001b[39m=\u001b[39;49mbase_path,\n\u001b[1;32m    798\u001b[0m             allowed_extensions\u001b[39m=\u001b[39;49mallowed_extensions,\n\u001b[1;32m    799\u001b[0m             use_auth_token\u001b[39m=\u001b[39;49muse_auth_token,\n\u001b[1;32m    800\u001b[0m         )\n\u001b[1;32m    801\u001b[0m         \u001b[39mif\u001b[39;00m \u001b[39mnot\u001b[39;00m \u001b[39misinstance\u001b[39m(patterns_for_key, DataFilesList)\n\u001b[1;32m    802\u001b[0m         \u001b[39melse\u001b[39;00m patterns_for_key\n\u001b[1;32m    803\u001b[0m     )\n\u001b[1;32m    804\u001b[0m \u001b[39mreturn\u001b[39;00m out\n",
      "File \u001b[0;32m~/IC_AnaliseSentimento/venv/lib/python3.9/site-packages/datasets/data_files.py:763\u001b[0m, in \u001b[0;36mDataFilesList.from_local_or_remote\u001b[0;34m(cls, patterns, base_path, allowed_extensions, use_auth_token)\u001b[0m\n\u001b[1;32m    754\u001b[0m \u001b[39m@classmethod\u001b[39m\n\u001b[1;32m    755\u001b[0m \u001b[39mdef\u001b[39;00m \u001b[39mfrom_local_or_remote\u001b[39m(\n\u001b[1;32m    756\u001b[0m     \u001b[39mcls\u001b[39m,\n\u001b[0;32m   (...)\u001b[0m\n\u001b[1;32m    760\u001b[0m     use_auth_token: Optional[Union[\u001b[39mbool\u001b[39m, \u001b[39mstr\u001b[39m]] \u001b[39m=\u001b[39m \u001b[39mNone\u001b[39;00m,\n\u001b[1;32m    761\u001b[0m ) \u001b[39m-\u001b[39m\u001b[39m>\u001b[39m \u001b[39m\"\u001b[39m\u001b[39mDataFilesList\u001b[39m\u001b[39m\"\u001b[39m:\n\u001b[1;32m    762\u001b[0m     base_path \u001b[39m=\u001b[39m base_path \u001b[39mif\u001b[39;00m base_path \u001b[39mis\u001b[39;00m \u001b[39mnot\u001b[39;00m \u001b[39mNone\u001b[39;00m \u001b[39melse\u001b[39;00m \u001b[39mstr\u001b[39m(Path()\u001b[39m.\u001b[39mresolve())\n\u001b[0;32m--> 763\u001b[0m     data_files \u001b[39m=\u001b[39m resolve_patterns_locally_or_by_urls(base_path, patterns, allowed_extensions)\n\u001b[1;32m    764\u001b[0m     origin_metadata \u001b[39m=\u001b[39m _get_origin_metadata_locally_or_by_urls(data_files, use_auth_token\u001b[39m=\u001b[39muse_auth_token)\n\u001b[1;32m    765\u001b[0m     \u001b[39mreturn\u001b[39;00m \u001b[39mcls\u001b[39m(data_files, origin_metadata)\n",
      "File \u001b[0;32m~/IC_AnaliseSentimento/venv/lib/python3.9/site-packages/datasets/data_files.py:361\u001b[0m, in \u001b[0;36mresolve_patterns_locally_or_by_urls\u001b[0;34m(base_path, patterns, allowed_extensions)\u001b[0m\n\u001b[1;32m    359\u001b[0m         data_files\u001b[39m.\u001b[39mappend(Url(pattern))\n\u001b[1;32m    360\u001b[0m     \u001b[39melse\u001b[39;00m:\n\u001b[0;32m--> 361\u001b[0m         \u001b[39mfor\u001b[39;00m path \u001b[39min\u001b[39;00m _resolve_single_pattern_locally(base_path, pattern, allowed_extensions):\n\u001b[1;32m    362\u001b[0m             data_files\u001b[39m.\u001b[39mappend(path)\n\u001b[1;32m    364\u001b[0m \u001b[39mif\u001b[39;00m \u001b[39mnot\u001b[39;00m data_files:\n",
      "File \u001b[0;32m~/IC_AnaliseSentimento/venv/lib/python3.9/site-packages/datasets/data_files.py:305\u001b[0m, in \u001b[0;36m_resolve_single_pattern_locally\u001b[0;34m(base_path, pattern, allowed_extensions)\u001b[0m\n\u001b[1;32m    303\u001b[0m     \u001b[39mif\u001b[39;00m allowed_extensions \u001b[39mis\u001b[39;00m \u001b[39mnot\u001b[39;00m \u001b[39mNone\u001b[39;00m:\n\u001b[1;32m    304\u001b[0m         error_msg \u001b[39m+\u001b[39m\u001b[39m=\u001b[39m \u001b[39mf\u001b[39m\u001b[39m\"\u001b[39m\u001b[39m with any supported extension \u001b[39m\u001b[39m{\u001b[39;00m\u001b[39mlist\u001b[39m(allowed_extensions)\u001b[39m}\u001b[39;00m\u001b[39m\"\u001b[39m\n\u001b[0;32m--> 305\u001b[0m     \u001b[39mraise\u001b[39;00m \u001b[39mFileNotFoundError\u001b[39;00m(error_msg)\n\u001b[1;32m    306\u001b[0m \u001b[39mreturn\u001b[39;00m \u001b[39msorted\u001b[39m(out)\n",
      "\u001b[0;31mFileNotFoundError\u001b[0m: Unable to find '/home/thiago/IC_AnaliseSentimento/src/datasets_code/../../data/dataset_olist.csv' at /home/thiago/IC_AnaliseSentimento/src/datasets_code"
     ]
    }
   ],
   "source": [
    "dataset = Dataset.from_csv(DIR+dataset_path+\"dataset_olist.csv\")"
   ]
  },
  {
   "cell_type": "code",
   "execution_count": null,
   "metadata": {},
   "outputs": [],
   "source": [
    "for index, label in enumerate(dataset[\"labels\"]):\n",
    "    if not label:\n",
    "        print(str(label) + \" - \" + str(index))"
   ]
  },
  {
   "cell_type": "code",
   "execution_count": null,
   "metadata": {},
   "outputs": [],
   "source": []
  },
  {
   "cell_type": "code",
   "execution_count": null,
   "metadata": {},
   "outputs": [],
   "source": []
  }
 ],
 "metadata": {
  "kernelspec": {
   "display_name": "Python 3",
   "language": "python",
   "name": "python3"
  },
  "language_info": {
   "codemirror_mode": {
    "name": "ipython",
    "version": 3
   },
   "file_extension": ".py",
   "mimetype": "text/x-python",
   "name": "python",
   "nbconvert_exporter": "python",
   "pygments_lexer": "ipython3",
   "version": "3.9.13"
  },
  "orig_nbformat": 4,
  "vscode": {
   "interpreter": {
    "hash": "8c6567b4a0b385df8abdfd302ad3b39b45fd5aade3f2daa246533e4b99d5affc"
   }
  }
 },
 "nbformat": 4,
 "nbformat_minor": 2
}
