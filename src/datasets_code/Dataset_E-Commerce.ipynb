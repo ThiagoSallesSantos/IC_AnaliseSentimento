{
 "cells": [
  {
   "attachments": {},
   "cell_type": "markdown",
   "id": "5c08b074",
   "metadata": {},
   "source": [
    "# Import's"
   ]
  },
  {
   "cell_type": "code",
   "execution_count": 1,
   "id": "bce6c5e2",
   "metadata": {},
   "outputs": [],
   "source": [
    "import os\n",
    "import re\n",
    "\n",
    "from datasets import Dataset, Value\n",
    "from keras.utils.np_utils import to_categorical"
   ]
  },
  {
   "attachments": {},
   "cell_type": "markdown",
   "id": "cb423871",
   "metadata": {},
   "source": [
    "### Variveis Constantes"
   ]
  },
  {
   "cell_type": "code",
   "execution_count": 2,
   "id": "df699577",
   "metadata": {},
   "outputs": [],
   "source": [
    "DIR = \"../../\"\n",
    "\n",
    "dataset_path = \"data/\"\n",
    "dataset_e_commerce_path = \"datasets/dataset_e-commerce/\""
   ]
  },
  {
   "attachments": {},
   "cell_type": "markdown",
   "id": "eb55d8e1",
   "metadata": {},
   "source": [
    "### Lendo os Dataset's"
   ]
  },
  {
   "cell_type": "code",
   "execution_count": 3,
   "id": "6dc93989",
   "metadata": {},
   "outputs": [
    {
     "name": "stderr",
     "output_type": "stream",
     "text": [
      "Using custom data configuration default-5a1e778d329ff297\n",
      "Found cached dataset csv (/home/thiago/.cache/huggingface/datasets/csv/default-5a1e778d329ff297/0.0.0)\n",
      "Using custom data configuration default-cd2eda35244ba4e4\n",
      "Found cached dataset csv (/home/thiago/.cache/huggingface/datasets/csv/default-cd2eda35244ba4e4/0.0.0)\n",
      "Using custom data configuration default-68afaead1c193b1b\n",
      "Found cached dataset csv (/home/thiago/.cache/huggingface/datasets/csv/default-68afaead1c193b1b/0.0.0)\n",
      "Using custom data configuration default-7769ac3f58b45370\n",
      "Found cached dataset csv (/home/thiago/.cache/huggingface/datasets/csv/default-7769ac3f58b45370/0.0.0)\n",
      "Using custom data configuration default-e400a9b2c7782f6f\n",
      "Found cached dataset csv (/home/thiago/.cache/huggingface/datasets/csv/default-e400a9b2c7782f6f/0.0.0)\n"
     ]
    }
   ],
   "source": [
    "dict_datasets : dict[str, Dataset] = dict({})\n",
    "for arquivo_nome in list(filter(lambda x: x.endswith(\".csv\"), os.listdir(DIR+dataset_path+dataset_e_commerce_path))):\n",
    "    dict_datasets.update(dict({arquivo_nome: Dataset.from_csv(DIR+dataset_path+dataset_e_commerce_path+arquivo_nome)}))"
   ]
  },
  {
   "cell_type": "code",
   "execution_count": 4,
   "id": "01cbf462",
   "metadata": {},
   "outputs": [
    {
     "data": {
      "text/plain": [
       "{'utlc_apps.csv': Dataset({\n",
       "     features: ['original_index', 'review_text', 'review_text_processed', 'review_text_tokenized', 'polarity', 'rating', 'kfold_polarity', 'kfold_rating'],\n",
       "     num_rows: 1039535\n",
       " }),\n",
       " 'buscape.csv': Dataset({\n",
       "     features: ['original_index', 'review_text', 'review_text_processed', 'review_text_tokenized', 'polarity', 'rating', 'kfold_polarity', 'kfold_rating'],\n",
       "     num_rows: 84991\n",
       " }),\n",
       " 'utlc_movies.csv': Dataset({\n",
       "     features: ['original_index', 'review_text', 'review_text_processed', 'review_text_tokenized', 'polarity', 'rating', 'kfold_polarity', 'kfold_rating'],\n",
       "     num_rows: 1487449\n",
       " }),\n",
       " 'b2w.csv': Dataset({\n",
       "     features: ['original_index', 'review_text', 'review_text_processed', 'review_text_tokenized', 'polarity', 'rating', 'kfold_polarity', 'kfold_rating'],\n",
       "     num_rows: 132373\n",
       " }),\n",
       " 'olist.csv': Dataset({\n",
       "     features: ['original_index', 'review_text', 'review_text_processed', 'review_text_tokenized', 'polarity', 'rating', 'kfold_polarity', 'kfold_rating'],\n",
       "     num_rows: 41744\n",
       " })}"
      ]
     },
     "execution_count": 4,
     "metadata": {},
     "output_type": "execute_result"
    }
   ],
   "source": [
    "dict_datasets"
   ]
  },
  {
   "attachments": {},
   "cell_type": "markdown",
   "id": "d595734c",
   "metadata": {},
   "source": [
    "### Funções"
   ]
  },
  {
   "attachments": {},
   "cell_type": "markdown",
   "id": "00303936",
   "metadata": {},
   "source": [
    "#### Renomeando as colunas"
   ]
  },
  {
   "cell_type": "code",
   "execution_count": 5,
   "id": "663181e8",
   "metadata": {},
   "outputs": [],
   "source": [
    "def renomea_colunas(dataset: Dataset):\n",
    "    dataset = dataset.rename_column(\"review_text\", \"text\")\n",
    "    dataset = dataset.rename_column(\"polarity\", \"labels\")\n",
    "    dataset = dataset.rename_column(\"kfold_polarity\", \"group\")\n",
    "    return dataset"
   ]
  },
  {
   "attachments": {},
   "cell_type": "markdown",
   "id": "623c8f8e",
   "metadata": {},
   "source": [
    "#### Remove as colunas"
   ]
  },
  {
   "cell_type": "code",
   "execution_count": 6,
   "id": "57af9688",
   "metadata": {},
   "outputs": [],
   "source": [
    "def remove_colunas(dataset: Dataset):\n",
    "    dataset = dataset.remove_columns([\"original_index\", \"review_text_tokenized\", \"review_text_processed\", \"rating\", \"kfold_rating\"])\n",
    "    return dataset"
   ]
  },
  {
   "attachments": {},
   "cell_type": "markdown",
   "id": "296c3240",
   "metadata": {},
   "source": [
    "#### Convert label"
   ]
  },
  {
   "cell_type": "code",
   "execution_count": 7,
   "id": "68890db2",
   "metadata": {},
   "outputs": [],
   "source": [
    "def convert_coluna_to_int(dataset: Dataset, coluna: str):\n",
    "    novo_tipo = dataset.features.copy()\n",
    "    novo_tipo[\"labels\"] = Value(\"int32\")\n",
    "    dataset = dataset.cast(novo_tipo)\n",
    "    return dataset"
   ]
  },
  {
   "attachments": {},
   "cell_type": "markdown",
   "id": "f28099ad",
   "metadata": {},
   "source": [
    "#### Convert to categorical"
   ]
  },
  {
   "cell_type": "code",
   "execution_count": 8,
   "id": "b2becdeb",
   "metadata": {},
   "outputs": [],
   "source": [
    "def convert_coluna_to_categorical(data, coluna: str, num_classes: int):\n",
    "    data[coluna] = to_categorical(data[coluna], num_classes=num_classes)\n",
    "    return data"
   ]
  },
  {
   "attachments": {},
   "cell_type": "markdown",
   "id": "4f03b239",
   "metadata": {},
   "source": [
    "#### Convert rating"
   ]
  },
  {
   "cell_type": "code",
   "execution_count": 9,
   "id": "fb0cb737",
   "metadata": {},
   "outputs": [],
   "source": [
    "## Usado para caso for utilizar a coluna 'rating'\n",
    "def convert_labels(data, coluna: str):\n",
    "    \"\"\"\n",
    "    0 - negativo\n",
    "    1 - neutro\n",
    "    2 - positivo\n",
    "    \"\"\"\n",
    "    if data[coluna] <= 2:\n",
    "        data[coluna] = 0\n",
    "    elif data[coluna] == 3:\n",
    "        data[coluna] = 1\n",
    "    else:\n",
    "        data[coluna] = 2\n",
    "    return data"
   ]
  },
  {
   "attachments": {},
   "cell_type": "markdown",
   "id": "04110ba5",
   "metadata": {},
   "source": [
    "### Filtra Coluna"
   ]
  },
  {
   "cell_type": "code",
   "execution_count": 10,
   "id": "31da5066",
   "metadata": {},
   "outputs": [],
   "source": [
    "def filtra_coluna(dataset: Dataset, coluna: str, remover: list = [None, \"\"]):\n",
    "    return dataset.filter(lambda dado: dado[coluna] not in remover)"
   ]
  },
  {
   "cell_type": "markdown",
   "id": "bd3f7aa5",
   "metadata": {},
   "source": [
    "### Limpa texto"
   ]
  },
  {
   "cell_type": "code",
   "execution_count": 11,
   "id": "b138d312",
   "metadata": {},
   "outputs": [],
   "source": [
    "def limpa_texto(data, coluna: str):\n",
    "    if isinstance(data[coluna], str):\n",
    "        data[coluna] = data[coluna].strip()\n",
    "    return data"
   ]
  },
  {
   "attachments": {},
   "cell_type": "markdown",
   "id": "9c9be6fc",
   "metadata": {},
   "source": [
    "### Arrumando os datasets do e-commerce"
   ]
  },
  {
   "attachments": {},
   "cell_type": "markdown",
   "id": "2f1b280a",
   "metadata": {},
   "source": [
    "#### Automático"
   ]
  },
  {
   "cell_type": "code",
   "execution_count": 12,
   "id": "e065dac0",
   "metadata": {},
   "outputs": [
    {
     "name": "stderr",
     "output_type": "stream",
     "text": [
      "Loading cached processed dataset at /home/thiago/.cache/huggingface/datasets/csv/default-5a1e778d329ff297/0.0.0/cache-107169014090089f.arrow\n",
      "Loading cached processed dataset at /home/thiago/.cache/huggingface/datasets/csv/default-5a1e778d329ff297/0.0.0/cache-4e777ccb835b9077.arrow\n",
      "Loading cached processed dataset at /home/thiago/.cache/huggingface/datasets/csv/default-5a1e778d329ff297/0.0.0/cache-a4c69ee8e3c3d403.arrow\n",
      "Loading cached processed dataset at /home/thiago/.cache/huggingface/datasets/csv/default-5a1e778d329ff297/0.0.0/cache-a42a53564de2ea0d.arrow\n"
     ]
    },
    {
     "name": "stdout",
     "output_type": "stream",
     "text": [
      "utlc_apps.csv\n"
     ]
    },
    {
     "data": {
      "application/vnd.jupyter.widget-view+json": {
       "model_id": "73df630650644ee09435e75094ee5b7d",
       "version_major": 2,
       "version_minor": 0
      },
      "text/plain": [
       "  0%|          | 0/969 [00:00<?, ?ba/s]"
      ]
     },
     "metadata": {},
     "output_type": "display_data"
    },
    {
     "data": {
      "application/vnd.jupyter.widget-view+json": {
       "model_id": "9df7360091d24f90874e11a9874ef952",
       "version_major": 2,
       "version_minor": 0
      },
      "text/plain": [
       "Creating json from Arrow format:   0%|          | 0/97 [00:00<?, ?ba/s]"
      ]
     },
     "metadata": {},
     "output_type": "display_data"
    },
    {
     "name": "stdout",
     "output_type": "stream",
     "text": [
      "buscape.csv\n"
     ]
    },
    {
     "data": {
      "application/vnd.jupyter.widget-view+json": {
       "model_id": "5341f2ea17cc4ff4ae54a7f4550211b9",
       "version_major": 2,
       "version_minor": 0
      },
      "text/plain": [
       "  0%|          | 0/84991 [00:00<?, ?ex/s]"
      ]
     },
     "metadata": {},
     "output_type": "display_data"
    },
    {
     "data": {
      "application/vnd.jupyter.widget-view+json": {
       "model_id": "a6ca8bed1530444eb1656aa94fa00f1b",
       "version_major": 2,
       "version_minor": 0
      },
      "text/plain": [
       "  0%|          | 0/85 [00:00<?, ?ba/s]"
      ]
     },
     "metadata": {},
     "output_type": "display_data"
    },
    {
     "data": {
      "application/vnd.jupyter.widget-view+json": {
       "model_id": "7d9b766305ac4720aa5ac4057fa998c6",
       "version_major": 2,
       "version_minor": 0
      },
      "text/plain": [
       "  0%|          | 0/74 [00:00<?, ?ba/s]"
      ]
     },
     "metadata": {},
     "output_type": "display_data"
    },
    {
     "data": {
      "application/vnd.jupyter.widget-view+json": {
       "model_id": "9b43332fa2244731adcf2fcebd3bf999",
       "version_major": 2,
       "version_minor": 0
      },
      "text/plain": [
       "Casting the dataset:   0%|          | 0/8 [00:00<?, ?ba/s]"
      ]
     },
     "metadata": {},
     "output_type": "display_data"
    },
    {
     "data": {
      "application/vnd.jupyter.widget-view+json": {
       "model_id": "9e76e541c3294051a94e69ac6b631284",
       "version_major": 2,
       "version_minor": 0
      },
      "text/plain": [
       "  0%|          | 0/74 [00:00<?, ?ba/s]"
      ]
     },
     "metadata": {},
     "output_type": "display_data"
    },
    {
     "data": {
      "application/vnd.jupyter.widget-view+json": {
       "model_id": "d03511d22afb489fba81bef3462dc852",
       "version_major": 2,
       "version_minor": 0
      },
      "text/plain": [
       "Creating json from Arrow format:   0%|          | 0/8 [00:00<?, ?ba/s]"
      ]
     },
     "metadata": {},
     "output_type": "display_data"
    },
    {
     "name": "stdout",
     "output_type": "stream",
     "text": [
      "utlc_movies.csv\n"
     ]
    },
    {
     "data": {
      "application/vnd.jupyter.widget-view+json": {
       "model_id": "e1791cfa8cbf4db39cd6cc366267395a",
       "version_major": 2,
       "version_minor": 0
      },
      "text/plain": [
       "  0%|          | 0/1487449 [00:00<?, ?ex/s]"
      ]
     },
     "metadata": {},
     "output_type": "display_data"
    },
    {
     "data": {
      "application/vnd.jupyter.widget-view+json": {
       "model_id": "7519cb2d5524492d8ee31b45de2309b8",
       "version_major": 2,
       "version_minor": 0
      },
      "text/plain": [
       "  0%|          | 0/1488 [00:00<?, ?ba/s]"
      ]
     },
     "metadata": {},
     "output_type": "display_data"
    },
    {
     "data": {
      "application/vnd.jupyter.widget-view+json": {
       "model_id": "60ef9ec58a1b471ba2abef74b5ab5159",
       "version_major": 2,
       "version_minor": 0
      },
      "text/plain": [
       "  0%|          | 0/1190 [00:00<?, ?ba/s]"
      ]
     },
     "metadata": {},
     "output_type": "display_data"
    },
    {
     "data": {
      "application/vnd.jupyter.widget-view+json": {
       "model_id": "c3aae118ab374d5d920dfc7721eb43ad",
       "version_major": 2,
       "version_minor": 0
      },
      "text/plain": [
       "Casting the dataset:   0%|          | 0/119 [00:00<?, ?ba/s]"
      ]
     },
     "metadata": {},
     "output_type": "display_data"
    },
    {
     "data": {
      "application/vnd.jupyter.widget-view+json": {
       "model_id": "8ac710c25ad146168d6d48b1c5b56427",
       "version_major": 2,
       "version_minor": 0
      },
      "text/plain": [
       "  0%|          | 0/1190 [00:00<?, ?ba/s]"
      ]
     },
     "metadata": {},
     "output_type": "display_data"
    },
    {
     "data": {
      "application/vnd.jupyter.widget-view+json": {
       "model_id": "0a7cf32b988443d9870dbaab2ad4953e",
       "version_major": 2,
       "version_minor": 0
      },
      "text/plain": [
       "Creating json from Arrow format:   0%|          | 0/119 [00:00<?, ?ba/s]"
      ]
     },
     "metadata": {},
     "output_type": "display_data"
    },
    {
     "name": "stdout",
     "output_type": "stream",
     "text": [
      "b2w.csv\n"
     ]
    },
    {
     "data": {
      "application/vnd.jupyter.widget-view+json": {
       "model_id": "523f8101bd1d4c7da33412107de3966f",
       "version_major": 2,
       "version_minor": 0
      },
      "text/plain": [
       "  0%|          | 0/132373 [00:00<?, ?ex/s]"
      ]
     },
     "metadata": {},
     "output_type": "display_data"
    },
    {
     "data": {
      "application/vnd.jupyter.widget-view+json": {
       "model_id": "22487f089323409697e20851e97fd426",
       "version_major": 2,
       "version_minor": 0
      },
      "text/plain": [
       "  0%|          | 0/133 [00:00<?, ?ba/s]"
      ]
     },
     "metadata": {},
     "output_type": "display_data"
    },
    {
     "data": {
      "application/vnd.jupyter.widget-view+json": {
       "model_id": "4889e40c24bb460cb5e7127176ddcd78",
       "version_major": 2,
       "version_minor": 0
      },
      "text/plain": [
       "  0%|          | 0/117 [00:00<?, ?ba/s]"
      ]
     },
     "metadata": {},
     "output_type": "display_data"
    },
    {
     "data": {
      "application/vnd.jupyter.widget-view+json": {
       "model_id": "98b583186db64428a752aaeebad4ea75",
       "version_major": 2,
       "version_minor": 0
      },
      "text/plain": [
       "Casting the dataset:   0%|          | 0/12 [00:00<?, ?ba/s]"
      ]
     },
     "metadata": {},
     "output_type": "display_data"
    },
    {
     "data": {
      "application/vnd.jupyter.widget-view+json": {
       "model_id": "2e15e53db60f4fa29e50c8520deabe15",
       "version_major": 2,
       "version_minor": 0
      },
      "text/plain": [
       "  0%|          | 0/117 [00:00<?, ?ba/s]"
      ]
     },
     "metadata": {},
     "output_type": "display_data"
    },
    {
     "data": {
      "application/vnd.jupyter.widget-view+json": {
       "model_id": "b3290f219cbc4320b9a5ae81bb330257",
       "version_major": 2,
       "version_minor": 0
      },
      "text/plain": [
       "Creating json from Arrow format:   0%|          | 0/12 [00:00<?, ?ba/s]"
      ]
     },
     "metadata": {},
     "output_type": "display_data"
    },
    {
     "name": "stdout",
     "output_type": "stream",
     "text": [
      "olist.csv\n"
     ]
    },
    {
     "data": {
      "application/vnd.jupyter.widget-view+json": {
       "model_id": "d14012aef80e4a8489c2f0eaae479c26",
       "version_major": 2,
       "version_minor": 0
      },
      "text/plain": [
       "  0%|          | 0/41744 [00:00<?, ?ex/s]"
      ]
     },
     "metadata": {},
     "output_type": "display_data"
    },
    {
     "data": {
      "application/vnd.jupyter.widget-view+json": {
       "model_id": "2065b83cf9854eb7a991177c52356003",
       "version_major": 2,
       "version_minor": 0
      },
      "text/plain": [
       "  0%|          | 0/42 [00:00<?, ?ba/s]"
      ]
     },
     "metadata": {},
     "output_type": "display_data"
    },
    {
     "data": {
      "application/vnd.jupyter.widget-view+json": {
       "model_id": "51b5cac2780347ccbd8d095e19937902",
       "version_major": 2,
       "version_minor": 0
      },
      "text/plain": [
       "  0%|          | 0/39 [00:00<?, ?ba/s]"
      ]
     },
     "metadata": {},
     "output_type": "display_data"
    },
    {
     "data": {
      "application/vnd.jupyter.widget-view+json": {
       "model_id": "5422dc51a7a54400827e26340b21ae37",
       "version_major": 2,
       "version_minor": 0
      },
      "text/plain": [
       "Casting the dataset:   0%|          | 0/4 [00:00<?, ?ba/s]"
      ]
     },
     "metadata": {},
     "output_type": "display_data"
    },
    {
     "data": {
      "application/vnd.jupyter.widget-view+json": {
       "model_id": "9a32afce543244709998491e3afa0870",
       "version_major": 2,
       "version_minor": 0
      },
      "text/plain": [
       "  0%|          | 0/39 [00:00<?, ?ba/s]"
      ]
     },
     "metadata": {},
     "output_type": "display_data"
    },
    {
     "data": {
      "application/vnd.jupyter.widget-view+json": {
       "model_id": "28d3832b6cf2492e8eadb6577df72d91",
       "version_major": 2,
       "version_minor": 0
      },
      "text/plain": [
       "Creating json from Arrow format:   0%|          | 0/4 [00:00<?, ?ba/s]"
      ]
     },
     "metadata": {},
     "output_type": "display_data"
    }
   ],
   "source": [
    "for arquivo in dict_datasets.keys():\n",
    "    print(arquivo)\n",
    "    dict_datasets[arquivo] = renomea_colunas(dict_datasets[arquivo])\n",
    "    dict_datasets[arquivo] = remove_colunas(dict_datasets[arquivo])\n",
    "\n",
    "    dict_datasets[arquivo] = dict_datasets[arquivo].map(lambda dado: limpa_texto(dado, \"text\"))\n",
    "\n",
    "    dict_datasets[arquivo] = filtra_coluna(dict_datasets[arquivo], \"labels\")\n",
    "    dict_datasets[arquivo] = filtra_coluna(dict_datasets[arquivo], \"text\")\n",
    "    \n",
    "    dict_datasets[arquivo] = convert_coluna_to_int(dict_datasets[arquivo], \"labels\")\n",
    "    # dict_datasets[arquivo] = dict_datasets[arquivo].map(lambda data: convert_labels(data, \"labels\"))\n",
    "    dict_datasets[arquivo] = dict_datasets[arquivo].add_column(\"labels_int\", dict_datasets[arquivo][\"labels\"])\n",
    "    num_classes = len(set(dict_datasets[arquivo][\"labels\"]))\n",
    "    dict_datasets[arquivo] = dict_datasets[arquivo].map(lambda batch: convert_coluna_to_categorical(batch, \"labels\", num_classes), batched=True)\n",
    "    \n",
    "    dict_datasets[arquivo].to_json(DIR+dataset_path+\"dataset_\"+arquivo[:-4]+\".json\")"
   ]
  },
  {
   "attachments": {},
   "cell_type": "markdown",
   "id": "1724231f",
   "metadata": {},
   "source": [
    "#### Manual"
   ]
  },
  {
   "cell_type": "code",
   "execution_count": null,
   "id": "49b1da5f",
   "metadata": {},
   "outputs": [],
   "source": [
    "dict_datasets.keys()"
   ]
  },
  {
   "cell_type": "code",
   "execution_count": null,
   "id": "3ee5abd9",
   "metadata": {},
   "outputs": [],
   "source": [
    "dict_datasets.keys()"
   ]
  },
  {
   "cell_type": "code",
   "execution_count": null,
   "id": "5c9c177b",
   "metadata": {},
   "outputs": [],
   "source": [
    "dict_datasets.keys()"
   ]
  },
  {
   "cell_type": "code",
   "execution_count": null,
   "id": "443690d2",
   "metadata": {},
   "outputs": [],
   "source": [
    "dict_datasets.keys()"
   ]
  },
  {
   "cell_type": "code",
   "execution_count": null,
   "id": "042b0d55",
   "metadata": {},
   "outputs": [],
   "source": [
    "dataset_str = \"olist.csv\""
   ]
  },
  {
   "cell_type": "code",
   "execution_count": null,
   "id": "5d4eec19",
   "metadata": {},
   "outputs": [],
   "source": [
    "dict_datasets[dataset_str]"
   ]
  },
  {
   "attachments": {},
   "cell_type": "markdown",
   "id": "85956f81",
   "metadata": {},
   "source": [
    "##### Renomea colunas"
   ]
  },
  {
   "cell_type": "code",
   "execution_count": null,
   "id": "29a92984",
   "metadata": {},
   "outputs": [],
   "source": [
    "dict_datasets[dataset_str].features"
   ]
  },
  {
   "cell_type": "code",
   "execution_count": null,
   "id": "58c62c7c",
   "metadata": {},
   "outputs": [],
   "source": [
    "dict_datasets[dataset_str] = renomea_colunas(dict_datasets[dataset_str])"
   ]
  },
  {
   "cell_type": "code",
   "execution_count": null,
   "id": "afe8cddd",
   "metadata": {},
   "outputs": [],
   "source": [
    "dict_datasets[dataset_str].features"
   ]
  },
  {
   "attachments": {},
   "cell_type": "markdown",
   "id": "585a3d22",
   "metadata": {},
   "source": [
    "##### Remove colunas"
   ]
  },
  {
   "cell_type": "code",
   "execution_count": null,
   "id": "0437893d",
   "metadata": {},
   "outputs": [],
   "source": [
    "dict_datasets[dataset_str].features"
   ]
  },
  {
   "cell_type": "code",
   "execution_count": null,
   "id": "234faf02",
   "metadata": {},
   "outputs": [],
   "source": [
    "dict_datasets[dataset_str] = remove_colunas(dict_datasets[dataset_str])"
   ]
  },
  {
   "cell_type": "code",
   "execution_count": null,
   "id": "346d6320",
   "metadata": {},
   "outputs": [],
   "source": [
    "dict_datasets[dataset_str].features"
   ]
  },
  {
   "attachments": {},
   "cell_type": "markdown",
   "id": "df0b9e6f",
   "metadata": {},
   "source": [
    "##### Remove valores None"
   ]
  },
  {
   "attachments": {},
   "cell_type": "markdown",
   "id": "cf951d2b",
   "metadata": {},
   "source": [
    "Coluna labels"
   ]
  },
  {
   "cell_type": "code",
   "execution_count": null,
   "id": "949eb440",
   "metadata": {},
   "outputs": [],
   "source": [
    "set(dict_datasets[dataset_str][\"labels\"])"
   ]
  },
  {
   "cell_type": "code",
   "execution_count": null,
   "id": "b99e6b86",
   "metadata": {},
   "outputs": [],
   "source": [
    "None in dict_datasets[dataset_str][\"labels\"]"
   ]
  },
  {
   "cell_type": "code",
   "execution_count": null,
   "id": "412f88ac",
   "metadata": {},
   "outputs": [],
   "source": [
    "dict_datasets[dataset_str] = remove_None(dict_datasets[dataset_str], \"labels\")"
   ]
  },
  {
   "cell_type": "code",
   "execution_count": null,
   "id": "4860ea3a",
   "metadata": {},
   "outputs": [],
   "source": [
    "None in dict_datasets[dataset_str][\"labels\"]"
   ]
  },
  {
   "cell_type": "code",
   "execution_count": null,
   "id": "6d41de56",
   "metadata": {},
   "outputs": [],
   "source": [
    "set(dict_datasets[dataset_str][\"labels\"])"
   ]
  },
  {
   "attachments": {},
   "cell_type": "markdown",
   "id": "71fdf90e",
   "metadata": {},
   "source": [
    "Coluna text"
   ]
  },
  {
   "cell_type": "code",
   "execution_count": null,
   "id": "989748b6",
   "metadata": {},
   "outputs": [],
   "source": [
    "None in dict_datasets[dataset_str][\"text\"]"
   ]
  },
  {
   "cell_type": "code",
   "execution_count": null,
   "id": "c42b4b0d",
   "metadata": {},
   "outputs": [],
   "source": [
    "dict_datasets[dataset_str] = remove_None(dict_datasets[dataset_str], \"text\")"
   ]
  },
  {
   "cell_type": "code",
   "execution_count": null,
   "id": "b96468d4",
   "metadata": {},
   "outputs": [],
   "source": [
    "None in dict_datasets[dataset_str][\"text\"]"
   ]
  },
  {
   "attachments": {},
   "cell_type": "markdown",
   "id": "45c61ad6",
   "metadata": {},
   "source": [
    "Coluna Group"
   ]
  },
  {
   "cell_type": "code",
   "execution_count": null,
   "id": "c82d1a57",
   "metadata": {},
   "outputs": [],
   "source": [
    "set(dict_datasets[dataset_str][\"group\"])"
   ]
  },
  {
   "cell_type": "code",
   "execution_count": null,
   "id": "4c33d48f",
   "metadata": {},
   "outputs": [],
   "source": [
    "None in dict_datasets[dataset_str][\"group\"]"
   ]
  },
  {
   "cell_type": "code",
   "execution_count": null,
   "id": "2810b87d",
   "metadata": {},
   "outputs": [],
   "source": [
    "dict_datasets[dataset_str] = remove_None(dict_datasets[dataset_str], \"group\")"
   ]
  },
  {
   "cell_type": "code",
   "execution_count": null,
   "id": "ede8dc17",
   "metadata": {},
   "outputs": [],
   "source": [
    "None in dict_datasets[dataset_str][\"group\"]"
   ]
  },
  {
   "cell_type": "code",
   "execution_count": null,
   "id": "678e5f56",
   "metadata": {},
   "outputs": [],
   "source": [
    "set(dict_datasets[dataset_str][\"group\"])"
   ]
  },
  {
   "attachments": {},
   "cell_type": "markdown",
   "id": "1e41f658",
   "metadata": {},
   "source": [
    "##### Convert para int"
   ]
  },
  {
   "cell_type": "code",
   "execution_count": null,
   "id": "6e462ed9",
   "metadata": {},
   "outputs": [],
   "source": [
    "dict_datasets[dataset_str].features"
   ]
  },
  {
   "cell_type": "code",
   "execution_count": null,
   "id": "7465bb8a",
   "metadata": {},
   "outputs": [],
   "source": [
    "dict_datasets[dataset_str] =  convert_coluna_to_int(dict_datasets[dataset_str], \"labels\")"
   ]
  },
  {
   "cell_type": "code",
   "execution_count": null,
   "id": "41f0ca49",
   "metadata": {},
   "outputs": [],
   "source": [
    "dict_datasets[dataset_str].features"
   ]
  },
  {
   "attachments": {},
   "cell_type": "markdown",
   "id": "6e9984dd",
   "metadata": {},
   "source": [
    "##### Convert para to_categorical"
   ]
  },
  {
   "cell_type": "code",
   "execution_count": null,
   "id": "ccb053f4",
   "metadata": {},
   "outputs": [],
   "source": [
    "dict_datasets[dataset_str].features"
   ]
  },
  {
   "cell_type": "code",
   "execution_count": null,
   "id": "8d5daaea",
   "metadata": {},
   "outputs": [],
   "source": [
    "dict_datasets[dataset_str][\"labels\"][:5]"
   ]
  },
  {
   "cell_type": "code",
   "execution_count": null,
   "id": "909ae494",
   "metadata": {},
   "outputs": [],
   "source": [
    "set(dict_datasets[dataset_str][\"labels\"])"
   ]
  },
  {
   "cell_type": "code",
   "execution_count": null,
   "id": "8ba92911",
   "metadata": {},
   "outputs": [],
   "source": [
    "dict_datasets[dataset_str] = dict_datasets[dataset_str].map(lambda batch: convert_coluna_to_categorical(batch, \"labels\", len(set(dict_datasets[dataset_str][\"labels\"]))), batched=True)"
   ]
  },
  {
   "cell_type": "code",
   "execution_count": null,
   "id": "b60e47b3",
   "metadata": {},
   "outputs": [],
   "source": [
    "dict_datasets[dataset_str].features"
   ]
  },
  {
   "cell_type": "code",
   "execution_count": null,
   "id": "aba701b1",
   "metadata": {},
   "outputs": [],
   "source": [
    "dict_datasets[dataset_str][\"labels\"][:5]"
   ]
  },
  {
   "attachments": {},
   "cell_type": "markdown",
   "id": "f3fcc5b1",
   "metadata": {},
   "source": [
    "##### Verificando os grupos"
   ]
  },
  {
   "cell_type": "code",
   "execution_count": null,
   "id": "2e40df00",
   "metadata": {},
   "outputs": [],
   "source": [
    "def group_by(dataset: Dataset, coluna: str):\n",
    "    lista_grupos = []\n",
    "    for grupo in set(dataset[coluna]):\n",
    "        lista_grupos.append(dataset.filter(lambda x: x[coluna]==grupo))\n",
    "    return lista_grupos"
   ]
  },
  {
   "cell_type": "code",
   "execution_count": null,
   "id": "d2ae2302",
   "metadata": {},
   "outputs": [],
   "source": [
    "lista_datasets = group_by(dict_datasets[dataset_str], \"group\")"
   ]
  },
  {
   "cell_type": "code",
   "execution_count": null,
   "id": "412234f7",
   "metadata": {},
   "outputs": [],
   "source": [
    "for index, dataset_part in enumerate(lista_datasets):\n",
    "    print(str(index) + \" - \" + str(len(dataset_part)))"
   ]
  },
  {
   "attachments": {},
   "cell_type": "markdown",
   "id": "240fc7f2",
   "metadata": {},
   "source": [
    "##### Salvando o dataset"
   ]
  },
  {
   "cell_type": "code",
   "execution_count": null,
   "id": "9c222f08",
   "metadata": {},
   "outputs": [],
   "source": [
    "dict_datasets[dataset_str].to_json(DIR+dataset_path+\"dataset_\"+dataset_str+\".json\")"
   ]
  },
  {
   "cell_type": "code",
   "execution_count": null,
   "id": "a61dc881",
   "metadata": {},
   "outputs": [],
   "source": []
  }
 ],
 "metadata": {
  "kernelspec": {
   "display_name": "Python 3",
   "language": "python",
   "name": "python3"
  },
  "language_info": {
   "codemirror_mode": {
    "name": "ipython",
    "version": 3
   },
   "file_extension": ".py",
   "mimetype": "text/x-python",
   "name": "python",
   "nbconvert_exporter": "python",
   "pygments_lexer": "ipython3",
   "version": "3.9.13"
  },
  "vscode": {
   "interpreter": {
    "hash": "8c6567b4a0b385df8abdfd302ad3b39b45fd5aade3f2daa246533e4b99d5affc"
   }
  }
 },
 "nbformat": 4,
 "nbformat_minor": 5
}
