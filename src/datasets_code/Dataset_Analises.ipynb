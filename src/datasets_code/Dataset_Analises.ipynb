{
 "cells": [
  {
   "attachments": {},
   "cell_type": "markdown",
   "metadata": {},
   "source": [
    "## Import"
   ]
  },
  {
   "cell_type": "code",
   "execution_count": 1,
   "metadata": {},
   "outputs": [],
   "source": [
    "from datasets import Dataset\n",
    "from collections import Counter\n",
    "import statistics\n",
    "import ast"
   ]
  },
  {
   "attachments": {},
   "cell_type": "markdown",
   "metadata": {},
   "source": [
    "## Constantes"
   ]
  },
  {
   "cell_type": "code",
   "execution_count": 2,
   "metadata": {},
   "outputs": [],
   "source": [
    "dir = \"../../\"\n",
    "dir_data = \"data/\"\n",
    "dir_dataset_path = \"datasets/dataset_e-commerce/\"\n",
    "lista_dataset_archive = [\"b2w.csv\", \"buscape.csv\", \"olist.csv\", \"utlc_apps.csv\", \"utlc_movies.csv\"]"
   ]
  },
  {
   "attachments": {},
   "cell_type": "markdown",
   "metadata": {},
   "source": [
    "## Lendo Dataset"
   ]
  },
  {
   "cell_type": "code",
   "execution_count": 3,
   "metadata": {},
   "outputs": [
    {
     "name": "stderr",
     "output_type": "stream",
     "text": [
      "Using custom data configuration default-7769ac3f58b45370\n",
      "Found cached dataset csv (/home/thiago/.cache/huggingface/datasets/csv/default-7769ac3f58b45370/0.0.0)\n",
      "Using custom data configuration default-cd2eda35244ba4e4\n",
      "Found cached dataset csv (/home/thiago/.cache/huggingface/datasets/csv/default-cd2eda35244ba4e4/0.0.0)\n",
      "Using custom data configuration default-e400a9b2c7782f6f\n",
      "Found cached dataset csv (/home/thiago/.cache/huggingface/datasets/csv/default-e400a9b2c7782f6f/0.0.0)\n",
      "Using custom data configuration default-5a1e778d329ff297\n",
      "Found cached dataset csv (/home/thiago/.cache/huggingface/datasets/csv/default-5a1e778d329ff297/0.0.0)\n",
      "Using custom data configuration default-68afaead1c193b1b\n",
      "Found cached dataset csv (/home/thiago/.cache/huggingface/datasets/csv/default-68afaead1c193b1b/0.0.0)\n"
     ]
    }
   ],
   "source": [
    "lista_dataset = []\n",
    "for dataset_archive in lista_dataset_archive:\n",
    "    lista_dataset.append([dataset_archive, Dataset.from_csv(f\"{dir}{dir_data}{dir_dataset_path}{dataset_archive}\")])"
   ]
  },
  {
   "attachments": {},
   "cell_type": "markdown",
   "metadata": {},
   "source": [
    "## Analise"
   ]
  },
  {
   "cell_type": "code",
   "execution_count": 4,
   "metadata": {},
   "outputs": [
    {
     "data": {
      "text/plain": [
       "{'original_index': Value(dtype='int64', id=None),\n",
       " 'review_text': Value(dtype='string', id=None),\n",
       " 'review_text_processed': Value(dtype='string', id=None),\n",
       " 'review_text_tokenized': Value(dtype='string', id=None),\n",
       " 'polarity': Value(dtype='float64', id=None),\n",
       " 'rating': Value(dtype='int64', id=None),\n",
       " 'kfold_polarity': Value(dtype='int64', id=None),\n",
       " 'kfold_rating': Value(dtype='int64', id=None)}"
      ]
     },
     "execution_count": 4,
     "metadata": {},
     "output_type": "execute_result"
    }
   ],
   "source": [
    "lista_dataset[0][1].features"
   ]
  },
  {
   "cell_type": "code",
   "execution_count": null,
   "metadata": {},
   "outputs": [],
   "source": [
    "for dataset_archive, dataset in lista_dataset:\n",
    "    for classe, qtd in sorted(dict(Counter(dataset['rating'])).items()):\n",
    "        print(f\"{dataset_archive}: {classe} - {qtd} - {round(qtd/len(dataset)*100, 2)}\\%\")\n",
    "    print(end=\"\\n\\n\")"
   ]
  },
  {
   "cell_type": "code",
   "execution_count": null,
   "metadata": {},
   "outputs": [],
   "source": [
    "for dataset_archive, dataset in lista_dataset:\n",
    "    dataset_temp = dataset.filter(lambda x: x[\"polarity\"] != None )\n",
    "    for classe, qtd in sorted(dict(Counter(dataset_temp['polarity'])).items()):\n",
    "        print(f\"{dataset_archive}: {classe} - {qtd} - {round(qtd/len(dataset)*100, 2)}\\% - {round(qtd/len(dataset_temp)*100, 2)}\\%\")\n",
    "    print(end=\"\\n\\n\")"
   ]
  },
  {
   "cell_type": "code",
   "execution_count": null,
   "metadata": {},
   "outputs": [],
   "source": [
    "for dataset_archive, dataset in lista_dataset:\n",
    "    lista_tamanhos = []\n",
    "    vocabulario = set()\n",
    "    for dado in dataset[\"review_text_tokenized\"]:\n",
    "        lista_tamanhos.append(len(ast.literal_eval(dado)))  \n",
    "        vocabulario = vocabulario.union(ast.literal_eval(dado))\n",
    "    print(f\"{dataset_archive[:-4]} & {statistics.mean(lista_tamanhos)} & {statistics.median(lista_tamanhos)} & {statistics.mode(lista_tamanhos)} & {max(lista_tamanhos)} & {min(lista_tamanhos)} & {len(vocabulario)}\\\\\\\\\")"
   ]
  },
  {
   "cell_type": "code",
   "execution_count": null,
   "metadata": {},
   "outputs": [],
   "source": []
  }
 ],
 "metadata": {
  "kernelspec": {
   "display_name": "Python 3",
   "language": "python",
   "name": "python3"
  },
  "language_info": {
   "codemirror_mode": {
    "name": "ipython",
    "version": 3
   },
   "file_extension": ".py",
   "mimetype": "text/x-python",
   "name": "python",
   "nbconvert_exporter": "python",
   "pygments_lexer": "ipython3",
   "version": "3.9.13"
  },
  "orig_nbformat": 4
 },
 "nbformat": 4,
 "nbformat_minor": 2
}
