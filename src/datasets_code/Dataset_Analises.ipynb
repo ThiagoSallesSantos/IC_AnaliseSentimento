{
 "cells": [
  {
   "attachments": {},
   "cell_type": "markdown",
   "metadata": {},
   "source": [
    "## Import"
   ]
  },
  {
   "cell_type": "code",
   "execution_count": null,
   "metadata": {},
   "outputs": [],
   "source": [
    "from datasets import Dataset\n",
    "from collections import Counter\n",
    "import statistics\n",
    "import os"
   ]
  },
  {
   "attachments": {},
   "cell_type": "markdown",
   "metadata": {},
   "source": [
    "## Constantes"
   ]
  },
  {
   "cell_type": "code",
   "execution_count": null,
   "metadata": {},
   "outputs": [],
   "source": [
    "DIR = \"../../\"\n",
    "dir_data = \"data/\""
   ]
  },
  {
   "attachments": {},
   "cell_type": "markdown",
   "metadata": {},
   "source": [
    "## Lendo Dataset"
   ]
  },
  {
   "cell_type": "code",
   "execution_count": null,
   "metadata": {},
   "outputs": [],
   "source": [
    "dict_datasets : dict[str, Dataset] = dict({})\n",
    "for arquivo_nome in list(filter(lambda x: x.endswith(\".json\"), os.listdir(DIR+dir_data))):\n",
    "    dict_datasets.update(dict({arquivo_nome: Dataset.from_json(DIR+dir_data+arquivo_nome)}))"
   ]
  },
  {
   "attachments": {},
   "cell_type": "markdown",
   "metadata": {},
   "source": [
    "## Analise"
   ]
  },
  {
   "cell_type": "code",
   "execution_count": null,
   "metadata": {},
   "outputs": [],
   "source": [
    "dict_datasets"
   ]
  },
  {
   "cell_type": "code",
   "execution_count": null,
   "metadata": {},
   "outputs": [],
   "source": [
    "for dataset_archive, dataset in dict_datasets.items():\n",
    "    print(f\"{dataset_archive[8:-5]}\", end=\" & \")\n",
    "    for classe, qtd in sorted(dict(Counter(dataset['labels_int'])).items()):\n",
    "        print(f\"{round(qtd/len(dataset)*100, 2)}\\%\", end=\" & \")\n",
    "    print(end=\"\\n\\n\")"
   ]
  },
  {
   "cell_type": "code",
   "execution_count": null,
   "metadata": {},
   "outputs": [],
   "source": [
    "for dataset_archive, dataset in dict_datasets.items():\n",
    "    lista_tamanhos = []\n",
    "    vocabulario = set()\n",
    "    for texto in dataset[\"text\"]:\n",
    "        lista_tamanhos.append(len(texto.split()))  \n",
    "        vocabulario.update(texto.split())\n",
    "    print(f\"{dataset_archive[8:-5]} & {round(statistics.mean(lista_tamanhos))} & {statistics.median(lista_tamanhos)} & {statistics.mode(lista_tamanhos)} & {max(lista_tamanhos)} & {min(lista_tamanhos)} & {len(vocabulario)}\\\\\\\\\")"
   ]
  },
  {
   "attachments": {},
   "cell_type": "markdown",
   "metadata": {},
   "source": [
    "#### Testes"
   ]
  },
  {
   "cell_type": "code",
   "execution_count": null,
   "metadata": {},
   "outputs": [],
   "source": [
    "for dataset_archive, dataset in dict_datasets.items():\n",
    "    print(f\"-{dataset_archive}-\", end=\"\\n\")\n",
    "    for grupo in set(dataset[\"group\"]):\n",
    "        print(f\"{grupo}\", end=\"\")\n",
    "        dataset_grupo = dataset.filter(lambda dado: dado[\"group\"] == grupo)\n",
    "        for classe, qtd in sorted(dict(Counter(dataset_grupo['labels_int'])).items()):\n",
    "            print(f\"{classe}: {round(qtd/len(dataset)*100, 2)}\\%\")\n",
    "        print(end=\"\\n\")\n",
    "    print(end=\"\\n\\n\")"
   ]
  },
  {
   "cell_type": "code",
   "execution_count": null,
   "metadata": {},
   "outputs": [],
   "source": []
  }
 ],
 "metadata": {
  "kernelspec": {
   "display_name": "Python 3",
   "language": "python",
   "name": "python3"
  },
  "language_info": {
   "codemirror_mode": {
    "name": "ipython",
    "version": 3
   },
   "file_extension": ".py",
   "mimetype": "text/x-python",
   "name": "python",
   "nbconvert_exporter": "python",
   "pygments_lexer": "ipython3",
   "version": "3.9.13"
  },
  "orig_nbformat": 4
 },
 "nbformat": 4,
 "nbformat_minor": 2
}
