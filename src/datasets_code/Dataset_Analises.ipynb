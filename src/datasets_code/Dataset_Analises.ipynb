{
 "cells": [
  {
   "attachments": {},
   "cell_type": "markdown",
   "metadata": {},
   "source": [
    "## Import"
   ]
  },
  {
   "cell_type": "code",
   "execution_count": 1,
   "metadata": {},
   "outputs": [],
   "source": [
    "from datasets import Dataset\n",
    "from collections import Counter\n",
    "import statistics\n",
    "import os"
   ]
  },
  {
   "attachments": {},
   "cell_type": "markdown",
   "metadata": {},
   "source": [
    "## Constantes"
   ]
  },
  {
   "cell_type": "code",
   "execution_count": 2,
   "metadata": {},
   "outputs": [],
   "source": [
    "DIR = \"../../\""
   ]
  },
  {
   "cell_type": "markdown",
   "metadata": {},
   "source": [
    "## Baselines"
   ]
  },
  {
   "cell_type": "code",
   "execution_count": 3,
   "metadata": {},
   "outputs": [],
   "source": [
    "dir_data = \"data/\" ## Baselines"
   ]
  },
  {
   "attachments": {},
   "cell_type": "markdown",
   "metadata": {},
   "source": [
    "### Lendo Dataset"
   ]
  },
  {
   "cell_type": "code",
   "execution_count": 4,
   "metadata": {},
   "outputs": [
    {
     "name": "stderr",
     "output_type": "stream",
     "text": [
      "Using custom data configuration default-ff65ef7f10bbc961\n",
      "Found cached dataset json (/home/thiago/.cache/huggingface/datasets/json/default-ff65ef7f10bbc961/0.0.0)\n",
      "Using custom data configuration default-aef0534a0e515973\n",
      "Found cached dataset json (/home/thiago/.cache/huggingface/datasets/json/default-aef0534a0e515973/0.0.0)\n",
      "Using custom data configuration default-4644021550a575e4\n",
      "Found cached dataset json (/home/thiago/.cache/huggingface/datasets/json/default-4644021550a575e4/0.0.0)\n",
      "Using custom data configuration default-be9c838f6c2f2531\n",
      "Found cached dataset json (/home/thiago/.cache/huggingface/datasets/json/default-be9c838f6c2f2531/0.0.0)\n",
      "Using custom data configuration default-c7d22920d46d2a06\n",
      "Found cached dataset json (/home/thiago/.cache/huggingface/datasets/json/default-c7d22920d46d2a06/0.0.0)\n",
      "Using custom data configuration default-9334dace55b39145\n",
      "Found cached dataset json (/home/thiago/.cache/huggingface/datasets/json/default-9334dace55b39145/0.0.0)\n",
      "Using custom data configuration default-7ef50e8b713c5403\n",
      "Found cached dataset json (/home/thiago/.cache/huggingface/datasets/json/default-7ef50e8b713c5403/0.0.0)\n"
     ]
    }
   ],
   "source": [
    "dict_datasets : dict[str, Dataset] = dict({})\n",
    "for arquivo_nome in list(filter(lambda x: x.endswith(\".json\"), os.listdir(DIR+dir_data))):\n",
    "    dict_datasets.update(dict({arquivo_nome: Dataset.from_json(DIR+dir_data+arquivo_nome)}))"
   ]
  },
  {
   "attachments": {},
   "cell_type": "markdown",
   "metadata": {},
   "source": [
    "### Analise"
   ]
  },
  {
   "cell_type": "code",
   "execution_count": 5,
   "metadata": {},
   "outputs": [
    {
     "data": {
      "text/plain": [
       "{'dataset_olist.json': Dataset({\n",
       "     features: ['text', 'labels', 'group', 'labels_int'],\n",
       "     num_rows: 38062\n",
       " }),\n",
       " 'dataset_utlc_apps.json': Dataset({\n",
       "     features: ['text', 'labels', 'group', 'labels_int'],\n",
       "     num_rows: 968858\n",
       " }),\n",
       " 'dataset_concatenate.json': Dataset({\n",
       "     features: ['text', 'labels', 'labels_int'],\n",
       "     num_rows: 2386146\n",
       " }),\n",
       " 'dataset_buscape.json': Dataset({\n",
       "     features: ['text', 'labels', 'group', 'labels_int'],\n",
       "     num_rows: 73626\n",
       " }),\n",
       " 'dataset_utlc_movies.json': Dataset({\n",
       "     features: ['text', 'labels', 'group', 'labels_int'],\n",
       "     num_rows: 1189542\n",
       " }),\n",
       " 'dataset_b2w.json': Dataset({\n",
       "     features: ['text', 'labels', 'group', 'labels_int'],\n",
       "     num_rows: 116058\n",
       " }),\n",
       " 'dataset_twitter_ASBR.json': Dataset({\n",
       "     features: ['labels', 'group', 'text', 'labels_int'],\n",
       "     num_rows: 14788\n",
       " })}"
      ]
     },
     "execution_count": 5,
     "metadata": {},
     "output_type": "execute_result"
    }
   ],
   "source": [
    "dict_datasets"
   ]
  },
  {
   "cell_type": "code",
   "execution_count": 9,
   "metadata": {},
   "outputs": [
    {
     "name": "stdout",
     "output_type": "stream",
     "text": [
      "olist & 29,97\\% & 70,03\\% \\\\\n",
      "utlc\\textunderscore apps & 22,51\\% & 77,49\\% \\\\\n",
      "concatenate & 17,17\\% & 82,83\\% \\\\\n",
      "buscape & 9,25\\% & 90,75\\% \\\\\n",
      "utlc\\textunderscore movies & 11,56\\% & 88,44\\% \\\\\n",
      "b2w & 30,81\\% & 69,19\\% \\\\\n",
      "twitter\\textunderscore ASBR & 29,78\\% & 25,6\\% & 44,62\\% \\\\\n"
     ]
    }
   ],
   "source": [
    "for dataset_archive, dataset in dict_datasets.items():\n",
    "    print(f\"{dataset_archive[8:-5]}\".replace(\"_\", \"\\\\textunderscore \"), end=\" \")\n",
    "    for classe, qtd in sorted(dict(Counter(dataset['labels_int'])).items()):\n",
    "        print(f\"& {round(qtd/len(dataset)*100, 2)}\\%\".replace(\".\", \",\"), end=\" \")\n",
    "    print(\"\\\\\\\\\", end=\"\\n\")"
   ]
  },
  {
   "cell_type": "code",
   "execution_count": 10,
   "metadata": {},
   "outputs": [
    {
     "name": "stdout",
     "output_type": "stream",
     "text": [
      "olist & 38.062 & 12 & 9 & 2 & 45 & 1 & 33.517 \\\\\n",
      "utlc\\textunderscore apps & 968.858 & 12 & 8 & 1 & 612 & 1 & 378.194 \\\\\n",
      "concatenate & 2.386.146 & 25 & 12 & 1 & 7.323 & 1 & 1.566.262 \\\\\n",
      "buscape & 73.626 & 44 & 30 & 18 & 844 & 1 & 151.962 \\\\\n",
      "utlc\\textunderscore movies & 1.189.542 & 35 & 16 & 2 & 7.323 & 1 & 1.193.754 \\\\\n",
      "b2w & 116.058 & 24 & 16 & 10 & 696 & 1 & 136.217 \\\\\n",
      "twitter\\textunderscore ASBR & 14.788 & 12 & 11 & 7 & 54 & 1 & 17.195 \\\\\n"
     ]
    }
   ],
   "source": [
    "for dataset_archive, dataset in dict_datasets.items():\n",
    "    lista_tamanhos = []\n",
    "    vocabulario = set()\n",
    "    for texto in dataset[\"text\"]:\n",
    "        lista_tamanhos.append(len(texto.split())) \n",
    "        vocabulario.update(texto.split())\n",
    "    print(f\"{dataset_archive[8:-5]} & {'{0:,}'.format(len(dataset))} & {round(statistics.mean(lista_tamanhos))} & {round(statistics.median(lista_tamanhos))} & {statistics.mode(lista_tamanhos)} & {'{0:,}'.format(max(lista_tamanhos))} & {min(lista_tamanhos)} & {'{0:,}'.format(len(vocabulario))} \\\\\\\\\".replace(\",\", \".\").replace(\"_\", \"\\\\textunderscore \"))"
   ]
  },
  {
   "cell_type": "markdown",
   "metadata": {},
   "source": [
    "## Facebook"
   ]
  },
  {
   "cell_type": "code",
   "execution_count": 25,
   "metadata": {},
   "outputs": [],
   "source": [
    "dir_data = \"data/datasets/dataset_facebook/\" ## Facebook"
   ]
  },
  {
   "cell_type": "markdown",
   "metadata": {},
   "source": [
    "### Lendo Dataset"
   ]
  },
  {
   "cell_type": "code",
   "execution_count": 26,
   "metadata": {},
   "outputs": [
    {
     "name": "stderr",
     "output_type": "stream",
     "text": [
      "Using custom data configuration default-d3e652b9acad644a\n"
     ]
    },
    {
     "name": "stdout",
     "output_type": "stream",
     "text": [
      "Downloading and preparing dataset json/default to /home/thiago/.cache/huggingface/datasets/json/default-d3e652b9acad644a/0.0.0...\n"
     ]
    },
    {
     "data": {
      "application/vnd.jupyter.widget-view+json": {
       "model_id": "1ad57a019364479591be65293d4e2c24",
       "version_major": 2,
       "version_minor": 0
      },
      "text/plain": [
       "Downloading data files:   0%|          | 0/1 [00:00<?, ?it/s]"
      ]
     },
     "metadata": {},
     "output_type": "display_data"
    },
    {
     "data": {
      "application/vnd.jupyter.widget-view+json": {
       "model_id": "0d42e7e9bb9c47bebaa540218f8a1a6e",
       "version_major": 2,
       "version_minor": 0
      },
      "text/plain": [
       "Extracting data files:   0%|          | 0/1 [00:00<?, ?it/s]"
      ]
     },
     "metadata": {},
     "output_type": "display_data"
    },
    {
     "data": {
      "application/vnd.jupyter.widget-view+json": {
       "model_id": "6b9bf50de1eb4334b902bf33aaa51244",
       "version_major": 2,
       "version_minor": 0
      },
      "text/plain": [
       "0 tables [00:00, ? tables/s]"
      ]
     },
     "metadata": {},
     "output_type": "display_data"
    },
    {
     "name": "stdout",
     "output_type": "stream",
     "text": [
      "Dataset json downloaded and prepared to /home/thiago/.cache/huggingface/datasets/json/default-d3e652b9acad644a/0.0.0. Subsequent calls will reuse this data.\n"
     ]
    }
   ],
   "source": [
    "dataset: Dataset = None\n",
    "for arquivo_nome in list(filter(lambda x: x.endswith(\".json\"), os.listdir(DIR+dir_data))):\n",
    "    dataset = Dataset.from_json(DIR+dir_data+arquivo_nome)"
   ]
  },
  {
   "cell_type": "code",
   "execution_count": 27,
   "metadata": {},
   "outputs": [
    {
     "data": {
      "text/plain": [
       "Dataset({\n",
       "    features: ['created_time', 'text', 'permalink_url', 'id_post', 'dataset_origem', 'repetido', 'labels', 'labels_int', 'index'],\n",
       "    num_rows: 34620\n",
       "})"
      ]
     },
     "execution_count": 27,
     "metadata": {},
     "output_type": "execute_result"
    }
   ],
   "source": [
    "dataset"
   ]
  },
  {
   "cell_type": "markdown",
   "metadata": {},
   "source": [
    "### Analise"
   ]
  },
  {
   "cell_type": "code",
   "execution_count": 28,
   "metadata": {},
   "outputs": [
    {
     "data": {
      "application/vnd.jupyter.widget-view+json": {
       "model_id": "98528fdab81b498db6c43a1cd128c79e",
       "version_major": 2,
       "version_minor": 0
      },
      "text/plain": [
       "  0%|          | 0/35 [00:00<?, ?ba/s]"
      ]
     },
     "metadata": {},
     "output_type": "display_data"
    }
   ],
   "source": [
    "# dataset_repetido = dataset.filter(lambda data: data[\"repetido\"])\n",
    "dataset_nao_repetido = dataset.filter(lambda data: not data[\"repetido\"])"
   ]
  },
  {
   "cell_type": "code",
   "execution_count": 29,
   "metadata": {},
   "outputs": [
    {
     "data": {
      "text/plain": [
       "Dataset({\n",
       "    features: ['created_time', 'text', 'permalink_url', 'id_post', 'dataset_origem', 'repetido', 'labels', 'labels_int', 'index'],\n",
       "    num_rows: 34440\n",
       "})"
      ]
     },
     "execution_count": 29,
     "metadata": {},
     "output_type": "execute_result"
    }
   ],
   "source": [
    "dataset_nao_repetido"
   ]
  },
  {
   "cell_type": "code",
   "execution_count": 30,
   "metadata": {},
   "outputs": [
    {
     "data": {
      "application/vnd.jupyter.widget-view+json": {
       "model_id": "acbf77e4474342249301ae10587a7f3a",
       "version_major": 2,
       "version_minor": 0
      },
      "text/plain": [
       "  0%|          | 0/35 [00:00<?, ?ba/s]"
      ]
     },
     "metadata": {},
     "output_type": "display_data"
    }
   ],
   "source": [
    "dataset_alvo = dataset_nao_repetido.filter(lambda data: data[\"labels_int\"] != None)"
   ]
  },
  {
   "cell_type": "code",
   "execution_count": 31,
   "metadata": {},
   "outputs": [
    {
     "data": {
      "text/plain": [
       "Dataset({\n",
       "    features: ['created_time', 'text', 'permalink_url', 'id_post', 'dataset_origem', 'repetido', 'labels', 'labels_int', 'index'],\n",
       "    num_rows: 0\n",
       "})"
      ]
     },
     "execution_count": 31,
     "metadata": {},
     "output_type": "execute_result"
    }
   ],
   "source": [
    "dataset_alvo"
   ]
  },
  {
   "cell_type": "code",
   "execution_count": 32,
   "metadata": {},
   "outputs": [],
   "source": [
    "for classe, qtd in sorted(dict(Counter(dataset_alvo['labels_int'])).items()):\n",
    "    print(f\"{classe} & {qtd} & {round(qtd/len(dataset_alvo)*100, 2)}\\% \\\\\\\\\".replace(\".\", \",\"))"
   ]
  },
  {
   "cell_type": "code",
   "execution_count": 33,
   "metadata": {},
   "outputs": [
    {
     "ename": "StatisticsError",
     "evalue": "mean requires at least one data point",
     "output_type": "error",
     "traceback": [
      "\u001b[0;31m---------------------------------------------------------------------------\u001b[0m",
      "\u001b[0;31mStatisticsError\u001b[0m                           Traceback (most recent call last)",
      "\u001b[1;32m/home/thiago/IC_AnaliseSentimento/src/datasets_code/Dataset_Analises.ipynb Célula 24\u001b[0m in \u001b[0;36m6\n\u001b[1;32m      <a href='vscode-notebook-cell://ssh-remote%2B172.18.0.1/home/thiago/IC_AnaliseSentimento/src/datasets_code/Dataset_Analises.ipynb#X32sdnNjb2RlLXJlbW90ZQ%3D%3D?line=3'>4</a>\u001b[0m     lista_tamanhos\u001b[39m.\u001b[39mappend(\u001b[39mlen\u001b[39m(texto\u001b[39m.\u001b[39msplit())) \n\u001b[1;32m      <a href='vscode-notebook-cell://ssh-remote%2B172.18.0.1/home/thiago/IC_AnaliseSentimento/src/datasets_code/Dataset_Analises.ipynb#X32sdnNjb2RlLXJlbW90ZQ%3D%3D?line=4'>5</a>\u001b[0m     vocabulario\u001b[39m.\u001b[39mupdate(texto\u001b[39m.\u001b[39msplit())\n\u001b[0;32m----> <a href='vscode-notebook-cell://ssh-remote%2B172.18.0.1/home/thiago/IC_AnaliseSentimento/src/datasets_code/Dataset_Analises.ipynb#X32sdnNjb2RlLXJlbW90ZQ%3D%3D?line=5'>6</a>\u001b[0m \u001b[39mprint\u001b[39m(\u001b[39mf\u001b[39m\u001b[39m\"\u001b[39m\u001b[39m{\u001b[39;00m\u001b[39m'\u001b[39m\u001b[39m{0:,}\u001b[39;00m\u001b[39m'\u001b[39m\u001b[39m.\u001b[39mformat(\u001b[39mlen\u001b[39m(dataset_alvo))\u001b[39m}\u001b[39;00m\u001b[39m & \u001b[39m\u001b[39m{\u001b[39;00m\u001b[39mround\u001b[39m(statistics\u001b[39m.\u001b[39;49mmean(lista_tamanhos))\u001b[39m}\u001b[39;00m\u001b[39m & \u001b[39m\u001b[39m{\u001b[39;00m\u001b[39mround\u001b[39m(statistics\u001b[39m.\u001b[39mmedian(lista_tamanhos))\u001b[39m}\u001b[39;00m\u001b[39m & \u001b[39m\u001b[39m{\u001b[39;00mstatistics\u001b[39m.\u001b[39mmode(lista_tamanhos)\u001b[39m}\u001b[39;00m\u001b[39m & \u001b[39m\u001b[39m{\u001b[39;00m\u001b[39m'\u001b[39m\u001b[39m{0:,}\u001b[39;00m\u001b[39m'\u001b[39m\u001b[39m.\u001b[39mformat(\u001b[39mmax\u001b[39m(lista_tamanhos))\u001b[39m}\u001b[39;00m\u001b[39m & \u001b[39m\u001b[39m{\u001b[39;00m\u001b[39mmin\u001b[39m(lista_tamanhos)\u001b[39m}\u001b[39;00m\u001b[39m & \u001b[39m\u001b[39m{\u001b[39;00m\u001b[39m'\u001b[39m\u001b[39m{0:,}\u001b[39;00m\u001b[39m'\u001b[39m\u001b[39m.\u001b[39mformat(\u001b[39mlen\u001b[39m(vocabulario))\u001b[39m}\u001b[39;00m\u001b[39m \u001b[39m\u001b[39m\\\\\u001b[39;00m\u001b[39m\\\\\u001b[39;00m\u001b[39m\"\u001b[39m\u001b[39m.\u001b[39mreplace(\u001b[39m\"\u001b[39m\u001b[39m,\u001b[39m\u001b[39m\"\u001b[39m, \u001b[39m\"\u001b[39m\u001b[39m.\u001b[39m\u001b[39m\"\u001b[39m))\n",
      "File \u001b[0;32m~/IC_AnaliseSentimento/venv/lib/python3.9/statistics.py:315\u001b[0m, in \u001b[0;36mmean\u001b[0;34m(data)\u001b[0m\n\u001b[1;32m    313\u001b[0m n \u001b[39m=\u001b[39m \u001b[39mlen\u001b[39m(data)\n\u001b[1;32m    314\u001b[0m \u001b[39mif\u001b[39;00m n \u001b[39m<\u001b[39m \u001b[39m1\u001b[39m:\n\u001b[0;32m--> 315\u001b[0m     \u001b[39mraise\u001b[39;00m StatisticsError(\u001b[39m'\u001b[39m\u001b[39mmean requires at least one data point\u001b[39m\u001b[39m'\u001b[39m)\n\u001b[1;32m    316\u001b[0m T, total, count \u001b[39m=\u001b[39m _sum(data)\n\u001b[1;32m    317\u001b[0m \u001b[39massert\u001b[39;00m count \u001b[39m==\u001b[39m n\n",
      "\u001b[0;31mStatisticsError\u001b[0m: mean requires at least one data point"
     ]
    }
   ],
   "source": [
    "lista_tamanhos = []\n",
    "vocabulario = set()\n",
    "for texto in dataset_alvo[\"text\"]:\n",
    "    lista_tamanhos.append(len(texto.split())) \n",
    "    vocabulario.update(texto.split())\n",
    "print(f\"{'{0:,}'.format(len(dataset_alvo))} & {round(statistics.mean(lista_tamanhos))} & {round(statistics.median(lista_tamanhos))} & {statistics.mode(lista_tamanhos)} & {'{0:,}'.format(max(lista_tamanhos))} & {min(lista_tamanhos)} & {'{0:,}'.format(len(vocabulario))} \\\\\\\\\".replace(\",\", \".\"))"
   ]
  },
  {
   "cell_type": "markdown",
   "metadata": {},
   "source": [
    "## Twitter"
   ]
  },
  {
   "cell_type": "code",
   "execution_count": null,
   "metadata": {},
   "outputs": [],
   "source": [
    "dir_data = \"data/datasets/dataset_twitter/\" ## Twitter"
   ]
  },
  {
   "cell_type": "markdown",
   "metadata": {},
   "source": [
    "### Lendo Dataset"
   ]
  },
  {
   "cell_type": "code",
   "execution_count": null,
   "metadata": {},
   "outputs": [],
   "source": []
  },
  {
   "cell_type": "markdown",
   "metadata": {},
   "source": [
    "### Limpeza"
   ]
  },
  {
   "cell_type": "code",
   "execution_count": null,
   "metadata": {},
   "outputs": [],
   "source": []
  },
  {
   "cell_type": "markdown",
   "metadata": {},
   "source": [
    "### Analise"
   ]
  },
  {
   "cell_type": "code",
   "execution_count": null,
   "metadata": {},
   "outputs": [],
   "source": []
  },
  {
   "attachments": {},
   "cell_type": "markdown",
   "metadata": {},
   "source": [
    "## Testes"
   ]
  },
  {
   "cell_type": "code",
   "execution_count": 17,
   "metadata": {},
   "outputs": [
    {
     "data": {
      "text/plain": [
       "Counter({2: 6599, 1: 3785, 0: 4404})"
      ]
     },
     "execution_count": 17,
     "metadata": {},
     "output_type": "execute_result"
    }
   ],
   "source": [
    "dataset_alvo = \"twitter_ASBR\"\n",
    "key = f\"dataset_{dataset_alvo}.json\"\n",
    "Counter(dict_datasets[key][\"labels_int\"])"
   ]
  },
  {
   "cell_type": "code",
   "execution_count": null,
   "metadata": {},
   "outputs": [],
   "source": [
    "for dataset_archive, dataset in dict_datasets.items():\n",
    "    print(f\"-{dataset_archive}-\", end=\"\\n\")\n",
    "    for grupo in set(dataset[\"group\"]):\n",
    "        print(f\"{grupo}\", end=\"\")\n",
    "        dataset_grupo = dataset.filter(lambda dado: dado[\"group\"] == grupo)\n",
    "        for classe, qtd in sorted(dict(Counter(dataset_grupo['labels_int'])).items()):\n",
    "            print(f\"{classe}: {round(qtd/len(dataset)*100, 2)}\\%\")\n",
    "        print(end=\"\\n\")\n",
    "    print(end=\"\\n\\n\")"
   ]
  },
  {
   "cell_type": "code",
   "execution_count": null,
   "metadata": {},
   "outputs": [],
   "source": [
    "for dataset_archive, dataset in dict_datasets.items():\n",
    "    if dataset_archive[8:-5] != \"twitter_ASBR\":\n",
    "        continue\n",
    "    for classe, qtd in sorted(dict(Counter(dataset['labels_int'])).items()):\n",
    "        print(f\"{classe}: {qtd} & {round(qtd/15047*100, 2)}\\%\")"
   ]
  },
  {
   "cell_type": "code",
   "execution_count": null,
   "metadata": {},
   "outputs": [],
   "source": [
    "for dataset_archive, dataset in dict_datasets.items():\n",
    "    if dataset_archive[8:-5] != \"twitter_ASBR\":\n",
    "        continue\n",
    "    for grupo in set(dataset[\"group\"]):\n",
    "        print(f\"{grupo}\", end=\" & \")\n",
    "        dataset_grupo = dataset.filter(lambda dado: dado[\"group\"] == grupo)\n",
    "        for classe, qtd in sorted(dict(Counter(dataset_grupo['labels_int'])).items()):\n",
    "            print(f\"{round(qtd/len(dataset)*100, 2)}\\%\", end=\" & \")\n",
    "        print(end=\"\\n\")\n",
    "    print(end=\"\\n\\n\")"
   ]
  },
  {
   "cell_type": "code",
   "execution_count": null,
   "metadata": {},
   "outputs": [],
   "source": [
    "import unicodedata\n",
    "import string\n",
    "import re\n",
    "\n",
    "def limpa_texto(texto):\n",
    "    ## Deixa texto em minusculo\n",
    "    texto = texto.lower()\n",
    "    ## Remove acentos\n",
    "    texto = ''.join(letra for letra in unicodedata.normalize('NFKD', texto) if not unicodedata.combining(letra))\n",
    "    ## Remove pontuação\n",
    "    texto = re.sub(rf\"[{string.punctuation}]\", r\" \", texto)\n",
    "    ## Remove múltiplo espaços\n",
    "    texto = re.sub(r'(\\s+)', r' ', texto)\n",
    "    ## Limpa texto\n",
    "    texto = texto.strip()\n",
    "    return texto\n",
    "\n",
    "texto = \"👏👏👏\"\n",
    "print(limpa_texto(texto))"
   ]
  },
  {
   "cell_type": "code",
   "execution_count": null,
   "metadata": {},
   "outputs": [],
   "source": []
  }
 ],
 "metadata": {
  "kernelspec": {
   "display_name": "Python 3",
   "language": "python",
   "name": "python3"
  },
  "language_info": {
   "codemirror_mode": {
    "name": "ipython",
    "version": 3
   },
   "file_extension": ".py",
   "mimetype": "text/x-python",
   "name": "python",
   "nbconvert_exporter": "python",
   "pygments_lexer": "ipython3",
   "version": "3.9.13"
  },
  "orig_nbformat": 4
 },
 "nbformat": 4,
 "nbformat_minor": 2
}
