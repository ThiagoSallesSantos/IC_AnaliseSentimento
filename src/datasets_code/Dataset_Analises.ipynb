{
 "cells": [
  {
   "attachments": {},
   "cell_type": "markdown",
   "metadata": {},
   "source": [
    "## Import"
   ]
  },
  {
   "cell_type": "code",
   "execution_count": 1,
   "metadata": {},
   "outputs": [],
   "source": [
    "from datasets import Dataset\n",
    "from collections import Counter\n",
    "import statistics\n",
    "import os"
   ]
  },
  {
   "attachments": {},
   "cell_type": "markdown",
   "metadata": {},
   "source": [
    "## Constantes"
   ]
  },
  {
   "cell_type": "code",
   "execution_count": 2,
   "metadata": {},
   "outputs": [],
   "source": [
    "DIR = \"../../\""
   ]
  },
  {
   "cell_type": "markdown",
   "metadata": {},
   "source": [
    "## Baselines"
   ]
  },
  {
   "cell_type": "code",
   "execution_count": 3,
   "metadata": {},
   "outputs": [],
   "source": [
    "dir_data = \"data/\" ## Baselines"
   ]
  },
  {
   "attachments": {},
   "cell_type": "markdown",
   "metadata": {},
   "source": [
    "### Lendo Dataset"
   ]
  },
  {
   "cell_type": "code",
   "execution_count": 4,
   "metadata": {},
   "outputs": [],
   "source": [
    "dict_datasets : dict[str, Dataset] = dict({})\n",
    "for arquivo_nome in list(filter(lambda x: x.endswith(\".json\"), os.listdir(DIR+dir_data))):\n",
    "    dict_datasets.update(dict({arquivo_nome: Dataset.from_json(DIR+dir_data+arquivo_nome)}))"
   ]
  },
  {
   "attachments": {},
   "cell_type": "markdown",
   "metadata": {},
   "source": [
    "### Analise"
   ]
  },
  {
   "cell_type": "code",
   "execution_count": 5,
   "metadata": {},
   "outputs": [
    {
     "data": {
      "text/plain": [
       "{}"
      ]
     },
     "execution_count": 5,
     "metadata": {},
     "output_type": "execute_result"
    }
   ],
   "source": [
    "dict_datasets"
   ]
  },
  {
   "cell_type": "code",
   "execution_count": 9,
   "metadata": {},
   "outputs": [
    {
     "name": "stdout",
     "output_type": "stream",
     "text": [
      "olist & 29,97\\% & 70,03\\% \\\\\n",
      "utlc\\textunderscore apps & 22,51\\% & 77,49\\% \\\\\n",
      "concatenate & 17,17\\% & 82,83\\% \\\\\n",
      "buscape & 9,25\\% & 90,75\\% \\\\\n",
      "utlc\\textunderscore movies & 11,56\\% & 88,44\\% \\\\\n",
      "b2w & 30,81\\% & 69,19\\% \\\\\n",
      "twitter\\textunderscore ASBR & 29,78\\% & 25,6\\% & 44,62\\% \\\\\n"
     ]
    }
   ],
   "source": [
    "for dataset_archive, dataset in dict_datasets.items():\n",
    "    print(f\"{dataset_archive[8:-5]}\".replace(\"_\", \"\\\\textunderscore \"), end=\" \")\n",
    "    for classe, qtd in sorted(dict(Counter(dataset['labels_int'])).items()):\n",
    "        print(f\"& {round(qtd/len(dataset)*100, 2)}\\%\".replace(\".\", \",\"), end=\" \")\n",
    "    print(\"\\\\\\\\\", end=\"\\n\")"
   ]
  },
  {
   "cell_type": "code",
   "execution_count": 10,
   "metadata": {},
   "outputs": [
    {
     "name": "stdout",
     "output_type": "stream",
     "text": [
      "olist & 38.062 & 12 & 9 & 2 & 45 & 1 & 33.517 \\\\\n",
      "utlc\\textunderscore apps & 968.858 & 12 & 8 & 1 & 612 & 1 & 378.194 \\\\\n",
      "concatenate & 2.386.146 & 25 & 12 & 1 & 7.323 & 1 & 1.566.262 \\\\\n",
      "buscape & 73.626 & 44 & 30 & 18 & 844 & 1 & 151.962 \\\\\n",
      "utlc\\textunderscore movies & 1.189.542 & 35 & 16 & 2 & 7.323 & 1 & 1.193.754 \\\\\n",
      "b2w & 116.058 & 24 & 16 & 10 & 696 & 1 & 136.217 \\\\\n",
      "twitter\\textunderscore ASBR & 14.788 & 12 & 11 & 7 & 54 & 1 & 17.195 \\\\\n"
     ]
    }
   ],
   "source": [
    "for dataset_archive, dataset in dict_datasets.items():\n",
    "    lista_tamanhos = []\n",
    "    vocabulario = set()\n",
    "    for texto in dataset[\"text\"]:\n",
    "        lista_tamanhos.append(len(texto.split())) \n",
    "        vocabulario.update(texto.split())\n",
    "    print(f\"{dataset_archive[8:-5]} & {'{0:,}'.format(len(dataset))} & {round(statistics.mean(lista_tamanhos))} & {round(statistics.median(lista_tamanhos))} & {statistics.mode(lista_tamanhos)} & {'{0:,}'.format(max(lista_tamanhos))} & {min(lista_tamanhos)} & {'{0:,}'.format(len(vocabulario))} \\\\\\\\\".replace(\",\", \".\").replace(\"_\", \"\\\\textunderscore \"))"
   ]
  },
  {
   "cell_type": "markdown",
   "metadata": {},
   "source": [
    "## Facebook"
   ]
  },
  {
   "cell_type": "code",
   "execution_count": 14,
   "metadata": {},
   "outputs": [],
   "source": [
    "dir_data = \"data/datasets/dataset_facebook/\" ## Facebook"
   ]
  },
  {
   "cell_type": "markdown",
   "metadata": {},
   "source": [
    "### Lendo Dataset"
   ]
  },
  {
   "cell_type": "code",
   "execution_count": 15,
   "metadata": {},
   "outputs": [
    {
     "name": "stderr",
     "output_type": "stream",
     "text": [
      "Using custom data configuration default-9b7a062c40a4d629\n"
     ]
    },
    {
     "name": "stdout",
     "output_type": "stream",
     "text": [
      "Downloading and preparing dataset json/default to /home/thiago/.cache/huggingface/datasets/json/default-9b7a062c40a4d629/0.0.0...\n"
     ]
    },
    {
     "data": {
      "application/vnd.jupyter.widget-view+json": {
       "model_id": "a37c09b014f54cd294b2cdef2cf296ad",
       "version_major": 2,
       "version_minor": 0
      },
      "text/plain": [
       "Downloading data files:   0%|          | 0/1 [00:00<?, ?it/s]"
      ]
     },
     "metadata": {},
     "output_type": "display_data"
    },
    {
     "data": {
      "application/vnd.jupyter.widget-view+json": {
       "model_id": "60d81324dea4448aaefe97322b5999bc",
       "version_major": 2,
       "version_minor": 0
      },
      "text/plain": [
       "Extracting data files:   0%|          | 0/1 [00:00<?, ?it/s]"
      ]
     },
     "metadata": {},
     "output_type": "display_data"
    },
    {
     "data": {
      "application/vnd.jupyter.widget-view+json": {
       "model_id": "c998f22bd14546d9bb0d52c64e28ff1c",
       "version_major": 2,
       "version_minor": 0
      },
      "text/plain": [
       "0 tables [00:00, ? tables/s]"
      ]
     },
     "metadata": {},
     "output_type": "display_data"
    },
    {
     "name": "stdout",
     "output_type": "stream",
     "text": [
      "Dataset json downloaded and prepared to /home/thiago/.cache/huggingface/datasets/json/default-9b7a062c40a4d629/0.0.0. Subsequent calls will reuse this data.\n"
     ]
    }
   ],
   "source": [
    "dataset: Dataset = None\n",
    "for arquivo_nome in list(filter(lambda x: x.endswith(\".json\"), os.listdir(DIR+dir_data))):\n",
    "    dataset = Dataset.from_json(DIR+dir_data+arquivo_nome)"
   ]
  },
  {
   "cell_type": "code",
   "execution_count": 16,
   "metadata": {},
   "outputs": [
    {
     "data": {
      "text/plain": [
       "Dataset({\n",
       "    features: ['created_time', 'text', 'permalink_url', 'id_post', 'dataset_origem', 'repetido', 'labels', 'labels_int', 'index'],\n",
       "    num_rows: 34620\n",
       "})"
      ]
     },
     "execution_count": 16,
     "metadata": {},
     "output_type": "execute_result"
    }
   ],
   "source": [
    "dataset"
   ]
  },
  {
   "cell_type": "markdown",
   "metadata": {},
   "source": [
    "### Analise"
   ]
  },
  {
   "cell_type": "code",
   "execution_count": 17,
   "metadata": {},
   "outputs": [
    {
     "data": {
      "application/vnd.jupyter.widget-view+json": {
       "model_id": "9bf76c867a1f424fadf60e499a59971a",
       "version_major": 2,
       "version_minor": 0
      },
      "text/plain": [
       "  0%|          | 0/35 [00:00<?, ?ba/s]"
      ]
     },
     "metadata": {},
     "output_type": "display_data"
    }
   ],
   "source": [
    "# dataset_repetido = dataset.filter(lambda data: data[\"repetido\"])\n",
    "dataset_nao_repetido = dataset.filter(lambda data: not data[\"repetido\"])"
   ]
  },
  {
   "cell_type": "code",
   "execution_count": 18,
   "metadata": {},
   "outputs": [
    {
     "data": {
      "text/plain": [
       "Dataset({\n",
       "    features: ['created_time', 'text', 'permalink_url', 'id_post', 'dataset_origem', 'repetido', 'labels', 'labels_int', 'index'],\n",
       "    num_rows: 34440\n",
       "})"
      ]
     },
     "execution_count": 18,
     "metadata": {},
     "output_type": "execute_result"
    }
   ],
   "source": [
    "dataset_nao_repetido"
   ]
  },
  {
   "cell_type": "code",
   "execution_count": 19,
   "metadata": {},
   "outputs": [
    {
     "data": {
      "application/vnd.jupyter.widget-view+json": {
       "model_id": "3d39ebf521d6445c842e7530d928968c",
       "version_major": 2,
       "version_minor": 0
      },
      "text/plain": [
       "  0%|          | 0/35 [00:00<?, ?ba/s]"
      ]
     },
     "metadata": {},
     "output_type": "display_data"
    }
   ],
   "source": [
    "dataset_alvo = dataset_nao_repetido.filter(lambda data: data[\"labels_int\"] != None)"
   ]
  },
  {
   "cell_type": "code",
   "execution_count": 20,
   "metadata": {},
   "outputs": [
    {
     "data": {
      "text/plain": [
       "Dataset({\n",
       "    features: ['created_time', 'text', 'permalink_url', 'id_post', 'dataset_origem', 'repetido', 'labels', 'labels_int', 'index'],\n",
       "    num_rows: 1200\n",
       "})"
      ]
     },
     "execution_count": 20,
     "metadata": {},
     "output_type": "execute_result"
    }
   ],
   "source": [
    "dataset_alvo"
   ]
  },
  {
   "cell_type": "code",
   "execution_count": 21,
   "metadata": {},
   "outputs": [
    {
     "name": "stdout",
     "output_type": "stream",
     "text": [
      "0,0 & 31 & 2,58\\% \\\\\n",
      "1,0 & 591 & 49,25\\% \\\\\n",
      "2,0 & 578 & 48,17\\% \\\\\n"
     ]
    }
   ],
   "source": [
    "for classe, qtd in sorted(dict(Counter(dataset_alvo['labels_int'])).items()):\n",
    "    print(f\"{classe} & {qtd} & {round(qtd/len(dataset_alvo)*100, 2)}\\% \\\\\\\\\".replace(\".\", \",\"))"
   ]
  },
  {
   "cell_type": "code",
   "execution_count": 22,
   "metadata": {},
   "outputs": [
    {
     "name": "stdout",
     "output_type": "stream",
     "text": [
      "1.200 & 6 & 4 & 2 & 109 & 1 & 3.510 \\\\\n"
     ]
    }
   ],
   "source": [
    "lista_tamanhos = []\n",
    "vocabulario = set()\n",
    "for texto in dataset_alvo[\"text\"]:\n",
    "    lista_tamanhos.append(len(texto.split())) \n",
    "    vocabulario.update(texto.split())\n",
    "print(f\"{'{0:,}'.format(len(dataset_alvo))} & {round(statistics.mean(lista_tamanhos))} & {round(statistics.median(lista_tamanhos))} & {statistics.mode(lista_tamanhos)} & {'{0:,}'.format(max(lista_tamanhos))} & {min(lista_tamanhos)} & {'{0:,}'.format(len(vocabulario))} \\\\\\\\\".replace(\",\", \".\"))"
   ]
  },
  {
   "cell_type": "markdown",
   "metadata": {},
   "source": [
    "## Twitter"
   ]
  },
  {
   "cell_type": "code",
   "execution_count": 6,
   "metadata": {},
   "outputs": [],
   "source": [
    "dir_data = \"data/datasets/dataset_twitter/\" ## Twitter"
   ]
  },
  {
   "cell_type": "markdown",
   "metadata": {},
   "source": [
    "### Lendo Dataset"
   ]
  },
  {
   "cell_type": "code",
   "execution_count": 7,
   "metadata": {},
   "outputs": [
    {
     "name": "stderr",
     "output_type": "stream",
     "text": [
      "Using custom data configuration default-b00294bf64c354e0\n"
     ]
    },
    {
     "name": "stdout",
     "output_type": "stream",
     "text": [
      "Downloading and preparing dataset json/default to /home/thiago/.cache/huggingface/datasets/json/default-b00294bf64c354e0/0.0.0...\n"
     ]
    },
    {
     "data": {
      "application/vnd.jupyter.widget-view+json": {
       "model_id": "efe282621c7944479261f755011e4807",
       "version_major": 2,
       "version_minor": 0
      },
      "text/plain": [
       "Downloading data files:   0%|          | 0/1 [00:00<?, ?it/s]"
      ]
     },
     "metadata": {},
     "output_type": "display_data"
    },
    {
     "data": {
      "application/vnd.jupyter.widget-view+json": {
       "model_id": "3287366c5f5445c9add13890687a0771",
       "version_major": 2,
       "version_minor": 0
      },
      "text/plain": [
       "Extracting data files:   0%|          | 0/1 [00:00<?, ?it/s]"
      ]
     },
     "metadata": {},
     "output_type": "display_data"
    },
    {
     "data": {
      "application/vnd.jupyter.widget-view+json": {
       "model_id": "42012afbce3f43b488e2e46fae488074",
       "version_major": 2,
       "version_minor": 0
      },
      "text/plain": [
       "0 tables [00:00, ? tables/s]"
      ]
     },
     "metadata": {},
     "output_type": "display_data"
    },
    {
     "name": "stdout",
     "output_type": "stream",
     "text": [
      "Dataset json downloaded and prepared to /home/thiago/.cache/huggingface/datasets/json/default-b00294bf64c354e0/0.0.0. Subsequent calls will reuse this data.\n"
     ]
    }
   ],
   "source": [
    "dataset: Dataset = None\n",
    "for arquivo_nome in list(filter(lambda x: x.endswith(\".json\"), os.listdir(DIR+dir_data))):\n",
    "    dataset = Dataset.from_json(DIR+dir_data+arquivo_nome)"
   ]
  },
  {
   "cell_type": "code",
   "execution_count": 8,
   "metadata": {},
   "outputs": [
    {
     "data": {
      "text/plain": [
       "Dataset({\n",
       "    features: ['id', 'conversation_id', 'text', 'created_at', 'data_coleta', 'repetido', 'index', 'labels', 'labels_int', 'tweet_link'],\n",
       "    num_rows: 17766\n",
       "})"
      ]
     },
     "execution_count": 8,
     "metadata": {},
     "output_type": "execute_result"
    }
   ],
   "source": [
    "dataset"
   ]
  },
  {
   "cell_type": "markdown",
   "metadata": {},
   "source": [
    "### Limpeza"
   ]
  },
  {
   "cell_type": "code",
   "execution_count": 9,
   "metadata": {},
   "outputs": [
    {
     "data": {
      "application/vnd.jupyter.widget-view+json": {
       "model_id": "1c34d07018d649d582c68b57fe913a62",
       "version_major": 2,
       "version_minor": 0
      },
      "text/plain": [
       "  0%|          | 0/18 [00:00<?, ?ba/s]"
      ]
     },
     "metadata": {},
     "output_type": "display_data"
    }
   ],
   "source": [
    "dataset_nao_repetido = dataset.filter(lambda data: not data[\"repetido\"])"
   ]
  },
  {
   "cell_type": "code",
   "execution_count": 10,
   "metadata": {},
   "outputs": [
    {
     "data": {
      "application/vnd.jupyter.widget-view+json": {
       "model_id": "2ebe712fd7904b03956f33ee1518a5d7",
       "version_major": 2,
       "version_minor": 0
      },
      "text/plain": [
       "  0%|          | 0/18 [00:00<?, ?ba/s]"
      ]
     },
     "metadata": {},
     "output_type": "display_data"
    }
   ],
   "source": [
    "dataset_nao_repetido_rotulado = dataset_nao_repetido.filter(lambda data: data[\"labels_int\"] is not None)"
   ]
  },
  {
   "cell_type": "code",
   "execution_count": 11,
   "metadata": {},
   "outputs": [
    {
     "data": {
      "text/plain": [
       "Dataset({\n",
       "    features: ['id', 'conversation_id', 'text', 'created_at', 'data_coleta', 'repetido', 'index', 'labels', 'labels_int', 'tweet_link'],\n",
       "    num_rows: 1000\n",
       "})"
      ]
     },
     "execution_count": 11,
     "metadata": {},
     "output_type": "execute_result"
    }
   ],
   "source": [
    "dataset_nao_repetido_rotulado"
   ]
  },
  {
   "cell_type": "markdown",
   "metadata": {},
   "source": [
    "### Analise"
   ]
  },
  {
   "cell_type": "code",
   "execution_count": 12,
   "metadata": {},
   "outputs": [
    {
     "name": "stdout",
     "output_type": "stream",
     "text": [
      "0,0 & 19 & 1,9\\% \\\\\n",
      "1,0 & 878 & 87,8\\% \\\\\n",
      "2,0 & 103 & 10,3\\% \\\\\n"
     ]
    }
   ],
   "source": [
    "for classe, qtd in sorted(dict(Counter(dataset_nao_repetido_rotulado['labels_int'])).items()):\n",
    "    print(f\"{classe} & {qtd} & {round(qtd/len(dataset_nao_repetido_rotulado)*100, 2)}\\% \\\\\\\\\".replace(\".\", \",\"))"
   ]
  },
  {
   "cell_type": "code",
   "execution_count": 13,
   "metadata": {},
   "outputs": [
    {
     "name": "stdout",
     "output_type": "stream",
     "text": [
      "1.000 & 17 & 16 & 19 & 53 & 1 & 6.648 \\\\\n"
     ]
    }
   ],
   "source": [
    "lista_tamanhos = []\n",
    "vocabulario = set()\n",
    "for texto in dataset_nao_repetido_rotulado[\"text\"]:\n",
    "    lista_tamanhos.append(len(texto.split())) \n",
    "    vocabulario.update(texto.split())\n",
    "print(f\"{'{0:,}'.format(len(dataset_nao_repetido_rotulado))} & {round(statistics.mean(lista_tamanhos))} & {round(statistics.median(lista_tamanhos))} & {statistics.mode(lista_tamanhos)} & {'{0:,}'.format(max(lista_tamanhos))} & {min(lista_tamanhos)} & {'{0:,}'.format(len(vocabulario))} \\\\\\\\\".replace(\",\", \".\"))"
   ]
  },
  {
   "attachments": {},
   "cell_type": "markdown",
   "metadata": {},
   "source": [
    "## Testes"
   ]
  },
  {
   "cell_type": "code",
   "execution_count": 17,
   "metadata": {},
   "outputs": [
    {
     "data": {
      "text/plain": [
       "Counter({2: 6599, 1: 3785, 0: 4404})"
      ]
     },
     "execution_count": 17,
     "metadata": {},
     "output_type": "execute_result"
    }
   ],
   "source": [
    "dataset_alvo = \"twitter_ASBR\"\n",
    "key = f\"dataset_{dataset_alvo}.json\"\n",
    "Counter(dict_datasets[key][\"labels_int\"])"
   ]
  },
  {
   "cell_type": "code",
   "execution_count": null,
   "metadata": {},
   "outputs": [],
   "source": [
    "for dataset_archive, dataset in dict_datasets.items():\n",
    "    print(f\"-{dataset_archive}-\", end=\"\\n\")\n",
    "    for grupo in set(dataset[\"group\"]):\n",
    "        print(f\"{grupo}\", end=\"\")\n",
    "        dataset_grupo = dataset.filter(lambda dado: dado[\"group\"] == grupo)\n",
    "        for classe, qtd in sorted(dict(Counter(dataset_grupo['labels_int'])).items()):\n",
    "            print(f\"{classe}: {round(qtd/len(dataset)*100, 2)}\\%\")\n",
    "        print(end=\"\\n\")\n",
    "    print(end=\"\\n\\n\")"
   ]
  },
  {
   "cell_type": "code",
   "execution_count": null,
   "metadata": {},
   "outputs": [],
   "source": [
    "for dataset_archive, dataset in dict_datasets.items():\n",
    "    if dataset_archive[8:-5] != \"twitter_ASBR\":\n",
    "        continue\n",
    "    for classe, qtd in sorted(dict(Counter(dataset['labels_int'])).items()):\n",
    "        print(f\"{classe}: {qtd} & {round(qtd/15047*100, 2)}\\%\")"
   ]
  },
  {
   "cell_type": "code",
   "execution_count": null,
   "metadata": {},
   "outputs": [],
   "source": [
    "for dataset_archive, dataset in dict_datasets.items():\n",
    "    if dataset_archive[8:-5] != \"twitter_ASBR\":\n",
    "        continue\n",
    "    for grupo in set(dataset[\"group\"]):\n",
    "        print(f\"{grupo}\", end=\" & \")\n",
    "        dataset_grupo = dataset.filter(lambda dado: dado[\"group\"] == grupo)\n",
    "        for classe, qtd in sorted(dict(Counter(dataset_grupo['labels_int'])).items()):\n",
    "            print(f\"{round(qtd/len(dataset)*100, 2)}\\%\", end=\" & \")\n",
    "        print(end=\"\\n\")\n",
    "    print(end=\"\\n\\n\")"
   ]
  },
  {
   "cell_type": "code",
   "execution_count": null,
   "metadata": {},
   "outputs": [],
   "source": [
    "import unicodedata\n",
    "import string\n",
    "import re\n",
    "\n",
    "def limpa_texto(texto):\n",
    "    ## Deixa texto em minusculo\n",
    "    texto = texto.lower()\n",
    "    ## Remove acentos\n",
    "    texto = ''.join(letra for letra in unicodedata.normalize('NFKD', texto) if not unicodedata.combining(letra))\n",
    "    ## Remove pontuação\n",
    "    texto = re.sub(rf\"[{string.punctuation}]\", r\" \", texto)\n",
    "    ## Remove múltiplo espaços\n",
    "    texto = re.sub(r'(\\s+)', r' ', texto)\n",
    "    ## Limpa texto\n",
    "    texto = texto.strip()\n",
    "    return texto\n",
    "\n",
    "texto = \"👏👏👏\"\n",
    "print(limpa_texto(texto))"
   ]
  },
  {
   "cell_type": "code",
   "execution_count": null,
   "metadata": {},
   "outputs": [],
   "source": []
  }
 ],
 "metadata": {
  "kernelspec": {
   "display_name": "Python 3",
   "language": "python",
   "name": "python3"
  },
  "language_info": {
   "codemirror_mode": {
    "name": "ipython",
    "version": 3
   },
   "file_extension": ".py",
   "mimetype": "text/x-python",
   "name": "python",
   "nbconvert_exporter": "python",
   "pygments_lexer": "ipython3",
   "version": "3.9.13"
  },
  "orig_nbformat": 4
 },
 "nbformat": 4,
 "nbformat_minor": 2
}
