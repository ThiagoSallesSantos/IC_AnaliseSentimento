{
 "cells": [
  {
   "attachments": {},
   "cell_type": "markdown",
   "metadata": {},
   "source": [
    "## Import"
   ]
  },
  {
   "cell_type": "code",
   "execution_count": 21,
   "metadata": {},
   "outputs": [],
   "source": [
    "from datasets import Dataset, concatenate_datasets, Value\n",
    "from collections import Counter"
   ]
  },
  {
   "attachments": {},
   "cell_type": "markdown",
   "metadata": {},
   "source": [
    "## Constantes"
   ]
  },
  {
   "cell_type": "code",
   "execution_count": 30,
   "metadata": {},
   "outputs": [],
   "source": [
    "dir = \"../../\"\n",
    "dir_data = \"data/\"\n",
    "dir_dataset_path = \"datasets/dataset_e-commerce/\"\n",
    "lista_dataset_archive = [\"b2w.csv\", \"buscape.csv\", \"olist.csv\", \"utlc_apps.csv\", \"utlc_movies.csv\"]"
   ]
  },
  {
   "attachments": {},
   "cell_type": "markdown",
   "metadata": {},
   "source": [
    "## Lendo Dataset"
   ]
  },
  {
   "cell_type": "code",
   "execution_count": 61,
   "metadata": {},
   "outputs": [
    {
     "name": "stderr",
     "output_type": "stream",
     "text": [
      "Using custom data configuration default-7769ac3f58b45370\n",
      "Found cached dataset csv (/home/thiago/.cache/huggingface/datasets/csv/default-7769ac3f58b45370/0.0.0)\n",
      "Using custom data configuration default-cd2eda35244ba4e4\n",
      "Found cached dataset csv (/home/thiago/.cache/huggingface/datasets/csv/default-cd2eda35244ba4e4/0.0.0)\n",
      "Using custom data configuration default-e400a9b2c7782f6f\n",
      "Found cached dataset csv (/home/thiago/.cache/huggingface/datasets/csv/default-e400a9b2c7782f6f/0.0.0)\n",
      "Using custom data configuration default-5a1e778d329ff297\n",
      "Found cached dataset csv (/home/thiago/.cache/huggingface/datasets/csv/default-5a1e778d329ff297/0.0.0)\n",
      "Using custom data configuration default-68afaead1c193b1b\n",
      "Found cached dataset csv (/home/thiago/.cache/huggingface/datasets/csv/default-68afaead1c193b1b/0.0.0)\n"
     ]
    }
   ],
   "source": [
    "lista_dataset = []\n",
    "for dataset_archive in lista_dataset_archive:\n",
    "    lista_dataset.append([dataset_archive, Dataset.from_csv(f\"{dir}{dir_data}{dir_dataset_path}{dataset_archive}\")])"
   ]
  },
  {
   "attachments": {},
   "cell_type": "markdown",
   "metadata": {},
   "source": [
    "## Analise"
   ]
  },
  {
   "cell_type": "code",
   "execution_count": 66,
   "metadata": {},
   "outputs": [
    {
     "name": "stdout",
     "output_type": "stream",
     "text": [
      "b2w.csv: 1 - 27369 - 20.68\\%\n",
      "b2w.csv: 2 - 8389 - 6.34\\%\n",
      "b2w.csv: 3 - 16315 - 12.33\\%\n",
      "b2w.csv: 4 - 32345 - 24.43\\%\n",
      "b2w.csv: 5 - 47955 - 36.23\\%\n",
      "\n",
      "\n",
      "buscape.csv: 1 - 3141 - 3.7\\%\n",
      "buscape.csv: 2 - 3669 - 4.32\\%\n",
      "buscape.csv: 3 - 11364 - 13.37\\%\n",
      "buscape.csv: 4 - 33578 - 39.51\\%\n",
      "buscape.csv: 5 - 33239 - 39.11\\%\n",
      "\n",
      "\n",
      "olist.csv: 1 - 9179 - 21.99\\%\n",
      "olist.csv: 2 - 2229 - 5.34\\%\n",
      "olist.csv: 3 - 3665 - 8.78\\%\n",
      "olist.csv: 4 - 6031 - 14.45\\%\n",
      "olist.csv: 5 - 20640 - 49.44\\%\n",
      "\n",
      "\n",
      "utlc_apps.csv: 1.0 - 170877 - 16.44\\%\n",
      "utlc_apps.csv: 2.0 - 47237 - 4.54\\%\n",
      "utlc_apps.csv: 3.0 - 70677 - 6.8\\%\n",
      "utlc_apps.csv: 4.0 - 118379 - 11.39\\%\n",
      "utlc_apps.csv: 5.0 - 632365 - 60.83\\%\n",
      "\n",
      "\n",
      "utlc_movies.csv: 1 - 36224 - 2.44\\%\n",
      "utlc_movies.csv: 2 - 101315 - 6.81\\%\n",
      "utlc_movies.csv: 3 - 297907 - 20.03\\%\n",
      "utlc_movies.csv: 4 - 546267 - 36.73\\%\n",
      "utlc_movies.csv: 5 - 505736 - 34.0\\%\n",
      "\n",
      "\n"
     ]
    }
   ],
   "source": [
    "for dataset_archive, dataset in lista_dataset:\n",
    "    for classe, qtd in sorted(dict(Counter(dataset['rating'])).items()):\n",
    "        print(f\"{dataset_archive}: {classe} - {qtd} - {round(qtd/len(dataset)*100, 2)}\\%\")\n",
    "    print(end=\"\\n\\n\")"
   ]
  },
  {
   "cell_type": "code",
   "execution_count": 65,
   "metadata": {},
   "outputs": [
    {
     "name": "stderr",
     "output_type": "stream",
     "text": [
      "Loading cached processed dataset at /home/thiago/.cache/huggingface/datasets/csv/default-7769ac3f58b45370/0.0.0/cache-380749e5bd77fa17.arrow\n",
      "Loading cached processed dataset at /home/thiago/.cache/huggingface/datasets/csv/default-cd2eda35244ba4e4/0.0.0/cache-0e0eb5cdbf0f0a15.arrow\n"
     ]
    },
    {
     "name": "stdout",
     "output_type": "stream",
     "text": [
      "b2w.csv: 0.0 - 35758 - 27.01\\% - 30.81\\%\n",
      "b2w.csv: 1.0 - 80300 - 60.66\\% - 69.19\\%\n",
      "\n",
      "\n"
     ]
    },
    {
     "name": "stderr",
     "output_type": "stream",
     "text": [
      "Loading cached processed dataset at /home/thiago/.cache/huggingface/datasets/csv/default-e400a9b2c7782f6f/0.0.0/cache-94f53014584ab3fd.arrow\n",
      "Loading cached processed dataset at /home/thiago/.cache/huggingface/datasets/csv/default-5a1e778d329ff297/0.0.0/cache-89751ad32bb452f2.arrow\n"
     ]
    },
    {
     "name": "stdout",
     "output_type": "stream",
     "text": [
      "buscape.csv: 0.0 - 6810 - 8.01\\% - 9.25\\%\n",
      "buscape.csv: 1.0 - 66817 - 78.62\\% - 90.75\\%\n",
      "\n",
      "\n",
      "olist.csv: 0.0 - 11408 - 27.33\\% - 29.96\\%\n",
      "olist.csv: 1.0 - 26671 - 63.89\\% - 70.04\\%\n",
      "\n",
      "\n"
     ]
    },
    {
     "name": "stderr",
     "output_type": "stream",
     "text": [
      "Loading cached processed dataset at /home/thiago/.cache/huggingface/datasets/csv/default-68afaead1c193b1b/0.0.0/cache-ab9fa22947f045e8.arrow\n"
     ]
    },
    {
     "name": "stdout",
     "output_type": "stream",
     "text": [
      "utlc_apps.csv: 0.0 - 218114 - 20.98\\% - 22.51\\%\n",
      "utlc_apps.csv: 1.0 - 750744 - 72.22\\% - 77.49\\%\n",
      "\n",
      "\n",
      "utlc_movies.csv: 0.0 - 137539 - 9.25\\% - 11.56\\%\n",
      "utlc_movies.csv: 1.0 - 1052003 - 70.73\\% - 88.44\\%\n",
      "\n",
      "\n"
     ]
    }
   ],
   "source": [
    "for dataset_archive, dataset in lista_dataset:\n",
    "    dataset_temp = dataset.filter(lambda x: x[\"polarity\"] != None )\n",
    "    for classe, qtd in sorted(dict(Counter(dataset_temp['polarity'])).items()):\n",
    "        print(f\"{dataset_archive}: {classe} - {qtd} - {round(qtd/len(dataset)*100, 2)}\\% - {round(qtd/len(dataset_temp)*100, 2)}\\%\")\n",
    "    print(end=\"\\n\\n\")"
   ]
  },
  {
   "cell_type": "code",
   "execution_count": null,
   "metadata": {},
   "outputs": [],
   "source": [
    "for dataset_archive, datatset in lista_dataset:\n",
    "    "
   ]
  },
  {
   "cell_type": "code",
   "execution_count": null,
   "metadata": {},
   "outputs": [],
   "source": []
  },
  {
   "cell_type": "code",
   "execution_count": null,
   "metadata": {},
   "outputs": [],
   "source": []
  },
  {
   "cell_type": "code",
   "execution_count": null,
   "metadata": {},
   "outputs": [],
   "source": []
  }
 ],
 "metadata": {
  "kernelspec": {
   "display_name": "Python 3",
   "language": "python",
   "name": "python3"
  },
  "language_info": {
   "codemirror_mode": {
    "name": "ipython",
    "version": 3
   },
   "file_extension": ".py",
   "mimetype": "text/x-python",
   "name": "python",
   "nbconvert_exporter": "python",
   "pygments_lexer": "ipython3",
   "version": "3.9.13"
  },
  "orig_nbformat": 4
 },
 "nbformat": 4,
 "nbformat_minor": 2
}
