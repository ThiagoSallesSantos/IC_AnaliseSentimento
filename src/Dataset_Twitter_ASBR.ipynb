{
 "cells": [
  {
   "cell_type": "markdown",
   "id": "765301f2",
   "metadata": {},
   "source": [
    "## Import's"
   ]
  },
  {
   "cell_type": "code",
   "execution_count": null,
   "metadata": {},
   "outputs": [],
   "source": [
    "import os\n",
    "import json\n",
    "import math\n",
    "from datasets import Dataset, Value, ClassLabel\n",
    "from keras.utils.np_utils import to_categorical"
   ]
  },
  {
   "cell_type": "markdown",
   "id": "4facff93",
   "metadata": {},
   "source": [
    "### Variveis Constantes"
   ]
  },
  {
   "cell_type": "code",
   "execution_count": null,
   "metadata": {},
   "outputs": [],
   "source": [
    "DIR = \"../\"\n",
    "dataset_path = \"data/\"\n",
    "dataset_twitter_ASBR_path = \"datatsets_bases/dataset_twitter_ASBR/\""
   ]
  },
  {
   "cell_type": "markdown",
   "id": "7f27e598",
   "metadata": {},
   "source": [
    "### Lendo arquivo json"
   ]
  },
  {
   "cell_type": "code",
   "execution_count": null,
   "metadata": {},
   "outputs": [],
   "source": [
    "arquivo_json = None\n",
    "for arquivo_nome in list(filter(lambda x: x.endswith(\".json\"), os.listdir(DIR+dataset_path+dataset_twitter_ASBR_path))):\n",
    "    with open(DIR+dataset_path+dataset_twitter_ASBR_path+arquivo_nome, \"r\") as arquivo:\n",
    "        arquivo_json = json.load(arquivo)"
   ]
  },
  {
   "cell_type": "code",
   "execution_count": null,
   "id": "a1b7b6b8",
   "metadata": {},
   "outputs": [],
   "source": [
    "print(\"Quantidade de dados: \" + str(len(arquivo_json)))"
   ]
  },
  {
   "cell_type": "code",
   "execution_count": null,
   "id": "ba177428",
   "metadata": {},
   "outputs": [],
   "source": [
    "arquivo_json"
   ]
  },
  {
   "cell_type": "markdown",
   "id": "1aa30f3b",
   "metadata": {},
   "source": [
    "### Removendo dados repetidos"
   ]
  },
  {
   "cell_type": "code",
   "execution_count": null,
   "metadata": {},
   "outputs": [],
   "source": [
    "dados_nao_repetidos = []\n",
    "for key in list(arquivo_json.keys()):\n",
    "    if not arquivo_json[key][\"repeat\"]:\n",
    "        dados_nao_repetidos.append(arquivo_json[key])"
   ]
  },
  {
   "cell_type": "code",
   "execution_count": null,
   "metadata": {},
   "outputs": [],
   "source": [
    "dados_nao_repetidos"
   ]
  },
  {
   "cell_type": "code",
   "execution_count": null,
   "metadata": {},
   "outputs": [],
   "source": [
    "print(\"Qtds de dados retirados: \" + str(len(arquivo_json) - len(dados_nao_repetidos)) + \" dados retirados, devido serem repetidos!\")"
   ]
  },
  {
   "cell_type": "code",
   "execution_count": null,
   "id": "c062b16f",
   "metadata": {},
   "outputs": [],
   "source": [
    "print(\"Quantidade de dados não repetidos: \" + str(len(dados_nao_repetidos)))"
   ]
  },
  {
   "cell_type": "markdown",
   "id": "c14f7993",
   "metadata": {},
   "source": [
    "### Convertendo para dataset"
   ]
  },
  {
   "cell_type": "code",
   "execution_count": null,
   "metadata": {},
   "outputs": [],
   "source": [
    "dataset = Dataset.from_list(dados_nao_repetidos)"
   ]
  },
  {
   "cell_type": "code",
   "execution_count": null,
   "metadata": {},
   "outputs": [],
   "source": [
    "dataset"
   ]
  },
  {
   "cell_type": "markdown",
   "id": "0b8d681a",
   "metadata": {},
   "source": [
    "### Renomeando as colunas"
   ]
  },
  {
   "cell_type": "code",
   "execution_count": null,
   "id": "ff91a3a0",
   "metadata": {},
   "outputs": [],
   "source": [
    "dataset.features"
   ]
  },
  {
   "cell_type": "code",
   "execution_count": null,
   "id": "6f0eb8bf",
   "metadata": {},
   "outputs": [],
   "source": [
    "dataset = dataset.rename_column(\"sentiment\", \"labels\")"
   ]
  },
  {
   "cell_type": "code",
   "execution_count": null,
   "id": "22216387",
   "metadata": {},
   "outputs": [],
   "source": [
    "dataset.features"
   ]
  },
  {
   "cell_type": "markdown",
   "id": "c4011558",
   "metadata": {},
   "source": [
    "### Removendo as colunas"
   ]
  },
  {
   "cell_type": "code",
   "execution_count": null,
   "id": "671ac074",
   "metadata": {},
   "outputs": [],
   "source": [
    "dataset.features"
   ]
  },
  {
   "cell_type": "code",
   "execution_count": null,
   "id": "d2b8c13b",
   "metadata": {},
   "outputs": [],
   "source": [
    "dataset = dataset.remove_columns([\"id\", \"hashtag\", \"votes\", \"hard\", \"group\", \"repeat\"])"
   ]
  },
  {
   "cell_type": "code",
   "execution_count": null,
   "id": "49c368a2",
   "metadata": {},
   "outputs": [],
   "source": [
    "dataset.features"
   ]
  },
  {
   "cell_type": "markdown",
   "id": "0dedfc8c",
   "metadata": {},
   "source": [
    "### Arrumando os resultados \n"
   ]
  },
  {
   "cell_type": "markdown",
   "id": "c4844506",
   "metadata": {},
   "source": [
    "#### Removendo resultado indesejado"
   ]
  },
  {
   "cell_type": "code",
   "execution_count": null,
   "id": "d78beec2",
   "metadata": {},
   "outputs": [],
   "source": [
    "set(dataset[\"labels\"])"
   ]
  },
  {
   "cell_type": "code",
   "execution_count": null,
   "id": "7323a79b",
   "metadata": {},
   "outputs": [],
   "source": [
    "dataset = dataset.filter(lambda x: x[\"labels\"]!=\"-\")"
   ]
  },
  {
   "cell_type": "code",
   "execution_count": null,
   "id": "46793dea",
   "metadata": {},
   "outputs": [],
   "source": [
    "set(dataset[\"labels\"])"
   ]
  },
  {
   "cell_type": "markdown",
   "id": "5fd3abbb",
   "metadata": {},
   "source": [
    "#### Covertendo os resultados para int"
   ]
  },
  {
   "cell_type": "code",
   "execution_count": null,
   "id": "98547ae5",
   "metadata": {},
   "outputs": [],
   "source": [
    "set(dataset[\"labels\"])"
   ]
  },
  {
   "cell_type": "code",
   "execution_count": null,
   "id": "1a084358",
   "metadata": {},
   "outputs": [],
   "source": [
    "dataset.features"
   ]
  },
  {
   "cell_type": "code",
   "execution_count": null,
   "id": "d2e509a1",
   "metadata": {
    "id": "s1UzBkdqpPZ3"
   },
   "outputs": [],
   "source": [
    "novo_tipo = dataset.features.copy()\n",
    "novo_tipo[\"labels\"] = Value(\"int32\")\n",
    "dataset = dataset.cast(novo_tipo)"
   ]
  },
  {
   "cell_type": "code",
   "execution_count": null,
   "id": "d960bb12",
   "metadata": {
    "colab": {
     "base_uri": "https://localhost:8080/",
     "height": 424
    },
    "id": "scnbHpann_d0",
    "outputId": "8c51c40e-8777-4174-a678-a5b1cde479cd"
   },
   "outputs": [],
   "source": [
    "dataset.features"
   ]
  },
  {
   "cell_type": "code",
   "execution_count": null,
   "id": "92836e60",
   "metadata": {},
   "outputs": [],
   "source": [
    "novo_tipo = dataset.features.copy()\n",
    "novo_tipo[\"labels\"] = ClassLabel(names=[\"negative\", \"neutral\", \"positive\"])\n",
    "dataset = dataset.cast(novo_tipo)"
   ]
  },
  {
   "cell_type": "code",
   "execution_count": null,
   "id": "821e77fb",
   "metadata": {},
   "outputs": [],
   "source": [
    "dataset.features"
   ]
  },
  {
   "cell_type": "code",
   "execution_count": null,
   "id": "ad5db158",
   "metadata": {},
   "outputs": [],
   "source": [
    "set(dataset[\"labels\"])"
   ]
  },
  {
   "cell_type": "markdown",
   "id": "3dfbce6a",
   "metadata": {},
   "source": [
    "#### Retirando valor negativo"
   ]
  },
  {
   "cell_type": "code",
   "execution_count": null,
   "id": "3c03700a",
   "metadata": {},
   "outputs": [],
   "source": [
    "set(dataset[\"labels\"])"
   ]
  },
  {
   "cell_type": "code",
   "execution_count": null,
   "id": "d5df10a9",
   "metadata": {},
   "outputs": [],
   "source": [
    "def retira_valor_negativo(data):\n",
    "    data[\"labels\"] = data[\"labels\"] + 1\n",
    "    return data\n",
    "\n",
    "dataset = dataset.map(retira_valor_negativo)"
   ]
  },
  {
   "cell_type": "code",
   "execution_count": null,
   "id": "b94246ef",
   "metadata": {},
   "outputs": [],
   "source": [
    "set(dataset[\"labels\"])"
   ]
  },
  {
   "cell_type": "markdown",
   "id": "29c661ad",
   "metadata": {},
   "source": [
    "#### Transformando as labels"
   ]
  },
  {
   "cell_type": "code",
   "execution_count": null,
   "id": "505feee2",
   "metadata": {},
   "outputs": [],
   "source": [
    "set(dataset[\"labels\"])"
   ]
  },
  {
   "cell_type": "code",
   "execution_count": null,
   "id": "d3d7e257",
   "metadata": {},
   "outputs": [],
   "source": [
    "num_classes = len(set(dataset[\"labels\"]))\n",
    "print(\"Qtd de classes: \" + str(num_classes))"
   ]
  },
  {
   "cell_type": "code",
   "execution_count": null,
   "id": "22425ab9",
   "metadata": {},
   "outputs": [],
   "source": [
    "dataset[\"labels\"]"
   ]
  },
  {
   "cell_type": "code",
   "execution_count": null,
   "id": "a555152a",
   "metadata": {},
   "outputs": [],
   "source": [
    "def label_to_categorical(data):\n",
    "    data[\"labels\"] = to_categorical(data[\"labels\"], num_classes=num_classes)\n",
    "    return data\n",
    "\n",
    "dataset = dataset.map(label_to_categorical)"
   ]
  },
  {
   "cell_type": "code",
   "execution_count": null,
   "id": "1872b716",
   "metadata": {},
   "outputs": [],
   "source": [
    "dataset[\"labels\"]"
   ]
  },
  {
   "cell_type": "markdown",
   "id": "2e34d2e3",
   "metadata": {},
   "source": [
    "### Criar grupos para cross validation"
   ]
  },
  {
   "cell_type": "markdown",
   "id": "03d16ee4",
   "metadata": {},
   "source": [
    "#### Embaralhando os dados"
   ]
  },
  {
   "cell_type": "code",
   "execution_count": null,
   "id": "ca59b1f6",
   "metadata": {},
   "outputs": [],
   "source": [
    "dataset[\"text\"][:5]"
   ]
  },
  {
   "cell_type": "code",
   "execution_count": null,
   "id": "28cbe427",
   "metadata": {},
   "outputs": [],
   "source": [
    "dataset = dataset.shuffle()"
   ]
  },
  {
   "cell_type": "code",
   "execution_count": null,
   "id": "b6a21b37",
   "metadata": {},
   "outputs": [],
   "source": [
    "dataset[\"text\"][:5]"
   ]
  },
  {
   "cell_type": "markdown",
   "id": "b531369d",
   "metadata": {},
   "source": [
    "#### Criando lista de grupos"
   ]
  },
  {
   "cell_type": "code",
   "execution_count": null,
   "id": "71218886",
   "metadata": {},
   "outputs": [],
   "source": [
    "lista_grupos = list(range(1, 11)) * math.ceil(len(dataset)/10)\n",
    "lista_grupos = lista_grupos[:len(dataset)]"
   ]
  },
  {
   "cell_type": "code",
   "execution_count": null,
   "id": "76726981",
   "metadata": {},
   "outputs": [],
   "source": [
    "len(lista_grupos)"
   ]
  },
  {
   "cell_type": "code",
   "execution_count": null,
   "id": "e500e0b4",
   "metadata": {},
   "outputs": [],
   "source": [
    "lista_grupos"
   ]
  },
  {
   "cell_type": "code",
   "execution_count": null,
   "id": "945d2034",
   "metadata": {},
   "outputs": [],
   "source": [
    "dataset = dataset.add_column(\"group\", lista_grupos)"
   ]
  },
  {
   "cell_type": "code",
   "execution_count": null,
   "id": "4460cd74",
   "metadata": {},
   "outputs": [],
   "source": [
    "dataset.features"
   ]
  },
  {
   "cell_type": "code",
   "execution_count": null,
   "id": "fda2f258",
   "metadata": {},
   "outputs": [],
   "source": [
    "dataset[\"group\"]"
   ]
  },
  {
   "cell_type": "markdown",
   "id": "f3fcc5b1",
   "metadata": {},
   "source": [
    "#### Verificando os grupos"
   ]
  },
  {
   "cell_type": "code",
   "execution_count": null,
   "id": "2e40df00",
   "metadata": {},
   "outputs": [],
   "source": [
    "def group_by(dataset: Dataset, coluna: str):\n",
    "    lista_grupos = []\n",
    "    for grupo in set(dataset[coluna]):\n",
    "        lista_grupos.append(dataset.filter(lambda x: x[coluna]==grupo))\n",
    "    return lista_grupos"
   ]
  },
  {
   "cell_type": "code",
   "execution_count": null,
   "id": "d2ae2302",
   "metadata": {},
   "outputs": [],
   "source": [
    "lista_datasets = group_by(dataset, \"group\")"
   ]
  },
  {
   "cell_type": "code",
   "execution_count": null,
   "id": "412234f7",
   "metadata": {},
   "outputs": [],
   "source": [
    "for index, dataset_part in enumerate(lista_datasets):\n",
    "    print(str(index+1) + \" - \" + str(len(dataset_part)))"
   ]
  },
  {
   "attachments": {},
   "cell_type": "markdown",
   "id": "34dd44cb",
   "metadata": {},
   "source": [
    "### Salvando em arquivo .json"
   ]
  },
  {
   "cell_type": "code",
   "execution_count": null,
   "id": "d5339d5a",
   "metadata": {},
   "outputs": [],
   "source": [
    "dataset.to_json(DIR+dataset_path+\"dataset_twitter_ASBR.json\")"
   ]
  },
  {
   "cell_type": "code",
   "execution_count": null,
   "id": "1b1e6d43",
   "metadata": {},
   "outputs": [],
   "source": []
  }
 ],
 "metadata": {
  "kernelspec": {
   "display_name": "Python 3.10.6 ('venv': venv)",
   "language": "python",
   "name": "python3"
  },
  "language_info": {
   "codemirror_mode": {
    "name": "ipython",
    "version": 3
   },
   "file_extension": ".py",
   "mimetype": "text/x-python",
   "name": "python",
   "nbconvert_exporter": "python",
   "pygments_lexer": "ipython3",
   "version": "3.9.13"
  },
  "vscode": {
   "interpreter": {
    "hash": "4fb509523777ff3016dc93b171d54b9d342944b8aa4515e44fa075d649b5b250"
   }
  }
 },
 "nbformat": 4,
 "nbformat_minor": 5
}
