{
 "cells": [
  {
   "cell_type": "code",
   "execution_count": 1,
   "metadata": {
    "scrolled": true
   },
   "outputs": [
    {
     "name": "stderr",
     "output_type": "stream",
     "text": [
      "/home/rthrfrnc/.local/lib/python3.10/site-packages/tqdm/auto.py:22: TqdmWarning: IProgress not found. Please update jupyter and ipywidgets. See https://ipywidgets.readthedocs.io/en/stable/user_install.html\n",
      "  from .autonotebook import tqdm as notebook_tqdm\n"
     ]
    }
   ],
   "source": [
    "import pandas as pd\n",
    "import datasets"
   ]
  },
  {
   "cell_type": "code",
   "execution_count": 2,
   "metadata": {},
   "outputs": [
    {
     "name": "stderr",
     "output_type": "stream",
     "text": [
      "Using custom data configuration default\n",
      "Reusing dataset csvtods (/home/rthrfrnc/.cache/huggingface/datasets/csvtods/default/0.0.0/ecfd61d7cb9748af3f5eff44f87ebfbf143ebea115b075d14d67afc3ae6c9373)\n",
      "100%|████████████████████████████████████████████| 2/2 [00:00<00:00, 726.35it/s]\n"
     ]
    }
   ],
   "source": [
    "from datasets import DownloadManager, load_dataset\n",
    "\n",
    "dataset = load_dataset('./csvtods.py')"
   ]
  },
  {
   "cell_type": "code",
   "execution_count": 3,
   "metadata": {},
   "outputs": [
    {
     "data": {
      "text/plain": [
       "DatasetDict({\n",
       "    train: Dataset({\n",
       "        features: ['id', 'tokens', 'ner_tags'],\n",
       "        num_rows: 9454\n",
       "    })\n",
       "    test: Dataset({\n",
       "        features: ['id', 'tokens', 'ner_tags'],\n",
       "        num_rows: 4174\n",
       "    })\n",
       "})"
      ]
     },
     "execution_count": 3,
     "metadata": {},
     "output_type": "execute_result"
    }
   ],
   "source": [
    "dataset"
   ]
  },
  {
   "cell_type": "code",
   "execution_count": 4,
   "metadata": {},
   "outputs": [
    {
     "data": {
      "text/plain": [
       "Sequence(feature=ClassLabel(num_classes=35, names=['O', 'B-NOME_BEBIDA', 'I-NOME_BEBIDA', 'B-GRADUACAO_ALCOOLICA', 'I-GRADUACAO_ALCOOLICA', 'B-EQUIPAMENTO_DESTILACAO', 'I-EQUIPAMENTO_DESTILACAO', 'B-TEMPO_ARMAZENAMENTO', 'I-TEMPO_ARMAZENAMENTO', 'B-RECIPIENTE_ARMAZENAMENTO', 'I-RECIPIENTE_ARMAZENAMENTO', 'B-TIPO_MADEIRA', 'I-TIPO_MADEIRA', 'B-CARACTERISTICA_SENSORIAL_COR', 'I-CARACTERISTICA_SENSORIAL_COR', 'B-CARACTERISTICA_SENSORIAL_AROMA', 'I-CARACTERISTICA_SENSORIAL_AROMA', 'B-CARACTERISTICA_SENSORIAL_SABOR', 'I-CARACTERISTICA_SENSORIAL_SABOR', 'B-CARACTERISTICA_SENSORIAL_CONSISTÊNCIA', 'I-CARACTERISTICA_SENSORIAL_CONSISTÊNCIA', 'B-NOME_PESSOA', 'I-NOME_PESSOA', 'B-NOME_LOCAL', 'I-NOME_LOCAL', 'B-NOME_ORGANIZACAO', 'I-NOME_ORGANIZACAO', 'B-TEMPO', 'I-TEMPO', 'B-PRECO', 'I-PRECO', 'B-VOLUME', 'I-VOLUME', 'B-CLASSIFICACAO_BEBIDA', 'I-CLASSIFICACAO_BEBIDA'], id=None), length=-1, id=None)"
      ]
     },
     "execution_count": 4,
     "metadata": {},
     "output_type": "execute_result"
    }
   ],
   "source": [
    "dataset[\"train\"].features[f\"ner_tags\"]"
   ]
  },
  {
   "cell_type": "code",
   "execution_count": 5,
   "metadata": {},
   "outputs": [
    {
     "data": {
      "text/plain": [
       "['O',\n",
       " 'B-NOME_BEBIDA',\n",
       " 'I-NOME_BEBIDA',\n",
       " 'B-GRADUACAO_ALCOOLICA',\n",
       " 'I-GRADUACAO_ALCOOLICA',\n",
       " 'B-EQUIPAMENTO_DESTILACAO',\n",
       " 'I-EQUIPAMENTO_DESTILACAO',\n",
       " 'B-TEMPO_ARMAZENAMENTO',\n",
       " 'I-TEMPO_ARMAZENAMENTO',\n",
       " 'B-RECIPIENTE_ARMAZENAMENTO',\n",
       " 'I-RECIPIENTE_ARMAZENAMENTO',\n",
       " 'B-TIPO_MADEIRA',\n",
       " 'I-TIPO_MADEIRA',\n",
       " 'B-CARACTERISTICA_SENSORIAL_COR',\n",
       " 'I-CARACTERISTICA_SENSORIAL_COR',\n",
       " 'B-CARACTERISTICA_SENSORIAL_AROMA',\n",
       " 'I-CARACTERISTICA_SENSORIAL_AROMA',\n",
       " 'B-CARACTERISTICA_SENSORIAL_SABOR',\n",
       " 'I-CARACTERISTICA_SENSORIAL_SABOR',\n",
       " 'B-CARACTERISTICA_SENSORIAL_CONSISTÊNCIA',\n",
       " 'I-CARACTERISTICA_SENSORIAL_CONSISTÊNCIA',\n",
       " 'B-NOME_PESSOA',\n",
       " 'I-NOME_PESSOA',\n",
       " 'B-NOME_LOCAL',\n",
       " 'I-NOME_LOCAL',\n",
       " 'B-NOME_ORGANIZACAO',\n",
       " 'I-NOME_ORGANIZACAO',\n",
       " 'B-TEMPO',\n",
       " 'I-TEMPO',\n",
       " 'B-PRECO',\n",
       " 'I-PRECO',\n",
       " 'B-VOLUME',\n",
       " 'I-VOLUME',\n",
       " 'B-CLASSIFICACAO_BEBIDA',\n",
       " 'I-CLASSIFICACAO_BEBIDA']"
      ]
     },
     "execution_count": 5,
     "metadata": {},
     "output_type": "execute_result"
    }
   ],
   "source": [
    "label_list = dataset[\"train\"].features[f\"ner_tags\"].feature.names\n",
    "label_list"
   ]
  },
  {
   "cell_type": "code",
   "execution_count": null,
   "metadata": {},
   "outputs": [],
   "source": []
  },
  {
   "cell_type": "code",
   "execution_count": 6,
   "metadata": {},
   "outputs": [],
   "source": [
    "# BERT pretrained model\n",
    "model_id = 'neuralmind/bert-base-portuguese-cased'"
   ]
  },
  {
   "cell_type": "code",
   "execution_count": 7,
   "metadata": {},
   "outputs": [],
   "source": [
    "from transformers import AutoTokenizer\n",
    "\n",
    "tokenizer = AutoTokenizer.from_pretrained(model_id)"
   ]
  },
  {
   "cell_type": "code",
   "execution_count": 8,
   "metadata": {},
   "outputs": [],
   "source": [
    "import transformers\n",
    "\n",
    "assert isinstance(tokenizer, transformers.PreTrainedTokenizerFast)"
   ]
  },
  {
   "cell_type": "code",
   "execution_count": 9,
   "metadata": {},
   "outputs": [
    {
     "name": "stdout",
     "output_type": "stream",
     "text": [
      "['DESCRIÇÃO', 'DA', 'CACHAÇA', ':', 'A', 'Cachaça', 'Porto', 'Estrela', 'é', 'produzida', 'na', 'cidade', 'de', 'Pedras', 'de', 'Maria', 'da', 'Cruz', ',', 'Minas', 'Gerais', ',', 'onde', 'é', 'engarrafada', 'em', 'vidro', 'com', 'tampa', 'de', 'rosca', '.']\n"
     ]
    }
   ],
   "source": [
    "example = dataset[\"train\"][2]\n",
    "print(example[\"tokens\"])"
   ]
  },
  {
   "cell_type": "code",
   "execution_count": 10,
   "metadata": {},
   "outputs": [
    {
     "name": "stderr",
     "output_type": "stream",
     "text": [
      "Asking to truncate to max_length but no maximum length is provided and the model has no predefined maximum length. Default to no truncation.\n"
     ]
    },
    {
     "name": "stdout",
     "output_type": "stream",
     "text": [
      "['[CLS]', 'DE', '##SC', '##RI', '##Ç', '##ÃO', 'D', '##A', 'CA', '##CH', '##A', '##Ç', '##A', ':', 'A', 'Ca', '##cha', '##ça', 'Porto', 'Estrela', 'é', 'produzida', 'na', 'cidade', 'de', 'Pedra', '##s', 'de', 'Maria', 'da', 'Cruz', ',', 'Minas', 'Gerais', ',', 'onde', 'é', 'enga', '##r', '##ra', '##fa', '##da', 'em', 'vidro', 'com', 'tamp', '##a', 'de', 'ros', '##ca', '.', '[SEP]']\n"
     ]
    }
   ],
   "source": [
    "tokenized_input = tokenizer(example[\"tokens\"], is_split_into_words=True, truncation=True)\n",
    "tokens = tokenizer.convert_ids_to_tokens(tokenized_input[\"input_ids\"])\n",
    "print(tokens)"
   ]
  },
  {
   "cell_type": "code",
   "execution_count": 11,
   "metadata": {},
   "outputs": [
    {
     "data": {
      "text/plain": [
       "(32, 52)"
      ]
     },
     "execution_count": 11,
     "metadata": {},
     "output_type": "execute_result"
    }
   ],
   "source": [
    "len(example[f\"ner_tags\"]), len(tokenized_input[\"input_ids\"])"
   ]
  },
  {
   "cell_type": "code",
   "execution_count": 12,
   "metadata": {},
   "outputs": [
    {
     "name": "stdout",
     "output_type": "stream",
     "text": [
      "[None, 0, 0, 0, 0, 0, 1, 1, 2, 2, 2, 2, 2, 3, 4, 5, 5, 5, 6, 7, 8, 9, 10, 11, 12, 13, 13, 14, 15, 16, 17, 18, 19, 20, 21, 22, 23, 24, 24, 24, 24, 24, 25, 26, 27, 28, 28, 29, 30, 30, 31, None]\n"
     ]
    }
   ],
   "source": [
    "print(tokenized_input.word_ids())"
   ]
  },
  {
   "cell_type": "code",
   "execution_count": 13,
   "metadata": {},
   "outputs": [
    {
     "name": "stdout",
     "output_type": "stream",
     "text": [
      "52 52\n"
     ]
    }
   ],
   "source": [
    "word_ids = tokenized_input.word_ids()\n",
    "aligned_labels = [-100 if i is None else example[f\"ner_tags\"][i] for i in word_ids]\n",
    "print(len(aligned_labels), len(tokenized_input[\"input_ids\"]))"
   ]
  },
  {
   "cell_type": "code",
   "execution_count": 14,
   "metadata": {},
   "outputs": [],
   "source": [
    "label_all_tokens = True"
   ]
  },
  {
   "cell_type": "code",
   "execution_count": 15,
   "metadata": {},
   "outputs": [],
   "source": [
    "def tokenize_and_align_labels(examples):\n",
    "    tokenized_inputs = tokenizer(\n",
    "        examples[\"tokens\"], truncation=True, is_split_into_words=True\n",
    "    )\n",
    "\n",
    "    labels = []\n",
    "    for i, label in enumerate(examples[f\"ner_tags\"]):\n",
    "        word_ids = tokenized_inputs.word_ids(batch_index=i)\n",
    "        previous_word_idx = None\n",
    "        label_ids = []\n",
    "        for word_idx in word_ids:\n",
    "            # Special tokens have a word id that is None. We set the label to -100 so they are automatically\n",
    "            # ignored in the loss function.\n",
    "            if word_idx is None:\n",
    "                label_ids.append(-100)\n",
    "            # We set the label for the first token of each word.\n",
    "            elif word_idx != previous_word_idx:\n",
    "                label_ids.append(label[word_idx])\n",
    "            # For the other tokens in a word, we set the label to either the current label or -100, depending on\n",
    "            # the label_all_tokens flag.\n",
    "            else:\n",
    "                label_ids.append(label[word_idx] if label_all_tokens else -100)\n",
    "            previous_word_idx = word_idx\n",
    "\n",
    "        labels.append(label_ids)\n",
    "\n",
    "    tokenized_inputs[\"labels\"] = labels\n",
    "    return tokenized_inputs"
   ]
  },
  {
   "cell_type": "code",
   "execution_count": 16,
   "metadata": {},
   "outputs": [
    {
     "name": "stderr",
     "output_type": "stream",
     "text": [
      "100%|███████████████████████████████████████████| 10/10 [00:00<00:00, 25.44ba/s]\n",
      "100%|█████████████████████████████████████████████| 5/5 [00:00<00:00, 25.74ba/s]\n"
     ]
    }
   ],
   "source": [
    "tokenized_datasets = dataset.map(tokenize_and_align_labels, batched=True, load_from_cache_file=False)"
   ]
  },
  {
   "cell_type": "code",
   "execution_count": 17,
   "metadata": {},
   "outputs": [
    {
     "data": {
      "text/plain": [
       "[-100, 0, 0, 0, 0, 0, 29, 29, 30, 30, 30, -100]"
      ]
     },
     "execution_count": 17,
     "metadata": {},
     "output_type": "execute_result"
    }
   ],
   "source": [
    "tokenized_datasets[\"train\"][\"labels\"][1]"
   ]
  },
  {
   "cell_type": "code",
   "execution_count": 18,
   "metadata": {},
   "outputs": [
    {
     "name": "stdout",
     "output_type": "stream",
     "text": [
      "1 Physical GPUs, 1 Logical GPUs\n"
     ]
    },
    {
     "name": "stderr",
     "output_type": "stream",
     "text": [
      "2022-08-16 12:52:20.255318: I tensorflow/stream_executor/cuda/cuda_gpu_executor.cc:975] successful NUMA node read from SysFS had negative value (-1), but there must be at least one NUMA node, so returning NUMA node zero\n",
      "2022-08-16 12:52:20.277975: I tensorflow/stream_executor/cuda/cuda_gpu_executor.cc:975] successful NUMA node read from SysFS had negative value (-1), but there must be at least one NUMA node, so returning NUMA node zero\n",
      "2022-08-16 12:52:20.278103: I tensorflow/stream_executor/cuda/cuda_gpu_executor.cc:975] successful NUMA node read from SysFS had negative value (-1), but there must be at least one NUMA node, so returning NUMA node zero\n",
      "2022-08-16 12:52:20.278685: I tensorflow/core/platform/cpu_feature_guard.cc:193] This TensorFlow binary is optimized with oneAPI Deep Neural Network Library (oneDNN) to use the following CPU instructions in performance-critical operations:  AVX2 FMA\n",
      "To enable them in other operations, rebuild TensorFlow with the appropriate compiler flags.\n",
      "2022-08-16 12:52:20.279223: I tensorflow/stream_executor/cuda/cuda_gpu_executor.cc:975] successful NUMA node read from SysFS had negative value (-1), but there must be at least one NUMA node, so returning NUMA node zero\n",
      "2022-08-16 12:52:20.279320: I tensorflow/stream_executor/cuda/cuda_gpu_executor.cc:975] successful NUMA node read from SysFS had negative value (-1), but there must be at least one NUMA node, so returning NUMA node zero\n",
      "2022-08-16 12:52:20.279399: I tensorflow/stream_executor/cuda/cuda_gpu_executor.cc:975] successful NUMA node read from SysFS had negative value (-1), but there must be at least one NUMA node, so returning NUMA node zero\n",
      "2022-08-16 12:52:20.587766: I tensorflow/stream_executor/cuda/cuda_gpu_executor.cc:975] successful NUMA node read from SysFS had negative value (-1), but there must be at least one NUMA node, so returning NUMA node zero\n",
      "2022-08-16 12:52:20.587899: I tensorflow/stream_executor/cuda/cuda_gpu_executor.cc:975] successful NUMA node read from SysFS had negative value (-1), but there must be at least one NUMA node, so returning NUMA node zero\n",
      "2022-08-16 12:52:20.587985: I tensorflow/stream_executor/cuda/cuda_gpu_executor.cc:975] successful NUMA node read from SysFS had negative value (-1), but there must be at least one NUMA node, so returning NUMA node zero\n",
      "2022-08-16 12:52:20.588055: I tensorflow/core/common_runtime/gpu/gpu_device.cc:1532] Created device /job:localhost/replica:0/task:0/device:GPU:0 with 22041 MB memory:  -> device: 0, name: NVIDIA GeForce RTX 3090, pci bus id: 0000:01:00.0, compute capability: 8.6\n"
     ]
    }
   ],
   "source": [
    "import tensorflow as tf\n",
    "# gpus = tf.config.experimental.list_physical_devices('GPU')\n",
    "# if gpus:\n",
    "#   # Restrict TensorFlow to only allocate 1GB of memory on the first GPU\n",
    "#   try:\n",
    "#     tf.config.experimental.set_virtual_device_configuration(\n",
    "#         gpus[0],\n",
    "#         [tf.config.experimental.VirtualDeviceConfiguration(memory_limit=1024)])\n",
    "#     logical_gpus = tf.config.experimental.list_logical_devices('GPU')\n",
    "#     print(len(gpus), \"Physical GPUs,\", len(logical_gpus), \"Logical GPUs\")\n",
    "#   except RuntimeError as e:\n",
    "#     # Virtual devices must be set before GPUs have been initialized\n",
    "#     print(e)\n",
    "gpus = tf.config.list_physical_devices('GPU')\n",
    "if gpus:\n",
    "  try:\n",
    "    # Currently, memory growth needs to be the same across GPUs\n",
    "    for gpu in gpus:\n",
    "      tf.config.experimental.set_memory_growth(gpu, True)\n",
    "    logical_gpus = tf.config.list_logical_devices('GPU')\n",
    "    print(len(gpus), \"Physical GPUs,\", len(logical_gpus), \"Logical GPUs\")\n",
    "  except RuntimeError as e:\n",
    "    # Memory growth must be set before GPUs have been initialized\n",
    "    print(e)\n"
   ]
  },
  {
   "cell_type": "code",
   "execution_count": 19,
   "metadata": {},
   "outputs": [
    {
     "data": {
      "text/plain": [
       "35"
      ]
     },
     "execution_count": 19,
     "metadata": {},
     "output_type": "execute_result"
    }
   ],
   "source": [
    "len(label_list)"
   ]
  },
  {
   "cell_type": "code",
   "execution_count": 20,
   "metadata": {},
   "outputs": [],
   "source": [
    "drop_out_conf = 0.3"
   ]
  },
  {
   "cell_type": "code",
   "execution_count": 21,
   "metadata": {},
   "outputs": [],
   "source": [
    "from transformers import AutoConfig\n",
    "\n",
    "configuration = AutoConfig.from_pretrained(model_id)\n",
    "configuration.hidden_dropout_prob = drop_out_conf\n",
    "configuration.attention_probs_dropout_prob = drop_out_conf"
   ]
  },
  {
   "cell_type": "code",
   "execution_count": 22,
   "metadata": {},
   "outputs": [
    {
     "name": "stderr",
     "output_type": "stream",
     "text": [
      "2022-08-16 12:52:23.342356: I tensorflow/stream_executor/cuda/cuda_blas.cc:1786] TensorFloat-32 will be used for the matrix multiplication. This will only be logged once.\n",
      "All model checkpoint layers were used when initializing TFBertForTokenClassification.\n",
      "\n",
      "Some layers of TFBertForTokenClassification were not initialized from the model checkpoint at neuralmind/bert-base-portuguese-cased and are newly initialized: ['classifier']\n",
      "You should probably TRAIN this model on a down-stream task to be able to use it for predictions and inference.\n"
     ]
    }
   ],
   "source": [
    "from transformers import TFAutoModelForTokenClassification\n",
    "\n",
    "model = TFAutoModelForTokenClassification.from_pretrained(\n",
    "    model_id, num_labels=len(label_list), from_pt=False, attention_probs_dropout_prob=drop_out_conf, hidden_dropout_prob=drop_out_conf\n",
    ")"
   ]
  },
  {
   "cell_type": "code",
   "execution_count": 23,
   "metadata": {},
   "outputs": [],
   "source": [
    "batch_size = 32"
   ]
  },
  {
   "cell_type": "code",
   "execution_count": 24,
   "metadata": {},
   "outputs": [],
   "source": [
    "from transformers import create_optimizer\n",
    "\n",
    "num_train_epochs = 100\n",
    "num_train_steps = (len(tokenized_datasets[\"train\"])  // batch_size) * num_train_epochs\n",
    "optimizer, lr_schedule = create_optimizer(\n",
    "    init_lr=2e-5,\n",
    "    num_train_steps=num_train_steps,\n",
    "    weight_decay_rate=0.01,\n",
    "    num_warmup_steps=0,\n",
    ")"
   ]
  },
  {
   "cell_type": "code",
   "execution_count": 25,
   "metadata": {},
   "outputs": [
    {
     "name": "stderr",
     "output_type": "stream",
     "text": [
      "No loss specified in compile() - the model's internal loss computation will be used as the loss. Don't panic - this is a common way to train TensorFlow models in Transformers! To disable this behaviour please pass a loss argument, or explicitly pass `loss=None` if you do not want your model to compute a loss.\n"
     ]
    }
   ],
   "source": [
    "\n",
    "model.compile(optimizer=optimizer)"
   ]
  },
  {
   "cell_type": "code",
   "execution_count": 26,
   "metadata": {},
   "outputs": [],
   "source": [
    "from transformers import DataCollatorForTokenClassification\n",
    "\n",
    "data_collator = DataCollatorForTokenClassification(tokenizer, return_tensors=\"tf\")"
   ]
  },
  {
   "cell_type": "code",
   "execution_count": 27,
   "metadata": {},
   "outputs": [
    {
     "name": "stderr",
     "output_type": "stream",
     "text": [
      "/home/rthrfrnc/.local/lib/python3.10/site-packages/transformers/tokenization_utils_base.py:719: VisibleDeprecationWarning: Creating an ndarray from ragged nested sequences (which is a list-or-tuple of lists-or-tuples-or ndarrays with different lengths or shapes) is deprecated. If you meant to do this, you must specify 'dtype=object' when creating the ndarray.\n",
      "  tensor = as_tensor(value)\n"
     ]
    }
   ],
   "source": [
    "train_set = tokenized_datasets[\"train\"].to_tf_dataset(\n",
    "    columns=[\"attention_mask\", \"input_ids\", \"labels\"],\n",
    "    shuffle=True,\n",
    "    batch_size=batch_size,\n",
    "    collate_fn=data_collator,\n",
    ")\n",
    "validation_set = tokenized_datasets[\"test\"].to_tf_dataset(\n",
    "    columns=[\"attention_mask\", \"input_ids\", \"labels\"],\n",
    "    shuffle=False,\n",
    "    batch_size=batch_size,\n",
    "    collate_fn=data_collator,\n",
    ")\n",
    "# test_set = tokenized_datasets[\"validation\"].to_tf_dataset(\n",
    "#     columns=[\"attention_mask\", \"input_ids\", \"labels\"],\n",
    "#     shuffle=False,\n",
    "#     batch_size=batch_size,\n",
    "#     collate_fn=data_collator,\n",
    "# )"
   ]
  },
  {
   "cell_type": "code",
   "execution_count": 28,
   "metadata": {},
   "outputs": [
    {
     "data": {
      "text/plain": [
       "['O',\n",
       " 'O',\n",
       " 'O',\n",
       " 'O',\n",
       " 'O',\n",
       " 'O',\n",
       " 'B-NOME_BEBIDA',\n",
       " 'I-NOME_BEBIDA',\n",
       " 'O',\n",
       " 'O',\n",
       " 'O',\n",
       " 'O',\n",
       " 'O',\n",
       " 'B-NOME_LOCAL',\n",
       " 'I-NOME_LOCAL',\n",
       " 'I-NOME_LOCAL',\n",
       " 'I-NOME_LOCAL',\n",
       " 'I-NOME_LOCAL',\n",
       " 'O',\n",
       " 'B-NOME_LOCAL',\n",
       " 'I-NOME_LOCAL',\n",
       " 'O',\n",
       " 'O',\n",
       " 'O',\n",
       " 'O',\n",
       " 'O',\n",
       " 'O',\n",
       " 'O',\n",
       " 'O',\n",
       " 'O',\n",
       " 'O',\n",
       " 'O']"
      ]
     },
     "execution_count": 28,
     "metadata": {},
     "output_type": "execute_result"
    }
   ],
   "source": [
    "labels = [label_list[i] for i in example[f\"ner_tags\"]]\n",
    "labels"
   ]
  },
  {
   "cell_type": "code",
   "execution_count": 29,
   "metadata": {},
   "outputs": [
    {
     "name": "stderr",
     "output_type": "stream",
     "text": [
      "WARNING:root:No label_cols specified for KerasMetricCallback, assuming you want the 'labels' key.\n"
     ]
    }
   ],
   "source": [
    "import numpy as np\n",
    "from datasets import load_metric\n",
    "from transformers.keras_callbacks import KerasMetricCallback\n",
    "\n",
    "metric = load_metric(\"seqeval\")\n",
    "\n",
    "\n",
    "def compute_metrics(p):\n",
    "    predictions, labels = p\n",
    "    predictions = np.argmax(predictions, axis=2)\n",
    "\n",
    "    # Remove ignored index (special tokens)\n",
    "    true_predictions = [\n",
    "        [label_list[p] for (p, l) in zip(prediction, label) if l != -100]\n",
    "        for prediction, label in zip(predictions, labels)\n",
    "    ]\n",
    "    true_labels = [\n",
    "        [label_list[l] for (p, l) in zip(prediction, label) if l != -100]\n",
    "        for prediction, label in zip(predictions, labels)\n",
    "    ]\n",
    "\n",
    "    results = metric.compute(predictions=true_predictions, references=true_labels)\n",
    "    return {\n",
    "        \"precision\": results[\"overall_precision\"],\n",
    "        \"recall\": results[\"overall_recall\"],\n",
    "        \"f1\": results[\"overall_f1\"],\n",
    "        \"accuracy\": results[\"overall_accuracy\"],\n",
    "    }\n",
    "\n",
    "\n",
    "metric_callback = KerasMetricCallback(\n",
    "    metric_fn=compute_metrics, eval_dataset=validation_set\n",
    ")"
   ]
  },
  {
   "cell_type": "code",
   "execution_count": null,
   "metadata": {
    "scrolled": false
   },
   "outputs": [
    {
     "name": "stdout",
     "output_type": "stream",
     "text": [
      "Epoch 1/100\n"
     ]
    },
    {
     "name": "stderr",
     "output_type": "stream",
     "text": [
      "2022-08-16 12:52:36.516218: I tensorflow/core/platform/default/subprocess.cc:304] Start cannot spawn child process: No such file or directory\n"
     ]
    },
    {
     "name": "stdout",
     "output_type": "stream",
     "text": [
      "295/296 [============================>.] - ETA: 0s - loss: 0.8542"
     ]
    },
    {
     "name": "stderr",
     "output_type": "stream",
     "text": [
      "/home/rthrfrnc/.local/lib/python3.10/site-packages/seqeval/metrics/v1.py:57: UndefinedMetricWarning: Precision and F-score are ill-defined and being set to 0.0 in labels with no predicted samples. Use `zero_division` parameter to control this behavior.\n",
      "  _warn_prf(average, modifier, msg_start, len(result))\n"
     ]
    },
    {
     "name": "stdout",
     "output_type": "stream",
     "text": [
      "296/296 [==============================] - 56s 151ms/step - loss: 0.8524 - precision: 0.5643 - recall: 0.6300 - f1: 0.5953 - accuracy: 0.8998\n",
      "Epoch 2/100\n",
      "296/296 [==============================] - 41s 137ms/step - loss: 0.3026 - precision: 0.7470 - recall: 0.8278 - f1: 0.7853 - accuracy: 0.9467\n",
      "Epoch 3/100\n",
      " 64/296 [=====>........................] - ETA: 26s - loss: 0.2040"
     ]
    }
   ],
   "source": [
    "from transformers.keras_callbacks import PushToHubCallback\n",
    "\n",
    "tensorboard_callback = tf.keras.callbacks.TensorBoard(log_dir=\"./tc_model_save/logs\")\n",
    "\n",
    "callbacks = [metric_callback, tensorboard_callback]\n",
    "\n",
    "model.fit(\n",
    "    \n",
    "    train_set,\n",
    "    # validation_data=validation_set, não utilizar validation.\n",
    "    epochs=num_train_epochs,\n",
    "    callbacks=callbacks,\n",
    ")"
   ]
  },
  {
   "cell_type": "code",
   "execution_count": 99,
   "metadata": {},
   "outputs": [],
   "source": [
    "model_dir_name = \"./modelNER_EP\" + str(num_train_epochs) + \"_BA\" + str(batch_size) +  \"_DO\" + str(drop_out_conf)\n",
    "model.save_pretrained(model_dir_name)"
   ]
  },
  {
   "cell_type": "code",
   "execution_count": 100,
   "metadata": {},
   "outputs": [
    {
     "name": "stdout",
     "output_type": "stream",
     "text": [
      "1/1 [==============================] - 0s 42ms/step\n",
      "1/1 [==============================] - 0s 32ms/step\n",
      "1/1 [==============================] - 0s 30ms/step\n",
      "1/1 [==============================] - 0s 29ms/step\n",
      "1/1 [==============================] - 0s 31ms/step\n",
      "1/1 [==============================] - 0s 37ms/step\n",
      "1/1 [==============================] - 0s 38ms/step\n",
      "1/1 [==============================] - 0s 39ms/step\n",
      "1/1 [==============================] - 0s 30ms/step\n",
      "1/1 [==============================] - 0s 32ms/step\n",
      "1/1 [==============================] - 0s 30ms/step\n",
      "1/1 [==============================] - 0s 40ms/step\n",
      "1/1 [==============================] - 0s 41ms/step\n",
      "1/1 [==============================] - 0s 35ms/step\n",
      "1/1 [==============================] - 0s 31ms/step\n",
      "1/1 [==============================] - 0s 38ms/step\n",
      "1/1 [==============================] - 0s 37ms/step\n",
      "1/1 [==============================] - 0s 31ms/step\n",
      "1/1 [==============================] - 0s 30ms/step\n",
      "1/1 [==============================] - 0s 31ms/step\n",
      "1/1 [==============================] - 0s 31ms/step\n",
      "1/1 [==============================] - 0s 30ms/step\n",
      "1/1 [==============================] - 0s 37ms/step\n",
      "1/1 [==============================] - 0s 44ms/step\n",
      "1/1 [==============================] - 0s 44ms/step\n",
      "1/1 [==============================] - 0s 39ms/step\n",
      "1/1 [==============================] - 0s 32ms/step\n",
      "1/1 [==============================] - 0s 53ms/step\n",
      "1/1 [==============================] - 0s 40ms/step\n",
      "1/1 [==============================] - 0s 39ms/step\n",
      "1/1 [==============================] - 0s 52ms/step\n",
      "1/1 [==============================] - 0s 35ms/step\n",
      "1/1 [==============================] - 0s 37ms/step\n",
      "1/1 [==============================] - 0s 31ms/step\n",
      "1/1 [==============================] - 0s 35ms/step\n",
      "1/1 [==============================] - 0s 36ms/step\n",
      "1/1 [==============================] - 0s 35ms/step\n",
      "1/1 [==============================] - 0s 32ms/step\n",
      "1/1 [==============================] - 0s 39ms/step\n",
      "1/1 [==============================] - 0s 35ms/step\n",
      "1/1 [==============================] - 0s 31ms/step\n",
      "1/1 [==============================] - 0s 37ms/step\n",
      "1/1 [==============================] - 0s 36ms/step\n",
      "1/1 [==============================] - 0s 30ms/step\n",
      "1/1 [==============================] - 0s 36ms/step\n",
      "1/1 [==============================] - 0s 37ms/step\n",
      "1/1 [==============================] - 0s 35ms/step\n",
      "1/1 [==============================] - 0s 39ms/step\n",
      "1/1 [==============================] - 0s 37ms/step\n",
      "1/1 [==============================] - 0s 38ms/step\n",
      "1/1 [==============================] - 0s 36ms/step\n",
      "1/1 [==============================] - 0s 37ms/step\n",
      "1/1 [==============================] - 0s 38ms/step\n",
      "1/1 [==============================] - 0s 30ms/step\n",
      "1/1 [==============================] - 0s 39ms/step\n",
      "1/1 [==============================] - 0s 30ms/step\n",
      "1/1 [==============================] - 0s 36ms/step\n",
      "1/1 [==============================] - 0s 35ms/step\n",
      "1/1 [==============================] - 0s 32ms/step\n",
      "1/1 [==============================] - 0s 31ms/step\n",
      "1/1 [==============================] - 0s 37ms/step\n",
      "1/1 [==============================] - 0s 37ms/step\n",
      "1/1 [==============================] - 0s 29ms/step\n",
      "1/1 [==============================] - 0s 31ms/step\n",
      "1/1 [==============================] - 0s 31ms/step\n",
      "1/1 [==============================] - 0s 41ms/step\n",
      "1/1 [==============================] - 0s 38ms/step\n",
      "1/1 [==============================] - 0s 29ms/step\n",
      "1/1 [==============================] - 0s 36ms/step\n",
      "1/1 [==============================] - 0s 37ms/step\n",
      "1/1 [==============================] - 0s 37ms/step\n",
      "1/1 [==============================] - 0s 36ms/step\n",
      "1/1 [==============================] - 0s 28ms/step\n",
      "1/1 [==============================] - 0s 30ms/step\n",
      "1/1 [==============================] - 0s 29ms/step\n",
      "1/1 [==============================] - 0s 28ms/step\n",
      "1/1 [==============================] - 0s 28ms/step\n",
      "1/1 [==============================] - 0s 31ms/step\n",
      "1/1 [==============================] - 0s 50ms/step\n",
      "1/1 [==============================] - 0s 37ms/step\n",
      "1/1 [==============================] - 0s 38ms/step\n",
      "1/1 [==============================] - 0s 55ms/step\n",
      "1/1 [==============================] - 0s 42ms/step\n",
      "1/1 [==============================] - 0s 30ms/step\n",
      "1/1 [==============================] - 0s 28ms/step\n",
      "1/1 [==============================] - 0s 39ms/step\n",
      "1/1 [==============================] - 0s 37ms/step\n",
      "1/1 [==============================] - 0s 30ms/step\n",
      "1/1 [==============================] - 0s 36ms/step\n",
      "1/1 [==============================] - 0s 36ms/step\n",
      "1/1 [==============================] - 0s 37ms/step\n",
      "1/1 [==============================] - 0s 28ms/step\n",
      "1/1 [==============================] - 0s 35ms/step\n",
      "1/1 [==============================] - 0s 30ms/step\n",
      "1/1 [==============================] - 0s 36ms/step\n",
      "1/1 [==============================] - 0s 55ms/step\n",
      "1/1 [==============================] - 0s 30ms/step\n",
      "1/1 [==============================] - 0s 31ms/step\n",
      "1/1 [==============================] - 0s 37ms/step\n",
      "1/1 [==============================] - 0s 36ms/step\n",
      "1/1 [==============================] - 0s 29ms/step\n",
      "1/1 [==============================] - 0s 29ms/step\n",
      "1/1 [==============================] - 0s 29ms/step\n",
      "1/1 [==============================] - 0s 27ms/step\n",
      "1/1 [==============================] - 0s 28ms/step\n",
      "1/1 [==============================] - 0s 36ms/step\n",
      "1/1 [==============================] - 0s 41ms/step\n",
      "1/1 [==============================] - 0s 37ms/step\n",
      "1/1 [==============================] - 0s 39ms/step\n",
      "1/1 [==============================] - 0s 37ms/step\n",
      "1/1 [==============================] - 0s 51ms/step\n",
      "1/1 [==============================] - 0s 36ms/step\n",
      "1/1 [==============================] - 0s 35ms/step\n",
      "1/1 [==============================] - 0s 39ms/step\n",
      "1/1 [==============================] - 0s 36ms/step\n",
      "1/1 [==============================] - 0s 36ms/step\n",
      "1/1 [==============================] - 0s 34ms/step\n",
      "1/1 [==============================] - 0s 35ms/step\n",
      "1/1 [==============================] - 0s 36ms/step\n",
      "1/1 [==============================] - 0s 36ms/step\n",
      "1/1 [==============================] - 0s 29ms/step\n",
      "1/1 [==============================] - 0s 40ms/step\n",
      "1/1 [==============================] - 0s 37ms/step\n",
      "1/1 [==============================] - 0s 35ms/step\n",
      "1/1 [==============================] - 0s 30ms/step\n",
      "1/1 [==============================] - 0s 28ms/step\n",
      "1/1 [==============================] - 0s 30ms/step\n",
      "1/1 [==============================] - 0s 27ms/step\n",
      "1/1 [==============================] - 0s 40ms/step\n",
      "1/1 [==============================] - 0s 31ms/step\n",
      "1/1 [==============================] - 0s 30ms/step\n",
      "1/1 [==============================] - 0s 40ms/step\n",
      "1/1 [==============================] - 0s 41ms/step\n",
      "1/1 [==============================] - 0s 37ms/step\n",
      "1/1 [==============================] - 0s 36ms/step\n",
      "1/1 [==============================] - 0s 38ms/step\n",
      "1/1 [==============================] - 0s 40ms/step\n",
      "1/1 [==============================] - 0s 41ms/step\n",
      "1/1 [==============================] - 0s 36ms/step\n",
      "1/1 [==============================] - 0s 36ms/step\n",
      "1/1 [==============================] - 0s 58ms/step\n",
      "1/1 [==============================] - 0s 61ms/step\n",
      "1/1 [==============================] - 0s 39ms/step\n",
      "1/1 [==============================] - 0s 29ms/step\n",
      "1/1 [==============================] - 0s 36ms/step\n",
      "1/1 [==============================] - 0s 36ms/step\n",
      "1/1 [==============================] - 0s 35ms/step\n",
      "1/1 [==============================] - 0s 38ms/step\n",
      "1/1 [==============================] - 0s 30ms/step\n",
      "1/1 [==============================] - 0s 34ms/step\n",
      "1/1 [==============================] - 0s 40ms/step\n",
      "1/1 [==============================] - 0s 30ms/step\n",
      "1/1 [==============================] - 0s 34ms/step\n",
      "1/1 [==============================] - 0s 34ms/step\n",
      "1/1 [==============================] - 0s 36ms/step\n",
      "1/1 [==============================] - 0s 27ms/step\n",
      "1/1 [==============================] - 0s 28ms/step\n",
      "1/1 [==============================] - 0s 27ms/step\n",
      "1/1 [==============================] - 0s 24ms/step\n",
      "1/1 [==============================] - 0s 27ms/step\n",
      "1/1 [==============================] - 0s 28ms/step\n",
      "1/1 [==============================] - 0s 28ms/step\n",
      "1/1 [==============================] - 0s 28ms/step\n",
      "1/1 [==============================] - 0s 27ms/step\n",
      "1/1 [==============================] - 0s 30ms/step\n",
      "1/1 [==============================] - 0s 36ms/step\n",
      "1/1 [==============================] - 0s 36ms/step\n",
      "1/1 [==============================] - 0s 37ms/step\n",
      "1/1 [==============================] - 0s 34ms/step\n",
      "1/1 [==============================] - 0s 35ms/step\n",
      "1/1 [==============================] - 0s 37ms/step\n",
      "1/1 [==============================] - 0s 31ms/step\n",
      "1/1 [==============================] - 0s 28ms/step\n",
      "1/1 [==============================] - 0s 37ms/step\n",
      "1/1 [==============================] - 0s 39ms/step\n",
      "1/1 [==============================] - 0s 35ms/step\n",
      "1/1 [==============================] - 0s 38ms/step\n",
      "1/1 [==============================] - 0s 37ms/step\n",
      "1/1 [==============================] - 0s 38ms/step\n",
      "1/1 [==============================] - 0s 38ms/step\n",
      "1/1 [==============================] - 0s 29ms/step\n",
      "1/1 [==============================] - 0s 35ms/step\n",
      "1/1 [==============================] - 0s 28ms/step\n",
      "1/1 [==============================] - 0s 30ms/step\n",
      "1/1 [==============================] - 0s 31ms/step\n",
      "1/1 [==============================] - 0s 36ms/step\n",
      "1/1 [==============================] - 0s 37ms/step\n",
      "1/1 [==============================] - 0s 31ms/step\n",
      "1/1 [==============================] - 0s 31ms/step\n",
      "1/1 [==============================] - 0s 38ms/step\n",
      "1/1 [==============================] - 0s 29ms/step\n",
      "1/1 [==============================] - 0s 38ms/step\n",
      "1/1 [==============================] - 0s 40ms/step\n",
      "1/1 [==============================] - 0s 30ms/step\n",
      "1/1 [==============================] - 0s 27ms/step\n",
      "1/1 [==============================] - 0s 30ms/step\n",
      "1/1 [==============================] - 0s 37ms/step\n",
      "1/1 [==============================] - 0s 51ms/step\n",
      "1/1 [==============================] - 0s 29ms/step\n",
      "1/1 [==============================] - 0s 28ms/step\n",
      "1/1 [==============================] - 0s 31ms/step\n",
      "1/1 [==============================] - 0s 52ms/step\n",
      "1/1 [==============================] - 0s 40ms/step\n",
      "1/1 [==============================] - 0s 37ms/step\n",
      "1/1 [==============================] - 0s 38ms/step\n",
      "1/1 [==============================] - 0s 36ms/step\n",
      "1/1 [==============================] - 0s 36ms/step\n",
      "1/1 [==============================] - 0s 31ms/step\n",
      "1/1 [==============================] - 0s 37ms/step\n",
      "1/1 [==============================] - 0s 31ms/step\n",
      "1/1 [==============================] - 0s 37ms/step\n",
      "1/1 [==============================] - 0s 35ms/step\n",
      "1/1 [==============================] - 0s 38ms/step\n",
      "1/1 [==============================] - 0s 31ms/step\n",
      "1/1 [==============================] - 0s 37ms/step\n",
      "1/1 [==============================] - 0s 31ms/step\n",
      "1/1 [==============================] - 0s 35ms/step\n",
      "1/1 [==============================] - 0s 39ms/step\n",
      "1/1 [==============================] - 0s 30ms/step\n",
      "1/1 [==============================] - 0s 38ms/step\n",
      "1/1 [==============================] - 0s 33ms/step\n",
      "1/1 [==============================] - 0s 36ms/step\n",
      "1/1 [==============================] - 0s 41ms/step\n",
      "1/1 [==============================] - 0s 51ms/step\n",
      "1/1 [==============================] - 0s 38ms/step\n",
      "1/1 [==============================] - 0s 39ms/step\n",
      "1/1 [==============================] - 0s 40ms/step\n",
      "1/1 [==============================] - 0s 36ms/step\n",
      "1/1 [==============================] - 0s 36ms/step\n",
      "1/1 [==============================] - 0s 38ms/step\n",
      "1/1 [==============================] - 0s 38ms/step\n",
      "1/1 [==============================] - 0s 30ms/step\n",
      "1/1 [==============================] - 0s 36ms/step\n",
      "1/1 [==============================] - 0s 35ms/step\n",
      "1/1 [==============================] - 0s 35ms/step\n",
      "1/1 [==============================] - 0s 32ms/step\n",
      "1/1 [==============================] - 0s 31ms/step\n",
      "1/1 [==============================] - 0s 31ms/step\n",
      "1/1 [==============================] - 0s 31ms/step\n",
      "1/1 [==============================] - 0s 37ms/step\n",
      "1/1 [==============================] - 0s 30ms/step\n",
      "1/1 [==============================] - 0s 36ms/step\n",
      "1/1 [==============================] - 0s 38ms/step\n",
      "1/1 [==============================] - 0s 38ms/step\n",
      "1/1 [==============================] - 0s 37ms/step\n",
      "1/1 [==============================] - 0s 28ms/step\n",
      "1/1 [==============================] - 0s 37ms/step\n",
      "1/1 [==============================] - 0s 30ms/step\n",
      "1/1 [==============================] - 0s 27ms/step\n",
      "1/1 [==============================] - 0s 28ms/step\n",
      "1/1 [==============================] - 0s 29ms/step\n",
      "1/1 [==============================] - 0s 28ms/step\n",
      "1/1 [==============================] - 0s 26ms/step\n",
      "1/1 [==============================] - 0s 28ms/step\n",
      "1/1 [==============================] - 0s 25ms/step\n",
      "1/1 [==============================] - 0s 30ms/step\n",
      "1/1 [==============================] - 0s 34ms/step\n",
      "1/1 [==============================] - 0s 36ms/step\n",
      "1/1 [==============================] - 0s 37ms/step\n",
      "1/1 [==============================] - 0s 37ms/step\n",
      "1/1 [==============================] - 0s 29ms/step\n"
     ]
    },
    {
     "data": {
      "text/plain": [
       "{'ABEL_0': {'precision': 0.9142726161369193,\n",
       "  'recall': 0.9312062256809338,\n",
       "  'f1': 0.9226617318220373,\n",
       "  'number': 6425},\n",
       " 'ABEL_1': {'precision': 0.9450777202072539,\n",
       "  'recall': 0.9440993788819876,\n",
       "  'f1': 0.9445882962195754,\n",
       "  'number': 966},\n",
       " 'ABEL_10': {'precision': 0.8478260869565217,\n",
       "  'recall': 0.8666666666666667,\n",
       "  'f1': 0.8571428571428571,\n",
       "  'number': 45},\n",
       " 'ABEL_11': {'precision': 0.967032967032967,\n",
       "  'recall': 0.9801980198019802,\n",
       "  'f1': 0.9735709895513214,\n",
       "  'number': 808},\n",
       " 'ABEL_12': {'precision': 0.9182389937106918,\n",
       "  'recall': 0.9299363057324841,\n",
       "  'f1': 0.9240506329113924,\n",
       "  'number': 157},\n",
       " 'ABEL_13': {'precision': 0.9,\n",
       "  'recall': 0.96,\n",
       "  'f1': 0.9290322580645162,\n",
       "  'number': 150},\n",
       " 'ABEL_14': {'precision': 0.9333333333333333,\n",
       "  'recall': 0.9333333333333333,\n",
       "  'f1': 0.9333333333333333,\n",
       "  'number': 60},\n",
       " 'ABEL_15': {'precision': 0.8321917808219178,\n",
       "  'recall': 0.8741007194244604,\n",
       "  'f1': 0.8526315789473684,\n",
       "  'number': 278},\n",
       " 'ABEL_16': {'precision': 0.7419354838709677,\n",
       "  'recall': 0.8023255813953488,\n",
       "  'f1': 0.7709497206703911,\n",
       "  'number': 86},\n",
       " 'ABEL_17': {'precision': 0.8206896551724138,\n",
       "  'recall': 0.8592057761732852,\n",
       "  'f1': 0.8395061728395062,\n",
       "  'number': 277},\n",
       " 'ABEL_18': {'precision': 0.8222222222222222,\n",
       "  'recall': 0.8505747126436781,\n",
       "  'f1': 0.8361581920903955,\n",
       "  'number': 87},\n",
       " 'ABEL_19': {'precision': 0.8850574712643678,\n",
       "  'recall': 0.9058823529411765,\n",
       "  'f1': 0.8953488372093024,\n",
       "  'number': 85},\n",
       " 'ABEL_2': {'precision': 0.8377425044091711,\n",
       "  'recall': 0.8436944937833037,\n",
       "  'f1': 0.8407079646017699,\n",
       "  'number': 563},\n",
       " 'ABEL_20': {'precision': 0.6923076923076923,\n",
       "  'recall': 0.8181818181818182,\n",
       "  'f1': 0.7500000000000001,\n",
       "  'number': 11},\n",
       " 'ABEL_21': {'precision': 0.9555555555555556,\n",
       "  'recall': 0.9684684684684685,\n",
       "  'f1': 0.9619686800894856,\n",
       "  'number': 222},\n",
       " 'ABEL_22': {'precision': 0.9504132231404959,\n",
       "  'recall': 0.9663865546218487,\n",
       "  'f1': 0.9583333333333334,\n",
       "  'number': 119},\n",
       " 'ABEL_23': {'precision': 0.9620253164556962,\n",
       "  'recall': 0.9720223820943246,\n",
       "  'f1': 0.9669980119284295,\n",
       "  'number': 1251},\n",
       " 'ABEL_24': {'precision': 0.9260204081632653,\n",
       "  'recall': 0.928388746803069,\n",
       "  'f1': 0.9272030651340996,\n",
       "  'number': 391},\n",
       " 'ABEL_25': {'precision': 0.906832298136646,\n",
       "  'recall': 0.9182389937106918,\n",
       "  'f1': 0.9125000000000001,\n",
       "  'number': 318},\n",
       " 'ABEL_26': {'precision': 0.8837209302325582,\n",
       "  'recall': 0.9011857707509882,\n",
       "  'f1': 0.8923679060665363,\n",
       "  'number': 253},\n",
       " 'ABEL_27': {'precision': 0.9704433497536946,\n",
       "  'recall': 0.9656862745098039,\n",
       "  'f1': 0.9680589680589682,\n",
       "  'number': 408},\n",
       " 'ABEL_28': {'precision': 0.8888888888888888,\n",
       "  'recall': 0.8767123287671232,\n",
       "  'f1': 0.8827586206896552,\n",
       "  'number': 73},\n",
       " 'ABEL_29': {'precision': 0.8057553956834532,\n",
       "  'recall': 0.8327137546468402,\n",
       "  'f1': 0.8190127970749543,\n",
       "  'number': 269},\n",
       " 'ABEL_3': {'precision': 0.9725274725274725,\n",
       "  'recall': 0.9888268156424581,\n",
       "  'f1': 0.9806094182825486,\n",
       "  'number': 358},\n",
       " 'ABEL_30': {'precision': 0.7985611510791367,\n",
       "  'recall': 0.8222222222222222,\n",
       "  'f1': 0.8102189781021897,\n",
       "  'number': 270},\n",
       " 'ABEL_31': {'precision': 0.9816993464052287,\n",
       "  'recall': 0.9816993464052287,\n",
       "  'f1': 0.9816993464052287,\n",
       "  'number': 765},\n",
       " 'ABEL_32': {'precision': 0.963276836158192,\n",
       "  'recall': 0.9578651685393258,\n",
       "  'f1': 0.9605633802816901,\n",
       "  'number': 356},\n",
       " 'ABEL_33': {'precision': 0.9020979020979021,\n",
       "  'recall': 0.9020979020979021,\n",
       "  'f1': 0.9020979020979021,\n",
       "  'number': 429},\n",
       " 'ABEL_34': {'precision': 0.8904109589041096,\n",
       "  'recall': 0.9154929577464789,\n",
       "  'f1': 0.9027777777777778,\n",
       "  'number': 71},\n",
       " 'ABEL_4': {'precision': 0.9487179487179487,\n",
       "  'recall': 0.925,\n",
       "  'f1': 0.9367088607594937,\n",
       "  'number': 40},\n",
       " 'ABEL_5': {'precision': 0.8421052631578947,\n",
       "  'recall': 0.9411764705882353,\n",
       "  'f1': 0.8888888888888888,\n",
       "  'number': 85},\n",
       " 'ABEL_6': {'precision': 0.8648648648648649,\n",
       "  'recall': 1.0,\n",
       "  'f1': 0.927536231884058,\n",
       "  'number': 32},\n",
       " 'ABEL_7': {'precision': 0.979539641943734,\n",
       "  'recall': 0.9871134020618557,\n",
       "  'f1': 0.9833119383825417,\n",
       "  'number': 388},\n",
       " 'ABEL_8': {'precision': 0.974025974025974,\n",
       "  'recall': 0.9920634920634921,\n",
       "  'f1': 0.9829619921363041,\n",
       "  'number': 378},\n",
       " 'ABEL_9': {'precision': 0.9456869009584664,\n",
       "  'recall': 0.9866666666666667,\n",
       "  'f1': 0.965742251223491,\n",
       "  'number': 300},\n",
       " 'overall_precision': 0.9205092103719348,\n",
       " 'overall_recall': 0.9354357934899249,\n",
       " 'overall_f1': 0.927912477823773,\n",
       " 'overall_accuracy': 0.9786799995283185}"
      ]
     },
     "execution_count": 100,
     "metadata": {},
     "output_type": "execute_result"
    }
   ],
   "source": [
    "from datasets import load_metric\n",
    "import numpy as np\n",
    "\n",
    "\n",
    "metric = load_metric(\"seqeval\")\n",
    "\n",
    "\n",
    "def evaluate(model, dataset, ner_labels):\n",
    "  all_predictions = []\n",
    "  all_labels = []\n",
    "  for batch in dataset:\n",
    "      logits = model.predict(batch)[\"logits\"]\n",
    "      labels = batch[\"labels\"]\n",
    "      predictions = np.argmax(logits, axis=-1)\n",
    "      for prediction, label in zip(predictions, labels):\n",
    "          for predicted_idx, label_idx in zip(prediction, label):\n",
    "              if label_idx == -100:\n",
    "                #   print(label)\n",
    "                  continue\n",
    "              all_predictions.append(ner_labels[predicted_idx])\n",
    "              all_labels.append(ner_labels[label_idx])\n",
    "              #print('\\npredicted=',ner_labels[predicted_idx], '\\nlabel=',ner_labels[label_idx])\n",
    "  #print(\"all_predictions=\",[all_predictions],'\\nall_labels=',[all_labels])\n",
    "  return metric.compute(predictions=[all_predictions], references=[all_labels])\n",
    "\n",
    "#results = evaluate(model, tf_eval_dataset, ner_labels=list(model.config.id2label.values()))\n",
    "results = evaluate(model, validation_set, ner_labels=list(model.config.id2label.values()))\n",
    "results"
   ]
  },
  {
   "cell_type": "code",
   "execution_count": 101,
   "metadata": {},
   "outputs": [],
   "source": [
    "file_name = \"result_EP\" + str(num_train_epochs) + \"_BA\" + str(batch_size) +  \"_DO\" + str(drop_out_conf) + \".txt\"\n",
    "with open(file_name, 'w') as file:\n",
    "    file.write(str(results))"
   ]
  },
  {
   "cell_type": "code",
   "execution_count": null,
   "metadata": {},
   "outputs": [],
   "source": []
  },
  {
   "cell_type": "code",
   "execution_count": 60,
   "metadata": {},
   "outputs": [],
   "source": [
    "ds = pd.read_csv(\"dataset_rotulado_versao_2.csv\")\n",
    "# iterar sobre ds\n"
   ]
  },
  {
   "cell_type": "code",
   "execution_count": 44,
   "metadata": {},
   "outputs": [],
   "source": [
    "class NpEncoder(json.JSONEncoder):\n",
    "    def default(self, obj):\n",
    "        if isinstance(obj, np.integer):\n",
    "            return int(obj)\n",
    "        if isinstance(obj, np.floating):\n",
    "            return float(obj)\n",
    "        if isinstance(obj, np.ndarray):\n",
    "            return obj.tolist()\n",
    "        return super(NpEncoder, self).default(obj)"
   ]
  },
  {
   "cell_type": "code",
   "execution_count": 62,
   "metadata": {},
   "outputs": [
    {
     "ename": "AttributeError",
     "evalue": "'str' object has no attribute 'values'",
     "output_type": "error",
     "traceback": [
      "\u001b[0;31m---------------------------------------------------------------------------\u001b[0m",
      "\u001b[0;31mAttributeError\u001b[0m                            Traceback (most recent call last)",
      "Input \u001b[0;32mIn [62]\u001b[0m, in \u001b[0;36m<cell line: 3>\u001b[0;34m()\u001b[0m\n\u001b[1;32m      1\u001b[0m \u001b[38;5;28;01mimport\u001b[39;00m \u001b[38;5;21;01mpandas\u001b[39;00m \u001b[38;5;28;01mas\u001b[39;00m \u001b[38;5;21;01mpd\u001b[39;00m\n\u001b[1;32m      2\u001b[0m strRes \u001b[38;5;241m=\u001b[39m \u001b[38;5;28mstr\u001b[39m(results)\n\u001b[0;32m----> 3\u001b[0m pdres \u001b[38;5;241m=\u001b[39m \u001b[43mpd\u001b[49m\u001b[38;5;241;43m.\u001b[39;49m\u001b[43mDataFrame\u001b[49m\u001b[38;5;241;43m.\u001b[39;49m\u001b[43mfrom_dict\u001b[49m\u001b[43m(\u001b[49m\u001b[43mjson\u001b[49m\u001b[38;5;241;43m.\u001b[39;49m\u001b[43mdumps\u001b[49m\u001b[43m(\u001b[49m\u001b[43mresults\u001b[49m\u001b[43m,\u001b[49m\u001b[43m \u001b[49m\u001b[38;5;28;43mcls\u001b[39;49m\u001b[38;5;241;43m=\u001b[39;49m\u001b[43mNpEncoder\u001b[49m\u001b[43m)\u001b[49m\u001b[43m,\u001b[49m\u001b[43m \u001b[49m\u001b[43morient\u001b[49m\u001b[38;5;241;43m=\u001b[39;49m\u001b[43m \u001b[49m\u001b[38;5;124;43m\"\u001b[39;49m\u001b[38;5;124;43mindex\u001b[39;49m\u001b[38;5;124;43m\"\u001b[39;49m\u001b[43m)\u001b[49m\n\u001b[1;32m      4\u001b[0m pdres\n",
      "File \u001b[0;32m~/.local/lib/python3.8/site-packages/pandas/core/frame.py:1666\u001b[0m, in \u001b[0;36mDataFrame.from_dict\u001b[0;34m(cls, data, orient, dtype, columns)\u001b[0m\n\u001b[1;32m   1663\u001b[0m \u001b[38;5;28;01mif\u001b[39;00m orient \u001b[38;5;241m==\u001b[39m \u001b[38;5;124m\"\u001b[39m\u001b[38;5;124mindex\u001b[39m\u001b[38;5;124m\"\u001b[39m:\n\u001b[1;32m   1664\u001b[0m     \u001b[38;5;28;01mif\u001b[39;00m \u001b[38;5;28mlen\u001b[39m(data) \u001b[38;5;241m>\u001b[39m \u001b[38;5;241m0\u001b[39m:\n\u001b[1;32m   1665\u001b[0m         \u001b[38;5;66;03m# TODO speed up Series case\u001b[39;00m\n\u001b[0;32m-> 1666\u001b[0m         \u001b[38;5;28;01mif\u001b[39;00m \u001b[38;5;28misinstance\u001b[39m(\u001b[38;5;28mlist\u001b[39m(\u001b[43mdata\u001b[49m\u001b[38;5;241;43m.\u001b[39;49m\u001b[43mvalues\u001b[49m())[\u001b[38;5;241m0\u001b[39m], (Series, \u001b[38;5;28mdict\u001b[39m)):\n\u001b[1;32m   1667\u001b[0m             data \u001b[38;5;241m=\u001b[39m _from_nested_dict(data)\n\u001b[1;32m   1668\u001b[0m         \u001b[38;5;28;01melse\u001b[39;00m:\n",
      "\u001b[0;31mAttributeError\u001b[0m: 'str' object has no attribute 'values'"
     ]
    }
   ],
   "source": [
    "import pandas as pd\n",
    "strRes = str(results)\n",
    "pdres = pd.DataFrame.from_dict(json.dumps(results, cls=NpEncoder), orient= \"index\")\n",
    "pdres"
   ]
  },
  {
   "cell_type": "code",
   "execution_count": 99,
   "metadata": {},
   "outputs": [
    {
     "data": {
      "text/plain": [
       "{'O': {'precision': 0.9030090117611119,\n",
       "  'recall': 0.9201556420233463,\n",
       "  'f1': 0.9115016959605303,\n",
       "  'number': 6425},\n",
       " 'B-NOME_BEBIDA': {'precision': 0.9396462018730489,\n",
       "  'recall': 0.9347826086956522,\n",
       "  'f1': 0.9372080954852102,\n",
       "  'number': 966},\n",
       " 'I-NOME_BEBIDA': {'precision': 0.9285714285714286,\n",
       "  'recall': 0.8666666666666667,\n",
       "  'f1': 0.896551724137931,\n",
       "  'number': 45},\n",
       " 'B-GRADUACAO_ALCOOLICA': {'precision': 0.9517490952955368,\n",
       "  'recall': 0.9764851485148515,\n",
       "  'f1': 0.9639584605986561,\n",
       "  'number': 808},\n",
       " 'I-GRADUACAO_ALCOOLICA': {'precision': 0.8888888888888888,\n",
       "  'recall': 0.9171974522292994,\n",
       "  'f1': 0.90282131661442,\n",
       "  'number': 157},\n",
       " 'B-EQUIPAMENTO_DESTILACAO': {'precision': 0.8633540372670807,\n",
       "  'recall': 0.9266666666666666,\n",
       "  'f1': 0.8938906752411575,\n",
       "  'number': 150},\n",
       " 'I-EQUIPAMENTO_DESTILACAO': {'precision': 0.84375,\n",
       "  'recall': 0.9,\n",
       "  'f1': 0.870967741935484,\n",
       "  'number': 60},\n",
       " 'B-TEMPO_ARMAZENAMENTO': {'precision': 0.8628158844765343,\n",
       "  'recall': 0.8597122302158273,\n",
       "  'f1': 0.8612612612612613,\n",
       "  'number': 278},\n",
       " 'I-TEMPO_ARMAZENAMENTO': {'precision': 0.6060606060606061,\n",
       "  'recall': 0.6976744186046512,\n",
       "  'f1': 0.6486486486486487,\n",
       "  'number': 86},\n",
       " 'B-RECIPIENTE_ARMAZENAMENTO': {'precision': 0.7702702702702703,\n",
       "  'recall': 0.8231046931407943,\n",
       "  'f1': 0.7958115183246074,\n",
       "  'number': 277},\n",
       " 'I-RECIPIENTE_ARMAZENAMENTO': {'precision': 0.7204301075268817,\n",
       "  'recall': 0.7701149425287356,\n",
       "  'f1': 0.7444444444444445,\n",
       "  'number': 87},\n",
       " 'B-TIPO_MADEIRA': {'precision': 0.7032967032967034,\n",
       "  'recall': 0.7529411764705882,\n",
       "  'f1': 0.7272727272727272,\n",
       "  'number': 85},\n",
       " 'I-TIPO_MADEIRA': {'precision': 0.801038062283737,\n",
       "  'recall': 0.822380106571936,\n",
       "  'f1': 0.8115687992988606,\n",
       "  'number': 563},\n",
       " 'B-CARACTERISTICA_SENSORIAL_COR': {'precision': 0.0,\n",
       "  'recall': 0.0,\n",
       "  'f1': 0.0,\n",
       "  'number': 11},\n",
       " 'I-CARACTERISTICA_SENSORIAL_COR': {'precision': 0.9511111111111111,\n",
       "  'recall': 0.963963963963964,\n",
       "  'f1': 0.9574944071588367,\n",
       "  'number': 222},\n",
       " 'B-CARACTERISTICA_SENSORIAL_AROMA': {'precision': 0.9421487603305785,\n",
       "  'recall': 0.957983193277311,\n",
       "  'f1': 0.95,\n",
       "  'number': 119},\n",
       " 'I-CARACTERISTICA_SENSORIAL_AROMA': {'precision': 0.9571088165210484,\n",
       "  'recall': 0.9632294164668266,\n",
       "  'f1': 0.9601593625498009,\n",
       "  'number': 1251},\n",
       " 'B-CARACTERISTICA_SENSORIAL_SABOR': {'precision': 0.8960396039603961,\n",
       "  'recall': 0.9258312020460358,\n",
       "  'f1': 0.9106918238993711,\n",
       "  'number': 391},\n",
       " 'I-CARACTERISTICA_SENSORIAL_SABOR': {'precision': 0.8584615384615385,\n",
       "  'recall': 0.8773584905660378,\n",
       "  'f1': 0.8678071539657854,\n",
       "  'number': 318},\n",
       " 'B-CARACTERISTICA_SENSORIAL_CONSISTÊNCIA': {'precision': 0.8458646616541353,\n",
       "  'recall': 0.8893280632411067,\n",
       "  'f1': 0.8670520231213873,\n",
       "  'number': 253},\n",
       " 'I-CARACTERISTICA_SENSORIAL_CONSISTÊNCIA': {'precision': 0.9590361445783132,\n",
       "  'recall': 0.9754901960784313,\n",
       "  'f1': 0.9671931956257593,\n",
       "  'number': 408},\n",
       " 'B-NOME_PESSOA': {'precision': 0.8939393939393939,\n",
       "  'recall': 0.8082191780821918,\n",
       "  'f1': 0.8489208633093526,\n",
       "  'number': 73},\n",
       " 'I-NOME_PESSOA': {'precision': 0.7797202797202797,\n",
       "  'recall': 0.828996282527881,\n",
       "  'f1': 0.8036036036036036,\n",
       "  'number': 269},\n",
       " 'B-NOME_LOCAL': {'precision': 0.9669421487603306,\n",
       "  'recall': 0.9804469273743017,\n",
       "  'f1': 0.9736477115117893,\n",
       "  'number': 358},\n",
       " 'I-NOME_LOCAL': {'precision': 0.7789473684210526,\n",
       "  'recall': 0.8222222222222222,\n",
       "  'f1': 0.7999999999999999,\n",
       "  'number': 270},\n",
       " 'B-NOME_ORGANIZACAO': {'precision': 0.9868073878627969,\n",
       "  'recall': 0.9777777777777777,\n",
       "  'f1': 0.9822718319107026,\n",
       "  'number': 765},\n",
       " 'I-NOME_ORGANIZACAO': {'precision': 0.9825581395348837,\n",
       "  'recall': 0.949438202247191,\n",
       "  'f1': 0.9657142857142857,\n",
       "  'number': 356},\n",
       " 'B-TEMPO': {'precision': 0.8272727272727273,\n",
       "  'recall': 0.8484848484848485,\n",
       "  'f1': 0.8377445339470656,\n",
       "  'number': 429},\n",
       " 'I-TEMPO': {'precision': 0.8620689655172413,\n",
       "  'recall': 0.704225352112676,\n",
       "  'f1': 0.7751937984496124,\n",
       "  'number': 71},\n",
       " 'B-PRECO': {'precision': 0.9722222222222222,\n",
       "  'recall': 0.875,\n",
       "  'f1': 0.9210526315789473,\n",
       "  'number': 40},\n",
       " 'I-PRECO': {'precision': 0.8636363636363636,\n",
       "  'recall': 0.8941176470588236,\n",
       "  'f1': 0.8786127167630058,\n",
       "  'number': 85},\n",
       " 'B-VOLUME': {'precision': 0.9411764705882353,\n",
       "  'recall': 1.0,\n",
       "  'f1': 0.9696969696969697,\n",
       "  'number': 32},\n",
       " 'I-VOLUME': {'precision': 0.9696202531645569,\n",
       "  'recall': 0.9871134020618557,\n",
       "  'f1': 0.9782886334610473,\n",
       "  'number': 388},\n",
       " 'B-CLASSIFICACAO_BEBIDA': {'precision': 0.959079283887468,\n",
       "  'recall': 0.9920634920634921,\n",
       "  'f1': 0.9752925877763329,\n",
       "  'number': 378},\n",
       " 'I-CLASSIFICACAO_BEBIDA': {'precision': 0.961038961038961,\n",
       "  'recall': 0.9866666666666667,\n",
       "  'f1': 0.9736842105263157,\n",
       "  'number': 300},\n",
       " 'overall_precision': 0.9052557567235014,\n",
       " 'overall_recall': 0.9210683200190771,\n",
       " 'overall_f1': 0.9130935847049437,\n",
       " 'overall_accuracy': 0.9764159286817683}"
      ]
     },
     "execution_count": 99,
     "metadata": {},
     "output_type": "execute_result"
    }
   ],
   "source": [
    "\n",
    "result_dict = {}\n",
    "i = 0\n",
    "\n",
    "for label in results:\n",
    "    if i < len(label_list):\n",
    "        result_dict[label_list[i]] = results[label]\n",
    "        i = i+1\n",
    "    else:\n",
    "        result_dict[label] = results[label]\n",
    "result_dict"
   ]
  },
  {
   "cell_type": "code",
   "execution_count": 45,
   "metadata": {},
   "outputs": [],
   "source": [
    "import json\n",
    "\n",
    "with open(\"result.json\", \"w\") as outfile:\n",
    "    json.dump(results, outfile, cls=NpEncoder)\n"
   ]
  },
  {
   "cell_type": "code",
   "execution_count": 4,
   "metadata": {},
   "outputs": [
    {
     "data": {
      "text/html": [
       "<div>\n",
       "<style scoped>\n",
       "    .dataframe tbody tr th:only-of-type {\n",
       "        vertical-align: middle;\n",
       "    }\n",
       "\n",
       "    .dataframe tbody tr th {\n",
       "        vertical-align: top;\n",
       "    }\n",
       "\n",
       "    .dataframe thead th {\n",
       "        text-align: right;\n",
       "    }\n",
       "</style>\n",
       "<table border=\"1\" class=\"dataframe\">\n",
       "  <thead>\n",
       "    <tr style=\"text-align: right;\">\n",
       "      <th></th>\n",
       "      <th>Palavras</th>\n",
       "      <th>Rotulo</th>\n",
       "      <th>Sentenca</th>\n",
       "      <th>Inicio</th>\n",
       "      <th>Fim</th>\n",
       "      <th>Documento</th>\n",
       "    </tr>\n",
       "  </thead>\n",
       "  <tbody>\n",
       "    <tr>\n",
       "      <th>0</th>\n",
       "      <td>NOME</td>\n",
       "      <td>O</td>\n",
       "      <td>1</td>\n",
       "      <td>0</td>\n",
       "      <td>4</td>\n",
       "      <td>1</td>\n",
       "    </tr>\n",
       "    <tr>\n",
       "      <th>1</th>\n",
       "      <td>DA</td>\n",
       "      <td>O</td>\n",
       "      <td>1</td>\n",
       "      <td>5</td>\n",
       "      <td>7</td>\n",
       "      <td>1</td>\n",
       "    </tr>\n",
       "    <tr>\n",
       "      <th>2</th>\n",
       "      <td>CACHAÇA</td>\n",
       "      <td>O</td>\n",
       "      <td>1</td>\n",
       "      <td>8</td>\n",
       "      <td>15</td>\n",
       "      <td>1</td>\n",
       "    </tr>\n",
       "    <tr>\n",
       "      <th>3</th>\n",
       "      <td>:</td>\n",
       "      <td>O</td>\n",
       "      <td>1</td>\n",
       "      <td>15</td>\n",
       "      <td>16</td>\n",
       "      <td>1</td>\n",
       "    </tr>\n",
       "    <tr>\n",
       "      <th>4</th>\n",
       "      <td>Cachaça</td>\n",
       "      <td>O</td>\n",
       "      <td>1</td>\n",
       "      <td>17</td>\n",
       "      <td>24</td>\n",
       "      <td>1</td>\n",
       "    </tr>\n",
       "    <tr>\n",
       "      <th>...</th>\n",
       "      <td>...</td>\n",
       "      <td>...</td>\n",
       "      <td>...</td>\n",
       "      <td>...</td>\n",
       "      <td>...</td>\n",
       "      <td>...</td>\n",
       "    </tr>\n",
       "    <tr>\n",
       "      <th>53634</th>\n",
       "      <td>Destilados</td>\n",
       "      <td>O</td>\n",
       "      <td>13618</td>\n",
       "      <td>53</td>\n",
       "      <td>63</td>\n",
       "      <td>999</td>\n",
       "    </tr>\n",
       "    <tr>\n",
       "      <th>53635</th>\n",
       "      <td>do</td>\n",
       "      <td>O</td>\n",
       "      <td>13618</td>\n",
       "      <td>64</td>\n",
       "      <td>66</td>\n",
       "      <td>999</td>\n",
       "    </tr>\n",
       "    <tr>\n",
       "      <th>53636</th>\n",
       "      <td>Brasil</td>\n",
       "      <td>B-NOME_LOCAL</td>\n",
       "      <td>13618</td>\n",
       "      <td>67</td>\n",
       "      <td>73</td>\n",
       "      <td>999</td>\n",
       "    </tr>\n",
       "    <tr>\n",
       "      <th>53637</th>\n",
       "      <td>2019</td>\n",
       "      <td>B-TEMPO</td>\n",
       "      <td>13618</td>\n",
       "      <td>74</td>\n",
       "      <td>78</td>\n",
       "      <td>999</td>\n",
       "    </tr>\n",
       "    <tr>\n",
       "      <th>53638</th>\n",
       "      <td>.</td>\n",
       "      <td>O</td>\n",
       "      <td>13618</td>\n",
       "      <td>78</td>\n",
       "      <td>79</td>\n",
       "      <td>999</td>\n",
       "    </tr>\n",
       "  </tbody>\n",
       "</table>\n",
       "<p>53639 rows × 6 columns</p>\n",
       "</div>"
      ],
      "text/plain": [
       "         Palavras        Rotulo  Sentenca  Inicio  Fim  Documento\n",
       "0            NOME             O         1       0    4          1\n",
       "1              DA             O         1       5    7          1\n",
       "2         CACHAÇA             O         1       8   15          1\n",
       "3               :             O         1      15   16          1\n",
       "4         Cachaça             O         1      17   24          1\n",
       "...           ...           ...       ...     ...  ...        ...\n",
       "53634  Destilados             O     13618      53   63        999\n",
       "53635          do             O     13618      64   66        999\n",
       "53636      Brasil  B-NOME_LOCAL     13618      67   73        999\n",
       "53637        2019       B-TEMPO     13618      74   78        999\n",
       "53638           .             O     13618      78   79        999\n",
       "\n",
       "[53639 rows x 6 columns]"
      ]
     },
     "execution_count": 4,
     "metadata": {},
     "output_type": "execute_result"
    }
   ],
   "source": [
    "ds = pd.read_csv(\"test_data.csv\", usecols=['Palavras','Rotulo','Sentenca','Inicio','Fim','Documento'])\n",
    "ds"
   ]
  },
  {
   "cell_type": "code",
   "execution_count": 61,
   "metadata": {},
   "outputs": [],
   "source": [
    "tags = {'O': 0,\n",
    " 'B-NOME_BEBIDA': 1,\n",
    " 'I-NOME_BEBIDA': 2,\n",
    " 'B-GRADUACAO_ALCOOLICA': 3,\n",
    " 'I-GRADUACAO_ALCOOLICA': 4,\n",
    " 'B-EQUIPAMENTO_DESTILACAO': 5,\n",
    " 'I-EQUIPAMENTO_DESTILACAO': 6,\n",
    " 'B-TEMPO_ARMAZENAMENTO': 7,\n",
    " 'I-TEMPO_ARMAZENAMENTO': 8,\n",
    " 'B-RECIPIENTE_ARMAZENAMENTO': 9,\n",
    " 'I-RECIPIENTE_ARMAZENAMENTO': 10,\n",
    " 'B-TIPO_MADEIRA': 11,\n",
    " 'I-TIPO_MADEIRA' : 12,\n",
    " 'B-CARACTERISTICA_SENSORIAL_COR': 13, \n",
    " 'I-CARACTERISTICA_SENSORIAL_COR': 14, \n",
    " 'B-CARACTERISTICA_SENSORIAL_AROMA': 15,\n",
    " 'I-CARACTERISTICA_SENSORIAL_AROMA': 16,\n",
    " 'B-CARACTERISTICA_SENSORIAL_SABOR': 17,\n",
    " 'I-CARACTERISTICA_SENSORIAL_SABOR': 18,\n",
    " 'B-CARACTERISTICA_SENSORIAL_CONSISTÊNCIA': 19,\n",
    " 'I-CARACTERISTICA_SENSORIAL_CONSISTÊNCIA': 20,\n",
    " 'B-NOME_PESSOA': 21,\n",
    " 'I-NOME_PESSOA': 22,\n",
    " 'B-NOME_LOCAL': 23,\n",
    " 'I-NOME_LOCAL': 24,\n",
    " 'B-NOME_ORGANIZACAO': 25,\n",
    " 'I-NOME_ORGANIZACAO': 26,\n",
    " 'B-TEMPO': 27,\n",
    " 'I-TEMPO': 28,\n",
    " 'B-PRECO': 29,\n",
    " 'I-PRECO': 30,\n",
    " 'B-VOLUME': 31,\n",
    " 'I-VOLUME': 32,\n",
    " 'B-CLASSIFICACAO_BEBIDA': 33,\n",
    " 'I-CLASSIFICACAO_BEBIDA': 34\n",
    " }"
   ]
  },
  {
   "cell_type": "code",
   "execution_count": 62,
   "metadata": {},
   "outputs": [
    {
     "data": {
      "text/plain": [
       "21"
      ]
     },
     "execution_count": 62,
     "metadata": {},
     "output_type": "execute_result"
    }
   ],
   "source": [
    "tags['B-NOME_PESSOA']"
   ]
  },
  {
   "cell_type": "code",
   "execution_count": 63,
   "metadata": {},
   "outputs": [],
   "source": [
    "train_data = ds.query(\"Identificacao_Treino_Teste == 'treino'\")\n",
    "test_data = ds.query(\"Identificacao_Treino_Teste == 'teste'\")\n"
   ]
  },
  {
   "cell_type": "code",
   "execution_count": 64,
   "metadata": {},
   "outputs": [],
   "source": [
    "train_data.to_csv('train_data.csv', index=False)"
   ]
  },
  {
   "cell_type": "code",
   "execution_count": 65,
   "metadata": {},
   "outputs": [],
   "source": [
    "test_data.to_csv('test_data.csv', index=False)"
   ]
  },
  {
   "cell_type": "code",
   "execution_count": 47,
   "metadata": {},
   "outputs": [],
   "source": [
    "dataset = []\n",
    "def create_datasets():\n",
    "    p_sentence = 0\n",
    "    sentence = 0\n",
    "    ner_tags = []\n",
    "    tokens = []\n",
    "    for idx, row  in train_data.iterrows():\n",
    "        if row['Sentenca'] != p_sentence:\n",
    "            if tokens != []:\n",
    "                print(\"aqui\", end=\"\\n\")\n",
    "                dataset.append({\n",
    "                    \"id\": str(sentence),\n",
    "                    \"tokens\": tokens,\n",
    "                    \"ner_tags\": ner_tags,\n",
    "                })\n",
    "                sentence = row['Sentence']    \n",
    "                p_sentence = sentence\n",
    "                tokens = []\n",
    "                ner_tags = []\n",
    "        else:\n",
    "            tokens.append(row['Palavras'])\n",
    "            ner_tags.append(row['Rotulo'])\n",
    "    dataset.append( {\n",
    "                \"id\": str(sentence),\n",
    "                \"tokens\": tokens,\n",
    "                \"ner_tags\": ner_tags,\n",
    "                })"
   ]
  },
  {
   "cell_type": "code",
   "execution_count": 48,
   "metadata": {},
   "outputs": [],
   "source": [
    "\n",
    "create_datasets()\n"
   ]
  },
  {
   "cell_type": "code",
   "execution_count": 49,
   "metadata": {},
   "outputs": [
    {
     "data": {
      "text/plain": [
       "[{'id': '0', 'tokens': [], 'ner_tags': []}]"
      ]
     },
     "execution_count": 49,
     "metadata": {},
     "output_type": "execute_result"
    }
   ],
   "source": [
    "dataset"
   ]
  },
  {
   "cell_type": "code",
   "execution_count": 25,
   "metadata": {},
   "outputs": [],
   "source": [
    "\n",
    "def create_datasets():\n",
    "    p_sentence = 0\n",
    "    sentence = 0\n",
    "    ner_tags = []\n",
    "    tokens = []\n",
    "    for idx, row  in train_data.iterrows():\n",
    "        if row['Sentenca'] != p_sentence:\n",
    "            if tokens != []:\n",
    "                yield sentence, {\n",
    "                    \"id\": str(sentence),\n",
    "                    \"tokens\": tokens,\n",
    "                    \"ner_tags\": ner_tags,\n",
    "                }\n",
    "                sentence = row['Sentence']    \n",
    "                p_sentence = sentence\n",
    "                tokens = []\n",
    "                ner_tags = []\n",
    "        else:\n",
    "            tokens.append(row['Palavras'])\n",
    "            ner_tags.append(row['Rotulo'])\n",
    "    yield sentence, {\n",
    "                \"id\": str(sentence),\n",
    "                \"tokens\": tokens,\n",
    "                \"ner_tags\": ner_tags,\n",
    "                }"
   ]
  },
  {
   "cell_type": "code",
   "execution_count": 26,
   "metadata": {},
   "outputs": [],
   "source": [
    "from venv import create\n",
    "\n",
    "\n",
    "tag = create_datasets()"
   ]
  },
  {
   "cell_type": "code",
   "execution_count": 27,
   "metadata": {},
   "outputs": [
    {
     "data": {
      "text/plain": [
       "(0, {'id': '0', 'tokens': [], 'ner_tags': []})"
      ]
     },
     "execution_count": 27,
     "metadata": {},
     "output_type": "execute_result"
    }
   ],
   "source": [
    "next(tag)"
   ]
  },
  {
   "cell_type": "code",
   "execution_count": null,
   "metadata": {},
   "outputs": [],
   "source": []
  }
 ],
 "metadata": {
  "kernelspec": {
   "display_name": "Python 3.10.6 ('venv': venv)",
   "language": "python",
   "name": "python3"
  },
  "language_info": {
   "codemirror_mode": {
    "name": "ipython",
    "version": 3
   },
   "file_extension": ".py",
   "mimetype": "text/x-python",
   "name": "python",
   "nbconvert_exporter": "python",
   "pygments_lexer": "ipython3",
   "version": "3.9.13"
  },
  "vscode": {
   "interpreter": {
    "hash": "4fb509523777ff3016dc93b171d54b9d342944b8aa4515e44fa075d649b5b250"
   }
  }
 },
 "nbformat": 4,
 "nbformat_minor": 2
}
